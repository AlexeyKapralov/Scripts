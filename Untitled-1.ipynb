{
 "cells": [
  {
   "cell_type": "code",
   "execution_count": 1,
   "metadata": {},
   "outputs": [],
   "source": [
    "import pandas as pd\n",
    "import matplotlib.cm as cm\n",
    "import matplotlib.pyplot as plt"
   ]
  },
  {
   "cell_type": "code",
   "execution_count": 2,
   "metadata": {},
   "outputs": [],
   "source": [
    "df = pd.read_excel(r\"C:\\Users\\User\\Desktop\\Sell_Out_Новосибирск_Поставь_угли_SKU.xlsx\", sheet_name='2')"
   ]
  },
  {
   "cell_type": "code",
   "execution_count": 3,
   "metadata": {},
   "outputs": [
    {
     "data": {
      "text/html": [
       "<div>\n",
       "<style scoped>\n",
       "    .dataframe tbody tr th:only-of-type {\n",
       "        vertical-align: middle;\n",
       "    }\n",
       "\n",
       "    .dataframe tbody tr th {\n",
       "        vertical-align: top;\n",
       "    }\n",
       "\n",
       "    .dataframe thead th {\n",
       "        text-align: right;\n",
       "    }\n",
       "</style>\n",
       "<table border=\"1\" class=\"dataframe\">\n",
       "  <thead>\n",
       "    <tr style=\"text-align: right;\">\n",
       "      <th></th>\n",
       "      <th>Клиент_2</th>\n",
       "      <th>Клиент</th>\n",
       "      <th>Бренд</th>\n",
       "      <th>Вкус</th>\n",
       "      <th>Группа</th>\n",
       "      <th>2022-11</th>\n",
       "      <th>2022-12</th>\n",
       "      <th>2023-1</th>\n",
       "      <th>2023-2</th>\n",
       "      <th>2023-3</th>\n",
       "      <th>2023-4</th>\n",
       "      <th>2023-5</th>\n",
       "      <th>2023-6</th>\n",
       "      <th>Общая сумма</th>\n",
       "    </tr>\n",
       "  </thead>\n",
       "  <tbody>\n",
       "    <tr>\n",
       "      <th>0</th>\n",
       "      <td>NaN</td>\n",
       "      <td>Bad habits г. Новосибирск</td>\n",
       "      <td>BlackBurn</td>\n",
       "      <td>Malibu (Леденец Малибу)</td>\n",
       "      <td>BlackBurn 100 гр</td>\n",
       "      <td>1</td>\n",
       "      <td>1</td>\n",
       "      <td>1</td>\n",
       "      <td>1</td>\n",
       "      <td>1</td>\n",
       "      <td>1</td>\n",
       "      <td>1</td>\n",
       "      <td>1</td>\n",
       "      <td>8</td>\n",
       "    </tr>\n",
       "    <tr>\n",
       "      <th>1</th>\n",
       "      <td>NaN</td>\n",
       "      <td>Bad habits г. Новосибирск</td>\n",
       "      <td>BlackBurn</td>\n",
       "      <td>Strawberry Jam (Клубничное варенье)</td>\n",
       "      <td>BlackBurn 200 гр</td>\n",
       "      <td>1</td>\n",
       "      <td>1</td>\n",
       "      <td>1</td>\n",
       "      <td>1</td>\n",
       "      <td>1</td>\n",
       "      <td>1</td>\n",
       "      <td>1</td>\n",
       "      <td>1</td>\n",
       "      <td>8</td>\n",
       "    </tr>\n",
       "    <tr>\n",
       "      <th>2</th>\n",
       "      <td>NaN</td>\n",
       "      <td>Chillout Zone Томск</td>\n",
       "      <td>BlackBurn</td>\n",
       "      <td>Lemon Shock (Кислый лимон)</td>\n",
       "      <td>BlackBurn 200 гр</td>\n",
       "      <td>1</td>\n",
       "      <td>1</td>\n",
       "      <td>1</td>\n",
       "      <td>1</td>\n",
       "      <td>1</td>\n",
       "      <td>1</td>\n",
       "      <td>1</td>\n",
       "      <td>1</td>\n",
       "      <td>8</td>\n",
       "    </tr>\n",
       "    <tr>\n",
       "      <th>3</th>\n",
       "      <td>NaN</td>\n",
       "      <td>Hubble Bubble Томск</td>\n",
       "      <td>BlackBurn</td>\n",
       "      <td>Ananas Shock (Кислый ананас)</td>\n",
       "      <td>BlackBurn 200 гр</td>\n",
       "      <td>1</td>\n",
       "      <td>1</td>\n",
       "      <td>1</td>\n",
       "      <td>1</td>\n",
       "      <td>1</td>\n",
       "      <td>1</td>\n",
       "      <td>1</td>\n",
       "      <td>1</td>\n",
       "      <td>8</td>\n",
       "    </tr>\n",
       "    <tr>\n",
       "      <th>4</th>\n",
       "      <td>NaN</td>\n",
       "      <td>Hubble Bubble Томск</td>\n",
       "      <td>BlackBurn</td>\n",
       "      <td>Cherry Shock (Кислая вишня)</td>\n",
       "      <td>BlackBurn 200 гр</td>\n",
       "      <td>1</td>\n",
       "      <td>1</td>\n",
       "      <td>1</td>\n",
       "      <td>1</td>\n",
       "      <td>1</td>\n",
       "      <td>1</td>\n",
       "      <td>1</td>\n",
       "      <td>1</td>\n",
       "      <td>8</td>\n",
       "    </tr>\n",
       "  </tbody>\n",
       "</table>\n",
       "</div>"
      ],
      "text/plain": [
       "   Клиент_2                     Клиент      Бренд  \\\n",
       "0       NaN  Bad habits г. Новосибирск  BlackBurn   \n",
       "1       NaN  Bad habits г. Новосибирск  BlackBurn   \n",
       "2       NaN        Chillout Zone Томск  BlackBurn   \n",
       "3       NaN        Hubble Bubble Томск  BlackBurn   \n",
       "4       NaN        Hubble Bubble Томск  BlackBurn   \n",
       "\n",
       "                                  Вкус            Группа  2022-11  2022-12  \\\n",
       "0              Malibu (Леденец Малибу)  BlackBurn 100 гр        1        1   \n",
       "1  Strawberry Jam (Клубничное варенье)  BlackBurn 200 гр        1        1   \n",
       "2           Lemon Shock (Кислый лимон)  BlackBurn 200 гр        1        1   \n",
       "3         Ananas Shock (Кислый ананас)  BlackBurn 200 гр        1        1   \n",
       "4          Cherry Shock (Кислая вишня)  BlackBurn 200 гр        1        1   \n",
       "\n",
       "   2023-1  2023-2  2023-3  2023-4  2023-5  2023-6  Общая сумма  \n",
       "0       1       1       1       1       1       1            8  \n",
       "1       1       1       1       1       1       1            8  \n",
       "2       1       1       1       1       1       1            8  \n",
       "3       1       1       1       1       1       1            8  \n",
       "4       1       1       1       1       1       1            8  "
      ]
     },
     "execution_count": 3,
     "metadata": {},
     "output_type": "execute_result"
    }
   ],
   "source": [
    "df.head()"
   ]
  },
  {
   "cell_type": "code",
   "execution_count": 4,
   "metadata": {},
   "outputs": [],
   "source": [
    "aaaa = df.style.background_gradient(subset=['Общая сумма'],cmap='YlGn')"
   ]
  },
  {
   "cell_type": "code",
   "execution_count": null,
   "metadata": {},
   "outputs": [],
   "source": []
  },
  {
   "cell_type": "code",
   "execution_count": 5,
   "metadata": {},
   "outputs": [
    {
     "ename": "ModuleNotFoundError",
     "evalue": "No module named 'UliPlot'",
     "output_type": "error",
     "traceback": [
      "\u001b[1;31m---------------------------------------------------------------------------\u001b[0m",
      "\u001b[1;31mModuleNotFoundError\u001b[0m                       Traceback (most recent call last)",
      "Cell \u001b[1;32mIn[5], line 1\u001b[0m\n\u001b[1;32m----> 1\u001b[0m \u001b[39mfrom\u001b[39;00m \u001b[39mUliPlot\u001b[39;00m\u001b[39m.\u001b[39;00m\u001b[39mXLSX\u001b[39;00m \u001b[39mimport\u001b[39;00m auto_adjust_xlsx_column_width\n\u001b[0;32m      3\u001b[0m \u001b[39m# Export dataset to XLSX\u001b[39;00m\n\u001b[0;32m      4\u001b[0m \u001b[39mwith\u001b[39;00m pd\u001b[39m.\u001b[39mExcelWriter(\u001b[39m\"\u001b[39m\u001b[39mexample.xlsx\u001b[39m\u001b[39m\"\u001b[39m) \u001b[39mas\u001b[39;00m writer:\n",
      "\u001b[1;31mModuleNotFoundError\u001b[0m: No module named 'UliPlot'"
     ]
    }
   ],
   "source": [
    "writer = pd.ExcelWriter(r\"C:\\Users\\User\\Desktop\\aaaaa.xlsx\") \n",
    "df.to_excel(writer, sheet_name='sheetName', index=False, na_rep='NaN')\n",
    "\n",
    "for column in df:\n",
    "    column_length = max(df[column].astype(str).map(len).max(), len(column))\n",
    "    col_idx = df.columns.get_loc(column)\n",
    "    writer.sheets['sheetName'].set_column(col_idx, col_idx, column_length)\n",
    "\n",
    "writer.save()"
   ]
  },
  {
   "cell_type": "code",
   "execution_count": null,
   "metadata": {},
   "outputs": [],
   "source": []
  }
 ],
 "metadata": {
  "kernelspec": {
   "display_name": "analytics",
   "language": "python",
   "name": "python3"
  },
  "language_info": {
   "codemirror_mode": {
    "name": "ipython",
    "version": 3
   },
   "file_extension": ".py",
   "mimetype": "text/x-python",
   "name": "python",
   "nbconvert_exporter": "python",
   "pygments_lexer": "ipython3",
   "version": "3.10.11"
  },
  "orig_nbformat": 4
 },
 "nbformat": 4,
 "nbformat_minor": 2
}
