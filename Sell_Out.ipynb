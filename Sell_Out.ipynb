{
 "cells": [
  {
   "cell_type": "code",
   "execution_count": 57,
   "metadata": {},
   "outputs": [],
   "source": [
    "import pandas as pd"
   ]
  },
  {
   "cell_type": "code",
   "execution_count": 58,
   "metadata": {},
   "outputs": [],
   "source": [
    "nizhniy_novgorod_par_market = pd.read_excel(r\"D:\\Analysis Burn\\Дистрибьютеры отчетность\\Source\\Отчеты\\Нижний Новгород Пармаркет\\Sell_Out_Нижний_Новгород_Пар_Маркет.xlsx\")"
   ]
  },
  {
   "cell_type": "code",
   "execution_count": 59,
   "metadata": {},
   "outputs": [],
   "source": [
    "sochi_tabachniy_dzho = pd.read_excel(r\"D:\\Analysis Burn\\Дистрибьютеры отчетность\\Source\\Отчеты\\Сочи, Адлер Непомнящие\\Sell_Out_Сочи_Непомнящие.xlsx\")"
   ]
  },
  {
   "cell_type": "code",
   "execution_count": 60,
   "metadata": {},
   "outputs": [],
   "source": [
    "kaliningrad_prokopkin = pd.read_excel(r\"D:\\Analysis Burn\\Дистрибьютеры отчетность\\Source\\Отчеты\\Калининград Прокопкин\\Sell_Out_Калининград_Прокопкин.xlsx\")"
   ]
  },
  {
   "cell_type": "code",
   "execution_count": 61,
   "metadata": {},
   "outputs": [],
   "source": [
    "oshisha = pd.read_csv(r\"D:\\Analysis Burn\\Дистрибьютеры отчетность\\Source\\Отчеты\\Москва OSHISHA\\Sell_out_Москва_OSHISHA.csv\")"
   ]
  },
  {
   "cell_type": "code",
   "execution_count": 62,
   "metadata": {},
   "outputs": [],
   "source": [
    "s2b = pd.read_excel(r\"D:\\Analysis Burn\\Дистрибьютеры отчетность\\Source\\Отчеты\\Санкт Петербург S2B ИП Дрига\\Sell_Out_Санкт_Петербург_S2B.xlsx\")"
   ]
  },
  {
   "cell_type": "code",
   "execution_count": 63,
   "metadata": {},
   "outputs": [],
   "source": [
    "barnaul_hookah_people = pd.read_excel(r\"D:\\Analysis Burn\\Дистрибьютеры отчетность\\Source\\Отчеты\\Барнаул Hookah People\\Sell_out_Барнаул_Hookah_People.xlsx\")"
   ]
  },
  {
   "cell_type": "code",
   "execution_count": 64,
   "metadata": {},
   "outputs": [],
   "source": [
    "habarovsk_doka = pd.read_excel(r\"D:\\Analysis Burn\\Дистрибьютеры отчетность\\Source\\Отчеты\\Хабаровск Дока\\Sell_Out_Хабаровск_Дока.xlsx\")"
   ]
  },
  {
   "cell_type": "code",
   "execution_count": 65,
   "metadata": {},
   "outputs": [],
   "source": [
    "novosibirsk_bs_trade = pd.read_excel(r\"D:\\Analysis Burn\\Дистрибьютеры отчетность\\Source\\Отчеты\\Новосибирск БС-Трейд\\Sell_Out_Новосибирск_БС_Трейд.xlsx\")"
   ]
  },
  {
   "cell_type": "code",
   "execution_count": 66,
   "metadata": {},
   "outputs": [],
   "source": [
    "novosibirsk_postav_ugli = pd.read_excel(r\"D:\\Analysis Burn\\Дистрибьютеры отчетность\\Source\\Отчеты\\Новосибирск Поставь Угли\\Sell_Out_Новосибирск_Поставь_угли.xlsx\")"
   ]
  },
  {
   "cell_type": "code",
   "execution_count": 67,
   "metadata": {},
   "outputs": [],
   "source": [
    "habarovsk_halturin = pd.read_excel(r\"D:\\Analysis Burn\\Дистрибьютеры отчетность\\Source\\Отчеты\\Хабаровск Хука Стор ИП Халтурин\\Sell_Out_Хабаровск_Халтурин.xlsx\")"
   ]
  },
  {
   "cell_type": "code",
   "execution_count": 68,
   "metadata": {},
   "outputs": [],
   "source": [
    "so = pd.concat(\n",
    "    [\n",
    "        nizhniy_novgorod_par_market,\n",
    "        sochi_tabachniy_dzho,\n",
    "        kaliningrad_prokopkin,\n",
    "        oshisha,\n",
    "        s2b,\n",
    "        barnaul_hookah_people,\n",
    "        habarovsk_doka,\n",
    "        novosibirsk_bs_trade,\n",
    "        novosibirsk_postav_ugli,\n",
    "        habarovsk_halturin\n",
    "    ]\n",
    ")"
   ]
  },
  {
   "cell_type": "code",
   "execution_count": 69,
   "metadata": {},
   "outputs": [],
   "source": [
    "code = pd.read_excel(r\"D:\\Analysis Burn\\Дистрибьюторы Burn.xlsx\", sheet_name='Дистрибьюторы')"
   ]
  },
  {
   "cell_type": "code",
   "execution_count": 75,
   "metadata": {},
   "outputs": [
    {
     "data": {
      "text/plain": [
       "(1106820, 19)"
      ]
     },
     "execution_count": 75,
     "metadata": {},
     "output_type": "execute_result"
    }
   ],
   "source": [
    "so.shape"
   ]
  },
  {
   "cell_type": "code",
   "execution_count": 71,
   "metadata": {},
   "outputs": [
    {
     "data": {
      "text/html": [
       "<div>\n",
       "<style scoped>\n",
       "    .dataframe tbody tr th:only-of-type {\n",
       "        vertical-align: middle;\n",
       "    }\n",
       "\n",
       "    .dataframe tbody tr th {\n",
       "        vertical-align: top;\n",
       "    }\n",
       "\n",
       "    .dataframe thead th {\n",
       "        text-align: right;\n",
       "    }\n",
       "</style>\n",
       "<table border=\"1\" class=\"dataframe\">\n",
       "  <thead>\n",
       "    <tr style=\"text-align: right;\">\n",
       "      <th></th>\n",
       "      <th>Торговый представитель</th>\n",
       "      <th>Код клиента</th>\n",
       "      <th>Сегмент</th>\n",
       "      <th>Клиент</th>\n",
       "      <th>Адрес доставки</th>\n",
       "      <th>Дата отгрузки</th>\n",
       "      <th>Бренд</th>\n",
       "      <th>Группа</th>\n",
       "      <th>Вкус</th>\n",
       "      <th>Граммовка</th>\n",
       "      <th>Количество шт</th>\n",
       "      <th>ВЕС</th>\n",
       "      <th>Цена</th>\n",
       "      <th>стоимость</th>\n",
       "      <th>Дистрибьютор</th>\n",
       "      <th>Unnamed: 0</th>\n",
       "    </tr>\n",
       "  </thead>\n",
       "  <tbody>\n",
       "    <tr>\n",
       "      <th>0</th>\n",
       "      <td>не указан</td>\n",
       "      <td>не указан</td>\n",
       "      <td>не указан</td>\n",
       "      <td>Craft [ИП Пронин ГИ] (Канавинский, пер.Портовы...</td>\n",
       "      <td>не указан</td>\n",
       "      <td>2023-01-01 00:00:00</td>\n",
       "      <td>BlackBurn</td>\n",
       "      <td>BlackBurn 100 гр</td>\n",
       "      <td>Chupa Graper (Виноградная газировка) (COLLAB К...</td>\n",
       "      <td>100.0</td>\n",
       "      <td>0</td>\n",
       "      <td>0.0</td>\n",
       "      <td>0.0</td>\n",
       "      <td>0.0</td>\n",
       "      <td>13</td>\n",
       "      <td>NaN</td>\n",
       "    </tr>\n",
       "  </tbody>\n",
       "</table>\n",
       "</div>"
      ],
      "text/plain": [
       "  Торговый представитель Код клиента    Сегмент  \\\n",
       "0              не указан   не указан  не указан   \n",
       "\n",
       "                                              Клиент Адрес доставки  \\\n",
       "0  Craft [ИП Пронин ГИ] (Канавинский, пер.Портовы...      не указан   \n",
       "\n",
       "         Дата отгрузки      Бренд            Группа  \\\n",
       "0  2023-01-01 00:00:00  BlackBurn  BlackBurn 100 гр   \n",
       "\n",
       "                                                Вкус  Граммовка  \\\n",
       "0  Chupa Graper (Виноградная газировка) (COLLAB К...      100.0   \n",
       "\n",
       "   Количество шт  ВЕС  Цена  стоимость  Дистрибьютор  Unnamed: 0  \n",
       "0              0  0.0   0.0        0.0            13         NaN  "
      ]
     },
     "execution_count": 71,
     "metadata": {},
     "output_type": "execute_result"
    }
   ],
   "source": [
    "so.head(1)"
   ]
  },
  {
   "cell_type": "code",
   "execution_count": 72,
   "metadata": {},
   "outputs": [
    {
     "data": {
      "text/html": [
       "<div>\n",
       "<style scoped>\n",
       "    .dataframe tbody tr th:only-of-type {\n",
       "        vertical-align: middle;\n",
       "    }\n",
       "\n",
       "    .dataframe tbody tr th {\n",
       "        vertical-align: top;\n",
       "    }\n",
       "\n",
       "    .dataframe thead th {\n",
       "        text-align: right;\n",
       "    }\n",
       "</style>\n",
       "<table border=\"1\" class=\"dataframe\">\n",
       "  <thead>\n",
       "    <tr style=\"text-align: right;\">\n",
       "      <th></th>\n",
       "      <th>Регион</th>\n",
       "      <th>Город</th>\n",
       "      <th>Партнер</th>\n",
       "      <th>Менеджер</th>\n",
       "      <th>Уникальный идентификатор</th>\n",
       "      <th>Комментарий</th>\n",
       "      <th>код соревнование</th>\n",
       "      <th>Automatization</th>\n",
       "      <th>Папка на почте</th>\n",
       "      <th>Дата последнего отчета</th>\n",
       "      <th>Номер недели</th>\n",
       "      <th>26 неделя</th>\n",
       "      <th>В общем SO</th>\n",
       "      <th>SI</th>\n",
       "    </tr>\n",
       "  </thead>\n",
       "  <tbody>\n",
       "    <tr>\n",
       "      <th>0</th>\n",
       "      <td>ЮФО</td>\n",
       "      <td>Армавир</td>\n",
       "      <td>Петренко</td>\n",
       "      <td>Губин Юрий</td>\n",
       "      <td>44</td>\n",
       "      <td>Нет отчета по остаткам</td>\n",
       "      <td>9720</td>\n",
       "      <td>-</td>\n",
       "      <td>Армавир Петренко</td>\n",
       "      <td>2023-04-25 16:19:53</td>\n",
       "      <td>17,2023</td>\n",
       "      <td>NaN</td>\n",
       "      <td>NaN</td>\n",
       "      <td>0.001986</td>\n",
       "    </tr>\n",
       "  </tbody>\n",
       "</table>\n",
       "</div>"
      ],
      "text/plain": [
       "  Регион    Город  Партнер    Менеджер   Уникальный идентификатор  \\\n",
       "0    ЮФО  Армавир  Петренко  Губин Юрий                        44   \n",
       "\n",
       "              Комментарий код соревнование Automatization    Папка на почте  \\\n",
       "0  Нет отчета по остаткам             9720              -  Армавир Петренко   \n",
       "\n",
       "  Дата последнего отчета Номер недели 26 неделя В общем SO        SI  \n",
       "0    2023-04-25 16:19:53      17,2023       NaN        NaN  0.001986  "
      ]
     },
     "execution_count": 72,
     "metadata": {},
     "output_type": "execute_result"
    }
   ],
   "source": [
    "code.head(1)"
   ]
  },
  {
   "cell_type": "code",
   "execution_count": 73,
   "metadata": {},
   "outputs": [],
   "source": [
    "so = so.merge(code[['Город','Партнер ','Уникальный идентификатор']], how='left', left_on='Дистрибьютор', right_on='Уникальный идентификатор',suffixes=('_left', '_right'))"
   ]
  },
  {
   "cell_type": "code",
   "execution_count": 80,
   "metadata": {},
   "outputs": [
    {
     "data": {
      "text/html": [
       "<div>\n",
       "<style scoped>\n",
       "    .dataframe tbody tr th:only-of-type {\n",
       "        vertical-align: middle;\n",
       "    }\n",
       "\n",
       "    .dataframe tbody tr th {\n",
       "        vertical-align: top;\n",
       "    }\n",
       "\n",
       "    .dataframe thead th {\n",
       "        text-align: right;\n",
       "    }\n",
       "</style>\n",
       "<table border=\"1\" class=\"dataframe\">\n",
       "  <thead>\n",
       "    <tr style=\"text-align: right;\">\n",
       "      <th></th>\n",
       "      <th>Торговый представитель</th>\n",
       "      <th>Код клиента</th>\n",
       "      <th>Сегмент</th>\n",
       "      <th>Клиент</th>\n",
       "      <th>Адрес доставки</th>\n",
       "      <th>Дата отгрузки</th>\n",
       "      <th>Бренд</th>\n",
       "      <th>Группа</th>\n",
       "      <th>Вкус</th>\n",
       "      <th>Граммовка</th>\n",
       "      <th>...</th>\n",
       "      <th>ВЕС</th>\n",
       "      <th>Цена</th>\n",
       "      <th>стоимость</th>\n",
       "      <th>Дистрибьютор</th>\n",
       "      <th>Unnamed: 0</th>\n",
       "      <th>Город</th>\n",
       "      <th>Партнер</th>\n",
       "      <th>Уникальный идентификатор</th>\n",
       "      <th>year</th>\n",
       "      <th>month</th>\n",
       "    </tr>\n",
       "  </thead>\n",
       "  <tbody>\n",
       "    <tr>\n",
       "      <th>0</th>\n",
       "      <td>не указан</td>\n",
       "      <td>не указан</td>\n",
       "      <td>не указан</td>\n",
       "      <td>Craft [ИП Пронин ГИ] (Канавинский, пер.Портовы...</td>\n",
       "      <td>не указан</td>\n",
       "      <td>2023-01-01</td>\n",
       "      <td>BlackBurn</td>\n",
       "      <td>BlackBurn 100 гр</td>\n",
       "      <td>Chupa Graper (Виноградная газировка) (COLLAB К...</td>\n",
       "      <td>100.0</td>\n",
       "      <td>...</td>\n",
       "      <td>0.0</td>\n",
       "      <td>0.0</td>\n",
       "      <td>0.0</td>\n",
       "      <td>13</td>\n",
       "      <td>NaN</td>\n",
       "      <td>Нижний Новгород</td>\n",
       "      <td>Пар Маркет</td>\n",
       "      <td>13</td>\n",
       "      <td>2023</td>\n",
       "      <td>1</td>\n",
       "    </tr>\n",
       "    <tr>\n",
       "      <th>1</th>\n",
       "      <td>не указан</td>\n",
       "      <td>не указан</td>\n",
       "      <td>не указан</td>\n",
       "      <td>Craft [ИП Пронин ГИ] (Канавинский, пер.Портовы...</td>\n",
       "      <td>не указан</td>\n",
       "      <td>2023-02-01</td>\n",
       "      <td>BlackBurn</td>\n",
       "      <td>BlackBurn 100 гр</td>\n",
       "      <td>Chupa Graper (Виноградная газировка) (COLLAB К...</td>\n",
       "      <td>100.0</td>\n",
       "      <td>...</td>\n",
       "      <td>0.1</td>\n",
       "      <td>0.0</td>\n",
       "      <td>0.0</td>\n",
       "      <td>13</td>\n",
       "      <td>NaN</td>\n",
       "      <td>Нижний Новгород</td>\n",
       "      <td>Пар Маркет</td>\n",
       "      <td>13</td>\n",
       "      <td>2023</td>\n",
       "      <td>2</td>\n",
       "    </tr>\n",
       "  </tbody>\n",
       "</table>\n",
       "<p>2 rows × 21 columns</p>\n",
       "</div>"
      ],
      "text/plain": [
       "  Торговый представитель Код клиента    Сегмент  \\\n",
       "0              не указан   не указан  не указан   \n",
       "1              не указан   не указан  не указан   \n",
       "\n",
       "                                              Клиент Адрес доставки  \\\n",
       "0  Craft [ИП Пронин ГИ] (Канавинский, пер.Портовы...      не указан   \n",
       "1  Craft [ИП Пронин ГИ] (Канавинский, пер.Портовы...      не указан   \n",
       "\n",
       "  Дата отгрузки      Бренд            Группа  \\\n",
       "0    2023-01-01  BlackBurn  BlackBurn 100 гр   \n",
       "1    2023-02-01  BlackBurn  BlackBurn 100 гр   \n",
       "\n",
       "                                                Вкус  Граммовка  ...  ВЕС  \\\n",
       "0  Chupa Graper (Виноградная газировка) (COLLAB К...      100.0  ...  0.0   \n",
       "1  Chupa Graper (Виноградная газировка) (COLLAB К...      100.0  ...  0.1   \n",
       "\n",
       "   Цена  стоимость  Дистрибьютор  Unnamed: 0            Город    Партнер   \\\n",
       "0   0.0        0.0            13         NaN  Нижний Новгород  Пар Маркет   \n",
       "1   0.0        0.0            13         NaN  Нижний Новгород  Пар Маркет   \n",
       "\n",
       "  Уникальный идентификатор  year  month  \n",
       "0                       13  2023      1  \n",
       "1                       13  2023      2  \n",
       "\n",
       "[2 rows x 21 columns]"
      ]
     },
     "execution_count": 80,
     "metadata": {},
     "output_type": "execute_result"
    }
   ],
   "source": [
    "so.head(2)"
   ]
  },
  {
   "cell_type": "code",
   "execution_count": 77,
   "metadata": {},
   "outputs": [],
   "source": [
    "so['Дата отгрузки'] = pd.to_datetime(so['Дата отгрузки'], yearfirst=True)\n",
    "so['year'] = so['Дата отгрузки'].dt.year\n",
    "so['month'] = so['Дата отгрузки'].dt.month"
   ]
  },
  {
   "cell_type": "code",
   "execution_count": 90,
   "metadata": {},
   "outputs": [],
   "source": [
    "pt = so.pivot_table(\n",
    "    index=['Город','Партнер ','Бренд'],\n",
    "    columns=['year','month'],\n",
    "    values='ВЕС',\n",
    "    aggfunc='sum'\n",
    ").reset_index()"
   ]
  },
  {
   "cell_type": "code",
   "execution_count": 91,
   "metadata": {},
   "outputs": [],
   "source": [
    "# преобразование multi-index в обычный\n",
    "pt.columns = ['_'.join(map(str, col)).rstrip('_') for col in pt.columns.values]"
   ]
  },
  {
   "cell_type": "code",
   "execution_count": 92,
   "metadata": {},
   "outputs": [],
   "source": [
    "pt.to_excel(r\"D:\\Analysis Burn\\Мотивация TMA\\Сводная_TMA.xlsx\")"
   ]
  },
  {
   "cell_type": "code",
   "execution_count": null,
   "metadata": {},
   "outputs": [],
   "source": []
  }
 ],
 "metadata": {
  "kernelspec": {
   "display_name": "analytics",
   "language": "python",
   "name": "python3"
  },
  "language_info": {
   "codemirror_mode": {
    "name": "ipython",
    "version": 3
   },
   "file_extension": ".py",
   "mimetype": "text/x-python",
   "name": "python",
   "nbconvert_exporter": "python",
   "pygments_lexer": "ipython3",
   "version": "3.10.11"
  },
  "orig_nbformat": 4
 },
 "nbformat": 4,
 "nbformat_minor": 2
}
