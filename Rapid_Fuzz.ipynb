{
 "cells": [
  {
   "cell_type": "code",
   "execution_count": 2,
   "metadata": {},
   "outputs": [],
   "source": [
    "import pandas as pd\n",
    "import numpy as np\n",
    "from rapidfuzz import fuzz"
   ]
  },
  {
   "cell_type": "code",
   "execution_count": 3,
   "metadata": {},
   "outputs": [],
   "source": [
    "df = pd.read_excel(r\"D:\\Analysis Burn\\Википедия\\Справочники\\addresses.xlsx\")"
   ]
  },
  {
   "cell_type": "code",
   "execution_count": 4,
   "metadata": {},
   "outputs": [],
   "source": [
    "a = pd.Series( df['Адрес только до дома'].unique() )"
   ]
  },
  {
   "cell_type": "code",
   "execution_count": 5,
   "metadata": {},
   "outputs": [],
   "source": [
    "\n",
    "b1 = []\n",
    "b2 = []\n",
    "b3 = []\n",
    "\n",
    "for i1 in a:\n",
    "    for i2 in a:\n",
    "        if fuzz.token_sort_ratio(i1, i2) > 90:\n",
    "            b1.append(i1)\n",
    "            b2.append(i2)\n",
    "            b3.append(fuzz.token_sort_ratio(i1, i2))\n",
    "\n",
    "data = {\n",
    "    'Column1': b1,\n",
    "    'Column2': b2,\n",
    "    'Column3': b3\n",
    "}\n",
    "\n",
    "c = pd.DataFrame(data)\n"
   ]
  },
  {
   "cell_type": "code",
   "execution_count": 6,
   "metadata": {},
   "outputs": [],
   "source": [
    "c.to_excel(r\"C:\\Users\\User\\Desktop\\Адреса_больше_90_соответствие.xlsx\")"
   ]
  }
 ],
 "metadata": {
  "kernelspec": {
   "display_name": "analytics",
   "language": "python",
   "name": "python3"
  },
  "language_info": {
   "codemirror_mode": {
    "name": "ipython",
    "version": 3
   },
   "file_extension": ".py",
   "mimetype": "text/x-python",
   "name": "python",
   "nbconvert_exporter": "python",
   "pygments_lexer": "ipython3",
   "version": "3.10.11"
  },
  "orig_nbformat": 4
 },
 "nbformat": 4,
 "nbformat_minor": 2
}
