{
 "cells": [
  {
   "attachments": {},
   "cell_type": "markdown",
   "id": "9ed8b7fd",
   "metadata": {},
   "source": [
    "- Есть вкусы в одной таблице необработанные (вкус должен быть сцеплен с брендом который уже обработан)\n",
    "- Есть вкусы в другой таблице обработанные \n",
    "- Подбирает подходящие и в нём остаются сложные вкусы, которые нужно парсить другими методами (FuzzyWuzzy)\n",
    "- сделать чтобы работал как скрипт"
   ]
  },
  {
   "cell_type": "code",
   "execution_count": 1,
   "id": "40df2925",
   "metadata": {},
   "outputs": [],
   "source": [
    "import pandas as pd\n",
    "import sys"
   ]
  },
  {
   "cell_type": "code",
   "execution_count": 2,
   "id": "59d071cd",
   "metadata": {},
   "outputs": [],
   "source": [
    "# new_delicious = \n",
    "path_to_save = \"D:\\Analysis Burn\\Дистрибьютеры отчетность\\Source\\Отчеты\\Хабаровск Дока\""
   ]
  },
  {
   "cell_type": "code",
   "execution_count": 3,
   "id": "96557111",
   "metadata": {},
   "outputs": [],
   "source": [
    "del_need_parse = pd.read_excel(path_to_save + \"\\\\new_delicious.xlsx\")"
   ]
  },
  {
   "cell_type": "code",
   "execution_count": 4,
   "id": "457edeb4",
   "metadata": {},
   "outputs": [],
   "source": [
    "del_good = pd.read_excel(r\"D:\\Analysis Burn\\Продукция Burn.xlsx\", sheet_name='вкусы')"
   ]
  },
  {
   "cell_type": "code",
   "execution_count": 5,
   "id": "37084ea1",
   "metadata": {},
   "outputs": [
    {
     "data": {
      "text/html": [
       "<div>\n",
       "<style scoped>\n",
       "    .dataframe tbody tr th:only-of-type {\n",
       "        vertical-align: middle;\n",
       "    }\n",
       "\n",
       "    .dataframe tbody tr th {\n",
       "        vertical-align: top;\n",
       "    }\n",
       "\n",
       "    .dataframe thead th {\n",
       "        text-align: right;\n",
       "    }\n",
       "</style>\n",
       "<table border=\"1\" class=\"dataframe\">\n",
       "  <thead>\n",
       "    <tr style=\"text-align: right;\">\n",
       "      <th></th>\n",
       "      <th>Бренд</th>\n",
       "      <th>Вкус</th>\n",
       "      <th>Код</th>\n",
       "      <th>Анонс</th>\n",
       "    </tr>\n",
       "  </thead>\n",
       "  <tbody>\n",
       "    <tr>\n",
       "      <th>0</th>\n",
       "      <td>BlackBurn</td>\n",
       "      <td>Mirinda (Мандариновая газировка)</td>\n",
       "      <td>63</td>\n",
       "      <td>2022-12-05</td>\n",
       "    </tr>\n",
       "    <tr>\n",
       "      <th>1</th>\n",
       "      <td>BlackBurn</td>\n",
       "      <td>Muesli (Фруктовые мюсли)</td>\n",
       "      <td>64</td>\n",
       "      <td>2022-12-05</td>\n",
       "    </tr>\n",
       "    <tr>\n",
       "      <th>2</th>\n",
       "      <td>Overdose</td>\n",
       "      <td>Fruittella (Фруктовая конфета)</td>\n",
       "      <td>8</td>\n",
       "      <td>2023-01-23</td>\n",
       "    </tr>\n",
       "    <tr>\n",
       "      <th>3</th>\n",
       "      <td>Overdose</td>\n",
       "      <td>Guajava (Экзотическая гуава)</td>\n",
       "      <td>10</td>\n",
       "      <td>2023-01-23</td>\n",
       "    </tr>\n",
       "    <tr>\n",
       "      <th>4</th>\n",
       "      <td>Overdose</td>\n",
       "      <td>Jelly Grape (Виноградный джем)</td>\n",
       "      <td>11</td>\n",
       "      <td>2023-01-23</td>\n",
       "    </tr>\n",
       "    <tr>\n",
       "      <th>...</th>\n",
       "      <td>...</td>\n",
       "      <td>...</td>\n",
       "      <td>...</td>\n",
       "      <td>...</td>\n",
       "    </tr>\n",
       "    <tr>\n",
       "      <th>228</th>\n",
       "      <td>Peter Ralf</td>\n",
       "      <td>Post Melon (Дынная жевательная резинка)</td>\n",
       "      <td>140</td>\n",
       "      <td>NaT</td>\n",
       "    </tr>\n",
       "    <tr>\n",
       "      <th>229</th>\n",
       "      <td>Peter Ralf</td>\n",
       "      <td>Quince (Травянистый вкус айвы)</td>\n",
       "      <td>141</td>\n",
       "      <td>NaT</td>\n",
       "    </tr>\n",
       "    <tr>\n",
       "      <th>230</th>\n",
       "      <td>Peter Ralf</td>\n",
       "      <td>Santa-Barbara (Барбарисовый леденец)</td>\n",
       "      <td>142</td>\n",
       "      <td>NaT</td>\n",
       "    </tr>\n",
       "    <tr>\n",
       "      <th>231</th>\n",
       "      <td>Peter Ralf</td>\n",
       "      <td>Sugar Baby (Арбуз, мята и лед)</td>\n",
       "      <td>143</td>\n",
       "      <td>NaT</td>\n",
       "    </tr>\n",
       "    <tr>\n",
       "      <th>232</th>\n",
       "      <td>Peter Ralf</td>\n",
       "      <td>Tropical Exotic (Тропический микс с преоблада...</td>\n",
       "      <td>144</td>\n",
       "      <td>NaT</td>\n",
       "    </tr>\n",
       "  </tbody>\n",
       "</table>\n",
       "<p>233 rows × 4 columns</p>\n",
       "</div>"
      ],
      "text/plain": [
       "          Бренд                                               Вкус  Код  \\\n",
       "0     BlackBurn                   Mirinda (Мандариновая газировка)   63   \n",
       "1     BlackBurn                           Muesli (Фруктовые мюсли)   64   \n",
       "2      Overdose                     Fruittella (Фруктовая конфета)    8   \n",
       "3      Overdose                       Guajava (Экзотическая гуава)   10   \n",
       "4      Overdose                     Jelly Grape (Виноградный джем)   11   \n",
       "..          ...                                                ...  ...   \n",
       "228  Peter Ralf            Post Melon (Дынная жевательная резинка)  140   \n",
       "229  Peter Ralf                   Quince (Травянистый вкус айвы)  141   \n",
       "230  Peter Ralf              Santa-Barbara (Барбарисовый леденец)  142   \n",
       "231  Peter Ralf                     Sugar Baby (Арбуз, мята и лед)  143   \n",
       "232  Peter Ralf  Tropical Exotic (Тропический микс с преоблада...  144   \n",
       "\n",
       "         Анонс  \n",
       "0   2022-12-05  \n",
       "1   2022-12-05  \n",
       "2   2023-01-23  \n",
       "3   2023-01-23  \n",
       "4   2023-01-23  \n",
       "..         ...  \n",
       "228        NaT  \n",
       "229        NaT  \n",
       "230        NaT  \n",
       "231        NaT  \n",
       "232        NaT  \n",
       "\n",
       "[233 rows x 4 columns]"
      ]
     },
     "execution_count": 5,
     "metadata": {},
     "output_type": "execute_result"
    }
   ],
   "source": [
    "del_good"
   ]
  },
  {
   "cell_type": "code",
   "execution_count": 6,
   "id": "2ff259d8",
   "metadata": {
    "scrolled": true
   },
   "outputs": [],
   "source": [
    "del_need_parse = del_need_parse.drop_duplicates()"
   ]
  },
  {
   "attachments": {},
   "cell_type": "markdown",
   "id": "97c067d3",
   "metadata": {},
   "source": [
    "Первая таблица"
   ]
  },
  {
   "cell_type": "code",
   "execution_count": 7,
   "id": "ab212c2e",
   "metadata": {
    "scrolled": true
   },
   "outputs": [
    {
     "data": {
      "text/html": [
       "<div>\n",
       "<style scoped>\n",
       "    .dataframe tbody tr th:only-of-type {\n",
       "        vertical-align: middle;\n",
       "    }\n",
       "\n",
       "    .dataframe tbody tr th {\n",
       "        vertical-align: top;\n",
       "    }\n",
       "\n",
       "    .dataframe thead th {\n",
       "        text-align: right;\n",
       "    }\n",
       "</style>\n",
       "<table border=\"1\" class=\"dataframe\">\n",
       "  <thead>\n",
       "    <tr style=\"text-align: right;\">\n",
       "      <th></th>\n",
       "      <th>Бренд-Вкус</th>\n",
       "    </tr>\n",
       "  </thead>\n",
       "  <tbody>\n",
       "    <tr>\n",
       "      <th>0</th>\n",
       "      <td>BURNBLACK BURN 25 ГР – CHUPA GRAPER (ВИНОГРАДН...</td>\n",
       "    </tr>\n",
       "    <tr>\n",
       "      <th>1</th>\n",
       "      <td>BURNBLACK BURN 25 ГР – HARIBON (МАРМЕЛАД-КОЛА)</td>\n",
       "    </tr>\n",
       "    <tr>\n",
       "      <th>2</th>\n",
       "      <td>BURNBLACK BURN 25 ГР – MELON HALLS (ДЫННЫЙ ХОЛС)</td>\n",
       "    </tr>\n",
       "    <tr>\n",
       "      <th>3</th>\n",
       "      <td>BURNBLACK BURN 25 ГР – APPLE SHOCK (КИСЛОЕ ЗЕЛ...</td>\n",
       "    </tr>\n",
       "    <tr>\n",
       "      <th>4</th>\n",
       "      <td>BURNBLACK BURN 25 ГР – TIK TAK (ТИК ТАК)</td>\n",
       "    </tr>\n",
       "    <tr>\n",
       "      <th>...</th>\n",
       "      <td>...</td>\n",
       "    </tr>\n",
       "    <tr>\n",
       "      <th>403</th>\n",
       "      <td>BURNBURN 200 ГР – BLISS</td>\n",
       "    </tr>\n",
       "    <tr>\n",
       "      <th>404</th>\n",
       "      <td>B3B3 –  BRUNO GRANADE (ГРАНАТ)</td>\n",
       "    </tr>\n",
       "    <tr>\n",
       "      <th>405</th>\n",
       "      <td>B3B3 –  SOUTH BERRY (ШЕЛКОВИЦА)</td>\n",
       "    </tr>\n",
       "    <tr>\n",
       "      <th>406</th>\n",
       "      <td>BURNBURN 100 ГР – AFTER 8 (ПОСЛЕ 8)</td>\n",
       "    </tr>\n",
       "    <tr>\n",
       "      <th>407</th>\n",
       "      <td>BURNBURN 100 ГР – CINNABOOM (СИНАБУМ)</td>\n",
       "    </tr>\n",
       "  </tbody>\n",
       "</table>\n",
       "<p>408 rows × 1 columns</p>\n",
       "</div>"
      ],
      "text/plain": [
       "                                            Бренд-Вкус\n",
       "0    BURNBLACK BURN 25 ГР – CHUPA GRAPER (ВИНОГРАДН...\n",
       "1       BURNBLACK BURN 25 ГР – HARIBON (МАРМЕЛАД-КОЛА)\n",
       "2     BURNBLACK BURN 25 ГР – MELON HALLS (ДЫННЫЙ ХОЛС)\n",
       "3    BURNBLACK BURN 25 ГР – APPLE SHOCK (КИСЛОЕ ЗЕЛ...\n",
       "4             BURNBLACK BURN 25 ГР – TIK TAK (ТИК ТАК)\n",
       "..                                                 ...\n",
       "403                            BURNBURN 200 ГР – BLISS\n",
       "404                     B3B3 –  BRUNO GRANADE (ГРАНАТ)\n",
       "405                    B3B3 –  SOUTH BERRY (ШЕЛКОВИЦА)\n",
       "406                BURNBURN 100 ГР – AFTER 8 (ПОСЛЕ 8)\n",
       "407              BURNBURN 100 ГР – CINNABOOM (СИНАБУМ)\n",
       "\n",
       "[408 rows x 1 columns]"
      ]
     },
     "execution_count": 7,
     "metadata": {},
     "output_type": "execute_result"
    }
   ],
   "source": [
    "del_need_parse"
   ]
  },
  {
   "cell_type": "code",
   "execution_count": 8,
   "id": "5e9281bf",
   "metadata": {},
   "outputs": [],
   "source": [
    "del_need_parse['low_symbols'] = del_need_parse['Бренд-Вкус'].str.lower()\n",
    "del_need_parse['low_symbols'] = del_need_parse['low_symbols'].replace('black burn', 'blackburn')\n",
    "del_need_parse['low_symbols'] = del_need_parse['low_symbols'].replace('burn black', 'blackburn')\n",
    "del_need_parse['low_symbols'] = del_need_parse['low_symbols'].replace('peter ralf', 'peterralf')\n"
   ]
  },
  {
   "cell_type": "code",
   "execution_count": 9,
   "id": "5849bd16",
   "metadata": {},
   "outputs": [],
   "source": [
    "del_need_parse['low_symbols2'] = del_need_parse['low_symbols']\n",
    "del_need_parse['low_symbols'] = del_need_parse['low_symbols'].replace(r'\\s+','',regex=True)"
   ]
  },
  {
   "attachments": {},
   "cell_type": "markdown",
   "id": "fd3e8991",
   "metadata": {},
   "source": [
    "Вторая таблица"
   ]
  },
  {
   "cell_type": "code",
   "execution_count": 10,
   "id": "7d0d4b12",
   "metadata": {
    "scrolled": true
   },
   "outputs": [
    {
     "data": {
      "text/html": [
       "<div>\n",
       "<style scoped>\n",
       "    .dataframe tbody tr th:only-of-type {\n",
       "        vertical-align: middle;\n",
       "    }\n",
       "\n",
       "    .dataframe tbody tr th {\n",
       "        vertical-align: top;\n",
       "    }\n",
       "\n",
       "    .dataframe thead th {\n",
       "        text-align: right;\n",
       "    }\n",
       "</style>\n",
       "<table border=\"1\" class=\"dataframe\">\n",
       "  <thead>\n",
       "    <tr style=\"text-align: right;\">\n",
       "      <th></th>\n",
       "      <th>Бренд</th>\n",
       "      <th>Вкус</th>\n",
       "      <th>Код</th>\n",
       "      <th>Анонс</th>\n",
       "    </tr>\n",
       "  </thead>\n",
       "  <tbody>\n",
       "    <tr>\n",
       "      <th>0</th>\n",
       "      <td>BlackBurn</td>\n",
       "      <td>Mirinda (Мандариновая газировка)</td>\n",
       "      <td>63</td>\n",
       "      <td>2022-12-05</td>\n",
       "    </tr>\n",
       "    <tr>\n",
       "      <th>1</th>\n",
       "      <td>BlackBurn</td>\n",
       "      <td>Muesli (Фруктовые мюсли)</td>\n",
       "      <td>64</td>\n",
       "      <td>2022-12-05</td>\n",
       "    </tr>\n",
       "    <tr>\n",
       "      <th>2</th>\n",
       "      <td>Overdose</td>\n",
       "      <td>Fruittella (Фруктовая конфета)</td>\n",
       "      <td>8</td>\n",
       "      <td>2023-01-23</td>\n",
       "    </tr>\n",
       "    <tr>\n",
       "      <th>3</th>\n",
       "      <td>Overdose</td>\n",
       "      <td>Guajava (Экзотическая гуава)</td>\n",
       "      <td>10</td>\n",
       "      <td>2023-01-23</td>\n",
       "    </tr>\n",
       "    <tr>\n",
       "      <th>4</th>\n",
       "      <td>Overdose</td>\n",
       "      <td>Jelly Grape (Виноградный джем)</td>\n",
       "      <td>11</td>\n",
       "      <td>2023-01-23</td>\n",
       "    </tr>\n",
       "    <tr>\n",
       "      <th>...</th>\n",
       "      <td>...</td>\n",
       "      <td>...</td>\n",
       "      <td>...</td>\n",
       "      <td>...</td>\n",
       "    </tr>\n",
       "    <tr>\n",
       "      <th>228</th>\n",
       "      <td>Peter Ralf</td>\n",
       "      <td>Post Melon (Дынная жевательная резинка)</td>\n",
       "      <td>140</td>\n",
       "      <td>NaT</td>\n",
       "    </tr>\n",
       "    <tr>\n",
       "      <th>229</th>\n",
       "      <td>Peter Ralf</td>\n",
       "      <td>Quince (Травянистый вкус айвы)</td>\n",
       "      <td>141</td>\n",
       "      <td>NaT</td>\n",
       "    </tr>\n",
       "    <tr>\n",
       "      <th>230</th>\n",
       "      <td>Peter Ralf</td>\n",
       "      <td>Santa-Barbara (Барбарисовый леденец)</td>\n",
       "      <td>142</td>\n",
       "      <td>NaT</td>\n",
       "    </tr>\n",
       "    <tr>\n",
       "      <th>231</th>\n",
       "      <td>Peter Ralf</td>\n",
       "      <td>Sugar Baby (Арбуз, мята и лед)</td>\n",
       "      <td>143</td>\n",
       "      <td>NaT</td>\n",
       "    </tr>\n",
       "    <tr>\n",
       "      <th>232</th>\n",
       "      <td>Peter Ralf</td>\n",
       "      <td>Tropical Exotic (Тропический микс с преоблада...</td>\n",
       "      <td>144</td>\n",
       "      <td>NaT</td>\n",
       "    </tr>\n",
       "  </tbody>\n",
       "</table>\n",
       "<p>233 rows × 4 columns</p>\n",
       "</div>"
      ],
      "text/plain": [
       "          Бренд                                               Вкус  Код  \\\n",
       "0     BlackBurn                   Mirinda (Мандариновая газировка)   63   \n",
       "1     BlackBurn                           Muesli (Фруктовые мюсли)   64   \n",
       "2      Overdose                     Fruittella (Фруктовая конфета)    8   \n",
       "3      Overdose                       Guajava (Экзотическая гуава)   10   \n",
       "4      Overdose                     Jelly Grape (Виноградный джем)   11   \n",
       "..          ...                                                ...  ...   \n",
       "228  Peter Ralf            Post Melon (Дынная жевательная резинка)  140   \n",
       "229  Peter Ralf                   Quince (Травянистый вкус айвы)  141   \n",
       "230  Peter Ralf              Santa-Barbara (Барбарисовый леденец)  142   \n",
       "231  Peter Ralf                     Sugar Baby (Арбуз, мята и лед)  143   \n",
       "232  Peter Ralf  Tropical Exotic (Тропический микс с преоблада...  144   \n",
       "\n",
       "         Анонс  \n",
       "0   2022-12-05  \n",
       "1   2022-12-05  \n",
       "2   2023-01-23  \n",
       "3   2023-01-23  \n",
       "4   2023-01-23  \n",
       "..         ...  \n",
       "228        NaT  \n",
       "229        NaT  \n",
       "230        NaT  \n",
       "231        NaT  \n",
       "232        NaT  \n",
       "\n",
       "[233 rows x 4 columns]"
      ]
     },
     "execution_count": 10,
     "metadata": {},
     "output_type": "execute_result"
    }
   ],
   "source": [
    "del_good"
   ]
  },
  {
   "cell_type": "code",
   "execution_count": 11,
   "id": "7095237d",
   "metadata": {},
   "outputs": [],
   "source": [
    "del_good['вкус_подготовленный'] = del_good['Вкус'].str.lower().str.split('(').str[0]"
   ]
  },
  {
   "cell_type": "code",
   "execution_count": 12,
   "id": "b1c1e8ed",
   "metadata": {},
   "outputs": [],
   "source": [
    "del_good['бренд_подготовленный'] = del_good['Бренд'].str.lower()"
   ]
  },
  {
   "cell_type": "code",
   "execution_count": 13,
   "id": "16524e05",
   "metadata": {},
   "outputs": [],
   "source": [
    "del_good['бренд_подготовленный'] = del_good['бренд_подготовленный'].str.strip()"
   ]
  },
  {
   "cell_type": "code",
   "execution_count": 14,
   "id": "9ff47525",
   "metadata": {},
   "outputs": [],
   "source": [
    "del_good['бренд_подготовленный'] = del_good['бренд_подготовленный'].replace('peter ralf', 'peterralf')"
   ]
  },
  {
   "cell_type": "code",
   "execution_count": 15,
   "id": "c895ac23",
   "metadata": {},
   "outputs": [],
   "source": [
    "del_good['вкус_подготовленный'] = del_good['вкус_подготовленный'].str.strip()"
   ]
  },
  {
   "cell_type": "code",
   "execution_count": 16,
   "id": "67f124ea",
   "metadata": {},
   "outputs": [],
   "source": [
    "del_good['вкус_подготовленный2'] = del_good['вкус_подготовленный']"
   ]
  },
  {
   "cell_type": "code",
   "execution_count": 17,
   "id": "dfb56183",
   "metadata": {},
   "outputs": [],
   "source": [
    "del_good['вкус_подготовленный'] = del_good['вкус_подготовленный'].replace(r'\\s+','',regex=True)"
   ]
  },
  {
   "cell_type": "code",
   "execution_count": 18,
   "id": "2f133a9d",
   "metadata": {},
   "outputs": [],
   "source": [
    "for index1, row1 in del_need_parse.iterrows():\n",
    "    for index2, row2 in del_good.iterrows():\n",
    "        if row2['вкус_подготовленный'] in row1['low_symbols'] and row2['бренд_подготовленный'] in row1['low_symbols']:\n",
    "            del_need_parse.at[index1, 'Код'] = row2['Код']\n",
    "            del_need_parse.at[index1, 'Новый вкус'] = row2['Вкус']"
   ]
  },
  {
   "cell_type": "code",
   "execution_count": 19,
   "id": "88153bd2",
   "metadata": {},
   "outputs": [],
   "source": [
    "del_need_parse = del_need_parse.drop(columns={'low_symbols', 'low_symbols2'})"
   ]
  },
  {
   "cell_type": "code",
   "execution_count": 20,
   "id": "d6084102",
   "metadata": {},
   "outputs": [],
   "source": [
    "del_need_parse.to_excel(path_to_save + \"\\Success.xlsx\", index=False)"
   ]
  },
  {
   "cell_type": "code",
   "execution_count": null,
   "id": "e2332c20",
   "metadata": {},
   "outputs": [],
   "source": []
  }
 ],
 "metadata": {
  "kernelspec": {
   "display_name": "Python 3 (ipykernel)",
   "language": "python",
   "name": "python3"
  },
  "language_info": {
   "codemirror_mode": {
    "name": "ipython",
    "version": 3
   },
   "file_extension": ".py",
   "mimetype": "text/x-python",
   "name": "python",
   "nbconvert_exporter": "python",
   "pygments_lexer": "ipython3",
   "version": "3.10.11"
  }
 },
 "nbformat": 4,
 "nbformat_minor": 5
}
