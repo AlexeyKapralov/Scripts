{
 "cells": [
  {
   "cell_type": "code",
   "execution_count": 1,
   "metadata": {},
   "outputs": [],
   "source": [
    "import pandas as pd"
   ]
  },
  {
   "cell_type": "code",
   "execution_count": 2,
   "metadata": {},
   "outputs": [],
   "source": [
    "df1 = pd.read_csv(r\"D:\\Analysis Burn\\Википедия\\БЁРН исходники\\burn_tobacco.csv\")"
   ]
  },
  {
   "cell_type": "code",
   "execution_count": 3,
   "metadata": {},
   "outputs": [],
   "source": [
    "df2 = pd.read_csv(r\"D:\\Analysis Burn\\Википедия\\СВМХ исходники\\dsmh.csv\", dtype={'инн': 'Int64'})"
   ]
  },
  {
   "cell_type": "code",
   "execution_count": 4,
   "metadata": {},
   "outputs": [
    {
     "data": {
      "text/plain": [
       "0"
      ]
     },
     "execution_count": 4,
     "metadata": {},
     "output_type": "execute_result"
    }
   ],
   "source": [
    "df1['ИНН участника'].isna().sum()"
   ]
  },
  {
   "cell_type": "code",
   "execution_count": 5,
   "metadata": {},
   "outputs": [],
   "source": [
    "inn1 = pd.Series(df2.loc[df2['инн'].notna()]['инн'].unique())\n",
    "inn2 = pd.Series(df1.loc[df1['ИНН участника'].notna()]['ИНН участника'].unique())"
   ]
  },
  {
   "cell_type": "code",
   "execution_count": 6,
   "metadata": {},
   "outputs": [],
   "source": [
    "inn = pd.concat([inn1,inn2])"
   ]
  },
  {
   "cell_type": "code",
   "execution_count": 7,
   "metadata": {},
   "outputs": [],
   "source": [
    "inn = pd.DataFrame(inn, columns=['inn']).drop_duplicates(inplace=True)"
   ]
  },
  {
   "cell_type": "code",
   "execution_count": 47,
   "metadata": {},
   "outputs": [],
   "source": [
    "inn_1000 = inn[0:1000]"
   ]
  },
  {
   "cell_type": "code",
   "execution_count": 57,
   "metadata": {},
   "outputs": [],
   "source": [
    "inn_10 = inn.iloc[-10:,:]"
   ]
  },
  {
   "cell_type": "code",
   "execution_count": 31,
   "metadata": {},
   "outputs": [],
   "source": [
    "from dadata import Dadata\n",
    "\n",
    "token = \"a753835c222d06b6095bd1122ca1488a7ef5bff8\"\n",
    "dadata = Dadata(token)\n",
    "result = dadata.find_by_id(name=\"party\", query=\"7743931676\")"
   ]
  },
  {
   "cell_type": "code",
   "execution_count": 50,
   "metadata": {},
   "outputs": [],
   "source": [
    "from dadata import Dadata\n",
    "\n",
    "token = \"a753835c222d06b6095bd1122ca1488a7ef5bff8\"\n",
    "secret = \"bda948348e9a2c55aed0cd4cdcea50cc2d9c1a96\"\n",
    "\n",
    "with Dadata(token, secret) as dadata:\n",
    "    result = dadata.find_by_id(name=\"party\", query=\"7743931676\")"
   ]
  },
  {
   "cell_type": "code",
   "execution_count": 55,
   "metadata": {},
   "outputs": [
    {
     "name": "stdout",
     "output_type": "stream",
     "text": [
      "{'kpp': '774301001', 'capital': None, 'invalid': None, 'management': {'name': 'Михайленко Константин Викторович', 'post': 'ДИРЕКТОР', 'disqualified': None}, 'founders': None, 'managers': None, 'predecessors': None, 'successors': None, 'branch_type': 'MAIN', 'branch_count': 0, 'source': None, 'qc': None, 'hid': '9f4a8db1ad6d03885b3002a7fc058bcf308de2e1159dcef4615c48842a7a77f8', 'type': 'LEGAL', 'state': {'status': 'ACTIVE', 'code': None, 'actuality_date': 1691712000000, 'registration_date': 1404864000000, 'liquidation_date': None}, 'opf': {'type': '2014', 'code': '12300', 'full': 'Общество с ограниченной ответственностью', 'short': 'ООО'}, 'name': {'full_with_opf': 'ОБЩЕСТВО С ОГРАНИЧЕННОЙ ОТВЕТСТВЕННОСТЬЮ \"АЛЬФА-М\"', 'short_with_opf': 'ООО \"АЛЬФА-М\"', 'latin': None, 'full': 'АЛЬФА-М', 'short': 'АЛЬФА-М'}, 'inn': '7743931676', 'ogrn': '1147746779025', 'okpo': '27130009', 'okato': '45277595000', 'oktmo': '45347000000', 'okogu': '4210014', 'okfs': '16', 'okved': '47.25.1', 'okveds': None, 'authorities': None, 'documents': None, 'licenses': None, 'finance': {'tax_system': None, 'income': None, 'expense': None, 'debt': None, 'penalty': None, 'year': None}, 'address': {'value': '125475, Г.Москва, УЛ. КЛИНСКАЯ, Д. 12, ПОМЕЩ. II (КОМНАТЫ 9-13)', 'unrestricted_value': '125475, Г.Москва, УЛ. КЛИНСКАЯ, Д. 12, ПОМЕЩ. II (КОМНАТЫ 9-13)', 'invalidity': None, 'data': {'postal_code': '125475', 'country': 'Россия', 'country_iso_code': 'RU', 'federal_district': 'Центральный', 'region_fias_id': '0c5b2444-70a0-4932-980c-b4dc0d3f02b5', 'region_kladr_id': '7700000000000', 'region_iso_code': 'RU-MOW', 'region_with_type': 'г Москва', 'region_type': 'г', 'region_type_full': 'город', 'region': 'Москва', 'area_fias_id': None, 'area_kladr_id': None, 'area_with_type': None, 'area_type': None, 'area_type_full': None, 'area': None, 'city_fias_id': '0c5b2444-70a0-4932-980c-b4dc0d3f02b5', 'city_kladr_id': '7700000000000', 'city_with_type': 'г Москва', 'city_type': 'г', 'city_type_full': 'город', 'city': 'Москва', 'city_area': 'Северный', 'city_district_fias_id': None, 'city_district_kladr_id': None, 'city_district_with_type': 'р-н Ховрино', 'city_district_type': 'р-н', 'city_district_type_full': 'район', 'city_district': 'Ховрино', 'settlement_fias_id': None, 'settlement_kladr_id': None, 'settlement_with_type': None, 'settlement_type': None, 'settlement_type_full': None, 'settlement': None, 'street_fias_id': '653eeced-dfda-4d8a-9b6c-1867baf766ad', 'street_kladr_id': '77000000000148300', 'street_with_type': 'ул Клинская', 'street_type': 'ул', 'street_type_full': 'улица', 'street': 'Клинская', 'stead_fias_id': None, 'stead_cadnum': None, 'stead_type': None, 'stead_type_full': None, 'stead': None, 'house_fias_id': '1e453807-3f9a-46c8-8586-6640bf37604b', 'house_kladr_id': '7700000000014830052', 'house_cadnum': '77:09:0001008:1044', 'house_type': 'д', 'house_type_full': 'дом', 'house': '12', 'block_type': None, 'block_type_full': None, 'block': None, 'entrance': None, 'floor': None, 'flat_fias_id': None, 'flat_cadnum': None, 'flat_type': 'помещ', 'flat_type_full': 'помещение', 'flat': 'II', 'flat_area': None, 'square_meter_price': '147102', 'flat_price': None, 'room_fias_id': None, 'room_cadnum': None, 'room_type': None, 'room_type_full': None, 'room': None, 'postal_box': None, 'fias_id': '1e453807-3f9a-46c8-8586-6640bf37604b', 'fias_code': '77000000000000014830052', 'fias_level': '8', 'fias_actuality_state': '0', 'kladr_id': '7700000000014830052', 'geoname_id': '524901', 'capital_marker': '0', 'okato': '45277595000', 'oktmo': '45347000', 'tax_office': '7743', 'tax_office_legal': '7743', 'timezone': 'UTC+3', 'geo_lat': '55.8690899', 'geo_lon': '37.4958881', 'beltway_hit': 'IN_MKAD', 'beltway_distance': None, 'metro': [{'name': 'Беломорская', 'line': 'Замоскворецкая', 'distance': 1.3}, {'name': 'Ховрино', 'line': 'Замоскворецкая', 'distance': 1.4}, {'name': 'Речной вокзал', 'line': 'Замоскворецкая', 'distance': 2.0}], 'divisions': None, 'qc_geo': '0', 'qc_complete': None, 'qc_house': None, 'history_values': None, 'unparsed_parts': None, 'source': '125475, Г.Москва, УЛ. КЛИНСКАЯ, Д. 12, ПОМЕЩ. II (КОМНАТЫ 9-13)', 'qc': '1'}}, 'phones': None, 'emails': None, 'ogrn_date': 1404864000000, 'okved_type': '2014', 'employee_count': None}\n"
     ]
    }
   ],
   "source": [
    "for i in result:\n",
    "    ava = i['data']\n",
    "    print(ava)"
   ]
  },
  {
   "cell_type": "code",
   "execution_count": 47,
   "metadata": {},
   "outputs": [
    {
     "ename": "KeyError",
     "evalue": "'emails'",
     "output_type": "error",
     "traceback": [
      "\u001b[1;31m---------------------------------------------------------------------------\u001b[0m",
      "\u001b[1;31mKeyError\u001b[0m                                  Traceback (most recent call last)",
      "Cell \u001b[1;32mIn[47], line 2\u001b[0m\n\u001b[0;32m      1\u001b[0m \u001b[39mfor\u001b[39;00m item \u001b[39min\u001b[39;00m result:\n\u001b[1;32m----> 2\u001b[0m     post \u001b[39m=\u001b[39m item[\u001b[39m'\u001b[39;49m\u001b[39memails\u001b[39;49m\u001b[39m'\u001b[39;49m]\n\u001b[0;32m      3\u001b[0m     \u001b[39mprint\u001b[39m(post)\n",
      "\u001b[1;31mKeyError\u001b[0m: 'emails'"
     ]
    }
   ],
   "source": [
    "for item in result:\n",
    "    post = item['emails']\n",
    "    print(post)"
   ]
  },
  {
   "cell_type": "code",
   "execution_count": 15,
   "metadata": {},
   "outputs": [
    {
     "ename": "HTTPStatusError",
     "evalue": "Client error '404 Not Found' for url 'https://suggestions.dadata.ru/suggestions/api/4_1/rs/suggest/emails.value'\nFor more information check: https://httpstatuses.com/404",
     "output_type": "error",
     "traceback": [
      "\u001b[1;31m---------------------------------------------------------------------------\u001b[0m",
      "\u001b[1;31mHTTPStatusError\u001b[0m                           Traceback (most recent call last)",
      "Cell \u001b[1;32mIn[15], line 1\u001b[0m\n\u001b[1;32m----> 1\u001b[0m dadata\u001b[39m.\u001b[39;49msuggest(name\u001b[39m=\u001b[39;49m\u001b[39m\"\u001b[39;49m\u001b[39memails.value\u001b[39;49m\u001b[39m\"\u001b[39;49m, query\u001b[39m=\u001b[39;49m\u001b[39m\"\u001b[39;49m\u001b[39mSERG\u001b[39;49m\u001b[39m\"\u001b[39;49m)\n",
      "File \u001b[1;32mc:\\ProgramData\\anaconda3\\envs\\analytics\\lib\\site-packages\\dadata\\sync.py:188\u001b[0m, in \u001b[0;36mDadataClient.suggest\u001b[1;34m(self, name, query, count, **kwargs)\u001b[0m\n\u001b[0;32m    184\u001b[0m \u001b[39mdef\u001b[39;00m \u001b[39msuggest\u001b[39m(\n\u001b[0;32m    185\u001b[0m     \u001b[39mself\u001b[39m, name: \u001b[39mstr\u001b[39m, query: \u001b[39mstr\u001b[39m, count: \u001b[39mint\u001b[39m \u001b[39m=\u001b[39m settings\u001b[39m.\u001b[39mSUGGESTION_COUNT, \u001b[39m*\u001b[39m\u001b[39m*\u001b[39mkwargs\n\u001b[0;32m    186\u001b[0m ) \u001b[39m-\u001b[39m\u001b[39m>\u001b[39m List[Dict]:\n\u001b[0;32m    187\u001b[0m     \u001b[39m\"\"\"Suggest from `name` directory according to given `query`.\"\"\"\u001b[39;00m\n\u001b[1;32m--> 188\u001b[0m     \u001b[39mreturn\u001b[39;00m \u001b[39mself\u001b[39m\u001b[39m.\u001b[39m_suggestions\u001b[39m.\u001b[39msuggest(name\u001b[39m=\u001b[39mname, query\u001b[39m=\u001b[39mquery, count\u001b[39m=\u001b[39mcount, \u001b[39m*\u001b[39m\u001b[39m*\u001b[39mkwargs)\n",
      "File \u001b[1;32mc:\\ProgramData\\anaconda3\\envs\\analytics\\lib\\site-packages\\dadata\\sync.py:103\u001b[0m, in \u001b[0;36mSuggestClient.suggest\u001b[1;34m(self, name, query, count, **kwargs)\u001b[0m\n\u001b[0;32m    101\u001b[0m data \u001b[39m=\u001b[39m {\u001b[39m\"\u001b[39m\u001b[39mquery\u001b[39m\u001b[39m\"\u001b[39m: query, \u001b[39m\"\u001b[39m\u001b[39mcount\u001b[39m\u001b[39m\"\u001b[39m: count}\n\u001b[0;32m    102\u001b[0m data\u001b[39m.\u001b[39mupdate(kwargs)\n\u001b[1;32m--> 103\u001b[0m response \u001b[39m=\u001b[39m \u001b[39mself\u001b[39;49m\u001b[39m.\u001b[39;49m_post(url, data)\n\u001b[0;32m    104\u001b[0m \u001b[39mreturn\u001b[39;00m response[\u001b[39m\"\u001b[39m\u001b[39msuggestions\u001b[39m\u001b[39m\"\u001b[39m]\n",
      "File \u001b[1;32mc:\\ProgramData\\anaconda3\\envs\\analytics\\lib\\site-packages\\dadata\\sync.py:43\u001b[0m, in \u001b[0;36mClientBase._post\u001b[1;34m(self, url, data, timeout)\u001b[0m\n\u001b[0;32m     41\u001b[0m \u001b[39m\"\"\"POST request to Dadata API\"\"\"\u001b[39;00m\n\u001b[0;32m     42\u001b[0m response \u001b[39m=\u001b[39m \u001b[39mself\u001b[39m\u001b[39m.\u001b[39m_client\u001b[39m.\u001b[39mpost(url, json\u001b[39m=\u001b[39mdata, timeout\u001b[39m=\u001b[39mtimeout)\n\u001b[1;32m---> 43\u001b[0m response\u001b[39m.\u001b[39;49mraise_for_status()\n\u001b[0;32m     44\u001b[0m \u001b[39mreturn\u001b[39;00m response\u001b[39m.\u001b[39mjson()\n",
      "File \u001b[1;32mc:\\ProgramData\\anaconda3\\envs\\analytics\\lib\\site-packages\\httpx\\_models.py:749\u001b[0m, in \u001b[0;36mResponse.raise_for_status\u001b[1;34m(self)\u001b[0m\n\u001b[0;32m    747\u001b[0m error_type \u001b[39m=\u001b[39m error_types\u001b[39m.\u001b[39mget(status_class, \u001b[39m\"\u001b[39m\u001b[39mInvalid status code\u001b[39m\u001b[39m\"\u001b[39m)\n\u001b[0;32m    748\u001b[0m message \u001b[39m=\u001b[39m message\u001b[39m.\u001b[39mformat(\u001b[39mself\u001b[39m, error_type\u001b[39m=\u001b[39merror_type)\n\u001b[1;32m--> 749\u001b[0m \u001b[39mraise\u001b[39;00m HTTPStatusError(message, request\u001b[39m=\u001b[39mrequest, response\u001b[39m=\u001b[39m\u001b[39mself\u001b[39m)\n",
      "\u001b[1;31mHTTPStatusError\u001b[0m: Client error '404 Not Found' for url 'https://suggestions.dadata.ru/suggestions/api/4_1/rs/suggest/emails.value'\nFor more information check: https://httpstatuses.com/404"
     ]
    }
   ],
   "source": []
  },
  {
   "cell_type": "code",
   "execution_count": 60,
   "metadata": {},
   "outputs": [
    {
     "data": {
      "text/html": [
       "<div>\n",
       "<style scoped>\n",
       "    .dataframe tbody tr th:only-of-type {\n",
       "        vertical-align: middle;\n",
       "    }\n",
       "\n",
       "    .dataframe tbody tr th {\n",
       "        vertical-align: top;\n",
       "    }\n",
       "\n",
       "    .dataframe thead th {\n",
       "        text-align: right;\n",
       "    }\n",
       "</style>\n",
       "<table border=\"1\" class=\"dataframe\">\n",
       "  <thead>\n",
       "    <tr style=\"text-align: right;\">\n",
       "      <th></th>\n",
       "      <th>inn</th>\n",
       "      <th>название компании</th>\n",
       "    </tr>\n",
       "  </thead>\n",
       "  <tbody>\n",
       "    <tr>\n",
       "      <th>6081</th>\n",
       "      <td>890101093402</td>\n",
       "      <td>NaT</td>\n",
       "    </tr>\n",
       "    <tr>\n",
       "      <th>6082</th>\n",
       "      <td>780620131437</td>\n",
       "      <td>NaT</td>\n",
       "    </tr>\n",
       "    <tr>\n",
       "      <th>6083</th>\n",
       "      <td>226301741548</td>\n",
       "      <td>NaT</td>\n",
       "    </tr>\n",
       "    <tr>\n",
       "      <th>6084</th>\n",
       "      <td>421409815216</td>\n",
       "      <td>NaT</td>\n",
       "    </tr>\n",
       "    <tr>\n",
       "      <th>6085</th>\n",
       "      <td>270393386309</td>\n",
       "      <td>NaT</td>\n",
       "    </tr>\n",
       "    <tr>\n",
       "      <th>6086</th>\n",
       "      <td>272390096250</td>\n",
       "      <td>NaT</td>\n",
       "    </tr>\n",
       "    <tr>\n",
       "      <th>6087</th>\n",
       "      <td>616485947639</td>\n",
       "      <td>NaT</td>\n",
       "    </tr>\n",
       "    <tr>\n",
       "      <th>6088</th>\n",
       "      <td>250800703708</td>\n",
       "      <td>NaT</td>\n",
       "    </tr>\n",
       "    <tr>\n",
       "      <th>6089</th>\n",
       "      <td>344210507260</td>\n",
       "      <td>NaT</td>\n",
       "    </tr>\n",
       "    <tr>\n",
       "      <th>6090</th>\n",
       "      <td>701708640344</td>\n",
       "      <td>NaT</td>\n",
       "    </tr>\n",
       "  </tbody>\n",
       "</table>\n",
       "</div>"
      ],
      "text/plain": [
       "               inn название компании\n",
       "6081  890101093402               NaT\n",
       "6082  780620131437               NaT\n",
       "6083  226301741548               NaT\n",
       "6084  421409815216               NaT\n",
       "6085  270393386309               NaT\n",
       "6086  272390096250               NaT\n",
       "6087  616485947639               NaT\n",
       "6088  250800703708               NaT\n",
       "6089  344210507260               NaT\n",
       "6090  701708640344               NaT"
      ]
     },
     "execution_count": 60,
     "metadata": {},
     "output_type": "execute_result"
    }
   ],
   "source": [
    "inn_10"
   ]
  }
 ],
 "metadata": {
  "kernelspec": {
   "display_name": "analytics",
   "language": "python",
   "name": "python3"
  },
  "language_info": {
   "codemirror_mode": {
    "name": "ipython",
    "version": 3
   },
   "file_extension": ".py",
   "mimetype": "text/x-python",
   "name": "python",
   "nbconvert_exporter": "python",
   "pygments_lexer": "ipython3",
   "version": "3.10.11"
  },
  "orig_nbformat": 4
 },
 "nbformat": 4,
 "nbformat_minor": 2
}
