{
 "cells": [
  {
   "cell_type": "code",
   "execution_count": 1,
   "id": "21cda4cb",
   "metadata": {},
   "outputs": [],
   "source": [
    "import pandas as pd\n",
    "\n",
    "from datetime import datetime\n",
    "\n",
    "import xlrd\n",
    "import os\n",
    "import glob"
   ]
  },
  {
   "cell_type": "code",
   "execution_count": 2,
   "id": "644f2498",
   "metadata": {},
   "outputs": [],
   "source": [
    "path = 'D:\\Analysis Burn\\МО\\исходники'"
   ]
  },
  {
   "cell_type": "code",
   "execution_count": 5,
   "id": "ae1af7dc",
   "metadata": {},
   "outputs": [],
   "source": [
    "xl_files = glob.glob(os.path.join(path, \"*.xlsb\"))"
   ]
  },
  {
   "cell_type": "code",
   "execution_count": 6,
   "id": "6555a663",
   "metadata": {},
   "outputs": [],
   "source": [
    "li2 = []\n",
    "\n",
    "for f2 in xl_files:\n",
    "      \n",
    "    # read the csv file\n",
    "    df2 = pd.read_excel(f2)\n",
    "    \n",
    "    li2.append(df2)  \n",
    "    \n",
    "    \n",
    "    # print the location and filename\n",
    "    # print('Location:', f)\n",
    "    # print('File Name:', f.split(\"\\\\\")[-1])\n",
    "      \n",
    "    # print the content\n",
    "    # print('Content:')\n",
    "    # display(df)\n",
    "    # print()\n",
    "\n",
    "frame2 = pd.concat(li2, axis=0, ignore_index=True)"
   ]
  },
  {
   "cell_type": "code",
   "execution_count": 7,
   "id": "5026cf64",
   "metadata": {},
   "outputs": [
    {
     "data": {
      "text/html": [
       "<div>\n",
       "<style scoped>\n",
       "    .dataframe tbody tr th:only-of-type {\n",
       "        vertical-align: middle;\n",
       "    }\n",
       "\n",
       "    .dataframe tbody tr th {\n",
       "        vertical-align: top;\n",
       "    }\n",
       "\n",
       "    .dataframe thead th {\n",
       "        text-align: right;\n",
       "    }\n",
       "</style>\n",
       "<table border=\"1\" class=\"dataframe\">\n",
       "  <thead>\n",
       "    <tr style=\"text-align: right;\">\n",
       "      <th></th>\n",
       "      <th>месяц</th>\n",
       "      <th>регион</th>\n",
       "      <th>бренд</th>\n",
       "      <th>тип продукции</th>\n",
       "      <th>название</th>\n",
       "      <th>инн продавца</th>\n",
       "      <th>адрес магазина</th>\n",
       "      <th>вес упаковки</th>\n",
       "      <th>продажи</th>\n",
       "    </tr>\n",
       "  </thead>\n",
       "  <tbody>\n",
       "    <tr>\n",
       "      <th>0</th>\n",
       "      <td>2023-01-01</td>\n",
       "      <td>Москва</td>\n",
       "      <td>OVERDOSE</td>\n",
       "      <td>Кальян</td>\n",
       "      <td>Overdose Peach Iced Tea (Персиковый чай) 25гр.</td>\n",
       "      <td>7715441408</td>\n",
       "      <td>г Москва, ул Краснобогатырская, д 2 стр 2</td>\n",
       "      <td>25</td>\n",
       "      <td>9</td>\n",
       "    </tr>\n",
       "    <tr>\n",
       "      <th>1</th>\n",
       "      <td>2023-01-01</td>\n",
       "      <td>Московская область</td>\n",
       "      <td>OVERDOSE</td>\n",
       "      <td>Кальян</td>\n",
       "      <td>Overdose Peach Iced Tea (Персиковый чай) 25гр.</td>\n",
       "      <td>520601360011</td>\n",
       "      <td>Московская обл, г Королёв, ул Пионерская, д 3,...</td>\n",
       "      <td>25</td>\n",
       "      <td>3</td>\n",
       "    </tr>\n",
       "  </tbody>\n",
       "</table>\n",
       "</div>"
      ],
      "text/plain": [
       "        месяц              регион     бренд тип продукции  \\\n",
       "0  2023-01-01              Москва  OVERDOSE        Кальян   \n",
       "1  2023-01-01  Московская область  OVERDOSE        Кальян   \n",
       "\n",
       "                                          название  инн продавца  \\\n",
       "0   Overdose Peach Iced Tea (Персиковый чай) 25гр.    7715441408   \n",
       "1   Overdose Peach Iced Tea (Персиковый чай) 25гр.  520601360011   \n",
       "\n",
       "                                      адрес магазина вес упаковки  продажи  \n",
       "0          г Москва, ул Краснобогатырская, д 2 стр 2           25        9  \n",
       "1  Московская обл, г Королёв, ул Пионерская, д 3,...           25        3  "
      ]
     },
     "execution_count": 7,
     "metadata": {},
     "output_type": "execute_result"
    }
   ],
   "source": [
    "frame2.head(2)"
   ]
  },
  {
   "cell_type": "code",
   "execution_count": 9,
   "id": "354619d2",
   "metadata": {},
   "outputs": [],
   "source": [
    "frame2['месяц'] = pd.to_datetime(frame2['месяц'])"
   ]
  },
  {
   "cell_type": "code",
   "execution_count": 11,
   "id": "3105521b",
   "metadata": {},
   "outputs": [],
   "source": [
    "frame2['месяц'].replace('1970-01-01T00:00:00.000045047', '2023-05-01T00:00:00.000000000',inplace=True)\n",
    "frame2['месяц'].replace('1970-01-01T00:00:00.000045078', '2023-06-01T00:00:00.000000000',inplace=True)"
   ]
  },
  {
   "cell_type": "code",
   "execution_count": 12,
   "id": "6f026fea",
   "metadata": {},
   "outputs": [
    {
     "data": {
      "text/plain": [
       "array(['2023-01-01T00:00:00.000000000', '2023-02-01T00:00:00.000000000',\n",
       "       '2023-03-01T00:00:00.000000000', '2023-04-01T00:00:00.000000000',\n",
       "       '2023-05-01T00:00:00.000000000', '2023-06-01T00:00:00.000000000',\n",
       "       '2022-12-01T00:00:00.000000000'], dtype='datetime64[ns]')"
      ]
     },
     "execution_count": 12,
     "metadata": {},
     "output_type": "execute_result"
    }
   ],
   "source": [
    "frame2['месяц'].unique()"
   ]
  },
  {
   "cell_type": "code",
   "execution_count": 13,
   "id": "9adbc772",
   "metadata": {},
   "outputs": [],
   "source": [
    "frame2.to_csv(r\"D:\\Analysis Burn\\МО\\MO_full_source_csv.csv\")"
   ]
  },
  {
   "cell_type": "code",
   "execution_count": 19,
   "id": "b3bb95b2",
   "metadata": {},
   "outputs": [],
   "source": [
    "pd.Series(frame2['бренд'].unique()).sort_values().to_excel(r\"C:\\Users\\User\\Desktop\\Брнды.xlsx\")"
   ]
  },
  {
   "cell_type": "code",
   "execution_count": 30,
   "id": "2dbd476f",
   "metadata": {},
   "outputs": [],
   "source": [
    "shot = frame2.loc[(frame2['бренд'] == 'DARKSIDE') & (frame2['название'].str.contains('.*шот.*',regex=True,case=False))]"
   ]
  },
  {
   "cell_type": "code",
   "execution_count": 37,
   "id": "20fe9ae5",
   "metadata": {},
   "outputs": [],
   "source": [
    "pd.Series(shot['название'].unique()).to_excel(r\"C:\\Users\\User\\Desktop\\Вкусы_шот.xlsx\")"
   ]
  },
  {
   "cell_type": "code",
   "execution_count": 25,
   "id": "169fc9fb",
   "metadata": {},
   "outputs": [
    {
     "data": {
      "text/html": [
       "<div>\n",
       "<style scoped>\n",
       "    .dataframe tbody tr th:only-of-type {\n",
       "        vertical-align: middle;\n",
       "    }\n",
       "\n",
       "    .dataframe tbody tr th {\n",
       "        vertical-align: top;\n",
       "    }\n",
       "\n",
       "    .dataframe thead th {\n",
       "        text-align: right;\n",
       "    }\n",
       "</style>\n",
       "<table border=\"1\" class=\"dataframe\">\n",
       "  <thead>\n",
       "    <tr style=\"text-align: right;\">\n",
       "      <th></th>\n",
       "      <th>месяц</th>\n",
       "      <th>регион</th>\n",
       "      <th>бренд</th>\n",
       "      <th>тип продукции</th>\n",
       "      <th>название</th>\n",
       "      <th>инн продавца</th>\n",
       "      <th>адрес магазина</th>\n",
       "      <th>вес упаковки</th>\n",
       "      <th>продажи</th>\n",
       "    </tr>\n",
       "  </thead>\n",
       "  <tbody>\n",
       "    <tr>\n",
       "      <th>0</th>\n",
       "      <td>2023-01-01</td>\n",
       "      <td>Москва</td>\n",
       "      <td>OVERDOSE</td>\n",
       "      <td>Кальян</td>\n",
       "      <td>Overdose Peach Iced Tea (Персиковый чай) 25гр.</td>\n",
       "      <td>7715441408</td>\n",
       "      <td>г Москва, ул Краснобогатырская, д 2 стр 2</td>\n",
       "      <td>25</td>\n",
       "      <td>9</td>\n",
       "    </tr>\n",
       "    <tr>\n",
       "      <th>1</th>\n",
       "      <td>2023-01-01</td>\n",
       "      <td>Московская область</td>\n",
       "      <td>OVERDOSE</td>\n",
       "      <td>Кальян</td>\n",
       "      <td>Overdose Peach Iced Tea (Персиковый чай) 25гр.</td>\n",
       "      <td>520601360011</td>\n",
       "      <td>Московская обл, г Королёв, ул Пионерская, д 3,...</td>\n",
       "      <td>25</td>\n",
       "      <td>3</td>\n",
       "    </tr>\n",
       "  </tbody>\n",
       "</table>\n",
       "</div>"
      ],
      "text/plain": [
       "       месяц              регион     бренд тип продукции  \\\n",
       "0 2023-01-01              Москва  OVERDOSE        Кальян   \n",
       "1 2023-01-01  Московская область  OVERDOSE        Кальян   \n",
       "\n",
       "                                          название  инн продавца  \\\n",
       "0   Overdose Peach Iced Tea (Персиковый чай) 25гр.    7715441408   \n",
       "1   Overdose Peach Iced Tea (Персиковый чай) 25гр.  520601360011   \n",
       "\n",
       "                                      адрес магазина вес упаковки  продажи  \n",
       "0          г Москва, ул Краснобогатырская, д 2 стр 2           25        9  \n",
       "1  Московская обл, г Королёв, ул Пионерская, д 3,...           25        3  "
      ]
     },
     "execution_count": 25,
     "metadata": {},
     "output_type": "execute_result"
    }
   ],
   "source": [
    "frame2.head(2)"
   ]
  },
  {
   "cell_type": "code",
   "execution_count": 38,
   "id": "e0146e0b",
   "metadata": {},
   "outputs": [],
   "source": [
    "shot_taste = pd.read_excel(r\"C:\\Users\\User\\Desktop\\Вкусы_шот.xlsx\")"
   ]
  },
  {
   "cell_type": "code",
   "execution_count": 39,
   "id": "b7d0f361",
   "metadata": {},
   "outputs": [
    {
     "data": {
      "text/html": [
       "<div>\n",
       "<style scoped>\n",
       "    .dataframe tbody tr th:only-of-type {\n",
       "        vertical-align: middle;\n",
       "    }\n",
       "\n",
       "    .dataframe tbody tr th {\n",
       "        vertical-align: top;\n",
       "    }\n",
       "\n",
       "    .dataframe thead th {\n",
       "        text-align: right;\n",
       "    }\n",
       "</style>\n",
       "<table border=\"1\" class=\"dataframe\">\n",
       "  <thead>\n",
       "    <tr style=\"text-align: right;\">\n",
       "      <th></th>\n",
       "      <th>это заменить</th>\n",
       "      <th>на это заменить</th>\n",
       "    </tr>\n",
       "  </thead>\n",
       "  <tbody>\n",
       "    <tr>\n",
       "      <th>0</th>\n",
       "      <td>\"Дарк Сайд\" Кор (Самбука Шот), 100 г</td>\n",
       "      <td>\"Дарксайд\" Кор (Самбука Шот)</td>\n",
       "    </tr>\n",
       "    <tr>\n",
       "      <th>1</th>\n",
       "      <td>\"Дарк Сайд\" Кор (Самбука Шот), 100 г</td>\n",
       "      <td>\"Дарксайд\" Кор (Самбука Шот)</td>\n",
       "    </tr>\n",
       "  </tbody>\n",
       "</table>\n",
       "</div>"
      ],
      "text/plain": [
       "                            это заменить               на это заменить\n",
       "0   \"Дарк Сайд\" Кор (Самбука Шот), 100 г  \"Дарксайд\" Кор (Самбука Шот)\n",
       "1   \"Дарк Сайд\" Кор (Самбука Шот), 100 г  \"Дарксайд\" Кор (Самбука Шот)"
      ]
     },
     "execution_count": 39,
     "metadata": {},
     "output_type": "execute_result"
    }
   ],
   "source": [
    "shot_taste.head(2)"
   ]
  },
  {
   "cell_type": "code",
   "execution_count": 43,
   "id": "71567d02",
   "metadata": {},
   "outputs": [],
   "source": [
    "shot = shot.merge(\n",
    "    shot_taste,\n",
    "    how=\"left\",\n",
    "    left_on=\"название\",\n",
    "    right_on='это заменить'\n",
    ")"
   ]
  },
  {
   "cell_type": "code",
   "execution_count": 48,
   "id": "e52402bb",
   "metadata": {},
   "outputs": [
    {
     "data": {
      "text/plain": [
       "Index(['месяц', 'регион', 'бренд', 'тип продукции', 'название', 'инн продавца',\n",
       "       'адрес магазина', 'вес упаковки', 'продажи', 'это заменить', 'Вкус'],\n",
       "      dtype='object')"
      ]
     },
     "execution_count": 48,
     "metadata": {},
     "output_type": "execute_result"
    }
   ],
   "source": [
    "shot.columns"
   ]
  },
  {
   "cell_type": "code",
   "execution_count": 47,
   "id": "201a172e",
   "metadata": {},
   "outputs": [],
   "source": [
    "shot.rename(\n",
    "    columns={'на это заменить':'Вкус'},\n",
    "    inplace=True\n",
    ")"
   ]
  },
  {
   "cell_type": "code",
   "execution_count": 51,
   "id": "b3120d30",
   "metadata": {},
   "outputs": [],
   "source": [
    "shot = shot[['месяц', 'регион', 'бренд', 'тип продукции', 'инн продавца',\n",
    "       'адрес магазина', 'вес упаковки', 'продажи', 'Вкус']]"
   ]
  },
  {
   "cell_type": "code",
   "execution_count": 54,
   "id": "86a2ea84",
   "metadata": {},
   "outputs": [
    {
     "data": {
      "text/html": [
       "<div>\n",
       "<style scoped>\n",
       "    .dataframe tbody tr th:only-of-type {\n",
       "        vertical-align: middle;\n",
       "    }\n",
       "\n",
       "    .dataframe tbody tr th {\n",
       "        vertical-align: top;\n",
       "    }\n",
       "\n",
       "    .dataframe thead th {\n",
       "        text-align: right;\n",
       "    }\n",
       "</style>\n",
       "<table border=\"1\" class=\"dataframe\">\n",
       "  <thead>\n",
       "    <tr style=\"text-align: right;\">\n",
       "      <th></th>\n",
       "      <th>месяц</th>\n",
       "      <th>регион</th>\n",
       "      <th>бренд</th>\n",
       "      <th>тип продукции</th>\n",
       "      <th>инн продавца</th>\n",
       "      <th>адрес магазина</th>\n",
       "      <th>вес упаковки</th>\n",
       "      <th>продажи</th>\n",
       "      <th>Вкус</th>\n",
       "    </tr>\n",
       "  </thead>\n",
       "  <tbody>\n",
       "    <tr>\n",
       "      <th>0</th>\n",
       "      <td>2023-01-01</td>\n",
       "      <td>Москва</td>\n",
       "      <td>DARKSIDE</td>\n",
       "      <td>Кальян</td>\n",
       "      <td>772088999553</td>\n",
       "      <td>г Москва, пр-кт Ленинградский, д 74А стр 1</td>\n",
       "      <td>100</td>\n",
       "      <td>1</td>\n",
       "      <td>\"Дарксайд\" Кор (Самбука Шот)</td>\n",
       "    </tr>\n",
       "    <tr>\n",
       "      <th>1</th>\n",
       "      <td>2023-01-01</td>\n",
       "      <td>Москва</td>\n",
       "      <td>DARKSIDE</td>\n",
       "      <td>Кальян</td>\n",
       "      <td>771873615145</td>\n",
       "      <td>г Москва, ул Люблинская, д 169 к 2</td>\n",
       "      <td>100</td>\n",
       "      <td>1</td>\n",
       "      <td>\"Дарксайд\" Кор (Самбука Шот)</td>\n",
       "    </tr>\n",
       "  </tbody>\n",
       "</table>\n",
       "</div>"
      ],
      "text/plain": [
       "       месяц  регион     бренд тип продукции  инн продавца  \\\n",
       "0 2023-01-01  Москва  DARKSIDE        Кальян  772088999553   \n",
       "1 2023-01-01  Москва  DARKSIDE        Кальян  771873615145   \n",
       "\n",
       "                               адрес магазина вес упаковки  продажи  \\\n",
       "0  г Москва, пр-кт Ленинградский, д 74А стр 1          100        1   \n",
       "1          г Москва, ул Люблинская, д 169 к 2          100        1   \n",
       "\n",
       "                           Вкус  \n",
       "0  \"Дарксайд\" Кор (Самбука Шот)  \n",
       "1  \"Дарксайд\" Кор (Самбука Шот)  "
      ]
     },
     "execution_count": 54,
     "metadata": {},
     "output_type": "execute_result"
    }
   ],
   "source": [
    "shot.head(2)"
   ]
  },
  {
   "cell_type": "code",
   "execution_count": 56,
   "id": "9690298b",
   "metadata": {},
   "outputs": [],
   "source": [
    "shot['вес'] = (shot['вес упаковки'].astype(int) * shot['продажи'].astype(int))/1000"
   ]
  },
  {
   "cell_type": "code",
   "execution_count": 57,
   "id": "6bf15e74",
   "metadata": {},
   "outputs": [
    {
     "data": {
      "text/html": [
       "<div>\n",
       "<style scoped>\n",
       "    .dataframe tbody tr th:only-of-type {\n",
       "        vertical-align: middle;\n",
       "    }\n",
       "\n",
       "    .dataframe tbody tr th {\n",
       "        vertical-align: top;\n",
       "    }\n",
       "\n",
       "    .dataframe thead th {\n",
       "        text-align: right;\n",
       "    }\n",
       "</style>\n",
       "<table border=\"1\" class=\"dataframe\">\n",
       "  <thead>\n",
       "    <tr style=\"text-align: right;\">\n",
       "      <th></th>\n",
       "      <th>месяц</th>\n",
       "      <th>регион</th>\n",
       "      <th>бренд</th>\n",
       "      <th>тип продукции</th>\n",
       "      <th>инн продавца</th>\n",
       "      <th>адрес магазина</th>\n",
       "      <th>вес упаковки</th>\n",
       "      <th>продажи</th>\n",
       "      <th>Вкус</th>\n",
       "      <th>вес</th>\n",
       "    </tr>\n",
       "  </thead>\n",
       "  <tbody>\n",
       "    <tr>\n",
       "      <th>0</th>\n",
       "      <td>2023-01-01</td>\n",
       "      <td>Москва</td>\n",
       "      <td>DARKSIDE</td>\n",
       "      <td>Кальян</td>\n",
       "      <td>772088999553</td>\n",
       "      <td>г Москва, пр-кт Ленинградский, д 74А стр 1</td>\n",
       "      <td>100</td>\n",
       "      <td>1</td>\n",
       "      <td>\"Дарксайд\" Кор (Самбука Шот)</td>\n",
       "      <td>0.1</td>\n",
       "    </tr>\n",
       "    <tr>\n",
       "      <th>1</th>\n",
       "      <td>2023-01-01</td>\n",
       "      <td>Москва</td>\n",
       "      <td>DARKSIDE</td>\n",
       "      <td>Кальян</td>\n",
       "      <td>771873615145</td>\n",
       "      <td>г Москва, ул Люблинская, д 169 к 2</td>\n",
       "      <td>100</td>\n",
       "      <td>1</td>\n",
       "      <td>\"Дарксайд\" Кор (Самбука Шот)</td>\n",
       "      <td>0.1</td>\n",
       "    </tr>\n",
       "  </tbody>\n",
       "</table>\n",
       "</div>"
      ],
      "text/plain": [
       "       месяц  регион     бренд тип продукции  инн продавца  \\\n",
       "0 2023-01-01  Москва  DARKSIDE        Кальян  772088999553   \n",
       "1 2023-01-01  Москва  DARKSIDE        Кальян  771873615145   \n",
       "\n",
       "                               адрес магазина вес упаковки  продажи  \\\n",
       "0  г Москва, пр-кт Ленинградский, д 74А стр 1          100        1   \n",
       "1          г Москва, ул Люблинская, д 169 к 2          100        1   \n",
       "\n",
       "                           Вкус  вес  \n",
       "0  \"Дарксайд\" Кор (Самбука Шот)  0.1  \n",
       "1  \"Дарксайд\" Кор (Самбука Шот)  0.1  "
      ]
     },
     "execution_count": 57,
     "metadata": {},
     "output_type": "execute_result"
    }
   ],
   "source": [
    "shot.head(2)"
   ]
  },
  {
   "cell_type": "code",
   "execution_count": 66,
   "id": "1a11e602",
   "metadata": {},
   "outputs": [],
   "source": [
    "shot.groupby(\n",
    "    'Вкус'\n",
    ")['вес'].sum().reset_index().sort_values(by='вес',ascending=False).to_excel(r\"C:\\Users\\User\\Desktop\\shot_taste_with_weight.xlsx\", index=False)"
   ]
  },
  {
   "cell_type": "code",
   "execution_count": null,
   "id": "3713502a",
   "metadata": {},
   "outputs": [],
   "source": []
  }
 ],
 "metadata": {
  "kernelspec": {
   "display_name": "Python 3 (ipykernel)",
   "language": "python",
   "name": "python3"
  },
  "language_info": {
   "codemirror_mode": {
    "name": "ipython",
    "version": 3
   },
   "file_extension": ".py",
   "mimetype": "text/x-python",
   "name": "python",
   "nbconvert_exporter": "python",
   "pygments_lexer": "ipython3",
   "version": "3.10.11"
  }
 },
 "nbformat": 4,
 "nbformat_minor": 5
}
