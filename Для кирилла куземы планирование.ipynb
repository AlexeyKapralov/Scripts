{
 "cells": [
  {
   "cell_type": "markdown",
   "metadata": {},
   "source": [
    "## создание сводных для кажого бренда и фасовки, нужно сделать вычисления в этой таблице и соединить их вместе"
   ]
  },
  {
   "cell_type": "code",
   "execution_count": 1,
   "metadata": {},
   "outputs": [],
   "source": [
    "import pandas as pd"
   ]
  },
  {
   "cell_type": "markdown",
   "metadata": {},
   "source": [
    "### Объемы"
   ]
  },
  {
   "cell_type": "code",
   "execution_count": 111,
   "metadata": {},
   "outputs": [],
   "source": [
    "brands = [\n",
    "    'BlackBurn',\n",
    "    'Burn',\n",
    "    'B3',\n",
    "    'Banger',\n",
    "    'PeterRalf',\n",
    "    'Overdose'\n",
    "]"
   ]
  },
  {
   "cell_type": "code",
   "execution_count": 91,
   "metadata": {},
   "outputs": [],
   "source": [
    "BB = 50000"
   ]
  },
  {
   "cell_type": "code",
   "execution_count": 92,
   "metadata": {},
   "outputs": [],
   "source": [
    "B = 2350"
   ]
  },
  {
   "cell_type": "code",
   "execution_count": 93,
   "metadata": {},
   "outputs": [],
   "source": [
    "B3 = 327"
   ]
  },
  {
   "cell_type": "code",
   "execution_count": 94,
   "metadata": {},
   "outputs": [],
   "source": [
    "BNG = 3450"
   ]
  },
  {
   "cell_type": "code",
   "execution_count": 95,
   "metadata": {},
   "outputs": [],
   "source": [
    "PR = 80"
   ]
  },
  {
   "cell_type": "code",
   "execution_count": 96,
   "metadata": {},
   "outputs": [],
   "source": [
    "OVD = 7650"
   ]
  },
  {
   "cell_type": "code",
   "execution_count": null,
   "metadata": {},
   "outputs": [],
   "source": []
  },
  {
   "cell_type": "code",
   "execution_count": null,
   "metadata": {},
   "outputs": [],
   "source": []
  },
  {
   "cell_type": "markdown",
   "metadata": {},
   "source": [
    "### Вычисление доли фасовок"
   ]
  },
  {
   "cell_type": "code",
   "execution_count": 213,
   "metadata": {},
   "outputs": [],
   "source": [
    "df = pd.read_excel(r\"D:\\Analysis Burn\\Кирилл Кузема\\Планирование июль 23_подготовка.xlsx\", sheet_name='Исходные данные')"
   ]
  },
  {
   "cell_type": "code",
   "execution_count": 133,
   "metadata": {},
   "outputs": [],
   "source": [
    "for i in brands:\n",
    "    exec(f\"{i} = df.loc[df['Тип'] == '{i}'].groupby( \\\n",
    "        by=['Вес (гр)'] \\\n",
    "    )['Кг'].sum().reset_index()\" )\n",
    "\n",
    "    exec(f\"{i}['доля'] = {i}['Кг'] / {i}['Кг'].sum() \")\n"
   ]
  },
  {
   "cell_type": "markdown",
   "metadata": {},
   "source": [
    "### создание таблиц для каждого бренда каждой фасовки"
   ]
  },
  {
   "cell_type": "code",
   "execution_count": 176,
   "metadata": {},
   "outputs": [
    {
     "data": {
      "text/html": [
       "<div>\n",
       "<style scoped>\n",
       "    .dataframe tbody tr th:only-of-type {\n",
       "        vertical-align: middle;\n",
       "    }\n",
       "\n",
       "    .dataframe tbody tr th {\n",
       "        vertical-align: top;\n",
       "    }\n",
       "\n",
       "    .dataframe thead th {\n",
       "        text-align: right;\n",
       "    }\n",
       "</style>\n",
       "<table border=\"1\" class=\"dataframe\">\n",
       "  <thead>\n",
       "    <tr style=\"text-align: right;\">\n",
       "      <th></th>\n",
       "      <th>Вес (гр)</th>\n",
       "      <th>Кг</th>\n",
       "      <th>доля</th>\n",
       "    </tr>\n",
       "  </thead>\n",
       "  <tbody>\n",
       "    <tr>\n",
       "      <th>0</th>\n",
       "      <td>25</td>\n",
       "      <td>205489.34</td>\n",
       "      <td>0.320831</td>\n",
       "    </tr>\n",
       "    <tr>\n",
       "      <th>1</th>\n",
       "      <td>100</td>\n",
       "      <td>99551.30</td>\n",
       "      <td>0.155430</td>\n",
       "    </tr>\n",
       "    <tr>\n",
       "      <th>2</th>\n",
       "      <td>200</td>\n",
       "      <td>335451.00</td>\n",
       "      <td>0.523740</td>\n",
       "    </tr>\n",
       "  </tbody>\n",
       "</table>\n",
       "</div>"
      ],
      "text/plain": [
       "   Вес (гр)         Кг      доля\n",
       "0        25  205489.34  0.320831\n",
       "1       100   99551.30  0.155430\n",
       "2       200  335451.00  0.523740"
      ]
     },
     "execution_count": 176,
     "metadata": {},
     "output_type": "execute_result"
    }
   ],
   "source": [
    "bb"
   ]
  },
  {
   "cell_type": "code",
   "execution_count": 195,
   "metadata": {},
   "outputs": [],
   "source": [
    "brands = ['BlackBurn', 'Burn', 'B3', 'Banger', 'PeterRalf', 'Overdose']"
   ]
  },
  {
   "cell_type": "code",
   "execution_count": 194,
   "metadata": {},
   "outputs": [],
   "source": [
    "brands_dict = {\n",
    "    'BlackBurn' : BlackBurn, \n",
    "    'Burn' : Burn,\n",
    "    'B3' : B3, \n",
    "    'Banger' : Banger,\n",
    "    'PeterRalf': PeterRalf, \n",
    "    'Overdose': Overdose\n",
    "}"
   ]
  },
  {
   "cell_type": "code",
   "execution_count": 190,
   "metadata": {},
   "outputs": [
    {
     "data": {
      "text/html": [
       "<div>\n",
       "<style scoped>\n",
       "    .dataframe tbody tr th:only-of-type {\n",
       "        vertical-align: middle;\n",
       "    }\n",
       "\n",
       "    .dataframe tbody tr th {\n",
       "        vertical-align: top;\n",
       "    }\n",
       "\n",
       "    .dataframe thead th {\n",
       "        text-align: right;\n",
       "    }\n",
       "</style>\n",
       "<table border=\"1\" class=\"dataframe\">\n",
       "  <thead>\n",
       "    <tr style=\"text-align: right;\">\n",
       "      <th></th>\n",
       "      <th>Вес (гр)</th>\n",
       "      <th>Кг</th>\n",
       "      <th>доля</th>\n",
       "    </tr>\n",
       "  </thead>\n",
       "  <tbody>\n",
       "    <tr>\n",
       "      <th>0</th>\n",
       "      <td>25</td>\n",
       "      <td>205489.34</td>\n",
       "      <td>0.320831</td>\n",
       "    </tr>\n",
       "    <tr>\n",
       "      <th>1</th>\n",
       "      <td>100</td>\n",
       "      <td>99551.30</td>\n",
       "      <td>0.155430</td>\n",
       "    </tr>\n",
       "    <tr>\n",
       "      <th>2</th>\n",
       "      <td>200</td>\n",
       "      <td>335451.00</td>\n",
       "      <td>0.523740</td>\n",
       "    </tr>\n",
       "  </tbody>\n",
       "</table>\n",
       "</div>"
      ],
      "text/plain": [
       "   Вес (гр)         Кг      доля\n",
       "0        25  205489.34  0.320831\n",
       "1       100   99551.30  0.155430\n",
       "2       200  335451.00  0.523740"
      ]
     },
     "execution_count": 190,
     "metadata": {},
     "output_type": "execute_result"
    }
   ],
   "source": [
    "BlackBurn"
   ]
  },
  {
   "cell_type": "code",
   "execution_count": 235,
   "metadata": {},
   "outputs": [],
   "source": [
    "a = {}\n",
    "a[\"a\"] = BlackBurn"
   ]
  },
  {
   "cell_type": "code",
   "execution_count": 237,
   "metadata": {},
   "outputs": [],
   "source": [
    "dfs = {}\n",
    "for brand in brands:\n",
    "   data = brands_dict[brand]\n",
    "   for idx, row in data.iterrows():\n",
    "      need_row = int(row['Вес (гр)'])\n",
    "      dfs[f\"{brand}_{str(need_row)}\"] = df.loc[(df['Тип'] == brand) & (df['Вес (гр)'] == need_row)]\n",
    "      \n",
    "\n",
    "\n",
    "   "
   ]
  },
  {
   "cell_type": "markdown",
   "metadata": {},
   "source": [
    "### Создание таблицы с планированием"
   ]
  },
  {
   "cell_type": "code",
   "execution_count": 251,
   "metadata": {},
   "outputs": [
    {
     "name": "stderr",
     "output_type": "stream",
     "text": [
      "C:\\Users\\alewk\\AppData\\Local\\Temp\\ipykernel_18796\\4086523754.py:4: SettingWithCopyWarning: \n",
      "A value is trying to be set on a copy of a slice from a DataFrame.\n",
      "Try using .loc[row_indexer,col_indexer] = value instead\n",
      "\n",
      "See the caveats in the documentation: https://pandas.pydata.org/pandas-docs/stable/user_guide/indexing.html#returning-a-view-versus-a-copy\n",
      "  dfs.get(data)['year'] = dfs.get(data)['Месяц'].dt.year\n",
      "C:\\Users\\alewk\\AppData\\Local\\Temp\\ipykernel_18796\\4086523754.py:5: SettingWithCopyWarning: \n",
      "A value is trying to be set on a copy of a slice from a DataFrame.\n",
      "Try using .loc[row_indexer,col_indexer] = value instead\n",
      "\n",
      "See the caveats in the documentation: https://pandas.pydata.org/pandas-docs/stable/user_guide/indexing.html#returning-a-view-versus-a-copy\n",
      "  dfs.get(data)['month'] = dfs.get(data)['Месяц'].dt.month\n",
      "C:\\Users\\alewk\\AppData\\Local\\Temp\\ipykernel_18796\\4086523754.py:4: SettingWithCopyWarning: \n",
      "A value is trying to be set on a copy of a slice from a DataFrame.\n",
      "Try using .loc[row_indexer,col_indexer] = value instead\n",
      "\n",
      "See the caveats in the documentation: https://pandas.pydata.org/pandas-docs/stable/user_guide/indexing.html#returning-a-view-versus-a-copy\n",
      "  dfs.get(data)['year'] = dfs.get(data)['Месяц'].dt.year\n",
      "C:\\Users\\alewk\\AppData\\Local\\Temp\\ipykernel_18796\\4086523754.py:5: SettingWithCopyWarning: \n",
      "A value is trying to be set on a copy of a slice from a DataFrame.\n",
      "Try using .loc[row_indexer,col_indexer] = value instead\n",
      "\n",
      "See the caveats in the documentation: https://pandas.pydata.org/pandas-docs/stable/user_guide/indexing.html#returning-a-view-versus-a-copy\n",
      "  dfs.get(data)['month'] = dfs.get(data)['Месяц'].dt.month\n",
      "C:\\Users\\alewk\\AppData\\Local\\Temp\\ipykernel_18796\\4086523754.py:4: SettingWithCopyWarning: \n",
      "A value is trying to be set on a copy of a slice from a DataFrame.\n",
      "Try using .loc[row_indexer,col_indexer] = value instead\n",
      "\n",
      "See the caveats in the documentation: https://pandas.pydata.org/pandas-docs/stable/user_guide/indexing.html#returning-a-view-versus-a-copy\n",
      "  dfs.get(data)['year'] = dfs.get(data)['Месяц'].dt.year\n",
      "C:\\Users\\alewk\\AppData\\Local\\Temp\\ipykernel_18796\\4086523754.py:5: SettingWithCopyWarning: \n",
      "A value is trying to be set on a copy of a slice from a DataFrame.\n",
      "Try using .loc[row_indexer,col_indexer] = value instead\n",
      "\n",
      "See the caveats in the documentation: https://pandas.pydata.org/pandas-docs/stable/user_guide/indexing.html#returning-a-view-versus-a-copy\n",
      "  dfs.get(data)['month'] = dfs.get(data)['Месяц'].dt.month\n",
      "C:\\Users\\alewk\\AppData\\Local\\Temp\\ipykernel_18796\\4086523754.py:4: SettingWithCopyWarning: \n",
      "A value is trying to be set on a copy of a slice from a DataFrame.\n",
      "Try using .loc[row_indexer,col_indexer] = value instead\n",
      "\n",
      "See the caveats in the documentation: https://pandas.pydata.org/pandas-docs/stable/user_guide/indexing.html#returning-a-view-versus-a-copy\n",
      "  dfs.get(data)['year'] = dfs.get(data)['Месяц'].dt.year\n",
      "C:\\Users\\alewk\\AppData\\Local\\Temp\\ipykernel_18796\\4086523754.py:5: SettingWithCopyWarning: \n",
      "A value is trying to be set on a copy of a slice from a DataFrame.\n",
      "Try using .loc[row_indexer,col_indexer] = value instead\n",
      "\n",
      "See the caveats in the documentation: https://pandas.pydata.org/pandas-docs/stable/user_guide/indexing.html#returning-a-view-versus-a-copy\n",
      "  dfs.get(data)['month'] = dfs.get(data)['Месяц'].dt.month\n",
      "C:\\Users\\alewk\\AppData\\Local\\Temp\\ipykernel_18796\\4086523754.py:4: SettingWithCopyWarning: \n",
      "A value is trying to be set on a copy of a slice from a DataFrame.\n",
      "Try using .loc[row_indexer,col_indexer] = value instead\n",
      "\n",
      "See the caveats in the documentation: https://pandas.pydata.org/pandas-docs/stable/user_guide/indexing.html#returning-a-view-versus-a-copy\n",
      "  dfs.get(data)['year'] = dfs.get(data)['Месяц'].dt.year\n",
      "C:\\Users\\alewk\\AppData\\Local\\Temp\\ipykernel_18796\\4086523754.py:5: SettingWithCopyWarning: \n",
      "A value is trying to be set on a copy of a slice from a DataFrame.\n",
      "Try using .loc[row_indexer,col_indexer] = value instead\n",
      "\n",
      "See the caveats in the documentation: https://pandas.pydata.org/pandas-docs/stable/user_guide/indexing.html#returning-a-view-versus-a-copy\n",
      "  dfs.get(data)['month'] = dfs.get(data)['Месяц'].dt.month\n",
      "C:\\Users\\alewk\\AppData\\Local\\Temp\\ipykernel_18796\\4086523754.py:4: SettingWithCopyWarning: \n",
      "A value is trying to be set on a copy of a slice from a DataFrame.\n",
      "Try using .loc[row_indexer,col_indexer] = value instead\n",
      "\n",
      "See the caveats in the documentation: https://pandas.pydata.org/pandas-docs/stable/user_guide/indexing.html#returning-a-view-versus-a-copy\n",
      "  dfs.get(data)['year'] = dfs.get(data)['Месяц'].dt.year\n",
      "C:\\Users\\alewk\\AppData\\Local\\Temp\\ipykernel_18796\\4086523754.py:5: SettingWithCopyWarning: \n",
      "A value is trying to be set on a copy of a slice from a DataFrame.\n",
      "Try using .loc[row_indexer,col_indexer] = value instead\n",
      "\n",
      "See the caveats in the documentation: https://pandas.pydata.org/pandas-docs/stable/user_guide/indexing.html#returning-a-view-versus-a-copy\n",
      "  dfs.get(data)['month'] = dfs.get(data)['Месяц'].dt.month\n",
      "C:\\Users\\alewk\\AppData\\Local\\Temp\\ipykernel_18796\\4086523754.py:4: SettingWithCopyWarning: \n",
      "A value is trying to be set on a copy of a slice from a DataFrame.\n",
      "Try using .loc[row_indexer,col_indexer] = value instead\n",
      "\n",
      "See the caveats in the documentation: https://pandas.pydata.org/pandas-docs/stable/user_guide/indexing.html#returning-a-view-versus-a-copy\n",
      "  dfs.get(data)['year'] = dfs.get(data)['Месяц'].dt.year\n",
      "C:\\Users\\alewk\\AppData\\Local\\Temp\\ipykernel_18796\\4086523754.py:5: SettingWithCopyWarning: \n",
      "A value is trying to be set on a copy of a slice from a DataFrame.\n",
      "Try using .loc[row_indexer,col_indexer] = value instead\n",
      "\n",
      "See the caveats in the documentation: https://pandas.pydata.org/pandas-docs/stable/user_guide/indexing.html#returning-a-view-versus-a-copy\n",
      "  dfs.get(data)['month'] = dfs.get(data)['Месяц'].dt.month\n",
      "C:\\Users\\alewk\\AppData\\Local\\Temp\\ipykernel_18796\\4086523754.py:4: SettingWithCopyWarning: \n",
      "A value is trying to be set on a copy of a slice from a DataFrame.\n",
      "Try using .loc[row_indexer,col_indexer] = value instead\n",
      "\n",
      "See the caveats in the documentation: https://pandas.pydata.org/pandas-docs/stable/user_guide/indexing.html#returning-a-view-versus-a-copy\n",
      "  dfs.get(data)['year'] = dfs.get(data)['Месяц'].dt.year\n",
      "C:\\Users\\alewk\\AppData\\Local\\Temp\\ipykernel_18796\\4086523754.py:5: SettingWithCopyWarning: \n",
      "A value is trying to be set on a copy of a slice from a DataFrame.\n",
      "Try using .loc[row_indexer,col_indexer] = value instead\n",
      "\n",
      "See the caveats in the documentation: https://pandas.pydata.org/pandas-docs/stable/user_guide/indexing.html#returning-a-view-versus-a-copy\n",
      "  dfs.get(data)['month'] = dfs.get(data)['Месяц'].dt.month\n",
      "C:\\Users\\alewk\\AppData\\Local\\Temp\\ipykernel_18796\\4086523754.py:4: SettingWithCopyWarning: \n",
      "A value is trying to be set on a copy of a slice from a DataFrame.\n",
      "Try using .loc[row_indexer,col_indexer] = value instead\n",
      "\n",
      "See the caveats in the documentation: https://pandas.pydata.org/pandas-docs/stable/user_guide/indexing.html#returning-a-view-versus-a-copy\n",
      "  dfs.get(data)['year'] = dfs.get(data)['Месяц'].dt.year\n",
      "C:\\Users\\alewk\\AppData\\Local\\Temp\\ipykernel_18796\\4086523754.py:5: SettingWithCopyWarning: \n",
      "A value is trying to be set on a copy of a slice from a DataFrame.\n",
      "Try using .loc[row_indexer,col_indexer] = value instead\n",
      "\n",
      "See the caveats in the documentation: https://pandas.pydata.org/pandas-docs/stable/user_guide/indexing.html#returning-a-view-versus-a-copy\n",
      "  dfs.get(data)['month'] = dfs.get(data)['Месяц'].dt.month\n",
      "C:\\Users\\alewk\\AppData\\Local\\Temp\\ipykernel_18796\\4086523754.py:4: SettingWithCopyWarning: \n",
      "A value is trying to be set on a copy of a slice from a DataFrame.\n",
      "Try using .loc[row_indexer,col_indexer] = value instead\n",
      "\n",
      "See the caveats in the documentation: https://pandas.pydata.org/pandas-docs/stable/user_guide/indexing.html#returning-a-view-versus-a-copy\n",
      "  dfs.get(data)['year'] = dfs.get(data)['Месяц'].dt.year\n",
      "C:\\Users\\alewk\\AppData\\Local\\Temp\\ipykernel_18796\\4086523754.py:5: SettingWithCopyWarning: \n",
      "A value is trying to be set on a copy of a slice from a DataFrame.\n",
      "Try using .loc[row_indexer,col_indexer] = value instead\n",
      "\n",
      "See the caveats in the documentation: https://pandas.pydata.org/pandas-docs/stable/user_guide/indexing.html#returning-a-view-versus-a-copy\n",
      "  dfs.get(data)['month'] = dfs.get(data)['Месяц'].dt.month\n",
      "C:\\Users\\alewk\\AppData\\Local\\Temp\\ipykernel_18796\\4086523754.py:4: SettingWithCopyWarning: \n",
      "A value is trying to be set on a copy of a slice from a DataFrame.\n",
      "Try using .loc[row_indexer,col_indexer] = value instead\n",
      "\n",
      "See the caveats in the documentation: https://pandas.pydata.org/pandas-docs/stable/user_guide/indexing.html#returning-a-view-versus-a-copy\n",
      "  dfs.get(data)['year'] = dfs.get(data)['Месяц'].dt.year\n",
      "C:\\Users\\alewk\\AppData\\Local\\Temp\\ipykernel_18796\\4086523754.py:5: SettingWithCopyWarning: \n",
      "A value is trying to be set on a copy of a slice from a DataFrame.\n",
      "Try using .loc[row_indexer,col_indexer] = value instead\n",
      "\n",
      "See the caveats in the documentation: https://pandas.pydata.org/pandas-docs/stable/user_guide/indexing.html#returning-a-view-versus-a-copy\n",
      "  dfs.get(data)['month'] = dfs.get(data)['Месяц'].dt.month\n",
      "C:\\Users\\alewk\\AppData\\Local\\Temp\\ipykernel_18796\\4086523754.py:4: SettingWithCopyWarning: \n",
      "A value is trying to be set on a copy of a slice from a DataFrame.\n",
      "Try using .loc[row_indexer,col_indexer] = value instead\n",
      "\n",
      "See the caveats in the documentation: https://pandas.pydata.org/pandas-docs/stable/user_guide/indexing.html#returning-a-view-versus-a-copy\n",
      "  dfs.get(data)['year'] = dfs.get(data)['Месяц'].dt.year\n",
      "C:\\Users\\alewk\\AppData\\Local\\Temp\\ipykernel_18796\\4086523754.py:5: SettingWithCopyWarning: \n",
      "A value is trying to be set on a copy of a slice from a DataFrame.\n",
      "Try using .loc[row_indexer,col_indexer] = value instead\n",
      "\n",
      "See the caveats in the documentation: https://pandas.pydata.org/pandas-docs/stable/user_guide/indexing.html#returning-a-view-versus-a-copy\n",
      "  dfs.get(data)['month'] = dfs.get(data)['Месяц'].dt.month\n",
      "C:\\Users\\alewk\\AppData\\Local\\Temp\\ipykernel_18796\\4086523754.py:4: SettingWithCopyWarning: \n",
      "A value is trying to be set on a copy of a slice from a DataFrame.\n",
      "Try using .loc[row_indexer,col_indexer] = value instead\n",
      "\n",
      "See the caveats in the documentation: https://pandas.pydata.org/pandas-docs/stable/user_guide/indexing.html#returning-a-view-versus-a-copy\n",
      "  dfs.get(data)['year'] = dfs.get(data)['Месяц'].dt.year\n",
      "C:\\Users\\alewk\\AppData\\Local\\Temp\\ipykernel_18796\\4086523754.py:5: SettingWithCopyWarning: \n",
      "A value is trying to be set on a copy of a slice from a DataFrame.\n",
      "Try using .loc[row_indexer,col_indexer] = value instead\n",
      "\n",
      "See the caveats in the documentation: https://pandas.pydata.org/pandas-docs/stable/user_guide/indexing.html#returning-a-view-versus-a-copy\n",
      "  dfs.get(data)['month'] = dfs.get(data)['Месяц'].dt.month\n",
      "C:\\Users\\alewk\\AppData\\Local\\Temp\\ipykernel_18796\\4086523754.py:4: SettingWithCopyWarning: \n",
      "A value is trying to be set on a copy of a slice from a DataFrame.\n",
      "Try using .loc[row_indexer,col_indexer] = value instead\n",
      "\n",
      "See the caveats in the documentation: https://pandas.pydata.org/pandas-docs/stable/user_guide/indexing.html#returning-a-view-versus-a-copy\n",
      "  dfs.get(data)['year'] = dfs.get(data)['Месяц'].dt.year\n",
      "C:\\Users\\alewk\\AppData\\Local\\Temp\\ipykernel_18796\\4086523754.py:5: SettingWithCopyWarning: \n",
      "A value is trying to be set on a copy of a slice from a DataFrame.\n",
      "Try using .loc[row_indexer,col_indexer] = value instead\n",
      "\n",
      "See the caveats in the documentation: https://pandas.pydata.org/pandas-docs/stable/user_guide/indexing.html#returning-a-view-versus-a-copy\n",
      "  dfs.get(data)['month'] = dfs.get(data)['Месяц'].dt.month\n",
      "C:\\Users\\alewk\\AppData\\Local\\Temp\\ipykernel_18796\\4086523754.py:4: SettingWithCopyWarning: \n",
      "A value is trying to be set on a copy of a slice from a DataFrame.\n",
      "Try using .loc[row_indexer,col_indexer] = value instead\n",
      "\n",
      "See the caveats in the documentation: https://pandas.pydata.org/pandas-docs/stable/user_guide/indexing.html#returning-a-view-versus-a-copy\n",
      "  dfs.get(data)['year'] = dfs.get(data)['Месяц'].dt.year\n",
      "C:\\Users\\alewk\\AppData\\Local\\Temp\\ipykernel_18796\\4086523754.py:5: SettingWithCopyWarning: \n",
      "A value is trying to be set on a copy of a slice from a DataFrame.\n",
      "Try using .loc[row_indexer,col_indexer] = value instead\n",
      "\n",
      "See the caveats in the documentation: https://pandas.pydata.org/pandas-docs/stable/user_guide/indexing.html#returning-a-view-versus-a-copy\n",
      "  dfs.get(data)['month'] = dfs.get(data)['Месяц'].dt.month\n"
     ]
    }
   ],
   "source": [
    "pivot_tables = {}\n",
    "\n",
    "for data in dfs:\n",
    "    dfs.get(data)['year'] = dfs.get(data)['Месяц'].dt.year\n",
    "    dfs.get(data)['month'] = dfs.get(data)['Месяц'].dt.month\n",
    "\n",
    "    pivot_tables[data] = dfs.get(data).pivot_table(\n",
    "        values=['Кг'],\n",
    "        index=['Тип','Товар\\вкус'],\n",
    "        columns=['year', 'month'], \n",
    "        aggfunc=\"sum\"\n",
    "    ).round().reset_index()"
   ]
  }
 ],
 "metadata": {
  "kernelspec": {
   "display_name": "data_analytics",
   "language": "python",
   "name": "python3"
  },
  "language_info": {
   "codemirror_mode": {
    "name": "ipython",
    "version": 3
   },
   "file_extension": ".py",
   "mimetype": "text/x-python",
   "name": "python",
   "nbconvert_exporter": "python",
   "pygments_lexer": "ipython3",
   "version": "3.11.2"
  },
  "orig_nbformat": 4
 },
 "nbformat": 4,
 "nbformat_minor": 2
}
