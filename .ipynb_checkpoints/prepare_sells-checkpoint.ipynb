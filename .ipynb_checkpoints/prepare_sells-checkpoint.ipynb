{
 "cells": [
  {
   "cell_type": "code",
   "execution_count": 1,
   "id": "93d2dde1",
   "metadata": {},
   "outputs": [],
   "source": [
    "import pandas as pd"
   ]
  },
  {
   "cell_type": "code",
   "execution_count": 26,
   "id": "11ddae94",
   "metadata": {},
   "outputs": [],
   "source": [
    "osh = pd.read_excel(r\"D:\\Analysis Burn\\Дистрибьютеры отчетность\\Source\\Отчеты\\Москва OSHISHA\\2023\\Свод по контрактам май итог 23.xlsx\")"
   ]
  },
  {
   "cell_type": "code",
   "execution_count": 27,
   "id": "5e3c0ea5",
   "metadata": {},
   "outputs": [],
   "source": [
    "osh.columns = osh.columns.str.strip()\n",
    "osh.columns = osh.columns.str.lower()"
   ]
  },
  {
   "cell_type": "code",
   "execution_count": 31,
   "id": "b3b2b26b",
   "metadata": {},
   "outputs": [],
   "source": [
    "osh['заказ клиента / реализация.дата отгрузки'] = pd.to_datetime(osh['заказ клиента / реализация.дата отгрузки'], dayfirst=True)"
   ]
  },
  {
   "cell_type": "code",
   "execution_count": 11,
   "id": "bdc6e1f2",
   "metadata": {},
   "outputs": [],
   "source": [
    "osh = osh.iloc[:-1, :]"
   ]
  },
  {
   "cell_type": "code",
   "execution_count": 37,
   "id": "1ffcff40",
   "metadata": {
    "collapsed": true
   },
   "outputs": [
    {
     "ename": "KeyError",
     "evalue": "\"['родитель', 'бизнес-регион'] not found in axis\"",
     "output_type": "error",
     "traceback": [
      "\u001b[1;31m---------------------------------------------------------------------------\u001b[0m",
      "\u001b[1;31mKeyError\u001b[0m                                  Traceback (most recent call last)",
      "Cell \u001b[1;32mIn[37], line 1\u001b[0m\n\u001b[1;32m----> 1\u001b[0m osh \u001b[38;5;241m=\u001b[39m \u001b[43mosh\u001b[49m\u001b[38;5;241;43m.\u001b[39;49m\u001b[43mdrop\u001b[49m\u001b[43m(\u001b[49m\u001b[43mcolumns\u001b[49m\u001b[38;5;241;43m=\u001b[39;49m\u001b[43m{\u001b[49m\u001b[38;5;124;43m\"\u001b[39;49m\u001b[38;5;124;43mродитель\u001b[39;49m\u001b[38;5;124;43m\"\u001b[39;49m\u001b[43m,\u001b[49m\u001b[43m \u001b[49m\u001b[38;5;124;43m\"\u001b[39;49m\u001b[38;5;124;43mбизнес-регион\u001b[39;49m\u001b[38;5;124;43m\"\u001b[39;49m\u001b[43m,\u001b[49m\u001b[43m \u001b[49m\u001b[38;5;124;43m\"\u001b[39;49m\u001b[38;5;124;43mгруппа клиентов (клиенты)\u001b[39;49m\u001b[38;5;124;43m\"\u001b[39;49m\u001b[43m}\u001b[49m\u001b[43m)\u001b[49m\n",
      "File \u001b[1;32mC:\\ProgramData\\anaconda3\\envs\\analytics\\lib\\site-packages\\pandas\\util\\_decorators.py:331\u001b[0m, in \u001b[0;36mdeprecate_nonkeyword_arguments.<locals>.decorate.<locals>.wrapper\u001b[1;34m(*args, **kwargs)\u001b[0m\n\u001b[0;32m    325\u001b[0m \u001b[38;5;28;01mif\u001b[39;00m \u001b[38;5;28mlen\u001b[39m(args) \u001b[38;5;241m>\u001b[39m num_allow_args:\n\u001b[0;32m    326\u001b[0m     warnings\u001b[38;5;241m.\u001b[39mwarn(\n\u001b[0;32m    327\u001b[0m         msg\u001b[38;5;241m.\u001b[39mformat(arguments\u001b[38;5;241m=\u001b[39m_format_argument_list(allow_args)),\n\u001b[0;32m    328\u001b[0m         \u001b[38;5;167;01mFutureWarning\u001b[39;00m,\n\u001b[0;32m    329\u001b[0m         stacklevel\u001b[38;5;241m=\u001b[39mfind_stack_level(),\n\u001b[0;32m    330\u001b[0m     )\n\u001b[1;32m--> 331\u001b[0m \u001b[38;5;28;01mreturn\u001b[39;00m func(\u001b[38;5;241m*\u001b[39margs, \u001b[38;5;241m*\u001b[39m\u001b[38;5;241m*\u001b[39mkwargs)\n",
      "File \u001b[1;32mC:\\ProgramData\\anaconda3\\envs\\analytics\\lib\\site-packages\\pandas\\core\\frame.py:5399\u001b[0m, in \u001b[0;36mDataFrame.drop\u001b[1;34m(self, labels, axis, index, columns, level, inplace, errors)\u001b[0m\n\u001b[0;32m   5251\u001b[0m \u001b[38;5;129m@deprecate_nonkeyword_arguments\u001b[39m(version\u001b[38;5;241m=\u001b[39m\u001b[38;5;28;01mNone\u001b[39;00m, allowed_args\u001b[38;5;241m=\u001b[39m[\u001b[38;5;124m\"\u001b[39m\u001b[38;5;124mself\u001b[39m\u001b[38;5;124m\"\u001b[39m, \u001b[38;5;124m\"\u001b[39m\u001b[38;5;124mlabels\u001b[39m\u001b[38;5;124m\"\u001b[39m])\n\u001b[0;32m   5252\u001b[0m \u001b[38;5;28;01mdef\u001b[39;00m \u001b[38;5;21mdrop\u001b[39m(  \u001b[38;5;66;03m# type: ignore[override]\u001b[39;00m\n\u001b[0;32m   5253\u001b[0m     \u001b[38;5;28mself\u001b[39m,\n\u001b[1;32m   (...)\u001b[0m\n\u001b[0;32m   5260\u001b[0m     errors: IgnoreRaise \u001b[38;5;241m=\u001b[39m \u001b[38;5;124m\"\u001b[39m\u001b[38;5;124mraise\u001b[39m\u001b[38;5;124m\"\u001b[39m,\n\u001b[0;32m   5261\u001b[0m ) \u001b[38;5;241m-\u001b[39m\u001b[38;5;241m>\u001b[39m DataFrame \u001b[38;5;241m|\u001b[39m \u001b[38;5;28;01mNone\u001b[39;00m:\n\u001b[0;32m   5262\u001b[0m     \u001b[38;5;124;03m\"\"\"\u001b[39;00m\n\u001b[0;32m   5263\u001b[0m \u001b[38;5;124;03m    Drop specified labels from rows or columns.\u001b[39;00m\n\u001b[0;32m   5264\u001b[0m \n\u001b[1;32m   (...)\u001b[0m\n\u001b[0;32m   5397\u001b[0m \u001b[38;5;124;03m            weight  1.0     0.8\u001b[39;00m\n\u001b[0;32m   5398\u001b[0m \u001b[38;5;124;03m    \"\"\"\u001b[39;00m\n\u001b[1;32m-> 5399\u001b[0m     \u001b[38;5;28;01mreturn\u001b[39;00m \u001b[38;5;28;43msuper\u001b[39;49m\u001b[43m(\u001b[49m\u001b[43m)\u001b[49m\u001b[38;5;241;43m.\u001b[39;49m\u001b[43mdrop\u001b[49m\u001b[43m(\u001b[49m\n\u001b[0;32m   5400\u001b[0m \u001b[43m        \u001b[49m\u001b[43mlabels\u001b[49m\u001b[38;5;241;43m=\u001b[39;49m\u001b[43mlabels\u001b[49m\u001b[43m,\u001b[49m\n\u001b[0;32m   5401\u001b[0m \u001b[43m        \u001b[49m\u001b[43maxis\u001b[49m\u001b[38;5;241;43m=\u001b[39;49m\u001b[43maxis\u001b[49m\u001b[43m,\u001b[49m\n\u001b[0;32m   5402\u001b[0m \u001b[43m        \u001b[49m\u001b[43mindex\u001b[49m\u001b[38;5;241;43m=\u001b[39;49m\u001b[43mindex\u001b[49m\u001b[43m,\u001b[49m\n\u001b[0;32m   5403\u001b[0m \u001b[43m        \u001b[49m\u001b[43mcolumns\u001b[49m\u001b[38;5;241;43m=\u001b[39;49m\u001b[43mcolumns\u001b[49m\u001b[43m,\u001b[49m\n\u001b[0;32m   5404\u001b[0m \u001b[43m        \u001b[49m\u001b[43mlevel\u001b[49m\u001b[38;5;241;43m=\u001b[39;49m\u001b[43mlevel\u001b[49m\u001b[43m,\u001b[49m\n\u001b[0;32m   5405\u001b[0m \u001b[43m        \u001b[49m\u001b[43minplace\u001b[49m\u001b[38;5;241;43m=\u001b[39;49m\u001b[43minplace\u001b[49m\u001b[43m,\u001b[49m\n\u001b[0;32m   5406\u001b[0m \u001b[43m        \u001b[49m\u001b[43merrors\u001b[49m\u001b[38;5;241;43m=\u001b[39;49m\u001b[43merrors\u001b[49m\u001b[43m,\u001b[49m\n\u001b[0;32m   5407\u001b[0m \u001b[43m    \u001b[49m\u001b[43m)\u001b[49m\n",
      "File \u001b[1;32mC:\\ProgramData\\anaconda3\\envs\\analytics\\lib\\site-packages\\pandas\\util\\_decorators.py:331\u001b[0m, in \u001b[0;36mdeprecate_nonkeyword_arguments.<locals>.decorate.<locals>.wrapper\u001b[1;34m(*args, **kwargs)\u001b[0m\n\u001b[0;32m    325\u001b[0m \u001b[38;5;28;01mif\u001b[39;00m \u001b[38;5;28mlen\u001b[39m(args) \u001b[38;5;241m>\u001b[39m num_allow_args:\n\u001b[0;32m    326\u001b[0m     warnings\u001b[38;5;241m.\u001b[39mwarn(\n\u001b[0;32m    327\u001b[0m         msg\u001b[38;5;241m.\u001b[39mformat(arguments\u001b[38;5;241m=\u001b[39m_format_argument_list(allow_args)),\n\u001b[0;32m    328\u001b[0m         \u001b[38;5;167;01mFutureWarning\u001b[39;00m,\n\u001b[0;32m    329\u001b[0m         stacklevel\u001b[38;5;241m=\u001b[39mfind_stack_level(),\n\u001b[0;32m    330\u001b[0m     )\n\u001b[1;32m--> 331\u001b[0m \u001b[38;5;28;01mreturn\u001b[39;00m func(\u001b[38;5;241m*\u001b[39margs, \u001b[38;5;241m*\u001b[39m\u001b[38;5;241m*\u001b[39mkwargs)\n",
      "File \u001b[1;32mC:\\ProgramData\\anaconda3\\envs\\analytics\\lib\\site-packages\\pandas\\core\\generic.py:4505\u001b[0m, in \u001b[0;36mNDFrame.drop\u001b[1;34m(self, labels, axis, index, columns, level, inplace, errors)\u001b[0m\n\u001b[0;32m   4503\u001b[0m \u001b[38;5;28;01mfor\u001b[39;00m axis, labels \u001b[38;5;129;01min\u001b[39;00m axes\u001b[38;5;241m.\u001b[39mitems():\n\u001b[0;32m   4504\u001b[0m     \u001b[38;5;28;01mif\u001b[39;00m labels \u001b[38;5;129;01mis\u001b[39;00m \u001b[38;5;129;01mnot\u001b[39;00m \u001b[38;5;28;01mNone\u001b[39;00m:\n\u001b[1;32m-> 4505\u001b[0m         obj \u001b[38;5;241m=\u001b[39m \u001b[43mobj\u001b[49m\u001b[38;5;241;43m.\u001b[39;49m\u001b[43m_drop_axis\u001b[49m\u001b[43m(\u001b[49m\u001b[43mlabels\u001b[49m\u001b[43m,\u001b[49m\u001b[43m \u001b[49m\u001b[43maxis\u001b[49m\u001b[43m,\u001b[49m\u001b[43m \u001b[49m\u001b[43mlevel\u001b[49m\u001b[38;5;241;43m=\u001b[39;49m\u001b[43mlevel\u001b[49m\u001b[43m,\u001b[49m\u001b[43m \u001b[49m\u001b[43merrors\u001b[49m\u001b[38;5;241;43m=\u001b[39;49m\u001b[43merrors\u001b[49m\u001b[43m)\u001b[49m\n\u001b[0;32m   4507\u001b[0m \u001b[38;5;28;01mif\u001b[39;00m inplace:\n\u001b[0;32m   4508\u001b[0m     \u001b[38;5;28mself\u001b[39m\u001b[38;5;241m.\u001b[39m_update_inplace(obj)\n",
      "File \u001b[1;32mC:\\ProgramData\\anaconda3\\envs\\analytics\\lib\\site-packages\\pandas\\core\\generic.py:4546\u001b[0m, in \u001b[0;36mNDFrame._drop_axis\u001b[1;34m(self, labels, axis, level, errors, only_slice)\u001b[0m\n\u001b[0;32m   4544\u001b[0m         new_axis \u001b[38;5;241m=\u001b[39m axis\u001b[38;5;241m.\u001b[39mdrop(labels, level\u001b[38;5;241m=\u001b[39mlevel, errors\u001b[38;5;241m=\u001b[39merrors)\n\u001b[0;32m   4545\u001b[0m     \u001b[38;5;28;01melse\u001b[39;00m:\n\u001b[1;32m-> 4546\u001b[0m         new_axis \u001b[38;5;241m=\u001b[39m \u001b[43maxis\u001b[49m\u001b[38;5;241;43m.\u001b[39;49m\u001b[43mdrop\u001b[49m\u001b[43m(\u001b[49m\u001b[43mlabels\u001b[49m\u001b[43m,\u001b[49m\u001b[43m \u001b[49m\u001b[43merrors\u001b[49m\u001b[38;5;241;43m=\u001b[39;49m\u001b[43merrors\u001b[49m\u001b[43m)\u001b[49m\n\u001b[0;32m   4547\u001b[0m     indexer \u001b[38;5;241m=\u001b[39m axis\u001b[38;5;241m.\u001b[39mget_indexer(new_axis)\n\u001b[0;32m   4549\u001b[0m \u001b[38;5;66;03m# Case for non-unique axis\u001b[39;00m\n\u001b[0;32m   4550\u001b[0m \u001b[38;5;28;01melse\u001b[39;00m:\n",
      "File \u001b[1;32mC:\\ProgramData\\anaconda3\\envs\\analytics\\lib\\site-packages\\pandas\\core\\indexes\\base.py:6934\u001b[0m, in \u001b[0;36mIndex.drop\u001b[1;34m(self, labels, errors)\u001b[0m\n\u001b[0;32m   6932\u001b[0m \u001b[38;5;28;01mif\u001b[39;00m mask\u001b[38;5;241m.\u001b[39many():\n\u001b[0;32m   6933\u001b[0m     \u001b[38;5;28;01mif\u001b[39;00m errors \u001b[38;5;241m!=\u001b[39m \u001b[38;5;124m\"\u001b[39m\u001b[38;5;124mignore\u001b[39m\u001b[38;5;124m\"\u001b[39m:\n\u001b[1;32m-> 6934\u001b[0m         \u001b[38;5;28;01mraise\u001b[39;00m \u001b[38;5;167;01mKeyError\u001b[39;00m(\u001b[38;5;124mf\u001b[39m\u001b[38;5;124m\"\u001b[39m\u001b[38;5;132;01m{\u001b[39;00m\u001b[38;5;28mlist\u001b[39m(labels[mask])\u001b[38;5;132;01m}\u001b[39;00m\u001b[38;5;124m not found in axis\u001b[39m\u001b[38;5;124m\"\u001b[39m)\n\u001b[0;32m   6935\u001b[0m     indexer \u001b[38;5;241m=\u001b[39m indexer[\u001b[38;5;241m~\u001b[39mmask]\n\u001b[0;32m   6936\u001b[0m \u001b[38;5;28;01mreturn\u001b[39;00m \u001b[38;5;28mself\u001b[39m\u001b[38;5;241m.\u001b[39mdelete(indexer)\n",
      "\u001b[1;31mKeyError\u001b[0m: \"['родитель', 'бизнес-регион'] not found in axis\""
     ]
    }
   ],
   "source": [
    "osh = osh.drop(columns={\"родитель\", \"бизнес-регион\", \"группа клиентов (клиенты)\"})"
   ]
  },
  {
   "cell_type": "code",
   "execution_count": 36,
   "id": "e7b24a08",
   "metadata": {},
   "outputs": [],
   "source": [
    "osh = osh.rename(columns={\"основной менеджер\": \"торговый представитель\"})"
   ]
  },
  {
   "cell_type": "code",
   "execution_count": 38,
   "id": "8118cd60",
   "metadata": {},
   "outputs": [],
   "source": [
    "osh[\"цена\"] = osh[\"выручка\"] / osh[\"количество\"]"
   ]
  },
  {
   "cell_type": "code",
   "execution_count": 41,
   "id": "ba47214a",
   "metadata": {},
   "outputs": [],
   "source": [
    "osh[\"дистрибьютор\"] = 66"
   ]
  },
  {
   "cell_type": "code",
   "execution_count": 48,
   "id": "e2188d69",
   "metadata": {},
   "outputs": [],
   "source": [
    "osh = osh.rename(columns={\"бренд (справочник \\\"номенклатура\\\" (общие))\": \"Бренд\", \n",
    "                          \"код\": \"Код клиента\", \n",
    "                          \"клиент\": \"Клиент\", \n",
    "                          \"адрес доставки\" : \"Адрес доставки\",\n",
    "                          \"заказ клиента / реализация.дата отгрузки\" : \"Дата отгрузки\",\n",
    "                          \"группа\" : \"Группа\",\n",
    "                          \"номенклатура\":\"Вкус\",\n",
    "                          \"сегментпартнера\" : \"Сегмент\",\n",
    "                          \"количество\" : \"Количество\",\n",
    "                          \"вес (нетто), кг\" : \"ВЕС\",\n",
    "                          \"цена\" : \"Цена\",\n",
    "                          \"выручка\" : \"стоимость\",\n",
    "                          \"дистрибьютор\" : \"Дистрибьютор\"\n",
    "                         })"
   ]
  },
  {
   "cell_type": "code",
   "execution_count": 50,
   "id": "42fa4573",
   "metadata": {},
   "outputs": [
    {
     "name": "stdout",
     "output_type": "stream",
     "text": [
      "<class 'pandas.core.frame.DataFrame'>\n",
      "RangeIndex: 69369 entries, 0 to 69368\n",
      "Data columns (total 16 columns):\n",
      " #   Column                                    Non-Null Count  Dtype         \n",
      "---  ------                                    --------------  -----         \n",
      " 0   торговый представитель                    69264 non-null  object        \n",
      " 1   группа клиентов (клиенты)                 25052 non-null  object        \n",
      " 2   клиент                                    69368 non-null  object        \n",
      " 3   код                                       69368 non-null  object        \n",
      " 4   адрес доставки                            68128 non-null  object        \n",
      " 5   заказ клиента / реализация.дата отгрузки  68791 non-null  datetime64[ns]\n",
      " 6   бренд                                     69368 non-null  object        \n",
      " 7   группа                                    69368 non-null  object        \n",
      " 8   номенклатура                              69368 non-null  object        \n",
      " 9   группа.1                                  69368 non-null  object        \n",
      " 10  сегментпартнера                           67392 non-null  object        \n",
      " 11  количество                                69369 non-null  int64         \n",
      " 12  вес (нетто), кг                           69369 non-null  float64       \n",
      " 13  выручка                                   69369 non-null  float64       \n",
      " 14  цена                                      69369 non-null  float64       \n",
      " 15  дистрибьютор                              69369 non-null  int64         \n",
      "dtypes: datetime64[ns](1), float64(3), int64(2), object(10)\n",
      "memory usage: 8.5+ MB\n"
     ]
    }
   ],
   "source": [
    "osh.info()"
   ]
  },
  {
   "cell_type": "code",
   "execution_count": null,
   "id": "91ad60d6",
   "metadata": {},
   "outputs": [],
   "source": [
    "osh[['торговый представитель', \n",
    "     'Код клиента', \n",
    "     'Сегмент', \n",
    "     'Клиент', \n",
    "     'Адрес доставки', \n",
    "     'Дата отгрузки', \n",
    "     'Бренд', \n",
    "     'Группа', \n",
    "     'Вкус', \n",
    "     'Граммовка',\n",
    "     'Количество шт',\n",
    "     'ВЕС', \n",
    "     'Цена', \n",
    "     'стоимость', \n",
    "     'Дистрибьютор'\n",
    "    ]]"
   ]
  },
  {
   "cell_type": "code",
   "execution_count": 43,
   "id": "80f9916d",
   "metadata": {},
   "outputs": [
    {
     "data": {
      "text/html": [
       "<div>\n",
       "<style scoped>\n",
       "    .dataframe tbody tr th:only-of-type {\n",
       "        vertical-align: middle;\n",
       "    }\n",
       "\n",
       "    .dataframe tbody tr th {\n",
       "        vertical-align: top;\n",
       "    }\n",
       "\n",
       "    .dataframe thead th {\n",
       "        text-align: right;\n",
       "    }\n",
       "</style>\n",
       "<table border=\"1\" class=\"dataframe\">\n",
       "  <thead>\n",
       "    <tr style=\"text-align: right;\">\n",
       "      <th></th>\n",
       "      <th>торговый представитель</th>\n",
       "      <th>группа клиентов (клиенты)</th>\n",
       "      <th>клиент</th>\n",
       "      <th>код</th>\n",
       "      <th>адрес доставки</th>\n",
       "      <th>заказ клиента / реализация.дата отгрузки</th>\n",
       "      <th>бренд (справочник \"номенклатура\" (общие))</th>\n",
       "      <th>группа</th>\n",
       "      <th>номенклатура</th>\n",
       "      <th>группа.1</th>\n",
       "      <th>сегментпартнера</th>\n",
       "      <th>количество</th>\n",
       "      <th>вес (нетто), кг</th>\n",
       "      <th>выручка</th>\n",
       "      <th>цена</th>\n",
       "      <th>дистрибьютор</th>\n",
       "    </tr>\n",
       "  </thead>\n",
       "  <tbody>\n",
       "    <tr>\n",
       "      <th>69364</th>\n",
       "      <td>PRE MO NARO-FOMINSK 001</td>\n",
       "      <td>NaN</td>\n",
       "      <td>Табак Дима(Супунёва)</td>\n",
       "      <td>УТ-00014609</td>\n",
       "      <td>Московская обл, г Одинцово, г Звенигород, Супо...</td>\n",
       "      <td>2023-05-31</td>\n",
       "      <td>BlackBurn</td>\n",
       "      <td>Black Burn 25 гр</td>\n",
       "      <td>Burn BLACK Shock, currant shock 25гр МРК</td>\n",
       "      <td>Black Burn</td>\n",
       "      <td>Табаконист</td>\n",
       "      <td>1</td>\n",
       "      <td>0.025</td>\n",
       "      <td>80.00</td>\n",
       "      <td>80.000000</td>\n",
       "      <td>66</td>\n",
       "    </tr>\n",
       "    <tr>\n",
       "      <th>69365</th>\n",
       "      <td>PRE MO NARO-FOMINSK 001</td>\n",
       "      <td>NaN</td>\n",
       "      <td>Табак Дима(Супунёва)</td>\n",
       "      <td>УТ-00014609</td>\n",
       "      <td>Московская обл, г Одинцово, г Звенигород, Супо...</td>\n",
       "      <td>2023-05-31</td>\n",
       "      <td>BlackBurn</td>\n",
       "      <td>Black Burn 25 гр</td>\n",
       "      <td>Burn BLACK Summer basket 25гр МРК</td>\n",
       "      <td>Black Burn</td>\n",
       "      <td>Табаконист</td>\n",
       "      <td>1</td>\n",
       "      <td>0.025</td>\n",
       "      <td>80.00</td>\n",
       "      <td>80.000000</td>\n",
       "      <td>66</td>\n",
       "    </tr>\n",
       "    <tr>\n",
       "      <th>69366</th>\n",
       "      <td>PRE MO NARO-FOMINSK 001</td>\n",
       "      <td>NaN</td>\n",
       "      <td>Табак Дима(Супунёва)</td>\n",
       "      <td>УТ-00014609</td>\n",
       "      <td>Московская обл, г Одинцово, г Звенигород, Супо...</td>\n",
       "      <td>2023-05-31</td>\n",
       "      <td>BlackBurn</td>\n",
       "      <td>Black Burn 25 гр</td>\n",
       "      <td>Burn BLACK TIK TAK 25гр МРК</td>\n",
       "      <td>Black Burn</td>\n",
       "      <td>Табаконист</td>\n",
       "      <td>1</td>\n",
       "      <td>0.025</td>\n",
       "      <td>80.00</td>\n",
       "      <td>80.000000</td>\n",
       "      <td>66</td>\n",
       "    </tr>\n",
       "    <tr>\n",
       "      <th>69367</th>\n",
       "      <td>PRE MO NARO-FOMINSK 001</td>\n",
       "      <td>NaN</td>\n",
       "      <td>Табак Дима(Супунёва)</td>\n",
       "      <td>УТ-00014609</td>\n",
       "      <td>Московская обл, г Одинцово, г Звенигород, Супо...</td>\n",
       "      <td>2023-05-31</td>\n",
       "      <td>BlackBurn</td>\n",
       "      <td>Black Burn 25 гр</td>\n",
       "      <td>Burn BLACK Watermelon 25гр МРК</td>\n",
       "      <td>Black Burn</td>\n",
       "      <td>Табаконист</td>\n",
       "      <td>1</td>\n",
       "      <td>0.025</td>\n",
       "      <td>80.00</td>\n",
       "      <td>80.000000</td>\n",
       "      <td>66</td>\n",
       "    </tr>\n",
       "    <tr>\n",
       "      <th>69368</th>\n",
       "      <td>Итого</td>\n",
       "      <td>NaN</td>\n",
       "      <td>NaN</td>\n",
       "      <td>NaN</td>\n",
       "      <td>NaN</td>\n",
       "      <td>NaT</td>\n",
       "      <td>NaN</td>\n",
       "      <td>NaN</td>\n",
       "      <td>NaN</td>\n",
       "      <td>NaN</td>\n",
       "      <td>NaN</td>\n",
       "      <td>154730</td>\n",
       "      <td>9560.575</td>\n",
       "      <td>58629166.85</td>\n",
       "      <td>378.912731</td>\n",
       "      <td>66</td>\n",
       "    </tr>\n",
       "  </tbody>\n",
       "</table>\n",
       "</div>"
      ],
      "text/plain": [
       "        торговый представитель группа клиентов (клиенты)  \\\n",
       "69364  PRE MO NARO-FOMINSK 001                       NaN   \n",
       "69365  PRE MO NARO-FOMINSK 001                       NaN   \n",
       "69366  PRE MO NARO-FOMINSK 001                       NaN   \n",
       "69367  PRE MO NARO-FOMINSK 001                       NaN   \n",
       "69368                    Итого                       NaN   \n",
       "\n",
       "                     клиент          код  \\\n",
       "69364  Табак Дима(Супунёва)  УТ-00014609   \n",
       "69365  Табак Дима(Супунёва)  УТ-00014609   \n",
       "69366  Табак Дима(Супунёва)  УТ-00014609   \n",
       "69367  Табак Дима(Супунёва)  УТ-00014609   \n",
       "69368                   NaN          NaN   \n",
       "\n",
       "                                          адрес доставки  \\\n",
       "69364  Московская обл, г Одинцово, г Звенигород, Супо...   \n",
       "69365  Московская обл, г Одинцово, г Звенигород, Супо...   \n",
       "69366  Московская обл, г Одинцово, г Звенигород, Супо...   \n",
       "69367  Московская обл, г Одинцово, г Звенигород, Супо...   \n",
       "69368                                                NaN   \n",
       "\n",
       "      заказ клиента / реализация.дата отгрузки  \\\n",
       "69364                               2023-05-31   \n",
       "69365                               2023-05-31   \n",
       "69366                               2023-05-31   \n",
       "69367                               2023-05-31   \n",
       "69368                                      NaT   \n",
       "\n",
       "      бренд (справочник \"номенклатура\" (общие))             группа  \\\n",
       "69364                                 BlackBurn  Black Burn 25 гр    \n",
       "69365                                 BlackBurn  Black Burn 25 гр    \n",
       "69366                                 BlackBurn  Black Burn 25 гр    \n",
       "69367                                 BlackBurn  Black Burn 25 гр    \n",
       "69368                                       NaN                NaN   \n",
       "\n",
       "                                   номенклатура    группа.1 сегментпартнера  \\\n",
       "69364  Burn BLACK Shock, currant shock 25гр МРК  Black Burn      Табаконист   \n",
       "69365         Burn BLACK Summer basket 25гр МРК  Black Burn      Табаконист   \n",
       "69366               Burn BLACK TIK TAK 25гр МРК  Black Burn      Табаконист   \n",
       "69367            Burn BLACK Watermelon 25гр МРК  Black Burn      Табаконист   \n",
       "69368                                       NaN         NaN             NaN   \n",
       "\n",
       "       количество  вес (нетто), кг      выручка        цена  дистрибьютор  \n",
       "69364           1            0.025        80.00   80.000000            66  \n",
       "69365           1            0.025        80.00   80.000000            66  \n",
       "69366           1            0.025        80.00   80.000000            66  \n",
       "69367           1            0.025        80.00   80.000000            66  \n",
       "69368      154730         9560.575  58629166.85  378.912731            66  "
      ]
     },
     "execution_count": 43,
     "metadata": {},
     "output_type": "execute_result"
    }
   ],
   "source": [
    "osh.tail()"
   ]
  },
  {
   "cell_type": "code",
   "execution_count": null,
   "id": "8214c6bd",
   "metadata": {},
   "outputs": [],
   "source": []
  }
 ],
 "metadata": {
  "kernelspec": {
   "display_name": "Python 3 (ipykernel)",
   "language": "python",
   "name": "python3"
  },
  "language_info": {
   "codemirror_mode": {
    "name": "ipython",
    "version": 3
   },
   "file_extension": ".py",
   "mimetype": "text/x-python",
   "name": "python",
   "nbconvert_exporter": "python",
   "pygments_lexer": "ipython3",
   "version": "3.10.11"
  }
 },
 "nbformat": 4,
 "nbformat_minor": 5
}
