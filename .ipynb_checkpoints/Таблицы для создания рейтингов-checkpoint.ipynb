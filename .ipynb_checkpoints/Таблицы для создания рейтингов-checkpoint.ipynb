{
 "cells": [
  {
   "cell_type": "code",
   "execution_count": 367,
   "id": "a47b5e31",
   "metadata": {},
   "outputs": [],
   "source": [
    "import pandas as pd"
   ]
  },
  {
   "cell_type": "code",
   "execution_count": 368,
   "id": "265cf960",
   "metadata": {},
   "outputs": [],
   "source": [
    "path_for_work = r\"D:\\Analysis Burn\\Дистрибьютеры отчетность\\Source\\Отчеты\\Сочи, Адлер Непомнящие\""
   ]
  },
  {
   "cell_type": "code",
   "execution_count": 369,
   "id": "09d2f165",
   "metadata": {},
   "outputs": [],
   "source": [
    "osh = pd.read_excel(r\"D:\\Analysis Burn\\Дистрибьютеры отчетность\\Source\\Отчеты\\Сочи, Адлер Непомнящие\\Sell_Out_Сочи_Непомнящие_без_июня.xlsx\")"
   ]
  },
  {
   "cell_type": "code",
   "execution_count": 370,
   "id": "8bd12be6",
   "metadata": {},
   "outputs": [
    {
     "data": {
      "text/html": [
       "<div>\n",
       "<style scoped>\n",
       "    .dataframe tbody tr th:only-of-type {\n",
       "        vertical-align: middle;\n",
       "    }\n",
       "\n",
       "    .dataframe tbody tr th {\n",
       "        vertical-align: top;\n",
       "    }\n",
       "\n",
       "    .dataframe thead th {\n",
       "        text-align: right;\n",
       "    }\n",
       "</style>\n",
       "<table border=\"1\" class=\"dataframe\">\n",
       "  <thead>\n",
       "    <tr style=\"text-align: right;\">\n",
       "      <th></th>\n",
       "      <th>Торговый представитель</th>\n",
       "      <th>Код клиента</th>\n",
       "      <th>Сегмент</th>\n",
       "      <th>Клиент</th>\n",
       "      <th>Адрес доставки</th>\n",
       "      <th>Дата отгрузки</th>\n",
       "      <th>Бренд</th>\n",
       "      <th>Группа</th>\n",
       "      <th>Вкус</th>\n",
       "      <th>Граммовка</th>\n",
       "      <th>Количество шт</th>\n",
       "      <th>ВЕС</th>\n",
       "      <th>Цена</th>\n",
       "      <th>стоимость</th>\n",
       "      <th>Дистрибьютор</th>\n",
       "    </tr>\n",
       "  </thead>\n",
       "  <tbody>\n",
       "    <tr>\n",
       "      <th>0</th>\n",
       "      <td>не указано</td>\n",
       "      <td>НФ-000806</td>\n",
       "      <td>не указано</td>\n",
       "      <td>\"Табачный Джо\" Настя Чешуина</td>\n",
       "      <td>не указано</td>\n",
       "      <td>2023-05-30</td>\n",
       "      <td>Overdose</td>\n",
       "      <td>Overdose 25 гр</td>\n",
       "      <td>Manila Malina (Филиппинская малина)</td>\n",
       "      <td>25</td>\n",
       "      <td>1</td>\n",
       "      <td>0.025</td>\n",
       "      <td>205.0</td>\n",
       "      <td>205</td>\n",
       "      <td>47</td>\n",
       "    </tr>\n",
       "  </tbody>\n",
       "</table>\n",
       "</div>"
      ],
      "text/plain": [
       "  Торговый представитель Код клиента     Сегмент  \\\n",
       "0             не указано   НФ-000806  не указано   \n",
       "\n",
       "                         Клиент Адрес доставки Дата отгрузки     Бренд  \\\n",
       "0  \"Табачный Джо\" Настя Чешуина     не указано    2023-05-30  Overdose   \n",
       "\n",
       "           Группа                                 Вкус  Граммовка  \\\n",
       "0  Overdose 25 гр  Manila Malina (Филиппинская малина)         25   \n",
       "\n",
       "   Количество шт    ВЕС   Цена  стоимость  Дистрибьютор  \n",
       "0              1  0.025  205.0        205            47  "
      ]
     },
     "execution_count": 370,
     "metadata": {},
     "output_type": "execute_result"
    }
   ],
   "source": [
    "osh.head(1)"
   ]
  },
  {
   "cell_type": "code",
   "execution_count": 371,
   "id": "5308d63b",
   "metadata": {
    "scrolled": true
   },
   "outputs": [
    {
     "data": {
      "text/html": [
       "<div>\n",
       "<style scoped>\n",
       "    .dataframe tbody tr th:only-of-type {\n",
       "        vertical-align: middle;\n",
       "    }\n",
       "\n",
       "    .dataframe tbody tr th {\n",
       "        vertical-align: top;\n",
       "    }\n",
       "\n",
       "    .dataframe thead th {\n",
       "        text-align: right;\n",
       "    }\n",
       "</style>\n",
       "<table border=\"1\" class=\"dataframe\">\n",
       "  <thead>\n",
       "    <tr style=\"text-align: right;\">\n",
       "      <th></th>\n",
       "      <th>Торговый представитель</th>\n",
       "      <th>Код клиента</th>\n",
       "      <th>Сегмент</th>\n",
       "      <th>Клиент</th>\n",
       "      <th>Адрес доставки</th>\n",
       "      <th>Дата отгрузки</th>\n",
       "      <th>Бренд</th>\n",
       "      <th>Группа</th>\n",
       "      <th>Вкус</th>\n",
       "      <th>Граммовка</th>\n",
       "      <th>Количество шт</th>\n",
       "      <th>ВЕС</th>\n",
       "      <th>Цена</th>\n",
       "      <th>стоимость</th>\n",
       "      <th>Дистрибьютор</th>\n",
       "    </tr>\n",
       "  </thead>\n",
       "  <tbody>\n",
       "    <tr>\n",
       "      <th>0</th>\n",
       "      <td>не указано</td>\n",
       "      <td>НФ-000806</td>\n",
       "      <td>не указано</td>\n",
       "      <td>\"Табачный Джо\" Настя Чешуина</td>\n",
       "      <td>не указано</td>\n",
       "      <td>2023-05-30</td>\n",
       "      <td>Overdose</td>\n",
       "      <td>Overdose 25 гр</td>\n",
       "      <td>Manila Malina (Филиппинская малина)</td>\n",
       "      <td>25</td>\n",
       "      <td>1</td>\n",
       "      <td>0.025</td>\n",
       "      <td>205.0</td>\n",
       "      <td>205</td>\n",
       "      <td>47</td>\n",
       "    </tr>\n",
       "  </tbody>\n",
       "</table>\n",
       "</div>"
      ],
      "text/plain": [
       "  Торговый представитель Код клиента     Сегмент  \\\n",
       "0             не указано   НФ-000806  не указано   \n",
       "\n",
       "                         Клиент Адрес доставки Дата отгрузки     Бренд  \\\n",
       "0  \"Табачный Джо\" Настя Чешуина     не указано    2023-05-30  Overdose   \n",
       "\n",
       "           Группа                                 Вкус  Граммовка  \\\n",
       "0  Overdose 25 гр  Manila Malina (Филиппинская малина)         25   \n",
       "\n",
       "   Количество шт    ВЕС   Цена  стоимость  Дистрибьютор  \n",
       "0              1  0.025  205.0        205            47  "
      ]
     },
     "execution_count": 371,
     "metadata": {},
     "output_type": "execute_result"
    }
   ],
   "source": [
    "osh.head(1)"
   ]
  },
  {
   "cell_type": "code",
   "execution_count": 372,
   "id": "000ff512",
   "metadata": {},
   "outputs": [],
   "source": [
    "osh[\"Месяц\"] = pd.to_datetime(osh['Дата отгрузки'], dayfirst = True)"
   ]
  },
  {
   "cell_type": "code",
   "execution_count": 373,
   "id": "07e9a9cc",
   "metadata": {},
   "outputs": [],
   "source": [
    "osh[\"Год\"] = pd.to_datetime(osh['Дата отгрузки'], dayfirst = True)"
   ]
  },
  {
   "cell_type": "code",
   "execution_count": 374,
   "id": "3566dce0",
   "metadata": {},
   "outputs": [],
   "source": [
    "osh[\"Год\"] = osh[\"Год\"].dt.year"
   ]
  },
  {
   "cell_type": "code",
   "execution_count": 375,
   "id": "e75b688a",
   "metadata": {},
   "outputs": [],
   "source": [
    "osh[\"Месяц\"] = osh[\"Месяц\"].dt.month"
   ]
  },
  {
   "cell_type": "code",
   "execution_count": 376,
   "id": "43eec8b9",
   "metadata": {},
   "outputs": [
    {
     "data": {
      "text/plain": [
       "array([5, 4, 3], dtype=int64)"
      ]
     },
     "execution_count": 376,
     "metadata": {},
     "output_type": "execute_result"
    }
   ],
   "source": [
    "osh[\"Месяц\"].unique()"
   ]
  },
  {
   "cell_type": "code",
   "execution_count": 377,
   "id": "dfd5651c",
   "metadata": {},
   "outputs": [],
   "source": [
    "# пять месяца отфильтровать\n",
    "osh = osh.loc[(osh['Год'] == 2023) & (osh['Месяц'] >= 1) & (osh['Месяц'] <= 5)]"
   ]
  },
  {
   "cell_type": "code",
   "execution_count": null,
   "id": "5397a068",
   "metadata": {},
   "outputs": [],
   "source": []
  },
  {
   "cell_type": "code",
   "execution_count": 378,
   "id": "6b69f013",
   "metadata": {},
   "outputs": [],
   "source": [
    "osh_2 = osh.copy(deep=True)"
   ]
  },
  {
   "cell_type": "code",
   "execution_count": 379,
   "id": "5eea8196",
   "metadata": {},
   "outputs": [],
   "source": [
    "osh_2.loc[:, 'Месяц название'] = osh_2.loc[:,'Год'].astype(str) + '-' + osh_2.loc[:, 'Месяц'].astype(str)\n",
    "\n"
   ]
  },
  {
   "cell_type": "code",
   "execution_count": 388,
   "id": "24a6f3c4",
   "metadata": {},
   "outputs": [],
   "source": [
    "pivot_table = osh_2.pivot_table(values='ВЕС',\n",
    "                             index=['Клиент', 'Бренд', 'Вкус'],\n",
    "                             columns='Месяц название',\n",
    "                             aggfunc=lambda x: 1 if sum(x) > 0 else 0,\n",
    "                             fill_value=0).reset_index()"
   ]
  },
  {
   "cell_type": "code",
   "execution_count": 389,
   "id": "e31ecbc5",
   "metadata": {},
   "outputs": [],
   "source": [
    "# сегмент только для ошишы\n",
    "# \n",
    "# pivot_table = osh_2.pivot_table(values='ВЕС',\n",
    "#                              index=['Сегмент','Клиент', 'Бренд', 'Вкус'],\n",
    "#                              columns='Месяц название',\n",
    "#                              aggfunc=lambda x: 1 if sum(x) > 0 else 0,\n",
    "#                              fill_value=0).reset_index()"
   ]
  },
  {
   "cell_type": "code",
   "execution_count": 390,
   "id": "2de45578",
   "metadata": {},
   "outputs": [
    {
     "data": {
      "text/html": [
       "<div>\n",
       "<style scoped>\n",
       "    .dataframe tbody tr th:only-of-type {\n",
       "        vertical-align: middle;\n",
       "    }\n",
       "\n",
       "    .dataframe tbody tr th {\n",
       "        vertical-align: top;\n",
       "    }\n",
       "\n",
       "    .dataframe thead th {\n",
       "        text-align: right;\n",
       "    }\n",
       "</style>\n",
       "<table border=\"1\" class=\"dataframe\">\n",
       "  <thead>\n",
       "    <tr style=\"text-align: right;\">\n",
       "      <th>Месяц название</th>\n",
       "      <th>Клиент</th>\n",
       "      <th>Бренд</th>\n",
       "      <th>Вкус</th>\n",
       "      <th>2023-3</th>\n",
       "      <th>2023-4</th>\n",
       "      <th>2023-5</th>\n",
       "    </tr>\n",
       "  </thead>\n",
       "  <tbody>\n",
       "    <tr>\n",
       "      <th>0</th>\n",
       "      <td>\"Табачный Джо\" Алёна Кирикова</td>\n",
       "      <td>Banger</td>\n",
       "      <td>Bluemist (Голубика, черника и грейпфрут)</td>\n",
       "      <td>0</td>\n",
       "      <td>0</td>\n",
       "      <td>1</td>\n",
       "    </tr>\n",
       "    <tr>\n",
       "      <th>1</th>\n",
       "      <td>\"Табачный Джо\" Алёна Кирикова</td>\n",
       "      <td>Banger</td>\n",
       "      <td>Green Day (Яблоко, киви, кислинка)</td>\n",
       "      <td>0</td>\n",
       "      <td>1</td>\n",
       "      <td>0</td>\n",
       "    </tr>\n",
       "    <tr>\n",
       "      <th>2</th>\n",
       "      <td>\"Табачный Джо\" Алёна Кирикова</td>\n",
       "      <td>Banger</td>\n",
       "      <td>Lambo (Дыня, мелисса, мята)</td>\n",
       "      <td>0</td>\n",
       "      <td>0</td>\n",
       "      <td>1</td>\n",
       "    </tr>\n",
       "    <tr>\n",
       "      <th>3</th>\n",
       "      <td>\"Табачный Джо\" Алёна Кирикова</td>\n",
       "      <td>Banger</td>\n",
       "      <td>Lemon Tonic (Лимонный Тоник)</td>\n",
       "      <td>1</td>\n",
       "      <td>0</td>\n",
       "      <td>0</td>\n",
       "    </tr>\n",
       "    <tr>\n",
       "      <th>4</th>\n",
       "      <td>\"Табачный Джо\" Алёна Кирикова</td>\n",
       "      <td>Banger</td>\n",
       "      <td>Mikado (Ананас)</td>\n",
       "      <td>0</td>\n",
       "      <td>1</td>\n",
       "      <td>1</td>\n",
       "    </tr>\n",
       "    <tr>\n",
       "      <th>...</th>\n",
       "      <td>...</td>\n",
       "      <td>...</td>\n",
       "      <td>...</td>\n",
       "      <td>...</td>\n",
       "      <td>...</td>\n",
       "      <td>...</td>\n",
       "    </tr>\n",
       "    <tr>\n",
       "      <th>4865</th>\n",
       "      <td>франчайзи Харченко Алексей Николаевич ИП  Р/С</td>\n",
       "      <td>Overdose</td>\n",
       "      <td>Pineapple Chunks (Ананасовые кусочки)</td>\n",
       "      <td>0</td>\n",
       "      <td>1</td>\n",
       "      <td>0</td>\n",
       "    </tr>\n",
       "    <tr>\n",
       "      <th>4866</th>\n",
       "      <td>франчайзи Харченко Алексей Николаевич ИП  Р/С</td>\n",
       "      <td>Overdose</td>\n",
       "      <td>Pink Grapefruit (Розовый грейпфрут)</td>\n",
       "      <td>0</td>\n",
       "      <td>1</td>\n",
       "      <td>0</td>\n",
       "    </tr>\n",
       "    <tr>\n",
       "      <th>4867</th>\n",
       "      <td>франчайзи Харченко Алексей Николаевич ИП  Р/С</td>\n",
       "      <td>Overdose</td>\n",
       "      <td>Strawberry Kiwi (Клубника-киви)</td>\n",
       "      <td>0</td>\n",
       "      <td>1</td>\n",
       "      <td>0</td>\n",
       "    </tr>\n",
       "    <tr>\n",
       "      <th>4868</th>\n",
       "      <td>франчайзи Харченко Алексей Николаевич ИП  Р/С</td>\n",
       "      <td>Overdose</td>\n",
       "      <td>Watermelon (Сахарный арбуз)</td>\n",
       "      <td>0</td>\n",
       "      <td>1</td>\n",
       "      <td>0</td>\n",
       "    </tr>\n",
       "    <tr>\n",
       "      <th>4869</th>\n",
       "      <td>франчайзи Харченко Алексей Николаевич ИП  Р/С</td>\n",
       "      <td>Overdose</td>\n",
       "      <td>Wild Srawberry (Дикая земляника)</td>\n",
       "      <td>0</td>\n",
       "      <td>1</td>\n",
       "      <td>0</td>\n",
       "    </tr>\n",
       "  </tbody>\n",
       "</table>\n",
       "<p>4870 rows × 6 columns</p>\n",
       "</div>"
      ],
      "text/plain": [
       "Месяц название                                         Клиент     Бренд  \\\n",
       "0                              \"Табачный Джо\" Алёна Кирикова     Banger   \n",
       "1                              \"Табачный Джо\" Алёна Кирикова     Banger   \n",
       "2                              \"Табачный Джо\" Алёна Кирикова     Banger   \n",
       "3                              \"Табачный Джо\" Алёна Кирикова     Banger   \n",
       "4                              \"Табачный Джо\" Алёна Кирикова     Banger   \n",
       "...                                                       ...       ...   \n",
       "4865            франчайзи Харченко Алексей Николаевич ИП  Р/С  Overdose   \n",
       "4866            франчайзи Харченко Алексей Николаевич ИП  Р/С  Overdose   \n",
       "4867            франчайзи Харченко Алексей Николаевич ИП  Р/С  Overdose   \n",
       "4868            франчайзи Харченко Алексей Николаевич ИП  Р/С  Overdose   \n",
       "4869            франчайзи Харченко Алексей Николаевич ИП  Р/С  Overdose   \n",
       "\n",
       "Месяц название                                      Вкус  2023-3  2023-4  \\\n",
       "0               Bluemist (Голубика, черника и грейпфрут)       0       0   \n",
       "1                     Green Day (Яблоко, киви, кислинка)       0       1   \n",
       "2                           Lambo (Дыня, мелисса, мята)        0       0   \n",
       "3                           Lemon Tonic (Лимонный Тоник)       1       0   \n",
       "4                                        Mikado (Ананас)       0       1   \n",
       "...                                                  ...     ...     ...   \n",
       "4865               Pineapple Chunks (Ананасовые кусочки)       0       1   \n",
       "4866                 Pink Grapefruit (Розовый грейпфрут)       0       1   \n",
       "4867                     Strawberry Kiwi (Клубника-киви)       0       1   \n",
       "4868                         Watermelon (Сахарный арбуз)       0       1   \n",
       "4869                    Wild Srawberry (Дикая земляника)       0       1   \n",
       "\n",
       "Месяц название  2023-5  \n",
       "0                    1  \n",
       "1                    0  \n",
       "2                    1  \n",
       "3                    0  \n",
       "4                    1  \n",
       "...                ...  \n",
       "4865                 0  \n",
       "4866                 0  \n",
       "4867                 0  \n",
       "4868                 0  \n",
       "4869                 0  \n",
       "\n",
       "[4870 rows x 6 columns]"
      ]
     },
     "execution_count": 390,
     "metadata": {},
     "output_type": "execute_result"
    }
   ],
   "source": [
    "pivot_table"
   ]
  },
  {
   "cell_type": "code",
   "execution_count": 391,
   "id": "7aa4831d",
   "metadata": {},
   "outputs": [],
   "source": [
    "# здесь править\n",
    "pivot_table['Общая сумма'] = pivot_table.iloc[:, -3:].sum(axis=1)"
   ]
  },
  {
   "cell_type": "code",
   "execution_count": 392,
   "id": "a397855a",
   "metadata": {},
   "outputs": [],
   "source": [
    "# pivot_table.columns = pivot_table.columns.map(lambda x: '_'.join(map(str, x)))"
   ]
  },
  {
   "cell_type": "code",
   "execution_count": 393,
   "id": "a8e297ba",
   "metadata": {},
   "outputs": [
    {
     "data": {
      "text/plain": [
       "array([1, 2, 3], dtype=int64)"
      ]
     },
     "execution_count": 393,
     "metadata": {},
     "output_type": "execute_result"
    }
   ],
   "source": [
    "pivot_table['Общая сумма'].unique()"
   ]
  },
  {
   "cell_type": "code",
   "execution_count": 394,
   "id": "cf894ed9",
   "metadata": {},
   "outputs": [],
   "source": [
    "pivot_table2 = pivot_table.pivot_table(values='Клиент',\n",
    "                             index=['Бренд', 'Вкус'],\n",
    "                             columns='Общая сумма',\n",
    "                             aggfunc=pd.Series.count,\n",
    "                             fill_value=0,\n",
    "                             margins=False).reset_index()"
   ]
  },
  {
   "cell_type": "code",
   "execution_count": 395,
   "id": "19f2dfc3",
   "metadata": {},
   "outputs": [],
   "source": [
    "# сегмент только ошише нужен\n",
    "# pivot_table2 = pivot_table.pivot_table(values='Клиент',\n",
    "#                              index=['Сегмент','Бренд', 'Вкус'],\n",
    "#                              columns='Общая сумма',\n",
    "#                              aggfunc=pd.Series.count,\n",
    "#                              fill_value=0,\n",
    "#                              margins=False).reset_index()"
   ]
  },
  {
   "cell_type": "code",
   "execution_count": 396,
   "id": "2758d5f6",
   "metadata": {},
   "outputs": [
    {
     "data": {
      "text/html": [
       "<div>\n",
       "<style scoped>\n",
       "    .dataframe tbody tr th:only-of-type {\n",
       "        vertical-align: middle;\n",
       "    }\n",
       "\n",
       "    .dataframe tbody tr th {\n",
       "        vertical-align: top;\n",
       "    }\n",
       "\n",
       "    .dataframe thead th {\n",
       "        text-align: right;\n",
       "    }\n",
       "</style>\n",
       "<table border=\"1\" class=\"dataframe\">\n",
       "  <thead>\n",
       "    <tr style=\"text-align: right;\">\n",
       "      <th>Общая сумма</th>\n",
       "      <th>Бренд</th>\n",
       "      <th>Вкус</th>\n",
       "      <th>1</th>\n",
       "      <th>2</th>\n",
       "      <th>3</th>\n",
       "    </tr>\n",
       "  </thead>\n",
       "  <tbody>\n",
       "    <tr>\n",
       "      <th>0</th>\n",
       "      <td>B3</td>\n",
       "      <td>Ambrosia (Амброзия)</td>\n",
       "      <td>3</td>\n",
       "      <td>0</td>\n",
       "      <td>3</td>\n",
       "    </tr>\n",
       "    <tr>\n",
       "      <th>1</th>\n",
       "      <td>B3</td>\n",
       "      <td>Another Pineapple (Другой ананас)</td>\n",
       "      <td>2</td>\n",
       "      <td>0</td>\n",
       "      <td>1</td>\n",
       "    </tr>\n",
       "  </tbody>\n",
       "</table>\n",
       "</div>"
      ],
      "text/plain": [
       "Общая сумма Бренд                               Вкус  1  2  3\n",
       "0              B3                Ambrosia (Амброзия)  3  0  3\n",
       "1              B3  Another Pineapple (Другой ананас)  2  0  1"
      ]
     },
     "execution_count": 396,
     "metadata": {},
     "output_type": "execute_result"
    }
   ],
   "source": [
    "pivot_table2.head(2)"
   ]
  },
  {
   "cell_type": "code",
   "execution_count": 365,
   "id": "a71abf4b",
   "metadata": {},
   "outputs": [],
   "source": [
    "pivot_table.to_excel(path_for_work + \"\\\\New.xlsx\", index=False)"
   ]
  },
  {
   "cell_type": "code",
   "execution_count": 366,
   "id": "0813032c",
   "metadata": {},
   "outputs": [],
   "source": [
    "pivot_table2.to_excel(path_for_work + \"\\\\New2.xlsx\", index=False)"
   ]
  }
 ],
 "metadata": {
  "kernelspec": {
   "display_name": "Python 3 (ipykernel)",
   "language": "python",
   "name": "python3"
  },
  "language_info": {
   "codemirror_mode": {
    "name": "ipython",
    "version": 3
   },
   "file_extension": ".py",
   "mimetype": "text/x-python",
   "name": "python",
   "nbconvert_exporter": "python",
   "pygments_lexer": "ipython3",
   "version": "3.10.11"
  }
 },
 "nbformat": 4,
 "nbformat_minor": 5
}
