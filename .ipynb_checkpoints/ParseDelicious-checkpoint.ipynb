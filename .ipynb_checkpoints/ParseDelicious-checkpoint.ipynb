{
 "cells": [
  {
   "cell_type": "markdown",
   "id": "9ed8b7fd",
   "metadata": {},
   "source": [
    "- Есть вкусы в одной таблице необработанные (вкус должен быть сцеплен с брендом который уже обработан)\n",
    "- Есть вкусы в другой таблице обработанные \n",
    "- Подбирает подходящие и в нём остаются сложные вкусы, которые нужно парсить другими методами (FuzzyWuzzy)\n",
    "- сделать чтобы работал как скрипт"
   ]
  },
  {
   "cell_type": "code",
   "execution_count": 1,
   "id": "40df2925",
   "metadata": {},
   "outputs": [],
   "source": [
    "import pandas as pd"
   ]
  },
  {
   "cell_type": "code",
   "execution_count": 2,
   "id": "59d071cd",
   "metadata": {},
   "outputs": [],
   "source": [
    "path_to_save = r\"D:\\Analysis Burn\\Дистрибьютеры отчетность\\Source\\Отчеты\\Санкт Петербург S2B ИП Дрига\""
   ]
  },
  {
   "cell_type": "code",
   "execution_count": 3,
   "id": "96557111",
   "metadata": {},
   "outputs": [],
   "source": [
    "del_need_parse = pd.read_excel(path_to_save + \"\\\\new_delicious.xlsx\")"
   ]
  },
  {
   "cell_type": "code",
   "execution_count": 4,
   "id": "457edeb4",
   "metadata": {},
   "outputs": [],
   "source": [
    "del_good = pd.read_excel(r\"D:\\Analysis Burn\\Продукция Burn.xlsx\", sheet_name='вкусы')"
   ]
  },
  {
   "cell_type": "code",
   "execution_count": 5,
   "id": "37084ea1",
   "metadata": {},
   "outputs": [
    {
     "data": {
      "text/html": [
       "<div>\n",
       "<style scoped>\n",
       "    .dataframe tbody tr th:only-of-type {\n",
       "        vertical-align: middle;\n",
       "    }\n",
       "\n",
       "    .dataframe tbody tr th {\n",
       "        vertical-align: top;\n",
       "    }\n",
       "\n",
       "    .dataframe thead th {\n",
       "        text-align: right;\n",
       "    }\n",
       "</style>\n",
       "<table border=\"1\" class=\"dataframe\">\n",
       "  <thead>\n",
       "    <tr style=\"text-align: right;\">\n",
       "      <th></th>\n",
       "      <th>Бренд</th>\n",
       "      <th>Вкус</th>\n",
       "      <th>Код</th>\n",
       "      <th>Анонс</th>\n",
       "    </tr>\n",
       "  </thead>\n",
       "  <tbody>\n",
       "    <tr>\n",
       "      <th>0</th>\n",
       "      <td>B3</td>\n",
       "      <td>Ambrosia (Амброзия)</td>\n",
       "      <td>145</td>\n",
       "      <td>NaT</td>\n",
       "    </tr>\n",
       "    <tr>\n",
       "      <th>1</th>\n",
       "      <td>B3</td>\n",
       "      <td>Another Pineapple (Другой ананас)</td>\n",
       "      <td>146</td>\n",
       "      <td>NaT</td>\n",
       "    </tr>\n",
       "    <tr>\n",
       "      <th>2</th>\n",
       "      <td>B3</td>\n",
       "      <td>Apple Pie (Яблочный Пирог)</td>\n",
       "      <td>147</td>\n",
       "      <td>NaT</td>\n",
       "    </tr>\n",
       "    <tr>\n",
       "      <th>3</th>\n",
       "      <td>B3</td>\n",
       "      <td>Apricool (Абрикос лёд)</td>\n",
       "      <td>148</td>\n",
       "      <td>NaT</td>\n",
       "    </tr>\n",
       "    <tr>\n",
       "      <th>4</th>\n",
       "      <td>B3</td>\n",
       "      <td>BananaBerry (Банан И Ягоды)</td>\n",
       "      <td>149</td>\n",
       "      <td>NaT</td>\n",
       "    </tr>\n",
       "    <tr>\n",
       "      <th>...</th>\n",
       "      <td>...</td>\n",
       "      <td>...</td>\n",
       "      <td>...</td>\n",
       "      <td>...</td>\n",
       "    </tr>\n",
       "    <tr>\n",
       "      <th>225</th>\n",
       "      <td>Peter Ralf</td>\n",
       "      <td>Quince (Травянистый вкус айвы)</td>\n",
       "      <td>141</td>\n",
       "      <td>NaT</td>\n",
       "    </tr>\n",
       "    <tr>\n",
       "      <th>226</th>\n",
       "      <td>Peter Ralf</td>\n",
       "      <td>Santa-Barbara (Барбарисовый леденец)</td>\n",
       "      <td>142</td>\n",
       "      <td>NaT</td>\n",
       "    </tr>\n",
       "    <tr>\n",
       "      <th>227</th>\n",
       "      <td>Peter Ralf</td>\n",
       "      <td>Sugar Baby (Арбуз, мята и лед)</td>\n",
       "      <td>143</td>\n",
       "      <td>NaT</td>\n",
       "    </tr>\n",
       "    <tr>\n",
       "      <th>228</th>\n",
       "      <td>Peter Ralf</td>\n",
       "      <td>Tropical Exotic (Тропический микс с преоблада...</td>\n",
       "      <td>144</td>\n",
       "      <td>NaT</td>\n",
       "    </tr>\n",
       "    <tr>\n",
       "      <th>229</th>\n",
       "      <td>Peter Ralf</td>\n",
       "      <td>Banana Сrepes  (Утренний завтрак с бананом)</td>\n",
       "      <td>234</td>\n",
       "      <td>NaT</td>\n",
       "    </tr>\n",
       "  </tbody>\n",
       "</table>\n",
       "<p>230 rows × 4 columns</p>\n",
       "</div>"
      ],
      "text/plain": [
       "          Бренд                                               Вкус  Код Анонс\n",
       "0            B3                                Ambrosia (Амброзия)  145   NaT\n",
       "1            B3                  Another Pineapple (Другой ананас)  146   NaT\n",
       "2            B3                         Apple Pie (Яблочный Пирог)  147   NaT\n",
       "3            B3                             Apricool (Абрикос лёд)  148   NaT\n",
       "4            B3                        BananaBerry (Банан И Ягоды)  149   NaT\n",
       "..          ...                                                ...  ...   ...\n",
       "225  Peter Ralf                   Quince (Травянистый вкус айвы)  141   NaT\n",
       "226  Peter Ralf              Santa-Barbara (Барбарисовый леденец)  142   NaT\n",
       "227  Peter Ralf                     Sugar Baby (Арбуз, мята и лед)  143   NaT\n",
       "228  Peter Ralf  Tropical Exotic (Тропический микс с преоблада...  144   NaT\n",
       "229  Peter Ralf        Banana Сrepes  (Утренний завтрак с бананом)  234   NaT\n",
       "\n",
       "[230 rows x 4 columns]"
      ]
     },
     "execution_count": 5,
     "metadata": {},
     "output_type": "execute_result"
    }
   ],
   "source": [
    "del_good"
   ]
  },
  {
   "cell_type": "code",
   "execution_count": 6,
   "id": "2ff259d8",
   "metadata": {
    "scrolled": true
   },
   "outputs": [],
   "source": [
    "del_need_parse = del_need_parse.drop_duplicates()"
   ]
  },
  {
   "cell_type": "markdown",
   "id": "97c067d3",
   "metadata": {},
   "source": [
    "Первая таблица"
   ]
  },
  {
   "cell_type": "code",
   "execution_count": 7,
   "id": "ab212c2e",
   "metadata": {
    "scrolled": true
   },
   "outputs": [
    {
     "data": {
      "text/html": [
       "<div>\n",
       "<style scoped>\n",
       "    .dataframe tbody tr th:only-of-type {\n",
       "        vertical-align: middle;\n",
       "    }\n",
       "\n",
       "    .dataframe tbody tr th {\n",
       "        vertical-align: top;\n",
       "    }\n",
       "\n",
       "    .dataframe thead th {\n",
       "        text-align: right;\n",
       "    }\n",
       "</style>\n",
       "<table border=\"1\" class=\"dataframe\">\n",
       "  <thead>\n",
       "    <tr style=\"text-align: right;\">\n",
       "      <th></th>\n",
       "      <th>Бренд-Вкус</th>\n",
       "    </tr>\n",
       "  </thead>\n",
       "  <tbody>\n",
       "    <tr>\n",
       "      <th>0</th>\n",
       "      <td>BLACKBURNТАБАК BLACK BURN 200Г SOMETHING TROPI...</td>\n",
       "    </tr>\n",
       "    <tr>\n",
       "      <th>1</th>\n",
       "      <td>BLACKBURNТАБАК BLACK BURN 200Г PINA COLADA М !</td>\n",
       "    </tr>\n",
       "    <tr>\n",
       "      <th>2</th>\n",
       "      <td>BLACKBURNТАБАК BLACK BURN 200Г HARIBON М</td>\n",
       "    </tr>\n",
       "    <tr>\n",
       "      <th>3</th>\n",
       "      <td>BLACKBURNТАБАК BLACK BURN 200Г EPIC YOGURT М</td>\n",
       "    </tr>\n",
       "    <tr>\n",
       "      <th>4</th>\n",
       "      <td>BLACKBURNТАБАК BLACK BURN 200Г KIWISTONER М</td>\n",
       "    </tr>\n",
       "    <tr>\n",
       "      <th>...</th>\n",
       "      <td>...</td>\n",
       "    </tr>\n",
       "    <tr>\n",
       "      <th>467</th>\n",
       "      <td>PETERRALFТАБАК PETER RALF 250Г CHRISTMAS TEA M !</td>\n",
       "    </tr>\n",
       "    <tr>\n",
       "      <th>468</th>\n",
       "      <td>PETERRALFТАБАК PETER RALF 250Г DOLCE DE LECHEE...</td>\n",
       "    </tr>\n",
       "    <tr>\n",
       "      <th>469</th>\n",
       "      <td>PETERRALFТАБАК PETER RALF 250Г MARBLE PEAR M !</td>\n",
       "    </tr>\n",
       "    <tr>\n",
       "      <th>470</th>\n",
       "      <td>PETERRALFТАБАК PETER RALF 250Г NINACURRANT M !</td>\n",
       "    </tr>\n",
       "    <tr>\n",
       "      <th>471</th>\n",
       "      <td>PETERRALFТАБАК PETER RALF 250Г POST MELON M !</td>\n",
       "    </tr>\n",
       "  </tbody>\n",
       "</table>\n",
       "<p>472 rows × 1 columns</p>\n",
       "</div>"
      ],
      "text/plain": [
       "                                            Бренд-Вкус\n",
       "0    BLACKBURNТАБАК BLACK BURN 200Г SOMETHING TROPI...\n",
       "1       BLACKBURNТАБАК BLACK BURN 200Г PINA COLADA М !\n",
       "2             BLACKBURNТАБАК BLACK BURN 200Г HARIBON М\n",
       "3         BLACKBURNТАБАК BLACK BURN 200Г EPIC YOGURT М\n",
       "4          BLACKBURNТАБАК BLACK BURN 200Г KIWISTONER М\n",
       "..                                                 ...\n",
       "467   PETERRALFТАБАК PETER RALF 250Г CHRISTMAS TEA M !\n",
       "468  PETERRALFТАБАК PETER RALF 250Г DOLCE DE LECHEE...\n",
       "469     PETERRALFТАБАК PETER RALF 250Г MARBLE PEAR M !\n",
       "470     PETERRALFТАБАК PETER RALF 250Г NINACURRANT M !\n",
       "471      PETERRALFТАБАК PETER RALF 250Г POST MELON M !\n",
       "\n",
       "[472 rows x 1 columns]"
      ]
     },
     "execution_count": 7,
     "metadata": {},
     "output_type": "execute_result"
    }
   ],
   "source": [
    "del_need_parse"
   ]
  },
  {
   "cell_type": "code",
   "execution_count": 8,
   "id": "5e9281bf",
   "metadata": {},
   "outputs": [],
   "source": [
    "del_need_parse['low_symbols'] = del_need_parse['Бренд-Вкус'].str.lower()\n",
    "del_need_parse['low_symbols'] = del_need_parse['low_symbols'].replace('black burn', 'blackburn')\n",
    "del_need_parse['low_symbols'] = del_need_parse['low_symbols'].replace('burn black', 'blackburn')\n",
    "del_need_parse['low_symbols'] = del_need_parse['low_symbols'].replace('peter ralf', 'peterralf')\n"
   ]
  },
  {
   "cell_type": "code",
   "execution_count": 9,
   "id": "5849bd16",
   "metadata": {},
   "outputs": [],
   "source": [
    "del_need_parse['low_symbols2'] = del_need_parse['low_symbols']\n",
    "del_need_parse['low_symbols'] = del_need_parse['low_symbols'].replace(r'\\s+','',regex=True)"
   ]
  },
  {
   "cell_type": "markdown",
   "id": "fd3e8991",
   "metadata": {},
   "source": [
    "Вторая таблица"
   ]
  },
  {
   "cell_type": "code",
   "execution_count": 10,
   "id": "7d0d4b12",
   "metadata": {
    "scrolled": true
   },
   "outputs": [
    {
     "data": {
      "text/html": [
       "<div>\n",
       "<style scoped>\n",
       "    .dataframe tbody tr th:only-of-type {\n",
       "        vertical-align: middle;\n",
       "    }\n",
       "\n",
       "    .dataframe tbody tr th {\n",
       "        vertical-align: top;\n",
       "    }\n",
       "\n",
       "    .dataframe thead th {\n",
       "        text-align: right;\n",
       "    }\n",
       "</style>\n",
       "<table border=\"1\" class=\"dataframe\">\n",
       "  <thead>\n",
       "    <tr style=\"text-align: right;\">\n",
       "      <th></th>\n",
       "      <th>Бренд</th>\n",
       "      <th>Вкус</th>\n",
       "      <th>Код</th>\n",
       "      <th>Анонс</th>\n",
       "    </tr>\n",
       "  </thead>\n",
       "  <tbody>\n",
       "    <tr>\n",
       "      <th>0</th>\n",
       "      <td>B3</td>\n",
       "      <td>Ambrosia (Амброзия)</td>\n",
       "      <td>145</td>\n",
       "      <td>NaT</td>\n",
       "    </tr>\n",
       "    <tr>\n",
       "      <th>1</th>\n",
       "      <td>B3</td>\n",
       "      <td>Another Pineapple (Другой ананас)</td>\n",
       "      <td>146</td>\n",
       "      <td>NaT</td>\n",
       "    </tr>\n",
       "    <tr>\n",
       "      <th>2</th>\n",
       "      <td>B3</td>\n",
       "      <td>Apple Pie (Яблочный Пирог)</td>\n",
       "      <td>147</td>\n",
       "      <td>NaT</td>\n",
       "    </tr>\n",
       "    <tr>\n",
       "      <th>3</th>\n",
       "      <td>B3</td>\n",
       "      <td>Apricool (Абрикос лёд)</td>\n",
       "      <td>148</td>\n",
       "      <td>NaT</td>\n",
       "    </tr>\n",
       "    <tr>\n",
       "      <th>4</th>\n",
       "      <td>B3</td>\n",
       "      <td>BananaBerry (Банан И Ягоды)</td>\n",
       "      <td>149</td>\n",
       "      <td>NaT</td>\n",
       "    </tr>\n",
       "    <tr>\n",
       "      <th>...</th>\n",
       "      <td>...</td>\n",
       "      <td>...</td>\n",
       "      <td>...</td>\n",
       "      <td>...</td>\n",
       "    </tr>\n",
       "    <tr>\n",
       "      <th>225</th>\n",
       "      <td>Peter Ralf</td>\n",
       "      <td>Quince (Травянистый вкус айвы)</td>\n",
       "      <td>141</td>\n",
       "      <td>NaT</td>\n",
       "    </tr>\n",
       "    <tr>\n",
       "      <th>226</th>\n",
       "      <td>Peter Ralf</td>\n",
       "      <td>Santa-Barbara (Барбарисовый леденец)</td>\n",
       "      <td>142</td>\n",
       "      <td>NaT</td>\n",
       "    </tr>\n",
       "    <tr>\n",
       "      <th>227</th>\n",
       "      <td>Peter Ralf</td>\n",
       "      <td>Sugar Baby (Арбуз, мята и лед)</td>\n",
       "      <td>143</td>\n",
       "      <td>NaT</td>\n",
       "    </tr>\n",
       "    <tr>\n",
       "      <th>228</th>\n",
       "      <td>Peter Ralf</td>\n",
       "      <td>Tropical Exotic (Тропический микс с преоблада...</td>\n",
       "      <td>144</td>\n",
       "      <td>NaT</td>\n",
       "    </tr>\n",
       "    <tr>\n",
       "      <th>229</th>\n",
       "      <td>Peter Ralf</td>\n",
       "      <td>Banana Сrepes  (Утренний завтрак с бананом)</td>\n",
       "      <td>234</td>\n",
       "      <td>NaT</td>\n",
       "    </tr>\n",
       "  </tbody>\n",
       "</table>\n",
       "<p>230 rows × 4 columns</p>\n",
       "</div>"
      ],
      "text/plain": [
       "          Бренд                                               Вкус  Код Анонс\n",
       "0            B3                                Ambrosia (Амброзия)  145   NaT\n",
       "1            B3                  Another Pineapple (Другой ананас)  146   NaT\n",
       "2            B3                         Apple Pie (Яблочный Пирог)  147   NaT\n",
       "3            B3                             Apricool (Абрикос лёд)  148   NaT\n",
       "4            B3                        BananaBerry (Банан И Ягоды)  149   NaT\n",
       "..          ...                                                ...  ...   ...\n",
       "225  Peter Ralf                   Quince (Травянистый вкус айвы)  141   NaT\n",
       "226  Peter Ralf              Santa-Barbara (Барбарисовый леденец)  142   NaT\n",
       "227  Peter Ralf                     Sugar Baby (Арбуз, мята и лед)  143   NaT\n",
       "228  Peter Ralf  Tropical Exotic (Тропический микс с преоблада...  144   NaT\n",
       "229  Peter Ralf        Banana Сrepes  (Утренний завтрак с бананом)  234   NaT\n",
       "\n",
       "[230 rows x 4 columns]"
      ]
     },
     "execution_count": 10,
     "metadata": {},
     "output_type": "execute_result"
    }
   ],
   "source": [
    "del_good"
   ]
  },
  {
   "cell_type": "code",
   "execution_count": 11,
   "id": "7095237d",
   "metadata": {},
   "outputs": [],
   "source": [
    "del_good['вкус_подготовленный'] = del_good['Вкус'].str.lower().str.split('(').str[0]"
   ]
  },
  {
   "cell_type": "code",
   "execution_count": 12,
   "id": "b1c1e8ed",
   "metadata": {},
   "outputs": [],
   "source": [
    "del_good['бренд_подготовленный'] = del_good['Бренд'].str.lower()"
   ]
  },
  {
   "cell_type": "code",
   "execution_count": 13,
   "id": "16524e05",
   "metadata": {},
   "outputs": [],
   "source": [
    "del_good['бренд_подготовленный'] = del_good['бренд_подготовленный'].str.strip()"
   ]
  },
  {
   "cell_type": "code",
   "execution_count": 14,
   "id": "9ff47525",
   "metadata": {},
   "outputs": [],
   "source": [
    "del_good['бренд_подготовленный'] = del_good['бренд_подготовленный'].replace('peter ralf', 'peterralf')"
   ]
  },
  {
   "cell_type": "code",
   "execution_count": 15,
   "id": "c895ac23",
   "metadata": {},
   "outputs": [],
   "source": [
    "del_good['вкус_подготовленный'] = del_good['вкус_подготовленный'].str.strip()"
   ]
  },
  {
   "cell_type": "code",
   "execution_count": 16,
   "id": "67f124ea",
   "metadata": {},
   "outputs": [],
   "source": [
    "del_good['вкус_подготовленный2'] = del_good['вкус_подготовленный']"
   ]
  },
  {
   "cell_type": "code",
   "execution_count": 17,
   "id": "dfb56183",
   "metadata": {},
   "outputs": [],
   "source": [
    "del_good['вкус_подготовленный'] = del_good['вкус_подготовленный'].replace(r'\\s+','',regex=True)"
   ]
  },
  {
   "cell_type": "code",
   "execution_count": 18,
   "id": "2f133a9d",
   "metadata": {},
   "outputs": [],
   "source": [
    "for index1, row1 in del_need_parse.iterrows():\n",
    "    for index2, row2 in del_good.iterrows():\n",
    "        if row2['вкус_подготовленный'] in row1['low_symbols'] and row2['бренд_подготовленный'] in row1['low_symbols']:\n",
    "            del_need_parse.at[index1, 'Код'] = row2['Код']\n",
    "            del_need_parse.at[index1, 'Новый вкус'] = row2['Вкус']"
   ]
  },
  {
   "cell_type": "code",
   "execution_count": 19,
   "id": "88153bd2",
   "metadata": {},
   "outputs": [],
   "source": [
    "del_need_parse = del_need_parse.drop(columns={'low_symbols', 'low_symbols2'})"
   ]
  },
  {
   "cell_type": "code",
   "execution_count": 20,
   "id": "d6084102",
   "metadata": {},
   "outputs": [],
   "source": [
    "del_need_parse.to_excel(path_to_save + \"\\Success.xlsx\", index=False)"
   ]
  }
 ],
 "metadata": {
  "kernelspec": {
   "display_name": "Python 3 (ipykernel)",
   "language": "python",
   "name": "python3"
  },
  "language_info": {
   "codemirror_mode": {
    "name": "ipython",
    "version": 3
   },
   "file_extension": ".py",
   "mimetype": "text/x-python",
   "name": "python",
   "nbconvert_exporter": "python",
   "pygments_lexer": "ipython3",
   "version": "3.10.11"
  }
 },
 "nbformat": 4,
 "nbformat_minor": 5
}
