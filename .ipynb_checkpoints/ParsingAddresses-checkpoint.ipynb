{
 "cells": [
  {
   "cell_type": "code",
   "execution_count": 1,
   "id": "06213e97",
   "metadata": {},
   "outputs": [],
   "source": [
    "import pandas as pd"
   ]
  },
  {
   "cell_type": "code",
   "execution_count": 139,
   "id": "810afb90",
   "metadata": {},
   "outputs": [],
   "source": [
    "dont_have_in_addresses = pd.read_excel(r\"C:\\Users\\User\\Desktop\\Аналитика Капралов\\ББСВМХ\\dont_have_in_addresses.xlsx\")"
   ]
  },
  {
   "cell_type": "code",
   "execution_count": 140,
   "id": "673056ee",
   "metadata": {},
   "outputs": [],
   "source": [
    "addresses = pd.read_excel(r\"C:\\Users\\User\\Desktop\\Аналитика Капралов\\ББСВМХ\\dim_address с корректировками (НЕ ИЗМЕНЯТЬ).xlsx\")"
   ]
  },
  {
   "cell_type": "code",
   "execution_count": 263,
   "id": "8d848d0f",
   "metadata": {
    "scrolled": false
   },
   "outputs": [
    {
     "data": {
      "text/html": [
       "<div>\n",
       "<style scoped>\n",
       "    .dataframe tbody tr th:only-of-type {\n",
       "        vertical-align: middle;\n",
       "    }\n",
       "\n",
       "    .dataframe tbody tr th {\n",
       "        vertical-align: top;\n",
       "    }\n",
       "\n",
       "    .dataframe thead th {\n",
       "        text-align: right;\n",
       "    }\n",
       "</style>\n",
       "<table border=\"1\" class=\"dataframe\">\n",
       "  <thead>\n",
       "    <tr style=\"text-align: right;\">\n",
       "      <th></th>\n",
       "      <th>Исходный адрес</th>\n",
       "      <th>Адрес</th>\n",
       "      <th>Тип региона</th>\n",
       "      <th>Регион</th>\n",
       "      <th>Тип района</th>\n",
       "      <th>Район</th>\n",
       "      <th>Тип города</th>\n",
       "      <th>Город</th>\n",
       "      <th>Тип н/п</th>\n",
       "      <th>Н/п</th>\n",
       "      <th>Тип улицы</th>\n",
       "      <th>Улица</th>\n",
       "      <th>Тип дома</th>\n",
       "      <th>Дом</th>\n",
       "    </tr>\n",
       "  </thead>\n",
       "  <tbody>\n",
       "    <tr>\n",
       "      <th>0</th>\n",
       "      <td>Алтайский край, г Алейск, пер Ульяновский, д 65А</td>\n",
       "      <td>Алтайский край, Алейск г, Ульяновский пер, д 65</td>\n",
       "      <td>край</td>\n",
       "      <td>Алтайский</td>\n",
       "      <td>NaN</td>\n",
       "      <td>NaN</td>\n",
       "      <td>г</td>\n",
       "      <td>Алейск</td>\n",
       "      <td>NaN</td>\n",
       "      <td>NaN</td>\n",
       "      <td>пер</td>\n",
       "      <td>Ульяновский</td>\n",
       "      <td>д</td>\n",
       "      <td>65</td>\n",
       "    </tr>\n",
       "    <tr>\n",
       "      <th>1</th>\n",
       "      <td>Алтайский край, г Алейск, ул Пионерская, д 134</td>\n",
       "      <td>Алтайский край, Алейск г, Пионерская ул, д 134</td>\n",
       "      <td>край</td>\n",
       "      <td>Алтайский</td>\n",
       "      <td>NaN</td>\n",
       "      <td>NaN</td>\n",
       "      <td>г</td>\n",
       "      <td>Алейск</td>\n",
       "      <td>NaN</td>\n",
       "      <td>NaN</td>\n",
       "      <td>ул</td>\n",
       "      <td>Пионерская</td>\n",
       "      <td>д</td>\n",
       "      <td>134</td>\n",
       "    </tr>\n",
       "    <tr>\n",
       "      <th>2</th>\n",
       "      <td>Алтайский край, г Белокуриха, ул Партизанская,...</td>\n",
       "      <td>Алтайский край, Белокуриха г, Партизанская ул,...</td>\n",
       "      <td>край</td>\n",
       "      <td>Алтайский</td>\n",
       "      <td>NaN</td>\n",
       "      <td>NaN</td>\n",
       "      <td>г</td>\n",
       "      <td>Белокуриха</td>\n",
       "      <td>NaN</td>\n",
       "      <td>NaN</td>\n",
       "      <td>ул</td>\n",
       "      <td>Партизанская</td>\n",
       "      <td>д</td>\n",
       "      <td>7/1</td>\n",
       "    </tr>\n",
       "    <tr>\n",
       "      <th>3</th>\n",
       "      <td>Алтайский край, г Белокуриха, ул Советская, зд...</td>\n",
       "      <td>Алтайский край, Белокуриха г, Советская ул, зд...</td>\n",
       "      <td>край</td>\n",
       "      <td>Алтайский</td>\n",
       "      <td>NaN</td>\n",
       "      <td>NaN</td>\n",
       "      <td>г</td>\n",
       "      <td>Белокуриха</td>\n",
       "      <td>NaN</td>\n",
       "      <td>NaN</td>\n",
       "      <td>ул</td>\n",
       "      <td>Советская</td>\n",
       "      <td>зд</td>\n",
       "      <td>7/4</td>\n",
       "    </tr>\n",
       "    <tr>\n",
       "      <th>4</th>\n",
       "      <td>Алтайский край, г Бийск, ул Александра Матросо...</td>\n",
       "      <td>Алтайский край, Бийск г, Александра Матросова ...</td>\n",
       "      <td>край</td>\n",
       "      <td>Алтайский</td>\n",
       "      <td>NaN</td>\n",
       "      <td>NaN</td>\n",
       "      <td>г</td>\n",
       "      <td>Бийск</td>\n",
       "      <td>NaN</td>\n",
       "      <td>NaN</td>\n",
       "      <td>ул</td>\n",
       "      <td>Александра Матросова</td>\n",
       "      <td>д</td>\n",
       "      <td>30</td>\n",
       "    </tr>\n",
       "  </tbody>\n",
       "</table>\n",
       "</div>"
      ],
      "text/plain": [
       "                                      Исходный адрес  \\\n",
       "0   Алтайский край, г Алейск, пер Ульяновский, д 65А   \n",
       "1     Алтайский край, г Алейск, ул Пионерская, д 134   \n",
       "2  Алтайский край, г Белокуриха, ул Партизанская,...   \n",
       "3  Алтайский край, г Белокуриха, ул Советская, зд...   \n",
       "4  Алтайский край, г Бийск, ул Александра Матросо...   \n",
       "\n",
       "                                               Адрес Тип региона     Регион  \\\n",
       "0    Алтайский край, Алейск г, Ульяновский пер, д 65        край  Алтайский   \n",
       "1     Алтайский край, Алейск г, Пионерская ул, д 134        край  Алтайский   \n",
       "2  Алтайский край, Белокуриха г, Партизанская ул,...        край  Алтайский   \n",
       "3  Алтайский край, Белокуриха г, Советская ул, зд...        край  Алтайский   \n",
       "4  Алтайский край, Бийск г, Александра Матросова ...        край  Алтайский   \n",
       "\n",
       "  Тип района Район Тип города       Город Тип н/п  Н/п Тип улицы  \\\n",
       "0        NaN   NaN          г      Алейск     NaN  NaN       пер   \n",
       "1        NaN   NaN          г      Алейск     NaN  NaN        ул   \n",
       "2        NaN   NaN          г  Белокуриха     NaN  NaN        ул   \n",
       "3        NaN   NaN          г  Белокуриха     NaN  NaN        ул   \n",
       "4        NaN   NaN          г       Бийск     NaN  NaN        ул   \n",
       "\n",
       "                  Улица Тип дома  Дом  \n",
       "0           Ульяновский        д   65  \n",
       "1            Пионерская        д  134  \n",
       "2          Партизанская        д  7/1  \n",
       "3             Советская       зд  7/4  \n",
       "4  Александра Матросова        д   30  "
      ]
     },
     "execution_count": 263,
     "metadata": {},
     "output_type": "execute_result"
    }
   ],
   "source": [
    "addresses.head()"
   ]
  },
  {
   "cell_type": "code",
   "execution_count": 166,
   "id": "baa6a56e",
   "metadata": {},
   "outputs": [],
   "source": [
    "region = addresses.drop_duplicates([\"Тип региона\", \"Регион\"])\n",
    "region = region[[\"Тип региона\", \"Регион\"]]\n",
    "region = region.dropna()"
   ]
  },
  {
   "cell_type": "code",
   "execution_count": 170,
   "id": "98825952",
   "metadata": {},
   "outputs": [],
   "source": []
  },
  {
   "cell_type": "code",
   "execution_count": 184,
   "id": "db9cb3c1",
   "metadata": {},
   "outputs": [],
   "source": [
    "district = addresses.drop_duplicates([\"Тип района\", \"Район\"])\n",
    "district = district[[\"Тип района\", \"Район\"]]\n",
    "district = district.dropna()"
   ]
  },
  {
   "cell_type": "markdown",
   "id": "363763ac",
   "metadata": {},
   "source": []
  },
  {
   "cell_type": "code",
   "execution_count": 241,
   "id": "8f4d6e36",
   "metadata": {},
   "outputs": [],
   "source": [
    "city = addresses.drop_duplicates([\"Тип города\", \"Город\"])\n",
    "city = city[[\"Тип города\", \"Город\"]]\n",
    "city = city.dropna()"
   ]
  },
  {
   "cell_type": "markdown",
   "id": "a08d1197",
   "metadata": {},
   "source": []
  },
  {
   "cell_type": "code",
   "execution_count": 271,
   "id": "2f420772",
   "metadata": {},
   "outputs": [],
   "source": [
    "selo = addresses.drop_duplicates([\"Тип н/п\", \"Н/п\"])\n",
    "selo = selo[[\"Тип н/п\", \"Н/п\"]]\n",
    "selo = selo.dropna()"
   ]
  },
  {
   "cell_type": "code",
   "execution_count": null,
   "id": "a1b93788",
   "metadata": {},
   "outputs": [],
   "source": []
  },
  {
   "cell_type": "code",
   "execution_count": 344,
   "id": "a034395c",
   "metadata": {},
   "outputs": [],
   "source": [
    "street = addresses.drop_duplicates([\"Тип улицы\", \"Улица\"])\n",
    "street = street[[\"Тип улицы\", \"Улица\"]]\n",
    "street = street.dropna()"
   ]
  },
  {
   "cell_type": "code",
   "execution_count": null,
   "id": "43836c17",
   "metadata": {},
   "outputs": [],
   "source": []
  },
  {
   "cell_type": "code",
   "execution_count": 345,
   "id": "0e223e72",
   "metadata": {},
   "outputs": [],
   "source": [
    "house = addresses.drop_duplicates([\"Тип дома\", \"Дом\"])\n",
    "house = house[[\"Тип дома\", \"Дом\"]]\n",
    "house = house.dropna()"
   ]
  },
  {
   "cell_type": "markdown",
   "id": "f3cf09ea",
   "metadata": {},
   "source": [
    "### Подготовка колонок (превращение в нижний регистр)"
   ]
  },
  {
   "cell_type": "code",
   "execution_count": 202,
   "id": "841a06ff",
   "metadata": {},
   "outputs": [],
   "source": [
    "dont_have_in_addresses['адрес_обработ'] =  dont_have_in_addresses['Адрес'].str.lower()"
   ]
  },
  {
   "cell_type": "markdown",
   "id": "ba7c1146",
   "metadata": {},
   "source": []
  },
  {
   "cell_type": "code",
   "execution_count": 204,
   "id": "b3140153",
   "metadata": {
    "collapsed": true
   },
   "outputs": [
    {
     "name": "stderr",
     "output_type": "stream",
     "text": [
      "C:\\Users\\User\\AppData\\Local\\Temp\\ipykernel_1484\\1499616036.py:1: SettingWithCopyWarning: \n",
      "A value is trying to be set on a copy of a slice from a DataFrame.\n",
      "Try using .loc[row_indexer,col_indexer] = value instead\n",
      "\n",
      "See the caveats in the documentation: https://pandas.pydata.org/pandas-docs/stable/user_guide/indexing.html#returning-a-view-versus-a-copy\n",
      "  region['регион_обработ'] = region['Регион'].str.lower()\n"
     ]
    }
   ],
   "source": [
    "region['регион_обработ'] = region['Регион'].str.lower()"
   ]
  },
  {
   "cell_type": "code",
   "execution_count": 309,
   "id": "588185cf",
   "metadata": {
    "collapsed": true
   },
   "outputs": [
    {
     "name": "stderr",
     "output_type": "stream",
     "text": [
      "C:\\Users\\User\\AppData\\Local\\Temp\\ipykernel_1484\\1573870015.py:1: SettingWithCopyWarning: \n",
      "A value is trying to be set on a copy of a slice from a DataFrame.\n",
      "Try using .loc[row_indexer,col_indexer] = value instead\n",
      "\n",
      "See the caveats in the documentation: https://pandas.pydata.org/pandas-docs/stable/user_guide/indexing.html#returning-a-view-versus-a-copy\n",
      "  region['Тип_региона_обработ'] = region['Тип региона'].str.lower()\n"
     ]
    }
   ],
   "source": [
    "region['Тип_региона_обработ'] = region['Тип региона'].str.lower()"
   ]
  },
  {
   "cell_type": "markdown",
   "id": "150b3f8c",
   "metadata": {},
   "source": []
  },
  {
   "cell_type": "code",
   "execution_count": 206,
   "id": "7cc7f412",
   "metadata": {},
   "outputs": [],
   "source": [
    "district['район_обработ'] = district['Район'].str.lower()"
   ]
  },
  {
   "cell_type": "code",
   "execution_count": 316,
   "id": "8abe3505",
   "metadata": {},
   "outputs": [],
   "source": [
    "district['тип_района_обработ'] = district['Тип района'].str.lower()"
   ]
  },
  {
   "cell_type": "markdown",
   "id": "5a0a9f43",
   "metadata": {},
   "source": []
  },
  {
   "cell_type": "code",
   "execution_count": 248,
   "id": "5f4f1ac4",
   "metadata": {},
   "outputs": [],
   "source": [
    "city[\"город_обработ\"] = city['Город'].str.lower()"
   ]
  },
  {
   "cell_type": "code",
   "execution_count": 318,
   "id": "e09f7a7c",
   "metadata": {},
   "outputs": [],
   "source": [
    "city[\"тип_города_обработ\"] = city['Тип города'].str.lower()"
   ]
  },
  {
   "cell_type": "markdown",
   "id": "afac6d26",
   "metadata": {},
   "source": []
  },
  {
   "cell_type": "code",
   "execution_count": null,
   "id": "ae12d581",
   "metadata": {},
   "outputs": [],
   "source": [
    "selo[\"Н/п_обработ\"] = selo['Н/п'].str.lower()"
   ]
  },
  {
   "cell_type": "code",
   "execution_count": null,
   "id": "919f8f94",
   "metadata": {},
   "outputs": [],
   "source": [
    "selo[\"тип_н/п_обработ\"] = selo['Тип н/п'].str.lower()"
   ]
  },
  {
   "cell_type": "code",
   "execution_count": null,
   "id": "16077fce",
   "metadata": {},
   "outputs": [],
   "source": []
  },
  {
   "cell_type": "code",
   "execution_count": 346,
   "id": "e5d1f9cc",
   "metadata": {},
   "outputs": [],
   "source": [
    "street['Улица_обработ'] = street['Улица'].str.lower()"
   ]
  },
  {
   "cell_type": "code",
   "execution_count": 347,
   "id": "ee864f0a",
   "metadata": {},
   "outputs": [],
   "source": [
    "street['тип_улицы_обработ'] = street['Тип улицы'].str.lower()"
   ]
  },
  {
   "cell_type": "code",
   "execution_count": null,
   "id": "40686649",
   "metadata": {},
   "outputs": [],
   "source": []
  },
  {
   "cell_type": "code",
   "execution_count": 352,
   "id": "c3c069de",
   "metadata": {},
   "outputs": [
    {
     "data": {
      "text/html": [
       "<div>\n",
       "<style scoped>\n",
       "    .dataframe tbody tr th:only-of-type {\n",
       "        vertical-align: middle;\n",
       "    }\n",
       "\n",
       "    .dataframe tbody tr th {\n",
       "        vertical-align: top;\n",
       "    }\n",
       "\n",
       "    .dataframe thead th {\n",
       "        text-align: right;\n",
       "    }\n",
       "</style>\n",
       "<table border=\"1\" class=\"dataframe\">\n",
       "  <thead>\n",
       "    <tr style=\"text-align: right;\">\n",
       "      <th></th>\n",
       "      <th>Тип дома</th>\n",
       "      <th>Дом</th>\n",
       "      <th>Дом_обработ</th>\n",
       "      <th>Тип_дома_обработ</th>\n",
       "    </tr>\n",
       "  </thead>\n",
       "  <tbody>\n",
       "    <tr>\n",
       "      <th>0</th>\n",
       "      <td>д</td>\n",
       "      <td>65</td>\n",
       "      <td>65</td>\n",
       "      <td>д</td>\n",
       "    </tr>\n",
       "    <tr>\n",
       "      <th>1</th>\n",
       "      <td>д</td>\n",
       "      <td>134</td>\n",
       "      <td>134</td>\n",
       "      <td>д</td>\n",
       "    </tr>\n",
       "    <tr>\n",
       "      <th>2</th>\n",
       "      <td>д</td>\n",
       "      <td>7/1</td>\n",
       "      <td>7/1</td>\n",
       "      <td>д</td>\n",
       "    </tr>\n",
       "    <tr>\n",
       "      <th>3</th>\n",
       "      <td>зд</td>\n",
       "      <td>7/4</td>\n",
       "      <td>7/4</td>\n",
       "      <td>зд</td>\n",
       "    </tr>\n",
       "    <tr>\n",
       "      <th>4</th>\n",
       "      <td>д</td>\n",
       "      <td>30</td>\n",
       "      <td>30</td>\n",
       "      <td>д</td>\n",
       "    </tr>\n",
       "  </tbody>\n",
       "</table>\n",
       "</div>"
      ],
      "text/plain": [
       "  Тип дома  Дом Дом_обработ Тип_дома_обработ\n",
       "0        д   65          65                д\n",
       "1        д  134         134                д\n",
       "2        д  7/1         7/1                д\n",
       "3       зд  7/4         7/4               зд\n",
       "4        д   30          30                д"
      ]
     },
     "execution_count": 352,
     "metadata": {},
     "output_type": "execute_result"
    }
   ],
   "source": [
    "house.head()"
   ]
  },
  {
   "cell_type": "code",
   "execution_count": null,
   "id": "d715ee19",
   "metadata": {},
   "outputs": [],
   "source": [
    "house[['points', 'assists']] = house[['points', 'assists']].astype (int)"
   ]
  },
  {
   "cell_type": "code",
   "execution_count": 348,
   "id": "cfc5dfce",
   "metadata": {},
   "outputs": [],
   "source": [
    "house['Дом_обработ'] = house['Дом'].str.lower()"
   ]
  },
  {
   "cell_type": "code",
   "execution_count": 349,
   "id": "52e5a4fd",
   "metadata": {},
   "outputs": [],
   "source": [
    "house['Тип_дома_обработ'] = house['Тип дома'].str.lower()"
   ]
  },
  {
   "cell_type": "markdown",
   "id": "7943c90d",
   "metadata": {},
   "source": []
  },
  {
   "cell_type": "markdown",
   "id": "239142ee",
   "metadata": {},
   "source": [
    "### Ниже поиск"
   ]
  },
  {
   "cell_type": "code",
   "execution_count": 340,
   "id": "2531db86",
   "metadata": {},
   "outputs": [
    {
     "data": {
      "text/html": [
       "<div>\n",
       "<style scoped>\n",
       "    .dataframe tbody tr th:only-of-type {\n",
       "        vertical-align: middle;\n",
       "    }\n",
       "\n",
       "    .dataframe tbody tr th {\n",
       "        vertical-align: top;\n",
       "    }\n",
       "\n",
       "    .dataframe thead th {\n",
       "        text-align: right;\n",
       "    }\n",
       "</style>\n",
       "<table border=\"1\" class=\"dataframe\">\n",
       "  <thead>\n",
       "    <tr style=\"text-align: right;\">\n",
       "      <th></th>\n",
       "      <th>Адрес</th>\n",
       "      <th>адрес_обработ</th>\n",
       "      <th>Регион</th>\n",
       "      <th>Тип региона</th>\n",
       "      <th>Тип района</th>\n",
       "      <th>Район</th>\n",
       "      <th>Тип города</th>\n",
       "      <th>Город</th>\n",
       "    </tr>\n",
       "  </thead>\n",
       "  <tbody>\n",
       "    <tr>\n",
       "      <th>0</th>\n",
       "      <td>Астраханская обл, г Харабали, кв-л 8-й, д 2Б</td>\n",
       "      <td>астраханская обл, г харабали, кв-л 8-й, д 2б</td>\n",
       "      <td>Астраханская</td>\n",
       "      <td>обл</td>\n",
       "      <td>NaN</td>\n",
       "      <td>NaN</td>\n",
       "      <td>г</td>\n",
       "      <td>Харабали</td>\n",
       "    </tr>\n",
       "    <tr>\n",
       "      <th>1</th>\n",
       "      <td>г Астрахань, пер Костромской, д 26/5</td>\n",
       "      <td>г астрахань, пер костромской, д 26/5</td>\n",
       "      <td>NaN</td>\n",
       "      <td>NaN</td>\n",
       "      <td>NaN</td>\n",
       "      <td>NaN</td>\n",
       "      <td>г</td>\n",
       "      <td>Астрахань</td>\n",
       "    </tr>\n",
       "    <tr>\n",
       "      <th>2</th>\n",
       "      <td>г Астрахань, ул Бориса Алексеева, д 2Б, пом 98</td>\n",
       "      <td>г астрахань, ул бориса алексеева, д 2б, пом 98</td>\n",
       "      <td>NaN</td>\n",
       "      <td>NaN</td>\n",
       "      <td>NaN</td>\n",
       "      <td>NaN</td>\n",
       "      <td>г</td>\n",
       "      <td>Астрахань</td>\n",
       "    </tr>\n",
       "    <tr>\n",
       "      <th>3</th>\n",
       "      <td>Брянская обл, г Жуковка, ул Калинина, д 30А</td>\n",
       "      <td>брянская обл, г жуковка, ул калинина, д 30а</td>\n",
       "      <td>Брянская</td>\n",
       "      <td>обл</td>\n",
       "      <td>NaN</td>\n",
       "      <td>NaN</td>\n",
       "      <td>г</td>\n",
       "      <td>Жуковка</td>\n",
       "    </tr>\n",
       "    <tr>\n",
       "      <th>4</th>\n",
       "      <td>Брянская обл, г Почеп, ул Усиевича, стр 78А</td>\n",
       "      <td>брянская обл, г почеп, ул усиевича, стр 78а</td>\n",
       "      <td>Брянская</td>\n",
       "      <td>обл</td>\n",
       "      <td>NaN</td>\n",
       "      <td>NaN</td>\n",
       "      <td>г</td>\n",
       "      <td>Почеп</td>\n",
       "    </tr>\n",
       "  </tbody>\n",
       "</table>\n",
       "</div>"
      ],
      "text/plain": [
       "                                            Адрес  \\\n",
       "0    Астраханская обл, г Харабали, кв-л 8-й, д 2Б   \n",
       "1            г Астрахань, пер Костромской, д 26/5   \n",
       "2  г Астрахань, ул Бориса Алексеева, д 2Б, пом 98   \n",
       "3     Брянская обл, г Жуковка, ул Калинина, д 30А   \n",
       "4     Брянская обл, г Почеп, ул Усиевича, стр 78А   \n",
       "\n",
       "                                    адрес_обработ        Регион Тип региона  \\\n",
       "0    астраханская обл, г харабали, кв-л 8-й, д 2б  Астраханская         обл   \n",
       "1            г астрахань, пер костромской, д 26/5           NaN         NaN   \n",
       "2  г астрахань, ул бориса алексеева, д 2б, пом 98           NaN         NaN   \n",
       "3     брянская обл, г жуковка, ул калинина, д 30а      Брянская         обл   \n",
       "4     брянская обл, г почеп, ул усиевича, стр 78а      Брянская         обл   \n",
       "\n",
       "  Тип района Район Тип города      Город  \n",
       "0        NaN   NaN          г   Харабали  \n",
       "1        NaN   NaN          г  Астрахань  \n",
       "2        NaN   NaN          г  Астрахань  \n",
       "3        NaN   NaN          г    Жуковка  \n",
       "4        NaN   NaN          г      Почеп  "
      ]
     },
     "execution_count": 340,
     "metadata": {},
     "output_type": "execute_result"
    }
   ],
   "source": [
    "dont_have_in_addresses.head()"
   ]
  },
  {
   "cell_type": "code",
   "execution_count": 353,
   "id": "1800e0d9",
   "metadata": {},
   "outputs": [
    {
     "name": "stdout",
     "output_type": "stream",
     "text": [
      "<class 'pandas.core.frame.DataFrame'>\n",
      "Int64Index: 1207 entries, 10 to 56154\n",
      "Data columns (total 4 columns):\n",
      " #   Column              Non-Null Count  Dtype \n",
      "---  ------              --------------  ----- \n",
      " 0   Тип района          1207 non-null   object\n",
      " 1   Район               1207 non-null   object\n",
      " 2   район_обработ       1207 non-null   object\n",
      " 3   тип_района_обработ  1207 non-null   object\n",
      "dtypes: object(4)\n",
      "memory usage: 47.1+ KB\n"
     ]
    }
   ],
   "source": [
    "district.info()"
   ]
  },
  {
   "cell_type": "code",
   "execution_count": 311,
   "id": "be9d8a07",
   "metadata": {},
   "outputs": [],
   "source": [
    "# регион обработка\n",
    "for index1, row1 in dont_have_in_addresses.iterrows():\n",
    "    for index2, row2 in region.iterrows():\n",
    "        if row2['регион_обработ']+\" \" + row2['Тип региона'] in row1['адрес_обработ'] or \\\n",
    "        row2['Тип региона']+\" \"+row2['регион_обработ'] in row1['адрес_обработ']:\n",
    "            dont_have_in_addresses.at[index1, 'Тип региона'] = row2['Тип региона']\n",
    "            dont_have_in_addresses.at[index1, 'Регион'] = row2['Регион']"
   ]
  },
  {
   "cell_type": "code",
   "execution_count": 324,
   "id": "96cf221f",
   "metadata": {},
   "outputs": [],
   "source": [
    "# район обработка\n",
    "for index1, row1 in dont_have_in_addresses.iterrows():\n",
    "    for index2, row2 in district.iterrows():\n",
    "        if row2['район_обработ']+ \" \" + row2['тип_района_обработ'] in row1['адрес_обработ'] or \\\n",
    "        row2['тип_района_обработ']+ \" \" + row2['район_обработ'] in row1['адрес_обработ']:\n",
    "            dont_have_in_addresses.at[index1, 'Тип района'] = row2['Тип района']\n",
    "            dont_have_in_addresses.at[index1, 'Район'] = row2['Район']"
   ]
  },
  {
   "cell_type": "code",
   "execution_count": 327,
   "id": "000d9422",
   "metadata": {},
   "outputs": [],
   "source": [
    "# город обработка\n",
    "for index1, row1 in dont_have_in_addresses.iterrows():\n",
    "    for index2, row2 in city.iterrows():\n",
    "        if row2['город_обработ'] + \" \" + row2['тип_города_обработ'] in row1['адрес_обработ'] or \\\n",
    "        row2['тип_города_обработ'] + \" \" + row2['город_обработ'] in row1['адрес_обработ']:\n",
    "            dont_have_in_addresses.at[index1, 'Тип города'] = row2['Тип города']\n",
    "            dont_have_in_addresses.at[index1, 'Город'] = row2['Город']"
   ]
  },
  {
   "cell_type": "code",
   "execution_count": 341,
   "id": "26c042ec",
   "metadata": {},
   "outputs": [],
   "source": [
    "# н/п обработка\n",
    "for index1, row1 in dont_have_in_addresses.iterrows():\n",
    "    for index2, row2 in selo.iterrows():\n",
    "        if row2['Н/п_обработ'] + \" \" + row2['тип_н/п_обработ'] in row1['адрес_обработ'] or \\\n",
    "         row2['тип_н/п_обработ'] + \" \" + row2['Н/п_обработ'] in row1['адрес_обработ']:\n",
    "            dont_have_in_addresses.at[index1, 'Н/п'] = row2['Н/п']\n",
    "            dont_have_in_addresses.at[index1, 'Тип н/п'] = row2['Тип н/п']"
   ]
  },
  {
   "cell_type": "code",
   "execution_count": 350,
   "id": "9822bdd5",
   "metadata": {},
   "outputs": [],
   "source": [
    "# улица обработка\n",
    "for index1, row1 in dont_have_in_addresses.iterrows():\n",
    "    for index2, row2 in street.iterrows():\n",
    "        if row2['Улица_обработ'] + \" \" + row2['тип_улицы_обработ'] in row1['адрес_обработ'] or \\\n",
    "         row2['тип_улицы_обработ'] + \" \" + row2['Улица_обработ'] in row1['адрес_обработ']:\n",
    "            dont_have_in_addresses.at[index1, 'Улица'] = row2['Улица']\n",
    "            dont_have_in_addresses.at[index1, 'Тип улицы'] = row2['Тип улицы']"
   ]
  },
  {
   "cell_type": "code",
   "execution_count": 351,
   "id": "f17a30bb",
   "metadata": {},
   "outputs": [
    {
     "ename": "TypeError",
     "evalue": "unsupported operand type(s) for +: 'float' and 'str'",
     "output_type": "error",
     "traceback": [
      "\u001b[1;31m---------------------------------------------------------------------------\u001b[0m",
      "\u001b[1;31mTypeError\u001b[0m                                 Traceback (most recent call last)",
      "Cell \u001b[1;32mIn[351], line 4\u001b[0m\n\u001b[0;32m      2\u001b[0m \u001b[38;5;28;01mfor\u001b[39;00m index1, row1 \u001b[38;5;129;01min\u001b[39;00m dont_have_in_addresses\u001b[38;5;241m.\u001b[39miterrows():\n\u001b[0;32m      3\u001b[0m     \u001b[38;5;28;01mfor\u001b[39;00m index2, row2 \u001b[38;5;129;01min\u001b[39;00m house\u001b[38;5;241m.\u001b[39miterrows():\n\u001b[1;32m----> 4\u001b[0m         \u001b[38;5;28;01mif\u001b[39;00m row2[\u001b[38;5;124m'\u001b[39m\u001b[38;5;124mДом_обработ\u001b[39m\u001b[38;5;124m'\u001b[39m] \u001b[38;5;241m+\u001b[39m \u001b[38;5;124m\"\u001b[39m\u001b[38;5;124m \u001b[39m\u001b[38;5;124m\"\u001b[39m \u001b[38;5;241m+\u001b[39m row2[\u001b[38;5;124m'\u001b[39m\u001b[38;5;124mТип_дома_обработ\u001b[39m\u001b[38;5;124m'\u001b[39m] \u001b[38;5;129;01min\u001b[39;00m row1[\u001b[38;5;124m'\u001b[39m\u001b[38;5;124mадрес_обработ\u001b[39m\u001b[38;5;124m'\u001b[39m] \u001b[38;5;129;01mor\u001b[39;00m \\\n\u001b[0;32m      5\u001b[0m          row2[\u001b[38;5;124m'\u001b[39m\u001b[38;5;124mТип_дома_обработ\u001b[39m\u001b[38;5;124m'\u001b[39m] \u001b[38;5;241m+\u001b[39m \u001b[38;5;124m\"\u001b[39m\u001b[38;5;124m \u001b[39m\u001b[38;5;124m\"\u001b[39m \u001b[38;5;241m+\u001b[39m row2[\u001b[38;5;124m'\u001b[39m\u001b[38;5;124mДом_обработ\u001b[39m\u001b[38;5;124m'\u001b[39m] \u001b[38;5;129;01min\u001b[39;00m row1[\u001b[38;5;124m'\u001b[39m\u001b[38;5;124mадрес_обработ\u001b[39m\u001b[38;5;124m'\u001b[39m]:\n\u001b[0;32m      6\u001b[0m             dont_have_in_addresses\u001b[38;5;241m.\u001b[39mat[index1, \u001b[38;5;124m'\u001b[39m\u001b[38;5;124mДом\u001b[39m\u001b[38;5;124m'\u001b[39m] \u001b[38;5;241m=\u001b[39m row2[\u001b[38;5;124m'\u001b[39m\u001b[38;5;124mДом\u001b[39m\u001b[38;5;124m'\u001b[39m]\n\u001b[0;32m      7\u001b[0m             dont_have_in_addresses\u001b[38;5;241m.\u001b[39mat[index1, \u001b[38;5;124m'\u001b[39m\u001b[38;5;124mТип дома\u001b[39m\u001b[38;5;124m'\u001b[39m] \u001b[38;5;241m=\u001b[39m row2[\u001b[38;5;124m'\u001b[39m\u001b[38;5;124mТип дома\u001b[39m\u001b[38;5;124m'\u001b[39m]\n",
      "\u001b[1;31mTypeError\u001b[0m: unsupported operand type(s) for +: 'float' and 'str'"
     ]
    }
   ],
   "source": [
    "# дом обработка\n",
    "for index1, row1 in dont_have_in_addresses.iterrows():\n",
    "    for index2, row2 in house.iterrows():\n",
    "        if row2['Дом_обработ'].astype(str) + \" \" + row2['Тип_дома_обработ'].astype(str) in row1['адрес_обработ'] or \\\n",
    "         row2['Тип_дома_обработ'].astype(str) + \" \" + row2['Дом_обработ'].astype(str) in row1['адрес_обработ']:\n",
    "            dont_have_in_addresses.at[index1, 'Дом'] = row2['Дом']\n",
    "            dont_have_in_addresses.at[index1, 'Тип дома'] = row2['Тип дома']"
   ]
  },
  {
   "cell_type": "code",
   "execution_count": null,
   "id": "d68bb31b",
   "metadata": {},
   "outputs": [],
   "source": [
    "dont_have_in_addresses.to_excel(r'C:\\Users\\User\\Desktop\\Аналитика Капралов\\временно\\success.xlsx')"
   ]
  },
  {
   "cell_type": "code",
   "execution_count": null,
   "id": "650625b6",
   "metadata": {},
   "outputs": [],
   "source": []
  }
 ],
 "metadata": {
  "kernelspec": {
   "display_name": "Python 3 (ipykernel)",
   "language": "python",
   "name": "python3"
  },
  "language_info": {
   "codemirror_mode": {
    "name": "ipython",
    "version": 3
   },
   "file_extension": ".py",
   "mimetype": "text/x-python",
   "name": "python",
   "nbconvert_exporter": "python",
   "pygments_lexer": "ipython3",
   "version": "3.11.2"
  }
 },
 "nbformat": 4,
 "nbformat_minor": 5
}
