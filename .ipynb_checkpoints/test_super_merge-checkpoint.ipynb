{
 "cells": [
  {
   "cell_type": "code",
   "execution_count": 3,
   "id": "5817f888",
   "metadata": {},
   "outputs": [],
   "source": [
    "import pandas as pd\n",
    "import os\n",
    "import glob"
   ]
  },
  {
   "cell_type": "code",
   "execution_count": 4,
   "id": "d2e1d691",
   "metadata": {},
   "outputs": [],
   "source": [
    "path = r\"D:\\Analysys Burn\\Википедия\\БЁРН исходники\\Оптовые и розничные продажи по ИНН\\source\"\n",
    "csv_files = glob.glob(os.path.join(path, \"*.csv\"))"
   ]
  },
  {
   "cell_type": "code",
   "execution_count": 6,
   "id": "1bc419a5",
   "metadata": {},
   "outputs": [],
   "source": [
    "li = []\n",
    "\n",
    "for f in csv_files:\n",
    "      \n",
    "    # read the csv file\n",
    "    df = pd.read_csv(f)\n",
    "    li.append(df)  \n",
    "    \n",
    "    \n",
    "    # print the location and filename\n",
    "    # print('Location:', f)\n",
    "    # print('File Name:', f.split(\"\\\\\")[-1])\n",
    "      \n",
    "    # print the content\n",
    "    # print('Content:')\n",
    "    # display(df)\n",
    "    # print()\n",
    "\n",
    "frame = pd.concat(li, axis=0, ignore_index=True)"
   ]
  },
  {
   "cell_type": "code",
   "execution_count": 9,
   "id": "0f70e8d9",
   "metadata": {},
   "outputs": [],
   "source": [
    "frame['ИНН продавца'] = frame['ИНН продавца'].astype(str)"
   ]
  },
  {
   "cell_type": "code",
   "execution_count": 10,
   "id": "3d4fc0c6",
   "metadata": {},
   "outputs": [],
   "source": [
    "frame['ИНН покупателя'] = frame['ИНН покупателя'].astype(str)"
   ]
  },
  {
   "cell_type": "code",
   "execution_count": 11,
   "id": "20c8ed3c",
   "metadata": {
    "scrolled": true
   },
   "outputs": [
    {
     "name": "stdout",
     "output_type": "stream",
     "text": [
      "<class 'pandas.core.frame.DataFrame'>\n",
      "RangeIndex: 613466 entries, 0 to 613465\n",
      "Data columns (total 13 columns):\n",
      " #   Column                      Non-Null Count   Dtype \n",
      "---  ------                      --------------   ----- \n",
      " 0   Дата операции               613466 non-null  object\n",
      " 1   ИНН производителя           613466 non-null  int64 \n",
      " 2   Наименование производителя  613466 non-null  object\n",
      " 3   ИНН продавца                613466 non-null  object\n",
      " 4   Наименование продавца       612778 non-null  object\n",
      " 5   ИНН покупателя              613466 non-null  object\n",
      " 6   Наименование покупателя     194777 non-null  object\n",
      " 7   GTIN                        613466 non-null  int64 \n",
      " 8   ТН ВЭД                      613466 non-null  int64 \n",
      " 9   Наименование товара         613466 non-null  object\n",
      " 10  Тип операции                613466 non-null  object\n",
      " 11  Объем товара (пачек)        613466 non-null  int64 \n",
      " 12  МРЦ                         613466 non-null  int64 \n",
      "dtypes: int64(5), object(8)\n",
      "memory usage: 60.8+ MB\n"
     ]
    }
   ],
   "source": [
    "frame.info()"
   ]
  },
  {
   "cell_type": "code",
   "execution_count": 15,
   "id": "9f1297fc",
   "metadata": {},
   "outputs": [],
   "source": [
    "frame.to_csv(r\"D:\\Analysys Burn\\Википедия\\БЁРН исходники\\Оптовые и розничные продажи по ИНН\\Оптовые и розничные продажи ИНН.csv\")"
   ]
  },
  {
   "cell_type": "code",
   "execution_count": 34,
   "id": "9fbd60e0",
   "metadata": {},
   "outputs": [],
   "source": [
    "burn = pd.read_csv(\n",
    "    r\"D:\\Analysys Burn\\Википедия\\БЁРН исходники\\Оптовые и розничные продажи по ИНН\\Оптовые и розничные продажи ИНН.csv\",\n",
    "    dtype = {'ИНН продавца' : str, 'ИНН покупателя' : str}\n",
    ")"
   ]
  },
  {
   "cell_type": "code",
   "execution_count": 47,
   "id": "01c2b970",
   "metadata": {},
   "outputs": [],
   "source": [
    "burn['Продавец'] = \"Неизвестно\"\n",
    "burn['Покупатель'] = \"Неизвестно\""
   ]
  },
  {
   "cell_type": "code",
   "execution_count": 48,
   "id": "fbde8f0c",
   "metadata": {},
   "outputs": [],
   "source": [
    "burn.loc[burn['ИНН продавца'] == '5047205725.0', 'Продавец'] = '1.Производитель'"
   ]
  },
  {
   "cell_type": "code",
   "execution_count": 49,
   "id": "261b4f67",
   "metadata": {},
   "outputs": [],
   "source": [
    "burn.loc[burn['ИНН покупателя'] == '5047205725.0', 'Покупатель'] = '1.Производитель'"
   ]
  },
  {
   "cell_type": "code",
   "execution_count": 63,
   "id": "2b18ff9f",
   "metadata": {},
   "outputs": [],
   "source": [
    "td = pd.Series(\n",
    "    burn.loc[burn['Продавец'] == '1.Производитель']['ИНН покупателя'].unique()\n",
    ").dropna()"
   ]
  },
  {
   "cell_type": "code",
   "execution_count": 65,
   "id": "234dc51f",
   "metadata": {},
   "outputs": [],
   "source": [
    "condition_for_td = burn['ИНН продавца'].isin(td) & (burn['Продавец'] == 'Неизвестно')"
   ]
  },
  {
   "cell_type": "code",
   "execution_count": 71,
   "id": "6e2bb22e",
   "metadata": {},
   "outputs": [],
   "source": [
    "condition_for_td2 = burn['ИНН покупателя'].isin(td) & (burn['Покупатель'] == 'Неизвестно')"
   ]
  },
  {
   "cell_type": "code",
   "execution_count": null,
   "id": "2c4b2ac3",
   "metadata": {},
   "outputs": [],
   "source": []
  },
  {
   "cell_type": "code",
   "execution_count": 66,
   "id": "0369d39b",
   "metadata": {},
   "outputs": [],
   "source": [
    "burn.loc[condition_for_td, 'Продавец'] = '2.Торговый дом'"
   ]
  },
  {
   "cell_type": "code",
   "execution_count": 68,
   "id": "46e0a8c2",
   "metadata": {},
   "outputs": [],
   "source": [
    "burn.loc[condition_for_td2, 'Покупатель'] = '2.Торговый дом'"
   ]
  },
  {
   "cell_type": "code",
   "execution_count": 69,
   "id": "dee29793",
   "metadata": {},
   "outputs": [
    {
     "data": {
      "text/html": [
       "<div>\n",
       "<style scoped>\n",
       "    .dataframe tbody tr th:only-of-type {\n",
       "        vertical-align: middle;\n",
       "    }\n",
       "\n",
       "    .dataframe tbody tr th {\n",
       "        vertical-align: top;\n",
       "    }\n",
       "\n",
       "    .dataframe thead th {\n",
       "        text-align: right;\n",
       "    }\n",
       "</style>\n",
       "<table border=\"1\" class=\"dataframe\">\n",
       "  <thead>\n",
       "    <tr style=\"text-align: right;\">\n",
       "      <th></th>\n",
       "      <th>Unnamed: 0</th>\n",
       "      <th>Дата операции</th>\n",
       "      <th>ИНН производителя</th>\n",
       "      <th>Наименование производителя</th>\n",
       "      <th>ИНН продавца</th>\n",
       "      <th>Наименование продавца</th>\n",
       "      <th>ИНН покупателя</th>\n",
       "      <th>Наименование покупателя</th>\n",
       "      <th>GTIN</th>\n",
       "      <th>ТН ВЭД</th>\n",
       "      <th>Наименование товара</th>\n",
       "      <th>Тип операции</th>\n",
       "      <th>Объем товара (пачек)</th>\n",
       "      <th>МРЦ</th>\n",
       "      <th>Продавец</th>\n",
       "      <th>Покупатель</th>\n",
       "    </tr>\n",
       "  </thead>\n",
       "  <tbody>\n",
       "    <tr>\n",
       "      <th>0</th>\n",
       "      <td>0</td>\n",
       "      <td>2023-03-30</td>\n",
       "      <td>5047205725</td>\n",
       "      <td>ООО \"БЁРН\"</td>\n",
       "      <td>7743931676.0</td>\n",
       "      <td>ОБЩЕСТВО С ОГРАНИЧЕННОЙ ОТВЕТСТВЕННОСТЬЮ \"АЛЬФ...</td>\n",
       "      <td>NaN</td>\n",
       "      <td>NaN</td>\n",
       "      <td>4650259250143</td>\n",
       "      <td>2403110000</td>\n",
       "      <td>Табак для кальяна (M) Banger Watermelon or mel...</td>\n",
       "      <td>Продажа конечному потребителю</td>\n",
       "      <td>1804</td>\n",
       "      <td>0</td>\n",
       "      <td>Неизвестно</td>\n",
       "      <td>Неизвестно</td>\n",
       "    </tr>\n",
       "    <tr>\n",
       "      <th>1</th>\n",
       "      <td>1</td>\n",
       "      <td>2023-03-30</td>\n",
       "      <td>5047205725</td>\n",
       "      <td>ООО \"БЁРН\"</td>\n",
       "      <td>7743931676.0</td>\n",
       "      <td>ОБЩЕСТВО С ОГРАНИЧЕННОЙ ОТВЕТСТВЕННОСТЬЮ \"АЛЬФ...</td>\n",
       "      <td>NaN</td>\n",
       "      <td>NaN</td>\n",
       "      <td>4650259250105</td>\n",
       "      <td>2403110000</td>\n",
       "      <td>Табак для кальяна (M) Banger Passion Citrus (С...</td>\n",
       "      <td>Продажа конечному потребителю</td>\n",
       "      <td>1769</td>\n",
       "      <td>0</td>\n",
       "      <td>Неизвестно</td>\n",
       "      <td>Неизвестно</td>\n",
       "    </tr>\n",
       "    <tr>\n",
       "      <th>2</th>\n",
       "      <td>2</td>\n",
       "      <td>2023-03-27</td>\n",
       "      <td>5047205725</td>\n",
       "      <td>ООО \"БЁРН\"</td>\n",
       "      <td>5047205725.0</td>\n",
       "      <td>ООО \"БЁРН\"</td>\n",
       "      <td>500725710690.0</td>\n",
       "      <td>ИП Межевич Мария Дмитриевна</td>\n",
       "      <td>4650190059249</td>\n",
       "      <td>2403110000</td>\n",
       "      <td>Табак для кальяна Overdose Kashmir Citrus (Каш...</td>\n",
       "      <td>Передача между УОТ</td>\n",
       "      <td>1660</td>\n",
       "      <td>0</td>\n",
       "      <td>1.Производитель</td>\n",
       "      <td>Неизвестно</td>\n",
       "    </tr>\n",
       "    <tr>\n",
       "      <th>3</th>\n",
       "      <td>3</td>\n",
       "      <td>2023-03-27</td>\n",
       "      <td>5047205725</td>\n",
       "      <td>ООО \"БЁРН\"</td>\n",
       "      <td>5047205725.0</td>\n",
       "      <td>ООО \"БЁРН\"</td>\n",
       "      <td>500725710690.0</td>\n",
       "      <td>ИП Межевич Мария Дмитриевна</td>\n",
       "      <td>4650259252062</td>\n",
       "      <td>2403110000</td>\n",
       "      <td>Табак для кальяна Overdose Sweet Rose (Ягоды с...</td>\n",
       "      <td>Передача между УОТ</td>\n",
       "      <td>1660</td>\n",
       "      <td>0</td>\n",
       "      <td>1.Производитель</td>\n",
       "      <td>Неизвестно</td>\n",
       "    </tr>\n",
       "    <tr>\n",
       "      <th>4</th>\n",
       "      <td>4</td>\n",
       "      <td>2023-03-30</td>\n",
       "      <td>5047205725</td>\n",
       "      <td>ООО \"БЁРН\"</td>\n",
       "      <td>7743931676.0</td>\n",
       "      <td>ОБЩЕСТВО С ОГРАНИЧЕННОЙ ОТВЕТСТВЕННОСТЬЮ \"АЛЬФ...</td>\n",
       "      <td>NaN</td>\n",
       "      <td>NaN</td>\n",
       "      <td>4650259250181</td>\n",
       "      <td>2403110000</td>\n",
       "      <td>Табак для кальяна (M) Banger Yummy gum (Жвачка...</td>\n",
       "      <td>Продажа конечному потребителю</td>\n",
       "      <td>1621</td>\n",
       "      <td>0</td>\n",
       "      <td>Неизвестно</td>\n",
       "      <td>Неизвестно</td>\n",
       "    </tr>\n",
       "    <tr>\n",
       "      <th>...</th>\n",
       "      <td>...</td>\n",
       "      <td>...</td>\n",
       "      <td>...</td>\n",
       "      <td>...</td>\n",
       "      <td>...</td>\n",
       "      <td>...</td>\n",
       "      <td>...</td>\n",
       "      <td>...</td>\n",
       "      <td>...</td>\n",
       "      <td>...</td>\n",
       "      <td>...</td>\n",
       "      <td>...</td>\n",
       "      <td>...</td>\n",
       "      <td>...</td>\n",
       "      <td>...</td>\n",
       "      <td>...</td>\n",
       "    </tr>\n",
       "    <tr>\n",
       "      <th>613461</th>\n",
       "      <td>613461</td>\n",
       "      <td>2023-04-30</td>\n",
       "      <td>5047205725</td>\n",
       "      <td>ООО \"БЁРН\"</td>\n",
       "      <td>7203371540.0</td>\n",
       "      <td>ООО \"АЛАТЫРЬ\"</td>\n",
       "      <td>NaN</td>\n",
       "      <td>NaN</td>\n",
       "      <td>4650190051199</td>\n",
       "      <td>2403110000</td>\n",
       "      <td>Табак для кальяна BlackBurn Irish Cream (Айриш...</td>\n",
       "      <td>Продажа конечному потребителю</td>\n",
       "      <td>1</td>\n",
       "      <td>0</td>\n",
       "      <td>Неизвестно</td>\n",
       "      <td>Неизвестно</td>\n",
       "    </tr>\n",
       "    <tr>\n",
       "      <th>613462</th>\n",
       "      <td>613462</td>\n",
       "      <td>2023-04-24</td>\n",
       "      <td>5047205725</td>\n",
       "      <td>ООО \"БЁРН\"</td>\n",
       "      <td>667415411622.0</td>\n",
       "      <td>ИП Алексеева Екатерина Павловна</td>\n",
       "      <td>NaN</td>\n",
       "      <td>NaN</td>\n",
       "      <td>4650190051298</td>\n",
       "      <td>2403110000</td>\n",
       "      <td>Табак для кальяна BlackBurn Ananas Shock (Анан...</td>\n",
       "      <td>Продажа конечному потребителю</td>\n",
       "      <td>1</td>\n",
       "      <td>0</td>\n",
       "      <td>Неизвестно</td>\n",
       "      <td>Неизвестно</td>\n",
       "    </tr>\n",
       "    <tr>\n",
       "      <th>613463</th>\n",
       "      <td>613463</td>\n",
       "      <td>2023-04-25</td>\n",
       "      <td>5047205725</td>\n",
       "      <td>ООО \"БЁРН\"</td>\n",
       "      <td>590771897418.0</td>\n",
       "      <td>ИП Сафонов Павел Александрович</td>\n",
       "      <td>590619060165.0</td>\n",
       "      <td>ИП Чариев Толиб Эргашович</td>\n",
       "      <td>4650190051137</td>\n",
       "      <td>2403110000</td>\n",
       "      <td>Табак для кальяна BlackBurn Asian Lychee (Азиа...</td>\n",
       "      <td>Передача между УОТ</td>\n",
       "      <td>1</td>\n",
       "      <td>0</td>\n",
       "      <td>Неизвестно</td>\n",
       "      <td>Неизвестно</td>\n",
       "    </tr>\n",
       "    <tr>\n",
       "      <th>613464</th>\n",
       "      <td>613464</td>\n",
       "      <td>2023-04-27</td>\n",
       "      <td>5047205725</td>\n",
       "      <td>ООО \"БЁРН\"</td>\n",
       "      <td>7715441408.0</td>\n",
       "      <td>ООО \"СМАК-СУЛТАНА\"</td>\n",
       "      <td>NaN</td>\n",
       "      <td>NaN</td>\n",
       "      <td>4650190051397</td>\n",
       "      <td>2403110000</td>\n",
       "      <td>Табак для кальяна BlackBurn Rising Star (Рисин...</td>\n",
       "      <td>Продажа конечному потребителю</td>\n",
       "      <td>1</td>\n",
       "      <td>0</td>\n",
       "      <td>2.Торговый дом</td>\n",
       "      <td>2.Торговый дом</td>\n",
       "    </tr>\n",
       "    <tr>\n",
       "      <th>613465</th>\n",
       "      <td>613465</td>\n",
       "      <td>2023-04-26</td>\n",
       "      <td>5047205725</td>\n",
       "      <td>ООО \"БЁРН\"</td>\n",
       "      <td>230214189291.0</td>\n",
       "      <td>ИП Юрлова Татьяна Сергеевна</td>\n",
       "      <td>NaN</td>\n",
       "      <td>NaN</td>\n",
       "      <td>4650190051328</td>\n",
       "      <td>2403110000</td>\n",
       "      <td>Табак для кальяна BlackBurn Apple Shock (Эпл Ш...</td>\n",
       "      <td>Продажа конечному потребителю</td>\n",
       "      <td>1</td>\n",
       "      <td>0</td>\n",
       "      <td>Неизвестно</td>\n",
       "      <td>Неизвестно</td>\n",
       "    </tr>\n",
       "  </tbody>\n",
       "</table>\n",
       "<p>613466 rows × 16 columns</p>\n",
       "</div>"
      ],
      "text/plain": [
       "        Unnamed: 0 Дата операции  ИНН производителя  \\\n",
       "0                0    2023-03-30         5047205725   \n",
       "1                1    2023-03-30         5047205725   \n",
       "2                2    2023-03-27         5047205725   \n",
       "3                3    2023-03-27         5047205725   \n",
       "4                4    2023-03-30         5047205725   \n",
       "...            ...           ...                ...   \n",
       "613461      613461    2023-04-30         5047205725   \n",
       "613462      613462    2023-04-24         5047205725   \n",
       "613463      613463    2023-04-25         5047205725   \n",
       "613464      613464    2023-04-27         5047205725   \n",
       "613465      613465    2023-04-26         5047205725   \n",
       "\n",
       "       Наименование производителя    ИНН продавца  \\\n",
       "0                      ООО \"БЁРН\"    7743931676.0   \n",
       "1                      ООО \"БЁРН\"    7743931676.0   \n",
       "2                      ООО \"БЁРН\"    5047205725.0   \n",
       "3                      ООО \"БЁРН\"    5047205725.0   \n",
       "4                      ООО \"БЁРН\"    7743931676.0   \n",
       "...                           ...             ...   \n",
       "613461                 ООО \"БЁРН\"    7203371540.0   \n",
       "613462                 ООО \"БЁРН\"  667415411622.0   \n",
       "613463                 ООО \"БЁРН\"  590771897418.0   \n",
       "613464                 ООО \"БЁРН\"    7715441408.0   \n",
       "613465                 ООО \"БЁРН\"  230214189291.0   \n",
       "\n",
       "                                    Наименование продавца  ИНН покупателя  \\\n",
       "0       ОБЩЕСТВО С ОГРАНИЧЕННОЙ ОТВЕТСТВЕННОСТЬЮ \"АЛЬФ...             NaN   \n",
       "1       ОБЩЕСТВО С ОГРАНИЧЕННОЙ ОТВЕТСТВЕННОСТЬЮ \"АЛЬФ...             NaN   \n",
       "2                                              ООО \"БЁРН\"  500725710690.0   \n",
       "3                                              ООО \"БЁРН\"  500725710690.0   \n",
       "4       ОБЩЕСТВО С ОГРАНИЧЕННОЙ ОТВЕТСТВЕННОСТЬЮ \"АЛЬФ...             NaN   \n",
       "...                                                   ...             ...   \n",
       "613461                                      ООО \"АЛАТЫРЬ\"             NaN   \n",
       "613462                    ИП Алексеева Екатерина Павловна             NaN   \n",
       "613463                     ИП Сафонов Павел Александрович  590619060165.0   \n",
       "613464                                 ООО \"СМАК-СУЛТАНА\"             NaN   \n",
       "613465                        ИП Юрлова Татьяна Сергеевна             NaN   \n",
       "\n",
       "            Наименование покупателя           GTIN      ТН ВЭД  \\\n",
       "0                               NaN  4650259250143  2403110000   \n",
       "1                               NaN  4650259250105  2403110000   \n",
       "2       ИП Межевич Мария Дмитриевна  4650190059249  2403110000   \n",
       "3       ИП Межевич Мария Дмитриевна  4650259252062  2403110000   \n",
       "4                               NaN  4650259250181  2403110000   \n",
       "...                             ...            ...         ...   \n",
       "613461                          NaN  4650190051199  2403110000   \n",
       "613462                          NaN  4650190051298  2403110000   \n",
       "613463    ИП Чариев Толиб Эргашович  4650190051137  2403110000   \n",
       "613464                          NaN  4650190051397  2403110000   \n",
       "613465                          NaN  4650190051328  2403110000   \n",
       "\n",
       "                                      Наименование товара  \\\n",
       "0       Табак для кальяна (M) Banger Watermelon or mel...   \n",
       "1       Табак для кальяна (M) Banger Passion Citrus (С...   \n",
       "2       Табак для кальяна Overdose Kashmir Citrus (Каш...   \n",
       "3       Табак для кальяна Overdose Sweet Rose (Ягоды с...   \n",
       "4       Табак для кальяна (M) Banger Yummy gum (Жвачка...   \n",
       "...                                                   ...   \n",
       "613461  Табак для кальяна BlackBurn Irish Cream (Айриш...   \n",
       "613462  Табак для кальяна BlackBurn Ananas Shock (Анан...   \n",
       "613463  Табак для кальяна BlackBurn Asian Lychee (Азиа...   \n",
       "613464  Табак для кальяна BlackBurn Rising Star (Рисин...   \n",
       "613465  Табак для кальяна BlackBurn Apple Shock (Эпл Ш...   \n",
       "\n",
       "                         Тип операции  Объем товара (пачек)  МРЦ  \\\n",
       "0       Продажа конечному потребителю                  1804    0   \n",
       "1       Продажа конечному потребителю                  1769    0   \n",
       "2                  Передача между УОТ                  1660    0   \n",
       "3                  Передача между УОТ                  1660    0   \n",
       "4       Продажа конечному потребителю                  1621    0   \n",
       "...                               ...                   ...  ...   \n",
       "613461  Продажа конечному потребителю                     1    0   \n",
       "613462  Продажа конечному потребителю                     1    0   \n",
       "613463             Передача между УОТ                     1    0   \n",
       "613464  Продажа конечному потребителю                     1    0   \n",
       "613465  Продажа конечному потребителю                     1    0   \n",
       "\n",
       "               Продавец      Покупатель  \n",
       "0            Неизвестно      Неизвестно  \n",
       "1            Неизвестно      Неизвестно  \n",
       "2       1.Производитель      Неизвестно  \n",
       "3       1.Производитель      Неизвестно  \n",
       "4            Неизвестно      Неизвестно  \n",
       "...                 ...             ...  \n",
       "613461       Неизвестно      Неизвестно  \n",
       "613462       Неизвестно      Неизвестно  \n",
       "613463       Неизвестно      Неизвестно  \n",
       "613464   2.Торговый дом  2.Торговый дом  \n",
       "613465       Неизвестно      Неизвестно  \n",
       "\n",
       "[613466 rows x 16 columns]"
      ]
     },
     "execution_count": 69,
     "metadata": {},
     "output_type": "execute_result"
    }
   ],
   "source": [
    "burn"
   ]
  },
  {
   "cell_type": "code",
   "execution_count": 48,
   "id": "f7763855",
   "metadata": {},
   "outputs": [],
   "source": [
    "burn.loc[burn['ИНН продавца'] == '5047205725.0', 'Продавец'] = '1.Производитель'"
   ]
  },
  {
   "cell_type": "code",
   "execution_count": 49,
   "id": "9101d948",
   "metadata": {},
   "outputs": [],
   "source": [
    "burn.loc[burn['ИНН покупателя'] == '5047205725.0', 'Покупатель'] = '1.Производитель'"
   ]
  },
  {
   "cell_type": "code",
   "execution_count": null,
   "id": "84fe1982",
   "metadata": {},
   "outputs": [],
   "source": []
  },
  {
   "cell_type": "code",
   "execution_count": 21,
   "id": "6cccd279",
   "metadata": {},
   "outputs": [],
   "source": [
    "td = prod['ИНН покупателя']"
   ]
  },
  {
   "cell_type": "code",
   "execution_count": 22,
   "id": "e02daa3c",
   "metadata": {},
   "outputs": [],
   "source": [
    "td = td.drop_duplicates().dropna()"
   ]
  },
  {
   "cell_type": "code",
   "execution_count": 23,
   "id": "0649a8bf",
   "metadata": {},
   "outputs": [
    {
     "data": {
      "text/plain": [
       "True"
      ]
     },
     "execution_count": 23,
     "metadata": {},
     "output_type": "execute_result"
    }
   ],
   "source": [
    "td.is_unique"
   ]
  },
  {
   "cell_type": "code",
   "execution_count": 24,
   "id": "ea091d1c",
   "metadata": {},
   "outputs": [
    {
     "data": {
      "text/plain": [
       "(26,)"
      ]
     },
     "execution_count": 24,
     "metadata": {},
     "output_type": "execute_result"
    }
   ],
   "source": [
    "td.shape"
   ]
  },
  {
   "cell_type": "code",
   "execution_count": 27,
   "id": "c58a738f",
   "metadata": {},
   "outputs": [],
   "source": [
    "b = burn.merge(\n",
    "    td,\n",
    "    how = 'inner',\n",
    "    left_on='ИНН продавца', \n",
    "    right_on='ИНН покупателя',\n",
    "    suffixes=('_left', '_right'),\n",
    ")"
   ]
  },
  {
   "cell_type": "code",
   "execution_count": 30,
   "id": "48c9f31d",
   "metadata": {},
   "outputs": [],
   "source": [
    "distr = b['ИНН покупателя_left']"
   ]
  },
  {
   "cell_type": "code",
   "execution_count": 31,
   "id": "521f3ab3",
   "metadata": {},
   "outputs": [],
   "source": [
    "distr = distr.drop_duplicates().dropna()"
   ]
  },
  {
   "cell_type": "code",
   "execution_count": 32,
   "id": "79c6281a",
   "metadata": {
    "scrolled": true
   },
   "outputs": [
    {
     "data": {
      "text/plain": [
       "True"
      ]
     },
     "execution_count": 32,
     "metadata": {},
     "output_type": "execute_result"
    }
   ],
   "source": [
    "distr.is_unique"
   ]
  },
  {
   "cell_type": "code",
   "execution_count": 33,
   "id": "4c119f8c",
   "metadata": {},
   "outputs": [
    {
     "data": {
      "text/plain": [
       "(1037,)"
      ]
     },
     "execution_count": 33,
     "metadata": {},
     "output_type": "execute_result"
    }
   ],
   "source": [
    "distr.shape"
   ]
  },
  {
   "cell_type": "code",
   "execution_count": 15,
   "id": "299cc8de",
   "metadata": {},
   "outputs": [
    {
     "data": {
      "text/plain": [
       "array(['7743931676.0'], dtype=object)"
      ]
     },
     "execution_count": 15,
     "metadata": {},
     "output_type": "execute_result"
    }
   ],
   "source": [
    "prod['ИНН продавца'].unique()"
   ]
  },
  {
   "cell_type": "code",
   "execution_count": null,
   "id": "5873a8b1",
   "metadata": {},
   "outputs": [],
   "source": []
  }
 ],
 "metadata": {
  "kernelspec": {
   "display_name": "Python 3 (ipykernel)",
   "language": "python",
   "name": "python3"
  },
  "language_info": {
   "codemirror_mode": {
    "name": "ipython",
    "version": 3
   },
   "file_extension": ".py",
   "mimetype": "text/x-python",
   "name": "python",
   "nbconvert_exporter": "python",
   "pygments_lexer": "ipython3",
   "version": "3.10.11"
  }
 },
 "nbformat": 4,
 "nbformat_minor": 5
}
