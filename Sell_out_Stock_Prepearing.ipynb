{
 "cells": [
  {
   "cell_type": "markdown",
   "id": "253f23cd",
   "metadata": {},
   "source": [
    "from tkinter import ttk\n",
    "from tkinter.messagebox import showerror, showwarning, showinfo"
   ]
  },
  {
   "cell_type": "markdown",
   "id": "5804e714",
   "metadata": {},
   "source": [
    "def open_info(): \n",
    "    showinfo(title=\"Информация\", message=\"Информационное сообщение\")"
   ]
  },
  {
   "cell_type": "markdown",
   "id": "2d2af245",
   "metadata": {},
   "source": [
    "info_button = ttk.Button(text=\"Информация\", command=open_info)\n",
    "info_button.pack(anchor=\"center\", expand=1)"
   ]
  },
  {
   "cell_type": "markdown",
   "id": "0058f89e",
   "metadata": {},
   "source": [
    "# выше окно информационное когда код будет не в notebook"
   ]
  },
  {
   "cell_type": "code",
   "execution_count": 1,
   "id": "84eb6727",
   "metadata": {},
   "outputs": [],
   "source": [
    "import pandas as pd"
   ]
  },
  {
   "cell_type": "code",
   "execution_count": 2,
   "id": "9fec21f7",
   "metadata": {},
   "outputs": [],
   "source": [
    "path_for_news = \"D:\\Analysis Burn\\Дистрибьютеры отчетность\\Source\\Отчеты\\Барнаул Hookah People\\отчет\\обработанные продажи\\\\\""
   ]
  },
  {
   "cell_type": "markdown",
   "id": "b519a2fa",
   "metadata": {},
   "source": [
    "## Чтение нужных файлов"
   ]
  },
  {
   "cell_type": "code",
   "execution_count": 3,
   "id": "7cdd6027",
   "metadata": {},
   "outputs": [],
   "source": [
    "brands = pd.read_excel(r\"D:\\Analysis Burn\\Продукция Burn.xlsx\", sheet_name=\"варианты брендов\")"
   ]
  },
  {
   "cell_type": "code",
   "execution_count": 4,
   "id": "0e8e19ad",
   "metadata": {},
   "outputs": [],
   "source": [
    "groups = pd.read_excel(r\"D:\\Analysis Burn\\Продукция Burn.xlsx\", sheet_name=\"варианты групп\")"
   ]
  },
  {
   "cell_type": "code",
   "execution_count": 5,
   "id": "e6126a37",
   "metadata": {},
   "outputs": [],
   "source": [
    "delicious = pd.read_excel(r\"D:\\Analysis Burn\\Продукция Burn.xlsx\", sheet_name=\"варианты вкусов\")"
   ]
  },
  {
   "cell_type": "code",
   "execution_count": 6,
   "id": "0c2ef437",
   "metadata": {},
   "outputs": [],
   "source": [
    "gramming = pd.read_excel(r\"D:\\Analysis Burn\\Продукция Burn.xlsx\", sheet_name=\"варианты граммовок\")"
   ]
  },
  {
   "cell_type": "code",
   "execution_count": 48,
   "id": "e3a9e204",
   "metadata": {},
   "outputs": [],
   "source": [
    "sell_out = pd.read_excel(r\"D:\\Analysis Burn\\Дистрибьютеры отчетность\\Source\\Отчеты\\Барнаул Hookah People\\отчет\\обработанные продажи\\Продажи Неделя 21 (22.05.2023).xlsx\")"
   ]
  },
  {
   "cell_type": "code",
   "execution_count": 9,
   "id": "1a07289c",
   "metadata": {},
   "outputs": [],
   "source": [
    "stock = pd.read_excel(r\"D:\\Analysis Burn\\Дистрибьютеры отчетность\\Source\\Отчеты\\Барнаул Hookah People\\отчет\\обработанные продажи\\Продажи Неделя 21 (22.05.2023).xlsx\")"
   ]
  },
  {
   "cell_type": "markdown",
   "id": "50d877e9",
   "metadata": {},
   "source": [
    "## Преобразование в UPPERCASE колонок"
   ]
  },
  {
   "cell_type": "code",
   "execution_count": 10,
   "id": "306978ac",
   "metadata": {},
   "outputs": [],
   "source": [
    "sell_out['Бренд'] = sell_out['Бренд'].str.strip()\n",
    "stock['Бренд'] = stock['Бренд'].str.strip()"
   ]
  },
  {
   "cell_type": "code",
   "execution_count": 11,
   "id": "d789ff1e",
   "metadata": {},
   "outputs": [],
   "source": [
    "sell_out['Бренд'] = sell_out['Бренд'].str.upper()\n",
    "stock['Бренд'] = stock['Бренд'].str.upper()"
   ]
  },
  {
   "cell_type": "code",
   "execution_count": null,
   "id": "6d7650cd",
   "metadata": {},
   "outputs": [],
   "source": []
  },
  {
   "cell_type": "code",
   "execution_count": 12,
   "id": "5c690dbd",
   "metadata": {},
   "outputs": [],
   "source": [
    "sell_out['Группа'] = sell_out['Группа'].str.strip()\n",
    "stock['Группа'] = stock['Группа'].str.strip()"
   ]
  },
  {
   "cell_type": "code",
   "execution_count": 13,
   "id": "50cefeb3",
   "metadata": {},
   "outputs": [],
   "source": [
    "sell_out['Группа'] = sell_out['Группа'].str.upper()\n",
    "stock['Группа'] = stock['Группа'].str.upper()"
   ]
  },
  {
   "cell_type": "code",
   "execution_count": null,
   "id": "d7c39132",
   "metadata": {},
   "outputs": [],
   "source": []
  },
  {
   "cell_type": "code",
   "execution_count": 14,
   "id": "4fca9c62",
   "metadata": {},
   "outputs": [],
   "source": [
    "sell_out['Вкус'] = sell_out['Вкус'].str.strip()\n",
    "stock['Вкус'] = stock['Вкус'].str.strip()"
   ]
  },
  {
   "cell_type": "code",
   "execution_count": 15,
   "id": "f0b70676",
   "metadata": {},
   "outputs": [],
   "source": [
    "sell_out['Вкус'] = sell_out['Вкус'].str.upper()\n",
    "stock['Вкус'] = stock['Вкус'].str.upper()"
   ]
  },
  {
   "cell_type": "code",
   "execution_count": null,
   "id": "81d49b43",
   "metadata": {},
   "outputs": [],
   "source": []
  },
  {
   "cell_type": "code",
   "execution_count": 16,
   "id": "51a55264",
   "metadata": {
    "collapsed": true
   },
   "outputs": [
    {
     "ename": "AttributeError",
     "evalue": "Can only use .str accessor with string values!",
     "output_type": "error",
     "traceback": [
      "\u001b[1;31m---------------------------------------------------------------------------\u001b[0m",
      "\u001b[1;31mAttributeError\u001b[0m                            Traceback (most recent call last)",
      "Cell \u001b[1;32mIn[16], line 1\u001b[0m\n\u001b[1;32m----> 1\u001b[0m sell_out[\u001b[38;5;124m'\u001b[39m\u001b[38;5;124mГраммовка\u001b[39m\u001b[38;5;124m'\u001b[39m] \u001b[38;5;241m=\u001b[39m \u001b[43msell_out\u001b[49m\u001b[43m[\u001b[49m\u001b[38;5;124;43m'\u001b[39;49m\u001b[38;5;124;43mГраммовка\u001b[39;49m\u001b[38;5;124;43m'\u001b[39;49m\u001b[43m]\u001b[49m\u001b[38;5;241;43m.\u001b[39;49m\u001b[43mstr\u001b[49m\u001b[38;5;241m.\u001b[39mstrip()\n\u001b[0;32m      2\u001b[0m stock[\u001b[38;5;124m'\u001b[39m\u001b[38;5;124mГраммовка\u001b[39m\u001b[38;5;124m'\u001b[39m] \u001b[38;5;241m=\u001b[39m stock[\u001b[38;5;124m'\u001b[39m\u001b[38;5;124mГраммовка\u001b[39m\u001b[38;5;124m'\u001b[39m]\u001b[38;5;241m.\u001b[39mstr\u001b[38;5;241m.\u001b[39mstrip()\n",
      "File \u001b[1;32mC:\\ProgramData\\anaconda3\\envs\\analytics\\lib\\site-packages\\pandas\\core\\generic.py:5902\u001b[0m, in \u001b[0;36mNDFrame.__getattr__\u001b[1;34m(self, name)\u001b[0m\n\u001b[0;32m   5895\u001b[0m \u001b[38;5;28;01mif\u001b[39;00m (\n\u001b[0;32m   5896\u001b[0m     name \u001b[38;5;129;01mnot\u001b[39;00m \u001b[38;5;129;01min\u001b[39;00m \u001b[38;5;28mself\u001b[39m\u001b[38;5;241m.\u001b[39m_internal_names_set\n\u001b[0;32m   5897\u001b[0m     \u001b[38;5;129;01mand\u001b[39;00m name \u001b[38;5;129;01mnot\u001b[39;00m \u001b[38;5;129;01min\u001b[39;00m \u001b[38;5;28mself\u001b[39m\u001b[38;5;241m.\u001b[39m_metadata\n\u001b[0;32m   5898\u001b[0m     \u001b[38;5;129;01mand\u001b[39;00m name \u001b[38;5;129;01mnot\u001b[39;00m \u001b[38;5;129;01min\u001b[39;00m \u001b[38;5;28mself\u001b[39m\u001b[38;5;241m.\u001b[39m_accessors\n\u001b[0;32m   5899\u001b[0m     \u001b[38;5;129;01mand\u001b[39;00m \u001b[38;5;28mself\u001b[39m\u001b[38;5;241m.\u001b[39m_info_axis\u001b[38;5;241m.\u001b[39m_can_hold_identifiers_and_holds_name(name)\n\u001b[0;32m   5900\u001b[0m ):\n\u001b[0;32m   5901\u001b[0m     \u001b[38;5;28;01mreturn\u001b[39;00m \u001b[38;5;28mself\u001b[39m[name]\n\u001b[1;32m-> 5902\u001b[0m \u001b[38;5;28;01mreturn\u001b[39;00m \u001b[38;5;28;43mobject\u001b[39;49m\u001b[38;5;241;43m.\u001b[39;49m\u001b[38;5;21;43m__getattribute__\u001b[39;49m\u001b[43m(\u001b[49m\u001b[38;5;28;43mself\u001b[39;49m\u001b[43m,\u001b[49m\u001b[43m \u001b[49m\u001b[43mname\u001b[49m\u001b[43m)\u001b[49m\n",
      "File \u001b[1;32mC:\\ProgramData\\anaconda3\\envs\\analytics\\lib\\site-packages\\pandas\\core\\accessor.py:182\u001b[0m, in \u001b[0;36mCachedAccessor.__get__\u001b[1;34m(self, obj, cls)\u001b[0m\n\u001b[0;32m    179\u001b[0m \u001b[38;5;28;01mif\u001b[39;00m obj \u001b[38;5;129;01mis\u001b[39;00m \u001b[38;5;28;01mNone\u001b[39;00m:\n\u001b[0;32m    180\u001b[0m     \u001b[38;5;66;03m# we're accessing the attribute of the class, i.e., Dataset.geo\u001b[39;00m\n\u001b[0;32m    181\u001b[0m     \u001b[38;5;28;01mreturn\u001b[39;00m \u001b[38;5;28mself\u001b[39m\u001b[38;5;241m.\u001b[39m_accessor\n\u001b[1;32m--> 182\u001b[0m accessor_obj \u001b[38;5;241m=\u001b[39m \u001b[38;5;28;43mself\u001b[39;49m\u001b[38;5;241;43m.\u001b[39;49m\u001b[43m_accessor\u001b[49m\u001b[43m(\u001b[49m\u001b[43mobj\u001b[49m\u001b[43m)\u001b[49m\n\u001b[0;32m    183\u001b[0m \u001b[38;5;66;03m# Replace the property with the accessor object. Inspired by:\u001b[39;00m\n\u001b[0;32m    184\u001b[0m \u001b[38;5;66;03m# https://www.pydanny.com/cached-property.html\u001b[39;00m\n\u001b[0;32m    185\u001b[0m \u001b[38;5;66;03m# We need to use object.__setattr__ because we overwrite __setattr__ on\u001b[39;00m\n\u001b[0;32m    186\u001b[0m \u001b[38;5;66;03m# NDFrame\u001b[39;00m\n\u001b[0;32m    187\u001b[0m \u001b[38;5;28mobject\u001b[39m\u001b[38;5;241m.\u001b[39m\u001b[38;5;21m__setattr__\u001b[39m(obj, \u001b[38;5;28mself\u001b[39m\u001b[38;5;241m.\u001b[39m_name, accessor_obj)\n",
      "File \u001b[1;32mC:\\ProgramData\\anaconda3\\envs\\analytics\\lib\\site-packages\\pandas\\core\\strings\\accessor.py:181\u001b[0m, in \u001b[0;36mStringMethods.__init__\u001b[1;34m(self, data)\u001b[0m\n\u001b[0;32m    178\u001b[0m \u001b[38;5;28;01mdef\u001b[39;00m \u001b[38;5;21m__init__\u001b[39m(\u001b[38;5;28mself\u001b[39m, data) \u001b[38;5;241m-\u001b[39m\u001b[38;5;241m>\u001b[39m \u001b[38;5;28;01mNone\u001b[39;00m:\n\u001b[0;32m    179\u001b[0m     \u001b[38;5;28;01mfrom\u001b[39;00m \u001b[38;5;21;01mpandas\u001b[39;00m\u001b[38;5;21;01m.\u001b[39;00m\u001b[38;5;21;01mcore\u001b[39;00m\u001b[38;5;21;01m.\u001b[39;00m\u001b[38;5;21;01marrays\u001b[39;00m\u001b[38;5;21;01m.\u001b[39;00m\u001b[38;5;21;01mstring_\u001b[39;00m \u001b[38;5;28;01mimport\u001b[39;00m StringDtype\n\u001b[1;32m--> 181\u001b[0m     \u001b[38;5;28mself\u001b[39m\u001b[38;5;241m.\u001b[39m_inferred_dtype \u001b[38;5;241m=\u001b[39m \u001b[38;5;28;43mself\u001b[39;49m\u001b[38;5;241;43m.\u001b[39;49m\u001b[43m_validate\u001b[49m\u001b[43m(\u001b[49m\u001b[43mdata\u001b[49m\u001b[43m)\u001b[49m\n\u001b[0;32m    182\u001b[0m     \u001b[38;5;28mself\u001b[39m\u001b[38;5;241m.\u001b[39m_is_categorical \u001b[38;5;241m=\u001b[39m is_categorical_dtype(data\u001b[38;5;241m.\u001b[39mdtype)\n\u001b[0;32m    183\u001b[0m     \u001b[38;5;28mself\u001b[39m\u001b[38;5;241m.\u001b[39m_is_string \u001b[38;5;241m=\u001b[39m \u001b[38;5;28misinstance\u001b[39m(data\u001b[38;5;241m.\u001b[39mdtype, StringDtype)\n",
      "File \u001b[1;32mC:\\ProgramData\\anaconda3\\envs\\analytics\\lib\\site-packages\\pandas\\core\\strings\\accessor.py:235\u001b[0m, in \u001b[0;36mStringMethods._validate\u001b[1;34m(data)\u001b[0m\n\u001b[0;32m    232\u001b[0m inferred_dtype \u001b[38;5;241m=\u001b[39m lib\u001b[38;5;241m.\u001b[39minfer_dtype(values, skipna\u001b[38;5;241m=\u001b[39m\u001b[38;5;28;01mTrue\u001b[39;00m)\n\u001b[0;32m    234\u001b[0m \u001b[38;5;28;01mif\u001b[39;00m inferred_dtype \u001b[38;5;129;01mnot\u001b[39;00m \u001b[38;5;129;01min\u001b[39;00m allowed_types:\n\u001b[1;32m--> 235\u001b[0m     \u001b[38;5;28;01mraise\u001b[39;00m \u001b[38;5;167;01mAttributeError\u001b[39;00m(\u001b[38;5;124m\"\u001b[39m\u001b[38;5;124mCan only use .str accessor with string values!\u001b[39m\u001b[38;5;124m\"\u001b[39m)\n\u001b[0;32m    236\u001b[0m \u001b[38;5;28;01mreturn\u001b[39;00m inferred_dtype\n",
      "\u001b[1;31mAttributeError\u001b[0m: Can only use .str accessor with string values!"
     ]
    }
   ],
   "source": [
    "sell_out['Граммовка'] = sell_out['Граммовка'].str.strip()\n",
    "stock['Граммовка'] = stock['Граммовка'].str.strip()"
   ]
  },
  {
   "cell_type": "code",
   "execution_count": 17,
   "id": "8585ce94",
   "metadata": {
    "collapsed": true
   },
   "outputs": [
    {
     "ename": "AttributeError",
     "evalue": "Can only use .str accessor with string values!",
     "output_type": "error",
     "traceback": [
      "\u001b[1;31m---------------------------------------------------------------------------\u001b[0m",
      "\u001b[1;31mAttributeError\u001b[0m                            Traceback (most recent call last)",
      "Cell \u001b[1;32mIn[17], line 1\u001b[0m\n\u001b[1;32m----> 1\u001b[0m sell_out[\u001b[38;5;124m'\u001b[39m\u001b[38;5;124mГраммовка\u001b[39m\u001b[38;5;124m'\u001b[39m] \u001b[38;5;241m=\u001b[39m \u001b[43msell_out\u001b[49m\u001b[43m[\u001b[49m\u001b[38;5;124;43m'\u001b[39;49m\u001b[38;5;124;43mГраммовка\u001b[39;49m\u001b[38;5;124;43m'\u001b[39;49m\u001b[43m]\u001b[49m\u001b[38;5;241;43m.\u001b[39;49m\u001b[43mstr\u001b[49m\u001b[38;5;241m.\u001b[39mupper()\n\u001b[0;32m      2\u001b[0m stock[\u001b[38;5;124m'\u001b[39m\u001b[38;5;124mГраммовка\u001b[39m\u001b[38;5;124m'\u001b[39m] \u001b[38;5;241m=\u001b[39m stock[\u001b[38;5;124m'\u001b[39m\u001b[38;5;124mГраммовка\u001b[39m\u001b[38;5;124m'\u001b[39m]\u001b[38;5;241m.\u001b[39mstr\u001b[38;5;241m.\u001b[39mupper()\n",
      "File \u001b[1;32mC:\\ProgramData\\anaconda3\\envs\\analytics\\lib\\site-packages\\pandas\\core\\generic.py:5902\u001b[0m, in \u001b[0;36mNDFrame.__getattr__\u001b[1;34m(self, name)\u001b[0m\n\u001b[0;32m   5895\u001b[0m \u001b[38;5;28;01mif\u001b[39;00m (\n\u001b[0;32m   5896\u001b[0m     name \u001b[38;5;129;01mnot\u001b[39;00m \u001b[38;5;129;01min\u001b[39;00m \u001b[38;5;28mself\u001b[39m\u001b[38;5;241m.\u001b[39m_internal_names_set\n\u001b[0;32m   5897\u001b[0m     \u001b[38;5;129;01mand\u001b[39;00m name \u001b[38;5;129;01mnot\u001b[39;00m \u001b[38;5;129;01min\u001b[39;00m \u001b[38;5;28mself\u001b[39m\u001b[38;5;241m.\u001b[39m_metadata\n\u001b[0;32m   5898\u001b[0m     \u001b[38;5;129;01mand\u001b[39;00m name \u001b[38;5;129;01mnot\u001b[39;00m \u001b[38;5;129;01min\u001b[39;00m \u001b[38;5;28mself\u001b[39m\u001b[38;5;241m.\u001b[39m_accessors\n\u001b[0;32m   5899\u001b[0m     \u001b[38;5;129;01mand\u001b[39;00m \u001b[38;5;28mself\u001b[39m\u001b[38;5;241m.\u001b[39m_info_axis\u001b[38;5;241m.\u001b[39m_can_hold_identifiers_and_holds_name(name)\n\u001b[0;32m   5900\u001b[0m ):\n\u001b[0;32m   5901\u001b[0m     \u001b[38;5;28;01mreturn\u001b[39;00m \u001b[38;5;28mself\u001b[39m[name]\n\u001b[1;32m-> 5902\u001b[0m \u001b[38;5;28;01mreturn\u001b[39;00m \u001b[38;5;28;43mobject\u001b[39;49m\u001b[38;5;241;43m.\u001b[39;49m\u001b[38;5;21;43m__getattribute__\u001b[39;49m\u001b[43m(\u001b[49m\u001b[38;5;28;43mself\u001b[39;49m\u001b[43m,\u001b[49m\u001b[43m \u001b[49m\u001b[43mname\u001b[49m\u001b[43m)\u001b[49m\n",
      "File \u001b[1;32mC:\\ProgramData\\anaconda3\\envs\\analytics\\lib\\site-packages\\pandas\\core\\accessor.py:182\u001b[0m, in \u001b[0;36mCachedAccessor.__get__\u001b[1;34m(self, obj, cls)\u001b[0m\n\u001b[0;32m    179\u001b[0m \u001b[38;5;28;01mif\u001b[39;00m obj \u001b[38;5;129;01mis\u001b[39;00m \u001b[38;5;28;01mNone\u001b[39;00m:\n\u001b[0;32m    180\u001b[0m     \u001b[38;5;66;03m# we're accessing the attribute of the class, i.e., Dataset.geo\u001b[39;00m\n\u001b[0;32m    181\u001b[0m     \u001b[38;5;28;01mreturn\u001b[39;00m \u001b[38;5;28mself\u001b[39m\u001b[38;5;241m.\u001b[39m_accessor\n\u001b[1;32m--> 182\u001b[0m accessor_obj \u001b[38;5;241m=\u001b[39m \u001b[38;5;28;43mself\u001b[39;49m\u001b[38;5;241;43m.\u001b[39;49m\u001b[43m_accessor\u001b[49m\u001b[43m(\u001b[49m\u001b[43mobj\u001b[49m\u001b[43m)\u001b[49m\n\u001b[0;32m    183\u001b[0m \u001b[38;5;66;03m# Replace the property with the accessor object. Inspired by:\u001b[39;00m\n\u001b[0;32m    184\u001b[0m \u001b[38;5;66;03m# https://www.pydanny.com/cached-property.html\u001b[39;00m\n\u001b[0;32m    185\u001b[0m \u001b[38;5;66;03m# We need to use object.__setattr__ because we overwrite __setattr__ on\u001b[39;00m\n\u001b[0;32m    186\u001b[0m \u001b[38;5;66;03m# NDFrame\u001b[39;00m\n\u001b[0;32m    187\u001b[0m \u001b[38;5;28mobject\u001b[39m\u001b[38;5;241m.\u001b[39m\u001b[38;5;21m__setattr__\u001b[39m(obj, \u001b[38;5;28mself\u001b[39m\u001b[38;5;241m.\u001b[39m_name, accessor_obj)\n",
      "File \u001b[1;32mC:\\ProgramData\\anaconda3\\envs\\analytics\\lib\\site-packages\\pandas\\core\\strings\\accessor.py:181\u001b[0m, in \u001b[0;36mStringMethods.__init__\u001b[1;34m(self, data)\u001b[0m\n\u001b[0;32m    178\u001b[0m \u001b[38;5;28;01mdef\u001b[39;00m \u001b[38;5;21m__init__\u001b[39m(\u001b[38;5;28mself\u001b[39m, data) \u001b[38;5;241m-\u001b[39m\u001b[38;5;241m>\u001b[39m \u001b[38;5;28;01mNone\u001b[39;00m:\n\u001b[0;32m    179\u001b[0m     \u001b[38;5;28;01mfrom\u001b[39;00m \u001b[38;5;21;01mpandas\u001b[39;00m\u001b[38;5;21;01m.\u001b[39;00m\u001b[38;5;21;01mcore\u001b[39;00m\u001b[38;5;21;01m.\u001b[39;00m\u001b[38;5;21;01marrays\u001b[39;00m\u001b[38;5;21;01m.\u001b[39;00m\u001b[38;5;21;01mstring_\u001b[39;00m \u001b[38;5;28;01mimport\u001b[39;00m StringDtype\n\u001b[1;32m--> 181\u001b[0m     \u001b[38;5;28mself\u001b[39m\u001b[38;5;241m.\u001b[39m_inferred_dtype \u001b[38;5;241m=\u001b[39m \u001b[38;5;28;43mself\u001b[39;49m\u001b[38;5;241;43m.\u001b[39;49m\u001b[43m_validate\u001b[49m\u001b[43m(\u001b[49m\u001b[43mdata\u001b[49m\u001b[43m)\u001b[49m\n\u001b[0;32m    182\u001b[0m     \u001b[38;5;28mself\u001b[39m\u001b[38;5;241m.\u001b[39m_is_categorical \u001b[38;5;241m=\u001b[39m is_categorical_dtype(data\u001b[38;5;241m.\u001b[39mdtype)\n\u001b[0;32m    183\u001b[0m     \u001b[38;5;28mself\u001b[39m\u001b[38;5;241m.\u001b[39m_is_string \u001b[38;5;241m=\u001b[39m \u001b[38;5;28misinstance\u001b[39m(data\u001b[38;5;241m.\u001b[39mdtype, StringDtype)\n",
      "File \u001b[1;32mC:\\ProgramData\\anaconda3\\envs\\analytics\\lib\\site-packages\\pandas\\core\\strings\\accessor.py:235\u001b[0m, in \u001b[0;36mStringMethods._validate\u001b[1;34m(data)\u001b[0m\n\u001b[0;32m    232\u001b[0m inferred_dtype \u001b[38;5;241m=\u001b[39m lib\u001b[38;5;241m.\u001b[39minfer_dtype(values, skipna\u001b[38;5;241m=\u001b[39m\u001b[38;5;28;01mTrue\u001b[39;00m)\n\u001b[0;32m    234\u001b[0m \u001b[38;5;28;01mif\u001b[39;00m inferred_dtype \u001b[38;5;129;01mnot\u001b[39;00m \u001b[38;5;129;01min\u001b[39;00m allowed_types:\n\u001b[1;32m--> 235\u001b[0m     \u001b[38;5;28;01mraise\u001b[39;00m \u001b[38;5;167;01mAttributeError\u001b[39;00m(\u001b[38;5;124m\"\u001b[39m\u001b[38;5;124mCan only use .str accessor with string values!\u001b[39m\u001b[38;5;124m\"\u001b[39m)\n\u001b[0;32m    236\u001b[0m \u001b[38;5;28;01mreturn\u001b[39;00m inferred_dtype\n",
      "\u001b[1;31mAttributeError\u001b[0m: Can only use .str accessor with string values!"
     ]
    }
   ],
   "source": [
    "sell_out['Граммовка'] = sell_out['Граммовка'].str.upper()\n",
    "stock['Граммовка'] = stock['Граммовка'].str.upper()"
   ]
  },
  {
   "cell_type": "markdown",
   "id": "6190ed8c",
   "metadata": {},
   "source": [
    "# Выгрузка не найденных в справочнике значений"
   ]
  },
  {
   "cell_type": "markdown",
   "id": "52c0c79d",
   "metadata": {},
   "source": [
    "## Получить не найденые бренды"
   ]
  },
  {
   "cell_type": "code",
   "execution_count": 18,
   "id": "d23843d7",
   "metadata": {},
   "outputs": [],
   "source": [
    "new_brands = sell_out.merge(brands, left_on = 'Бренд', how='outer', right_on = 'Бренд (исходный)',indicator=True)"
   ]
  },
  {
   "cell_type": "code",
   "execution_count": 19,
   "id": "20de8654",
   "metadata": {},
   "outputs": [],
   "source": [
    "new_brands = new_brands.loc[new_brands['_merge'] == 'left_only']"
   ]
  },
  {
   "cell_type": "code",
   "execution_count": 20,
   "id": "0a12ed22",
   "metadata": {},
   "outputs": [],
   "source": [
    "new_brands = new_brands['Бренд_x']\n",
    "new_brands = new_brands.drop_duplicates()"
   ]
  },
  {
   "cell_type": "code",
   "execution_count": 21,
   "id": "d964a2c9",
   "metadata": {},
   "outputs": [],
   "source": [
    "check_new_brands = new_brands.empty\n",
    "\n",
    "if check_new_brands == False:\n",
    "    # здесь добаваить появление информационного окна    \n",
    "    print (\"найдены не существующие в справочнике значения\")\n",
    "    new_brands.to_excel(path_for_news + \"new_brands.xlsx\", index=False)"
   ]
  },
  {
   "cell_type": "markdown",
   "id": "6ec45150",
   "metadata": {},
   "source": [
    "# Здесь проверить если есть бренды которые добавить, то добавить и потом дальше выполнять скрипт"
   ]
  },
  {
   "cell_type": "markdown",
   "id": "d8baab0a",
   "metadata": {},
   "source": [
    "## Добавить правильный бренд"
   ]
  },
  {
   "cell_type": "code",
   "execution_count": 22,
   "id": "f8ac4985",
   "metadata": {},
   "outputs": [],
   "source": [
    "sell_out = sell_out.merge(brands, how=\"left\", left_on=\"Бренд\", right_on=\"Бренд (исходный)\" )"
   ]
  },
  {
   "cell_type": "code",
   "execution_count": 23,
   "id": "cd18945f",
   "metadata": {},
   "outputs": [],
   "source": [
    "sell_out = sell_out.drop(columns=['Бренд_x', 'Бренд (исходный)'])\n",
    "sell_out = sell_out.rename(columns={'Бренд_y':'Бренд'})"
   ]
  },
  {
   "cell_type": "markdown",
   "id": "f9513918",
   "metadata": {},
   "source": [
    "## Получить не найденые группы"
   ]
  },
  {
   "cell_type": "code",
   "execution_count": 24,
   "id": "f039da6b",
   "metadata": {},
   "outputs": [],
   "source": [
    "new_groups = sell_out.merge(groups, left_on = 'Группа', how='outer', right_on = 'Исходная группа',indicator=True)"
   ]
  },
  {
   "cell_type": "code",
   "execution_count": 25,
   "id": "e71da14c",
   "metadata": {},
   "outputs": [],
   "source": [
    "new_groups = new_groups.loc[new_groups['_merge'] == 'left_only']"
   ]
  },
  {
   "cell_type": "code",
   "execution_count": 26,
   "id": "7583296f",
   "metadata": {},
   "outputs": [],
   "source": [
    "new_groups = new_groups['Группа_x']\n",
    "new_groups = new_groups.drop_duplicates()"
   ]
  },
  {
   "cell_type": "code",
   "execution_count": 27,
   "id": "4358b589",
   "metadata": {},
   "outputs": [],
   "source": [
    "check_new_groups = new_groups.empty\n",
    "\n",
    "if check_new_groups == False:\n",
    "    # здесь добаваить появление информационного окна    \n",
    "    print (\"найдены не существующие в справочнике значения\")\n",
    "    new_groups.to_excel(path_for_news + \"new_groups.xlsx\", index=False)"
   ]
  },
  {
   "cell_type": "markdown",
   "id": "c628747e",
   "metadata": {},
   "source": [
    "## Получить не найденые вкусы"
   ]
  },
  {
   "cell_type": "code",
   "execution_count": 28,
   "id": "342a1b0e",
   "metadata": {},
   "outputs": [],
   "source": [
    "sell_out['Бренд-Вкус'] = sell_out['Бренд'] + sell_out['Вкус']"
   ]
  },
  {
   "cell_type": "code",
   "execution_count": 29,
   "id": "06c37568",
   "metadata": {
    "scrolled": true
   },
   "outputs": [],
   "source": [
    "sell_out['Бренд-Вкус'] = sell_out['Бренд-Вкус'].str.upper()"
   ]
  },
  {
   "cell_type": "code",
   "execution_count": 30,
   "id": "cbc8cadf",
   "metadata": {},
   "outputs": [],
   "source": [
    "new_delicious = sell_out.merge(delicious, left_on = 'Бренд-Вкус', how='outer', right_on = 'Исходный вкус',indicator=True)"
   ]
  },
  {
   "cell_type": "code",
   "execution_count": 31,
   "id": "8f65ea62",
   "metadata": {},
   "outputs": [],
   "source": [
    "new_delicious = new_delicious.loc[new_delicious['_merge'] == 'left_only']"
   ]
  },
  {
   "cell_type": "code",
   "execution_count": 32,
   "id": "985d4732",
   "metadata": {},
   "outputs": [],
   "source": [
    "new_delicious = new_delicious['Бренд-Вкус']\n",
    "new_delicious = new_delicious.drop_duplicates()"
   ]
  },
  {
   "cell_type": "code",
   "execution_count": 33,
   "id": "ae8be9e5",
   "metadata": {},
   "outputs": [],
   "source": [
    "check_new_delicious = new_delicious.empty\n",
    "\n",
    "if check_new_delicious == False:\n",
    "    # здесь добаваить появление информационного окна    \n",
    "    print (\"найдены не существующие в справочнике значения\")\n",
    "    new_delicious.to_excel(path_for_news + \"new_delicious.xlsx\", index=False)"
   ]
  },
  {
   "cell_type": "markdown",
   "id": "b9692cdb",
   "metadata": {},
   "source": [
    "## Получить не найденые граммовки"
   ]
  },
  {
   "cell_type": "code",
   "execution_count": 38,
   "id": "a04e1f59",
   "metadata": {},
   "outputs": [],
   "source": [
    "new_gramming = sell_out.merge(gramming, left_on = 'Граммовка', how='outer', right_on = 'Исходная граммовка',indicator=True)"
   ]
  },
  {
   "cell_type": "code",
   "execution_count": 39,
   "id": "d5a055f9",
   "metadata": {},
   "outputs": [],
   "source": [
    "new_gramming = new_gramming.loc[new_gramming['_merge'] == 'left_only']"
   ]
  },
  {
   "cell_type": "code",
   "execution_count": 40,
   "id": "cb1037cb",
   "metadata": {},
   "outputs": [],
   "source": [
    "new_gramming = new_gramming['Граммовка_x']\n",
    "new_gramming = new_gramming.drop_duplicates()"
   ]
  },
  {
   "cell_type": "code",
   "execution_count": 41,
   "id": "7b9def11",
   "metadata": {},
   "outputs": [],
   "source": [
    "check_new_gramming = new_gramming.empty\n",
    "\n",
    "if check_new_gramming == False:\n",
    "    # здесь добаваить появление информационного окна    \n",
    "    print (\"найдены не существующие в справочнике значения\")\n",
    "    new_gramming.to_excel(path_for_news + \"new_gramming.xlsx\", index=False)"
   ]
  },
  {
   "cell_type": "markdown",
   "id": "13e4c29a",
   "metadata": {},
   "source": [
    "# Добавление правильных признаков"
   ]
  },
  {
   "cell_type": "markdown",
   "id": "36d63928",
   "metadata": {},
   "source": [
    "## Добавить правильный группу"
   ]
  },
  {
   "cell_type": "code",
   "execution_count": 46,
   "id": "29d3d2f8",
   "metadata": {},
   "outputs": [],
   "source": [
    "sell_out = sell_out.merge(groups, how=\"left\", left_on=\"Группа\", right_on=\"Исходная группа\" )"
   ]
  },
  {
   "cell_type": "code",
   "execution_count": 44,
   "id": "25eea3c0",
   "metadata": {},
   "outputs": [],
   "source": [
    "sell_out = sell_out.drop(columns=['Группа_x', 'Граммовка_x', 'Исходная группа', 'Brand'])\n",
    "sell_out = sell_out.rename(columns={'Группа_y':'Группа',   'Граммовка_y':'Граммовка'})"
   ]
  },
  {
   "cell_type": "markdown",
   "id": "fbce7b69",
   "metadata": {},
   "source": [
    "## Добавить правильный вкус"
   ]
  },
  {
   "cell_type": "code",
   "execution_count": 477,
   "id": "91b6983d",
   "metadata": {},
   "outputs": [],
   "source": [
    "sell_out = sell_out.merge(delicious, how=\"left\", left_on=\"Бренд-Вкус\", right_on=\"Исходный вкус\" )"
   ]
  },
  {
   "cell_type": "code",
   "execution_count": 482,
   "id": "d9580dfa",
   "metadata": {},
   "outputs": [],
   "source": [
    "sell_out = sell_out.drop(columns=['Вкус_x', 'Бренд-Вкус', 'Исходный вкус', 'Код'])\n",
    "sell_out = sell_out.rename(columns={'Вкус_y':'Вкус'})"
   ]
  },
  {
   "cell_type": "markdown",
   "id": "170db45c",
   "metadata": {},
   "source": [
    "## Добавить правильный граммовку"
   ]
  },
  {
   "cell_type": "code",
   "execution_count": 486,
   "id": "29ca6bf9",
   "metadata": {},
   "outputs": [],
   "source": [
    "sell_out = sell_out.merge(gramming, how=\"left\", left_on=\"Граммовка\", right_on=\"Исходная граммовка\" )"
   ]
  },
  {
   "cell_type": "code",
   "execution_count": 488,
   "id": "b230b167",
   "metadata": {},
   "outputs": [],
   "source": [
    "sell_out = sell_out.drop(columns=['Граммовка_x', 'Исходная граммовка'])\n",
    "sell_out = sell_out.rename(columns={'Граммовка_y':'Граммовка'})"
   ]
  },
  {
   "cell_type": "code",
   "execution_count": 490,
   "id": "1f3685b8",
   "metadata": {},
   "outputs": [],
   "source": [
    "sell_out.to_excel(path_for_news + \"sell_out.xlsx\", index=False)"
   ]
  },
  {
   "cell_type": "code",
   "execution_count": null,
   "id": "18d801f7",
   "metadata": {},
   "outputs": [],
   "source": []
  }
 ],
 "metadata": {
  "kernelspec": {
   "display_name": "Python 3 (ipykernel)",
   "language": "python",
   "name": "python3"
  },
  "language_info": {
   "codemirror_mode": {
    "name": "ipython",
    "version": 3
   },
   "file_extension": ".py",
   "mimetype": "text/x-python",
   "name": "python",
   "nbconvert_exporter": "python",
   "pygments_lexer": "ipython3",
   "version": "3.10.11"
  }
 },
 "nbformat": 4,
 "nbformat_minor": 5
}
