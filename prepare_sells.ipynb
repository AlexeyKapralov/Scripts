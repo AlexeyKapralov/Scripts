{
 "cells": [
  {
   "cell_type": "code",
   "execution_count": 51,
   "id": "d90576a9",
   "metadata": {},
   "outputs": [],
   "source": [
    "import pandas as pd"
   ]
  },
  {
   "cell_type": "code",
   "execution_count": 81,
   "id": "a711817f",
   "metadata": {},
   "outputs": [],
   "source": [
    "osh = pd.read_excel(r\"D:\\Analysis Burn\\Дистрибьютеры отчетность\\Source\\Отчеты\\Москва OSHISHA\\2023\\Свод по контрактам май итог 23.xlsx\")"
   ]
  },
  {
   "cell_type": "code",
   "execution_count": 82,
   "id": "e22bfc03",
   "metadata": {},
   "outputs": [],
   "source": [
    "osh.columns = osh.columns.str.strip()\n",
    "osh.columns = osh.columns.str.lower()"
   ]
  },
  {
   "cell_type": "code",
   "execution_count": 83,
   "id": "a9f0b2d6",
   "metadata": {},
   "outputs": [],
   "source": [
    "osh['заказ клиента / реализация.дата отгрузки'] = pd.to_datetime(osh['заказ клиента / реализация.дата отгрузки'], dayfirst=True)"
   ]
  },
  {
   "cell_type": "code",
   "execution_count": 84,
   "id": "d091205c",
   "metadata": {},
   "outputs": [],
   "source": [
    "osh = osh.iloc[:-1, :]"
   ]
  },
  {
   "cell_type": "code",
   "execution_count": 85,
   "id": "8b1a157a",
   "metadata": {},
   "outputs": [],
   "source": [
    "osh = osh.drop(columns={\"родитель\", \"бизнес-регион\", \"группа клиентов (клиенты)\"})"
   ]
  },
  {
   "cell_type": "code",
   "execution_count": 86,
   "id": "06b0aaa8",
   "metadata": {},
   "outputs": [],
   "source": [
    "osh = osh.rename(columns={\"основной менеджер\": \"торговый представитель\"})"
   ]
  },
  {
   "cell_type": "code",
   "execution_count": 87,
   "id": "12dfdd62",
   "metadata": {},
   "outputs": [],
   "source": [
    "osh[\"цена\"] = osh[\"выручка\"] / osh[\"количество\"]"
   ]
  },
  {
   "cell_type": "code",
   "execution_count": 88,
   "id": "744b3f50",
   "metadata": {},
   "outputs": [],
   "source": [
    "osh[\"дистрибьютор\"] = 66"
   ]
  },
  {
   "cell_type": "code",
   "execution_count": 89,
   "id": "d210b274",
   "metadata": {},
   "outputs": [],
   "source": [
    "osh[\"граммовка\"] = (osh['вес (нетто), кг'] * 1000) / osh['количество']"
   ]
  },
  {
   "cell_type": "code",
   "execution_count": 99,
   "id": "e5e377fa",
   "metadata": {},
   "outputs": [],
   "source": [
    "osh[\"граммовка\"] = osh[\"граммовка\"].astype(int)\n",
    "osh[\"количество\"] = osh[\"количество\"].astype(int)\n",
    "osh[\"вес (нетто), кг\"] = osh[\"вес (нетто), кг\"].astype(float)\n",
    "osh[\"цена\"] = osh[\"цена\"].astype(int)\n",
    "osh[\"выручка\"] = osh[\"выручка\"].astype(int)"
   ]
  },
  {
   "cell_type": "code",
   "execution_count": 108,
   "id": "29bfb71a",
   "metadata": {},
   "outputs": [],
   "source": [
    "osh = osh.rename(columns={\"бренд (справочник \\\"номенклатура\\\" (общие))\": \"Бренд\", \n",
    "                          \"код\": \"Код клиента\", \n",
    "                          \"клиент\": \"Клиент\", \n",
    "                          \"адрес доставки\" : \"Адрес доставки\",\n",
    "                          \"заказ клиента / реализация.дата отгрузки\" : \"Дата отгрузки\",\n",
    "                          \"группа\" : \"Группа\",\n",
    "                          \"номенклатура\":\"Вкус\",\n",
    "                          \"сегментпартнера\" : \"Сегмент\",\n",
    "                          \"количество\" : \"Количество шт\",\n",
    "                          \"вес (нетто), кг\" : \"ВЕС\",\n",
    "                          \"цена\" : \"Цена\",\n",
    "                          \"выручка\" : \"стоимость\",\n",
    "                          \"дистрибьютор\" : \"Дистрибьютор\",\n",
    "                          \"торговый представитель\" : \"Торговый представитель\",\n",
    "                          \"граммовка\" : \"Граммовка\"\n",
    "                         })"
   ]
  },
  {
   "cell_type": "code",
   "execution_count": 112,
   "id": "61afe968",
   "metadata": {},
   "outputs": [],
   "source": [
    "osh = osh[['Торговый представитель', \n",
    "     'Код клиента', \n",
    "     'Сегмент', \n",
    "     'Клиент', \n",
    "     'Адрес доставки', \n",
    "     'Дата отгрузки', \n",
    "     'Бренд', \n",
    "     'Группа', \n",
    "     'Вкус', \n",
    "     'Граммовка',\n",
    "     'Количество шт',\n",
    "     'ВЕС', \n",
    "     'Цена', \n",
    "     'стоимость', \n",
    "     'Дистрибьютор'\n",
    "    ]]"
   ]
  }
 ],
 "metadata": {
  "kernelspec": {
   "display_name": "Python 3 (ipykernel)",
   "language": "python",
   "name": "python3"
  },
  "language_info": {
   "codemirror_mode": {
    "name": "ipython",
    "version": 3
   },
   "file_extension": ".py",
   "mimetype": "text/x-python",
   "name": "python",
   "nbconvert_exporter": "python",
   "pygments_lexer": "ipython3",
   "version": "3.10.11"
  }
 },
 "nbformat": 4,
 "nbformat_minor": 5
}
