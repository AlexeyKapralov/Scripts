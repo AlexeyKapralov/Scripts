{
 "cells": [
  {
   "attachments": {},
   "cell_type": "markdown",
   "metadata": {},
   "source": [
    "# Этот notebook с постоянно используемыми функциями"
   ]
  },
  {
   "attachments": {},
   "cell_type": "markdown",
   "metadata": {},
   "source": [
    "## преобразование типа в дату"
   ]
  },
  {
   "cell_type": "code",
   "execution_count": null,
   "metadata": {},
   "outputs": [],
   "source": [
    "# преобразование типа в дату\n",
    "def convert_date(date_series):\n",
    "    if date_series[0:4].isdigit():\n",
    "        # Попытка преобразования с yearfirst=True\n",
    "        converted_dates = pd.to_datetime(date_series, yearfirst=True)\n",
    "    else:\n",
    "        # Если возникла ошибка, пробуем преобразовать с dayfirst=True\n",
    "        converted_dates = pd.to_datetime(date_series, dayfirst=True)\n",
    "    return converted_dates\n",
    "\n",
    "\n",
    "if sell_out['Дата отгрузки'].dtypes != '<M8[ns]':\n",
    "    sell_out['Дата отгрузки'] = sell_out['Дата отгрузки'].apply(convert_date)"
   ]
  },
  {
   "attachments": {},
   "cell_type": "markdown",
   "metadata": {},
   "source": [
    "## Найти граммовку"
   ]
  },
  {
   "cell_type": "code",
   "execution_count": null,
   "metadata": {},
   "outputs": [],
   "source": [
    "frame['Граммовка'] = frame['Наименование товара'].str.extract(r'(\\d{2,3})')"
   ]
  },
  {
   "attachments": {},
   "cell_type": "markdown",
   "metadata": {},
   "source": [
    "## Условный столбец"
   ]
  },
  {
   "cell_type": "code",
   "execution_count": null,
   "metadata": {},
   "outputs": [],
   "source": [
    "conditions = [\n",
    "    (a['_merge'] == 'left_only'),\n",
    "    (a['_merge'] == 'both')\n",
    "]\n",
    "\n",
    "values = ['нет', 'да']\n",
    "\n",
    "a['кб_2'] = np.select(conditions, values)"
   ]
  }
 ],
 "metadata": {
  "language_info": {
   "name": "python"
  },
  "orig_nbformat": 4
 },
 "nbformat": 4,
 "nbformat_minor": 2
}
