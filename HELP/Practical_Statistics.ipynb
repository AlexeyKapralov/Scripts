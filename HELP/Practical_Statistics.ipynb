{
 "cells": [
  {
   "cell_type": "markdown",
   "metadata": {},
   "source": [
    "### Создание модели логистической регрессии и функции для прогнозирования вероятности, что багаж запрещен или нет "
   ]
  },
  {
   "cell_type": "code",
   "execution_count": null,
   "metadata": {},
   "outputs": [],
   "source": [
    "import pandas as pd\n",
    "import statsmodels.api as sm \n",
    "import statsmodels.formula.api as sf\n",
    "import math"
   ]
  },
  {
   "cell_type": "code",
   "execution_count": null,
   "metadata": {},
   "outputs": [],
   "source": [
    "df_train = pd.read_csv(\"https://stepik.org/media/attachments/course/524/test_data_passangers.csv\")\n",
    "df_real = pd.read_csv(\"https://stepik.org/media/attachments/course/524/predict_passangers.csv\")"
   ]
  },
  {
   "cell_type": "code",
   "execution_count": null,
   "metadata": {},
   "outputs": [],
   "source": [
    "def most_suspicious(df_train, df_real):\n",
    "    df_train.is_prohibited = df_train.is_prohibited.apply(lambda x: 1 if x=='Yes' else 0 if x=='No' else pd.NaT)\n",
    "\n",
    "    logit_res = sf.glm('is_prohibited ~ weight + length + width + C(type)', df_train, family=sm.families.Binomial()).fit()\n",
    "\n",
    "    intercept = logit_res.params[0]\n",
    "    Suitcase = logit_res.params[1]\n",
    "    weight = logit_res.params[2]\n",
    "    length = logit_res.params[3]\n",
    "    width = logit_res.params[4]\n",
    "\n",
    "\n",
    "    df_real['probability'] = intercept + df_real['weight']*weight + df_real['length']*length + df_real['width']*width\n",
    "\n",
    "    df_real.loc[df_real['type']=='Suitcase', 'probability'] = df_real.loc[df_real['type']=='Suitcase', 'probability'] + Suitcase\n",
    "\n",
    "    df_real['probability'] = df_real['probability'].apply(lambda x: math.exp(x) / ( math.exp(x) + 1) )\n",
    "\n",
    "    return df_real.loc[df_real['probability'] == df_real['probability'].max(), 'passangers'].values[0]\n"
   ]
  },
  {
   "cell_type": "markdown",
   "metadata": {},
   "source": [
    "### Проверка на нормальность с помощью теста Шапиров-Уилка"
   ]
  },
  {
   "cell_type": "code",
   "execution_count": null,
   "metadata": {},
   "outputs": [],
   "source": [
    "def check_normal_distribution(*args):\n",
    "    p_values = []\n",
    "    for arg in args:\n",
    "        statistic, p_value = stats.shapiro(df[arg])\n",
    "        p_values.append(p_value)\n",
    "    \n",
    "    return p_values"
   ]
  },
  {
   "cell_type": "code",
   "execution_count": 1,
   "metadata": {},
   "outputs": [
    {
     "ename": "NameError",
     "evalue": "name 'check_normal_distribution' is not defined",
     "output_type": "error",
     "traceback": [
      "\u001b[1;31m---------------------------------------------------------------------------\u001b[0m",
      "\u001b[1;31mNameError\u001b[0m                                 Traceback (most recent call last)",
      "Cell \u001b[1;32mIn[1], line 1\u001b[0m\n\u001b[1;32m----> 1\u001b[0m check_normal_distribution(\u001b[39m'\u001b[39m\u001b[39mV1\u001b[39m\u001b[39m'\u001b[39m, \u001b[39m'\u001b[39m\u001b[39mV3\u001b[39m\u001b[39m'\u001b[39m, \u001b[39m'\u001b[39m\u001b[39mV5\u001b[39m\u001b[39m'\u001b[39m, \u001b[39m'\u001b[39m\u001b[39mV6\u001b[39m\u001b[39m'\u001b[39m)\n",
      "\u001b[1;31mNameError\u001b[0m: name 'check_normal_distribution' is not defined"
     ]
    }
   ],
   "source": [
    "check_normal_distribution('V1', 'V3', 'V5', 'V6')"
   ]
  },
  {
   "cell_type": "code",
   "execution_count": null,
   "metadata": {},
   "outputs": [
    {
     "data": {
      "text/plain": [
       "0.009373788721859455"
      ]
     },
     "metadata": {},
     "output_type": "display_data"
    }
   ],
   "source": [
    "from scipy import stats\n",
    "a = df['V6']\n",
    "\n",
    "statistic, p_value = stats.shapiro(a)\n",
    "\n",
    "p_value"
   ]
  }
 ],
 "metadata": {
  "kernelspec": {
   "display_name": "data_analytics",
   "language": "python",
   "name": "python3"
  },
  "language_info": {
   "codemirror_mode": {
    "name": "ipython",
    "version": 3
   },
   "file_extension": ".py",
   "mimetype": "text/x-python",
   "name": "python",
   "nbconvert_exporter": "python",
   "pygments_lexer": "ipython3",
   "version": "3.11.2"
  },
  "orig_nbformat": 4
 },
 "nbformat": 4,
 "nbformat_minor": 2
}
