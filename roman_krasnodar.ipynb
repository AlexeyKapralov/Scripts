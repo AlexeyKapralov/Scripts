{
 "cells": [
  {
   "cell_type": "code",
   "execution_count": 2,
   "metadata": {},
   "outputs": [],
   "source": [
    "import pandas as pd"
   ]
  },
  {
   "cell_type": "code",
   "execution_count": 98,
   "metadata": {},
   "outputs": [],
   "source": [
    "df = pd.read_excel(r\"D:\\Analysis Burn\\Роман Краснодар\\Пенетрация.xlsx\")"
   ]
  },
  {
   "cell_type": "code",
   "execution_count": 4,
   "metadata": {},
   "outputs": [],
   "source": [
    "df.drop(columns='Unnamed: 2', inplace=True)"
   ]
  },
  {
   "cell_type": "code",
   "execution_count": 5,
   "metadata": {},
   "outputs": [
    {
     "data": {
      "text/html": [
       "<div>\n",
       "<style scoped>\n",
       "    .dataframe tbody tr th:only-of-type {\n",
       "        vertical-align: middle;\n",
       "    }\n",
       "\n",
       "    .dataframe tbody tr th {\n",
       "        vertical-align: top;\n",
       "    }\n",
       "\n",
       "    .dataframe thead th {\n",
       "        text-align: right;\n",
       "    }\n",
       "</style>\n",
       "<table border=\"1\" class=\"dataframe\">\n",
       "  <thead>\n",
       "    <tr style=\"text-align: right;\">\n",
       "      <th></th>\n",
       "      <th>Клиент</th>\n",
       "      <th>Адрес доставки</th>\n",
       "      <th>Бренд</th>\n",
       "      <th>Группа</th>\n",
       "      <th>Номенклатура</th>\n",
       "      <th>Сегмент</th>\n",
       "      <th>Дата документа.Месяц</th>\n",
       "      <th>Менеджер</th>\n",
       "      <th>Вес</th>\n",
       "      <th>Количество (в единицах хранения)</th>\n",
       "    </tr>\n",
       "  </thead>\n",
       "  <tbody>\n",
       "    <tr>\n",
       "      <th>0</th>\n",
       "      <td>Мята лаунж Гимназическая, 55/1</td>\n",
       "      <td>Краснодар, ул. Гимназическая, 55/1</td>\n",
       "      <td>Black burn</td>\n",
       "      <td>100гр</td>\n",
       "      <td>Ananas Shock - кислый ананас100гр</td>\n",
       "      <td>Кальянная</td>\n",
       "      <td>6</td>\n",
       "      <td>Сметанин Дмитрий</td>\n",
       "      <td>0.1</td>\n",
       "      <td>1</td>\n",
       "    </tr>\n",
       "    <tr>\n",
       "      <th>1</th>\n",
       "      <td>Мята лаунж Гимназическая, 55/1</td>\n",
       "      <td>Краснодар, ул. Гимназическая, 55/1</td>\n",
       "      <td>Black burn</td>\n",
       "      <td>200гр</td>\n",
       "      <td>Chupa Graper - Виноградная газировка (COLLAB К...</td>\n",
       "      <td>Кальянная</td>\n",
       "      <td>6</td>\n",
       "      <td>Сметанин Дмитрий</td>\n",
       "      <td>0.2</td>\n",
       "      <td>1</td>\n",
       "    </tr>\n",
       "  </tbody>\n",
       "</table>\n",
       "</div>"
      ],
      "text/plain": [
       "                           Клиент                      Адрес доставки  \\\n",
       "0  Мята лаунж Гимназическая, 55/1  Краснодар, ул. Гимназическая, 55/1   \n",
       "1  Мята лаунж Гимназическая, 55/1  Краснодар, ул. Гимназическая, 55/1   \n",
       "\n",
       "        Бренд Группа                                       Номенклатура  \\\n",
       "0  Black burn  100гр                  Ananas Shock - кислый ананас100гр   \n",
       "1  Black burn  200гр  Chupa Graper - Виноградная газировка (COLLAB К...   \n",
       "\n",
       "     Сегмент  Дата документа.Месяц          Менеджер  Вес  \\\n",
       "0  Кальянная                     6  Сметанин Дмитрий  0.1   \n",
       "1  Кальянная                     6  Сметанин Дмитрий  0.2   \n",
       "\n",
       "   Количество (в единицах хранения)  \n",
       "0                                 1  \n",
       "1                                 1  "
      ]
     },
     "execution_count": 5,
     "metadata": {},
     "output_type": "execute_result"
    }
   ],
   "source": [
    "df.head(2)"
   ]
  },
  {
   "cell_type": "code",
   "execution_count": 28,
   "metadata": {},
   "outputs": [],
   "source": [
    "a = df.pivot_table(\n",
    "    values=['Клиент'],\n",
    "    index=['Бренд'],\n",
    "    columns=['Дата документа.Месяц'],\n",
    "    aggfunc='nunique'\n",
    ")"
   ]
  },
  {
   "cell_type": "code",
   "execution_count": 29,
   "metadata": {},
   "outputs": [
    {
     "data": {
      "text/html": [
       "<div>\n",
       "<style scoped>\n",
       "    .dataframe tbody tr th:only-of-type {\n",
       "        vertical-align: middle;\n",
       "    }\n",
       "\n",
       "    .dataframe tbody tr th {\n",
       "        vertical-align: top;\n",
       "    }\n",
       "\n",
       "    .dataframe thead th {\n",
       "        text-align: right;\n",
       "    }\n",
       "</style>\n",
       "<table border=\"1\" class=\"dataframe\">\n",
       "  <thead>\n",
       "    <tr style=\"text-align: right;\">\n",
       "      <th></th>\n",
       "      <th>Клиент</th>\n",
       "      <th>Адрес доставки</th>\n",
       "      <th>Unnamed: 2</th>\n",
       "      <th>Бренд</th>\n",
       "      <th>Группа</th>\n",
       "      <th>Номенклатура</th>\n",
       "      <th>Сегмент</th>\n",
       "      <th>Дата документа.Месяц</th>\n",
       "      <th>Менеджер</th>\n",
       "      <th>Вес</th>\n",
       "      <th>Количество (в единицах хранения)</th>\n",
       "    </tr>\n",
       "  </thead>\n",
       "  <tbody>\n",
       "    <tr>\n",
       "      <th>0</th>\n",
       "      <td>Мята лаунж Гимназическая, 55/1</td>\n",
       "      <td>Краснодар, ул. Гимназическая, 55/1</td>\n",
       "      <td>NaN</td>\n",
       "      <td>Black burn</td>\n",
       "      <td>100гр</td>\n",
       "      <td>Ananas Shock - кислый ананас100гр</td>\n",
       "      <td>Кальянная</td>\n",
       "      <td>6</td>\n",
       "      <td>Сметанин Дмитрий</td>\n",
       "      <td>0.1</td>\n",
       "      <td>1</td>\n",
       "    </tr>\n",
       "    <tr>\n",
       "      <th>1</th>\n",
       "      <td>Мята лаунж Гимназическая, 55/1</td>\n",
       "      <td>Краснодар, ул. Гимназическая, 55/1</td>\n",
       "      <td>NaN</td>\n",
       "      <td>Black burn</td>\n",
       "      <td>200гр</td>\n",
       "      <td>Chupa Graper - Виноградная газировка (COLLAB К...</td>\n",
       "      <td>Кальянная</td>\n",
       "      <td>6</td>\n",
       "      <td>Сметанин Дмитрий</td>\n",
       "      <td>0.2</td>\n",
       "      <td>1</td>\n",
       "    </tr>\n",
       "  </tbody>\n",
       "</table>\n",
       "</div>"
      ],
      "text/plain": [
       "                           Клиент                      Адрес доставки  \\\n",
       "0  Мята лаунж Гимназическая, 55/1  Краснодар, ул. Гимназическая, 55/1   \n",
       "1  Мята лаунж Гимназическая, 55/1  Краснодар, ул. Гимназическая, 55/1   \n",
       "\n",
       "   Unnamed: 2       Бренд Группа  \\\n",
       "0         NaN  Black burn  100гр   \n",
       "1         NaN  Black burn  200гр   \n",
       "\n",
       "                                        Номенклатура    Сегмент  \\\n",
       "0                  Ananas Shock - кислый ананас100гр  Кальянная   \n",
       "1  Chupa Graper - Виноградная газировка (COLLAB К...  Кальянная   \n",
       "\n",
       "   Дата документа.Месяц          Менеджер  Вес  \\\n",
       "0                     6  Сметанин Дмитрий  0.1   \n",
       "1                     6  Сметанин Дмитрий  0.2   \n",
       "\n",
       "   Количество (в единицах хранения)  \n",
       "0                                 1  \n",
       "1                                 1  "
      ]
     },
     "execution_count": 29,
     "metadata": {},
     "output_type": "execute_result"
    }
   ],
   "source": [
    "df.head(2)"
   ]
  },
  {
   "cell_type": "code",
   "execution_count": 30,
   "metadata": {},
   "outputs": [],
   "source": [
    "b = df.pivot_table(\n",
    "    \n",
    "    columns=['Дата документа.Месяц'],\n",
    "    values=['Клиент'],\n",
    "    aggfunc='nunique'\n",
    ")"
   ]
  },
  {
   "cell_type": "code",
   "execution_count": 31,
   "metadata": {},
   "outputs": [
    {
     "data": {
      "text/html": [
       "<div>\n",
       "<style scoped>\n",
       "    .dataframe tbody tr th:only-of-type {\n",
       "        vertical-align: middle;\n",
       "    }\n",
       "\n",
       "    .dataframe tbody tr th {\n",
       "        vertical-align: top;\n",
       "    }\n",
       "\n",
       "    .dataframe thead tr th {\n",
       "        text-align: left;\n",
       "    }\n",
       "\n",
       "    .dataframe thead tr:last-of-type th {\n",
       "        text-align: right;\n",
       "    }\n",
       "</style>\n",
       "<table border=\"1\" class=\"dataframe\">\n",
       "  <thead>\n",
       "    <tr>\n",
       "      <th></th>\n",
       "      <th colspan=\"2\" halign=\"left\">Клиент</th>\n",
       "    </tr>\n",
       "    <tr>\n",
       "      <th>Дата документа.Месяц</th>\n",
       "      <th>6</th>\n",
       "      <th>7</th>\n",
       "    </tr>\n",
       "    <tr>\n",
       "      <th>Бренд</th>\n",
       "      <th></th>\n",
       "      <th></th>\n",
       "    </tr>\n",
       "  </thead>\n",
       "  <tbody>\n",
       "    <tr>\n",
       "      <th>B3</th>\n",
       "      <td>12</td>\n",
       "      <td>19</td>\n",
       "    </tr>\n",
       "    <tr>\n",
       "      <th>Banger</th>\n",
       "      <td>55</td>\n",
       "      <td>62</td>\n",
       "    </tr>\n",
       "    <tr>\n",
       "      <th>Black burn</th>\n",
       "      <td>134</td>\n",
       "      <td>136</td>\n",
       "    </tr>\n",
       "    <tr>\n",
       "      <th>Burn</th>\n",
       "      <td>5</td>\n",
       "      <td>6</td>\n",
       "    </tr>\n",
       "    <tr>\n",
       "      <th>Overdose</th>\n",
       "      <td>90</td>\n",
       "      <td>96</td>\n",
       "    </tr>\n",
       "    <tr>\n",
       "      <th>Peter Ralf</th>\n",
       "      <td>2</td>\n",
       "      <td>5</td>\n",
       "    </tr>\n",
       "  </tbody>\n",
       "</table>\n",
       "</div>"
      ],
      "text/plain": [
       "                     Клиент     \n",
       "Дата документа.Месяц      6    7\n",
       "Бренд                           \n",
       "B3                       12   19\n",
       "Banger                   55   62\n",
       "Black burn              134  136\n",
       "Burn                      5    6\n",
       "Overdose                 90   96\n",
       "Peter Ralf                2    5"
      ]
     },
     "execution_count": 31,
     "metadata": {},
     "output_type": "execute_result"
    }
   ],
   "source": [
    "a"
   ]
  },
  {
   "cell_type": "code",
   "execution_count": 32,
   "metadata": {},
   "outputs": [
    {
     "data": {
      "text/html": [
       "<div>\n",
       "<style scoped>\n",
       "    .dataframe tbody tr th:only-of-type {\n",
       "        vertical-align: middle;\n",
       "    }\n",
       "\n",
       "    .dataframe tbody tr th {\n",
       "        vertical-align: top;\n",
       "    }\n",
       "\n",
       "    .dataframe thead th {\n",
       "        text-align: right;\n",
       "    }\n",
       "</style>\n",
       "<table border=\"1\" class=\"dataframe\">\n",
       "  <thead>\n",
       "    <tr style=\"text-align: right;\">\n",
       "      <th>Дата документа.Месяц</th>\n",
       "      <th>6</th>\n",
       "      <th>7</th>\n",
       "    </tr>\n",
       "  </thead>\n",
       "  <tbody>\n",
       "    <tr>\n",
       "      <th>Клиент</th>\n",
       "      <td>136</td>\n",
       "      <td>137</td>\n",
       "    </tr>\n",
       "  </tbody>\n",
       "</table>\n",
       "</div>"
      ],
      "text/plain": [
       "Дата документа.Месяц    6    7\n",
       "Клиент                136  137"
      ]
     },
     "execution_count": 32,
     "metadata": {},
     "output_type": "execute_result"
    }
   ],
   "source": [
    "b"
   ]
  },
  {
   "cell_type": "code",
   "execution_count": 33,
   "metadata": {},
   "outputs": [],
   "source": [
    "a['Всего в 6'] = b[6][0]\n",
    "a['Всего в 7'] = b[7][0]"
   ]
  },
  {
   "cell_type": "code",
   "execution_count": 34,
   "metadata": {},
   "outputs": [
    {
     "data": {
      "text/html": [
       "<div>\n",
       "<style scoped>\n",
       "    .dataframe tbody tr th:only-of-type {\n",
       "        vertical-align: middle;\n",
       "    }\n",
       "\n",
       "    .dataframe tbody tr th {\n",
       "        vertical-align: top;\n",
       "    }\n",
       "\n",
       "    .dataframe thead tr th {\n",
       "        text-align: left;\n",
       "    }\n",
       "\n",
       "    .dataframe thead tr:last-of-type th {\n",
       "        text-align: right;\n",
       "    }\n",
       "</style>\n",
       "<table border=\"1\" class=\"dataframe\">\n",
       "  <thead>\n",
       "    <tr>\n",
       "      <th></th>\n",
       "      <th colspan=\"2\" halign=\"left\">Клиент</th>\n",
       "      <th>Всего в 6</th>\n",
       "      <th>Всего в 7</th>\n",
       "    </tr>\n",
       "    <tr>\n",
       "      <th>Дата документа.Месяц</th>\n",
       "      <th>6</th>\n",
       "      <th>7</th>\n",
       "      <th></th>\n",
       "      <th></th>\n",
       "    </tr>\n",
       "    <tr>\n",
       "      <th>Бренд</th>\n",
       "      <th></th>\n",
       "      <th></th>\n",
       "      <th></th>\n",
       "      <th></th>\n",
       "    </tr>\n",
       "  </thead>\n",
       "  <tbody>\n",
       "    <tr>\n",
       "      <th>B3</th>\n",
       "      <td>12</td>\n",
       "      <td>19</td>\n",
       "      <td>136</td>\n",
       "      <td>137</td>\n",
       "    </tr>\n",
       "    <tr>\n",
       "      <th>Banger</th>\n",
       "      <td>55</td>\n",
       "      <td>62</td>\n",
       "      <td>136</td>\n",
       "      <td>137</td>\n",
       "    </tr>\n",
       "    <tr>\n",
       "      <th>Black burn</th>\n",
       "      <td>134</td>\n",
       "      <td>136</td>\n",
       "      <td>136</td>\n",
       "      <td>137</td>\n",
       "    </tr>\n",
       "    <tr>\n",
       "      <th>Burn</th>\n",
       "      <td>5</td>\n",
       "      <td>6</td>\n",
       "      <td>136</td>\n",
       "      <td>137</td>\n",
       "    </tr>\n",
       "    <tr>\n",
       "      <th>Overdose</th>\n",
       "      <td>90</td>\n",
       "      <td>96</td>\n",
       "      <td>136</td>\n",
       "      <td>137</td>\n",
       "    </tr>\n",
       "    <tr>\n",
       "      <th>Peter Ralf</th>\n",
       "      <td>2</td>\n",
       "      <td>5</td>\n",
       "      <td>136</td>\n",
       "      <td>137</td>\n",
       "    </tr>\n",
       "  </tbody>\n",
       "</table>\n",
       "</div>"
      ],
      "text/plain": [
       "                     Клиент      Всего в 6 Всего в 7\n",
       "Дата документа.Месяц      6    7                    \n",
       "Бренд                                               \n",
       "B3                       12   19       136       137\n",
       "Banger                   55   62       136       137\n",
       "Black burn              134  136       136       137\n",
       "Burn                      5    6       136       137\n",
       "Overdose                 90   96       136       137\n",
       "Peter Ralf                2    5       136       137"
      ]
     },
     "execution_count": 34,
     "metadata": {},
     "output_type": "execute_result"
    }
   ],
   "source": [
    "a"
   ]
  },
  {
   "cell_type": "code",
   "execution_count": 35,
   "metadata": {},
   "outputs": [],
   "source": [
    "a.columns = [''.join(str(col)).strip() for col in a.columns.values]"
   ]
  },
  {
   "cell_type": "code",
   "execution_count": 41,
   "metadata": {},
   "outputs": [],
   "source": [
    "a ['Не купили в 6'] = a['(\\'Всего в 6\\', \\'\\')'] - a['(\\'Клиент\\', 6)']"
   ]
  },
  {
   "cell_type": "code",
   "execution_count": 44,
   "metadata": {},
   "outputs": [],
   "source": [
    "a ['Не купили в 7'] = a['(\\'Всего в 7\\', \\'\\')'] - a['(\\'Клиент\\', 7)']"
   ]
  },
  {
   "cell_type": "code",
   "execution_count": 47,
   "metadata": {},
   "outputs": [],
   "source": [
    "a.to_excel(r\"D:\\Analysis Burn\\Роман Краснодар\\По брендам.xlsx\")"
   ]
  },
  {
   "cell_type": "markdown",
   "metadata": {},
   "source": [
    "### Пенетрация по вкусам"
   ]
  },
  {
   "cell_type": "code",
   "execution_count": 99,
   "metadata": {},
   "outputs": [],
   "source": [
    "addr = pd.read_excel(r\"D:\\Analysis Burn\\Продукция Burn.xlsx\" ,sheet_name='варианты вкусов')"
   ]
  },
  {
   "cell_type": "code",
   "execution_count": 78,
   "metadata": {},
   "outputs": [
    {
     "data": {
      "text/html": [
       "<div>\n",
       "<style scoped>\n",
       "    .dataframe tbody tr th:only-of-type {\n",
       "        vertical-align: middle;\n",
       "    }\n",
       "\n",
       "    .dataframe tbody tr th {\n",
       "        vertical-align: top;\n",
       "    }\n",
       "\n",
       "    .dataframe thead th {\n",
       "        text-align: right;\n",
       "    }\n",
       "</style>\n",
       "<table border=\"1\" class=\"dataframe\">\n",
       "  <thead>\n",
       "    <tr style=\"text-align: right;\">\n",
       "      <th></th>\n",
       "      <th>Исходный вкус</th>\n",
       "      <th>Код</th>\n",
       "      <th>Вкус</th>\n",
       "    </tr>\n",
       "  </thead>\n",
       "  <tbody>\n",
       "    <tr>\n",
       "      <th>0</th>\n",
       "      <td>(М) ТАБАК ДЛЯ КАЛЬЯНА BLACKBURN 200 ГР AFTER 8...</td>\n",
       "      <td>185</td>\n",
       "      <td>After 8 (Швейцарские Шоколадно-Мятных Конфеты)</td>\n",
       "    </tr>\n",
       "    <tr>\n",
       "      <th>1</th>\n",
       "      <td>(М) ТАБАК ДЛЯ КАЛЬЯНА BLACKBURN 25 ГР AFTER 8 ...</td>\n",
       "      <td>185</td>\n",
       "      <td>After 8 (Швейцарские Шоколадно-Мятных Конфеты)</td>\n",
       "    </tr>\n",
       "    <tr>\n",
       "      <th>2</th>\n",
       "      <td>(ЧЗ) AFTER 8 - ШВЕЙЦАРСКИЕ ШОКОЛАДНО-МЯТНЫЕ КО...</td>\n",
       "      <td>185</td>\n",
       "      <td>After 8 (Швейцарские Шоколадно-Мятных Конфеты)</td>\n",
       "    </tr>\n",
       "    <tr>\n",
       "      <th>3</th>\n",
       "      <td>(ЧЗ) AFTER 8 - ШВЕЙЦАРСКИЕ ШОКОЛАДНО-МЯТНЫХ КО...</td>\n",
       "      <td>185</td>\n",
       "      <td>After 8 (Швейцарские Шоколадно-Мятных Конфеты)</td>\n",
       "    </tr>\n",
       "    <tr>\n",
       "      <th>4</th>\n",
       "      <td>AFTER 8</td>\n",
       "      <td>185</td>\n",
       "      <td>After 8 (Швейцарские Шоколадно-Мятных Конфеты)</td>\n",
       "    </tr>\n",
       "    <tr>\n",
       "      <th>...</th>\n",
       "      <td>...</td>\n",
       "      <td>...</td>\n",
       "      <td>...</td>\n",
       "    </tr>\n",
       "    <tr>\n",
       "      <th>21567</th>\n",
       "      <td>BURNBLISS - ЛИЧИ С МЯТОЙ*100ГР</td>\n",
       "      <td>189</td>\n",
       "      <td>Bliss (Личи С Мятой)</td>\n",
       "    </tr>\n",
       "    <tr>\n",
       "      <th>21568</th>\n",
       "      <td>BURNBLUEBERRY MINT - СВЕЖИЙ ЧЕРНИЧНЫЙ ВКУС С М...</td>\n",
       "      <td>190</td>\n",
       "      <td>Blueberry Mint (Свежий Черничный Вкус С Мятой)</td>\n",
       "    </tr>\n",
       "    <tr>\n",
       "      <th>21569</th>\n",
       "      <td>BURNMIAMI KISS - СПЕЛЫЙ АРБУЗ С ЦИТРУСАМИ И ЛА...</td>\n",
       "      <td>208</td>\n",
       "      <td>Miami Kiss (Спелый Арбуз С Цитрусами И Лакрицей)</td>\n",
       "    </tr>\n",
       "    <tr>\n",
       "      <th>21570</th>\n",
       "      <td>OVERDOSEOVERDOSE BAILEYS (СЛИВОЧНЫЙ ЛИКЁР), 25...</td>\n",
       "      <td>241</td>\n",
       "      <td>Baileys (Сливочный ликер)</td>\n",
       "    </tr>\n",
       "    <tr>\n",
       "      <th>21571</th>\n",
       "      <td>OVERDOSEOVERDOSE STRAWBERRY BASIL (КЛУБНИКА-БА...</td>\n",
       "      <td>240</td>\n",
       "      <td>Strawberry Basil (Клубника-базилик)</td>\n",
       "    </tr>\n",
       "  </tbody>\n",
       "</table>\n",
       "<p>21572 rows × 3 columns</p>\n",
       "</div>"
      ],
      "text/plain": [
       "                                           Исходный вкус  Код  \\\n",
       "0      (М) ТАБАК ДЛЯ КАЛЬЯНА BLACKBURN 200 ГР AFTER 8...  185   \n",
       "1      (М) ТАБАК ДЛЯ КАЛЬЯНА BLACKBURN 25 ГР AFTER 8 ...  185   \n",
       "2      (ЧЗ) AFTER 8 - ШВЕЙЦАРСКИЕ ШОКОЛАДНО-МЯТНЫЕ КО...  185   \n",
       "3      (ЧЗ) AFTER 8 - ШВЕЙЦАРСКИЕ ШОКОЛАДНО-МЯТНЫХ КО...  185   \n",
       "4                                                AFTER 8  185   \n",
       "...                                                  ...  ...   \n",
       "21567                     BURNBLISS - ЛИЧИ С МЯТОЙ*100ГР  189   \n",
       "21568  BURNBLUEBERRY MINT - СВЕЖИЙ ЧЕРНИЧНЫЙ ВКУС С М...  190   \n",
       "21569  BURNMIAMI KISS - СПЕЛЫЙ АРБУЗ С ЦИТРУСАМИ И ЛА...  208   \n",
       "21570  OVERDOSEOVERDOSE BAILEYS (СЛИВОЧНЫЙ ЛИКЁР), 25...  241   \n",
       "21571  OVERDOSEOVERDOSE STRAWBERRY BASIL (КЛУБНИКА-БА...  240   \n",
       "\n",
       "                                                   Вкус  \n",
       "0        After 8 (Швейцарские Шоколадно-Мятных Конфеты)  \n",
       "1        After 8 (Швейцарские Шоколадно-Мятных Конфеты)  \n",
       "2        After 8 (Швейцарские Шоколадно-Мятных Конфеты)  \n",
       "3        After 8 (Швейцарские Шоколадно-Мятных Конфеты)  \n",
       "4        After 8 (Швейцарские Шоколадно-Мятных Конфеты)  \n",
       "...                                                 ...  \n",
       "21567                              Bliss (Личи С Мятой)  \n",
       "21568    Blueberry Mint (Свежий Черничный Вкус С Мятой)  \n",
       "21569  Miami Kiss (Спелый Арбуз С Цитрусами И Лакрицей)  \n",
       "21570                         Baileys (Сливочный ликер)  \n",
       "21571               Strawberry Basil (Клубника-базилик)  \n",
       "\n",
       "[21572 rows x 3 columns]"
      ]
     },
     "execution_count": 78,
     "metadata": {},
     "output_type": "execute_result"
    }
   ],
   "source": [
    "addr"
   ]
  },
  {
   "cell_type": "code",
   "execution_count": 106,
   "metadata": {},
   "outputs": [
    {
     "data": {
      "text/plain": [
       "array(['BLACKBURN', 'BANGER', 'OVERDOSE', 'PETERRALF', 'B3', 'BURN'],\n",
       "      dtype=object)"
      ]
     },
     "execution_count": 106,
     "metadata": {},
     "output_type": "execute_result"
    }
   ],
   "source": [
    "df['Бренд'].unique()"
   ]
  },
  {
   "cell_type": "code",
   "execution_count": 101,
   "metadata": {},
   "outputs": [],
   "source": [
    "df.loc[df['Бренд'] == 'Black burn', 'Бренд'] = 'Blackburn'\n",
    "df.loc[df['Бренд'] == 'Peter Ralf', 'Бренд'] = 'Peterralf'\n",
    "\n",
    "df['Бренд'] = df['Бренд'].str.upper()"
   ]
  },
  {
   "cell_type": "code",
   "execution_count": 104,
   "metadata": {},
   "outputs": [],
   "source": [
    "df['Номенклатура'] = df['Номенклатура'].str.upper()"
   ]
  },
  {
   "cell_type": "code",
   "execution_count": 105,
   "metadata": {},
   "outputs": [],
   "source": [
    "# df['Группа'].unique()\n",
    "df = df.loc[ (df['Группа'] != 'Уголь') &  (df['Группа'] != 'Мундштуки')]"
   ]
  },
  {
   "cell_type": "code",
   "execution_count": 107,
   "metadata": {},
   "outputs": [],
   "source": [
    "df['БРЕНД+ВКУС'] = df['Бренд']+df['Номенклатура']"
   ]
  },
  {
   "cell_type": "code",
   "execution_count": 108,
   "metadata": {},
   "outputs": [
    {
     "data": {
      "text/html": [
       "<div>\n",
       "<style scoped>\n",
       "    .dataframe tbody tr th:only-of-type {\n",
       "        vertical-align: middle;\n",
       "    }\n",
       "\n",
       "    .dataframe tbody tr th {\n",
       "        vertical-align: top;\n",
       "    }\n",
       "\n",
       "    .dataframe thead th {\n",
       "        text-align: right;\n",
       "    }\n",
       "</style>\n",
       "<table border=\"1\" class=\"dataframe\">\n",
       "  <thead>\n",
       "    <tr style=\"text-align: right;\">\n",
       "      <th></th>\n",
       "      <th>Исходный вкус</th>\n",
       "      <th>Код</th>\n",
       "      <th>Вкус</th>\n",
       "    </tr>\n",
       "  </thead>\n",
       "  <tbody>\n",
       "    <tr>\n",
       "      <th>0</th>\n",
       "      <td>(М) ТАБАК ДЛЯ КАЛЬЯНА BLACKBURN 200 ГР AFTER 8...</td>\n",
       "      <td>185</td>\n",
       "      <td>After 8 (Швейцарские Шоколадно-Мятных Конфеты)</td>\n",
       "    </tr>\n",
       "    <tr>\n",
       "      <th>1</th>\n",
       "      <td>(М) ТАБАК ДЛЯ КАЛЬЯНА BLACKBURN 25 ГР AFTER 8 ...</td>\n",
       "      <td>185</td>\n",
       "      <td>After 8 (Швейцарские Шоколадно-Мятных Конфеты)</td>\n",
       "    </tr>\n",
       "  </tbody>\n",
       "</table>\n",
       "</div>"
      ],
      "text/plain": [
       "                                       Исходный вкус  Код  \\\n",
       "0  (М) ТАБАК ДЛЯ КАЛЬЯНА BLACKBURN 200 ГР AFTER 8...  185   \n",
       "1  (М) ТАБАК ДЛЯ КАЛЬЯНА BLACKBURN 25 ГР AFTER 8 ...  185   \n",
       "\n",
       "                                             Вкус  \n",
       "0  After 8 (Швейцарские Шоколадно-Мятных Конфеты)  \n",
       "1  After 8 (Швейцарские Шоколадно-Мятных Конфеты)  "
      ]
     },
     "execution_count": 108,
     "metadata": {},
     "output_type": "execute_result"
    }
   ],
   "source": [
    "addr.head(2)"
   ]
  },
  {
   "cell_type": "code",
   "execution_count": 109,
   "metadata": {},
   "outputs": [],
   "source": [
    "true_del = df.merge(\n",
    "    addr,\n",
    "    how='left',\n",
    "    left_on=['БРЕНД+ВКУС'],\n",
    "    right_on=['Исходный вкус']\n",
    ")"
   ]
  },
  {
   "cell_type": "code",
   "execution_count": 76,
   "metadata": {},
   "outputs": [],
   "source": [
    "true_del.loc[true_del['Вкус'].isna()].to_excel(r\"C:\\Users\\alewk\\OneDrive\\Desktop\\taste.xlsx\")"
   ]
  },
  {
   "cell_type": "code",
   "execution_count": 112,
   "metadata": {},
   "outputs": [
    {
     "data": {
      "text/html": [
       "<div>\n",
       "<style scoped>\n",
       "    .dataframe tbody tr th:only-of-type {\n",
       "        vertical-align: middle;\n",
       "    }\n",
       "\n",
       "    .dataframe tbody tr th {\n",
       "        vertical-align: top;\n",
       "    }\n",
       "\n",
       "    .dataframe thead th {\n",
       "        text-align: right;\n",
       "    }\n",
       "</style>\n",
       "<table border=\"1\" class=\"dataframe\">\n",
       "  <thead>\n",
       "    <tr style=\"text-align: right;\">\n",
       "      <th></th>\n",
       "      <th>Клиент</th>\n",
       "      <th>Адрес доставки</th>\n",
       "      <th>Unnamed: 2</th>\n",
       "      <th>Бренд</th>\n",
       "      <th>Группа</th>\n",
       "      <th>Номенклатура</th>\n",
       "      <th>Сегмент</th>\n",
       "      <th>Дата документа.Месяц</th>\n",
       "      <th>Менеджер</th>\n",
       "      <th>Вес</th>\n",
       "      <th>Количество (в единицах хранения)</th>\n",
       "      <th>БРЕНД+ВКУС</th>\n",
       "      <th>Исходный вкус</th>\n",
       "      <th>Код</th>\n",
       "      <th>Вкус</th>\n",
       "    </tr>\n",
       "  </thead>\n",
       "  <tbody>\n",
       "    <tr>\n",
       "      <th>0</th>\n",
       "      <td>Мята лаунж Гимназическая, 55/1</td>\n",
       "      <td>Краснодар, ул. Гимназическая, 55/1</td>\n",
       "      <td>NaN</td>\n",
       "      <td>BLACKBURN</td>\n",
       "      <td>100гр</td>\n",
       "      <td>ANANAS SHOCK - КИСЛЫЙ АНАНАС100ГР</td>\n",
       "      <td>Кальянная</td>\n",
       "      <td>6</td>\n",
       "      <td>Сметанин Дмитрий</td>\n",
       "      <td>0.1</td>\n",
       "      <td>1</td>\n",
       "      <td>BLACKBURNANANAS SHOCK - КИСЛЫЙ АНАНАС100ГР</td>\n",
       "      <td>BLACKBURNANANAS SHOCK - КИСЛЫЙ АНАНАС100ГР</td>\n",
       "      <td>31</td>\n",
       "      <td>Ananas Shock (Кислый Ананас)</td>\n",
       "    </tr>\n",
       "    <tr>\n",
       "      <th>1</th>\n",
       "      <td>Мята лаунж Гимназическая, 55/1</td>\n",
       "      <td>Краснодар, ул. Гимназическая, 55/1</td>\n",
       "      <td>NaN</td>\n",
       "      <td>BLACKBURN</td>\n",
       "      <td>200гр</td>\n",
       "      <td>CHUPA GRAPER - ВИНОГРАДНАЯ ГАЗИРОВКА (COLLAB К...</td>\n",
       "      <td>Кальянная</td>\n",
       "      <td>6</td>\n",
       "      <td>Сметанин Дмитрий</td>\n",
       "      <td>0.2</td>\n",
       "      <td>1</td>\n",
       "      <td>BLACKBURNCHUPA GRAPER - ВИНОГРАДНАЯ ГАЗИРОВКА ...</td>\n",
       "      <td>BLACKBURNCHUPA GRAPER - ВИНОГРАДНАЯ ГАЗИРОВКА ...</td>\n",
       "      <td>43</td>\n",
       "      <td>Chupa Graper (Виноградная Газировка) (Collab К...</td>\n",
       "    </tr>\n",
       "  </tbody>\n",
       "</table>\n",
       "</div>"
      ],
      "text/plain": [
       "                           Клиент                      Адрес доставки  \\\n",
       "0  Мята лаунж Гимназическая, 55/1  Краснодар, ул. Гимназическая, 55/1   \n",
       "1  Мята лаунж Гимназическая, 55/1  Краснодар, ул. Гимназическая, 55/1   \n",
       "\n",
       "   Unnamed: 2      Бренд Группа  \\\n",
       "0         NaN  BLACKBURN  100гр   \n",
       "1         NaN  BLACKBURN  200гр   \n",
       "\n",
       "                                        Номенклатура    Сегмент  \\\n",
       "0                  ANANAS SHOCK - КИСЛЫЙ АНАНАС100ГР  Кальянная   \n",
       "1  CHUPA GRAPER - ВИНОГРАДНАЯ ГАЗИРОВКА (COLLAB К...  Кальянная   \n",
       "\n",
       "   Дата документа.Месяц          Менеджер  Вес  \\\n",
       "0                     6  Сметанин Дмитрий  0.1   \n",
       "1                     6  Сметанин Дмитрий  0.2   \n",
       "\n",
       "   Количество (в единицах хранения)  \\\n",
       "0                                 1   \n",
       "1                                 1   \n",
       "\n",
       "                                          БРЕНД+ВКУС  \\\n",
       "0         BLACKBURNANANAS SHOCK - КИСЛЫЙ АНАНАС100ГР   \n",
       "1  BLACKBURNCHUPA GRAPER - ВИНОГРАДНАЯ ГАЗИРОВКА ...   \n",
       "\n",
       "                                       Исходный вкус  Код  \\\n",
       "0         BLACKBURNANANAS SHOCK - КИСЛЫЙ АНАНАС100ГР   31   \n",
       "1  BLACKBURNCHUPA GRAPER - ВИНОГРАДНАЯ ГАЗИРОВКА ...   43   \n",
       "\n",
       "                                                Вкус  \n",
       "0                       Ananas Shock (Кислый Ананас)  \n",
       "1  Chupa Graper (Виноградная Газировка) (Collab К...  "
      ]
     },
     "execution_count": 112,
     "metadata": {},
     "output_type": "execute_result"
    }
   ],
   "source": [
    "true_del.head(2)"
   ]
  },
  {
   "cell_type": "code",
   "execution_count": 114,
   "metadata": {},
   "outputs": [],
   "source": [
    "true_del = true_del.pivot_table(\n",
    "    values=['Клиент'],\n",
    "    index=['Бренд', 'Вкус'],\n",
    "    columns=['Дата документа.Месяц'],\n",
    "    aggfunc='nunique'\n",
    ")"
   ]
  },
  {
   "cell_type": "code",
   "execution_count": 115,
   "metadata": {},
   "outputs": [],
   "source": [
    "true_del['Всего в 6'] = b[6][0]\n",
    "true_del['Всего в 7'] = b[7][0]"
   ]
  },
  {
   "cell_type": "code",
   "execution_count": 117,
   "metadata": {},
   "outputs": [],
   "source": [
    "true_del.to_excel(r\"D:\\Analysis Burn\\Роман Краснодар\\По брендам и вкусам.xlsx\")"
   ]
  }
 ],
 "metadata": {
  "kernelspec": {
   "display_name": "data_analytics",
   "language": "python",
   "name": "python3"
  },
  "language_info": {
   "codemirror_mode": {
    "name": "ipython",
    "version": 3
   },
   "file_extension": ".py",
   "mimetype": "text/x-python",
   "name": "python",
   "nbconvert_exporter": "python",
   "pygments_lexer": "ipython3",
   "version": "3.11.2"
  },
  "orig_nbformat": 4
 },
 "nbformat": 4,
 "nbformat_minor": 2
}
