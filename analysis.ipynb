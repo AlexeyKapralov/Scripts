{
 "cells": [
  {
   "cell_type": "code",
   "execution_count": 1,
   "id": "99e14b00",
   "metadata": {},
   "outputs": [],
   "source": [
    "import pandas as pd"
   ]
  },
  {
   "cell_type": "code",
   "execution_count": 13,
   "id": "8f82eaf4",
   "metadata": {},
   "outputs": [],
   "source": [
    "osh = pd.read_excel(r\"D:\\Analysis Burn\\Дистрибьютеры отчетность\\Source\\Отчеты\\Хабаровск Хука Стор ИП Халтурин\\Неделя 22 (31.05.2023)\\Отчёт для Burn (Продажи) (XLSX).xlsx\")"
   ]
  },
  {
   "cell_type": "code",
   "execution_count": 17,
   "id": "ea0c98bf",
   "metadata": {},
   "outputs": [],
   "source": [
    "osh.columns = osh.iloc[0]\n",
    "osh = osh.iloc [1: , :]"
   ]
  },
  {
   "cell_type": "code",
   "execution_count": 7,
   "id": "1d246b3f",
   "metadata": {},
   "outputs": [],
   "source": [
    "if osh.iat[0,0] == \"Магазин / комиссионер\":\n",
    "    osh.columns = osh.iloc[0]\n",
    "    osh = osh.iloc [1: , :]"
   ]
  },
  {
   "cell_type": "code",
   "execution_count": 18,
   "id": "8d44feee",
   "metadata": {},
   "outputs": [
    {
     "data": {
      "text/html": [
       "<div>\n",
       "<style scoped>\n",
       "    .dataframe tbody tr th:only-of-type {\n",
       "        vertical-align: middle;\n",
       "    }\n",
       "\n",
       "    .dataframe tbody tr th {\n",
       "        vertical-align: top;\n",
       "    }\n",
       "\n",
       "    .dataframe thead th {\n",
       "        text-align: right;\n",
       "    }\n",
       "</style>\n",
       "<table border=\"1\" class=\"dataframe\">\n",
       "  <thead>\n",
       "    <tr style=\"text-align: right;\">\n",
       "      <th></th>\n",
       "      <th>Магазин / комиссионер</th>\n",
       "      <th>Бренд (Общие)</th>\n",
       "      <th>Номенклатура</th>\n",
       "      <th>Характеристика</th>\n",
       "      <th>Вес (числитель)</th>\n",
       "      <th>Количество</th>\n",
       "    </tr>\n",
       "  </thead>\n",
       "  <tbody>\n",
       "    <tr>\n",
       "      <th>1</th>\n",
       "      <td>002.Павла Морозова 113(Тобакко Групп ДВ)</td>\n",
       "      <td>Banger</td>\n",
       "      <td>Табак для кальяна Banger 25г</td>\n",
       "      <td>Bluemist (Голубика, черника и грейпфрут)</td>\n",
       "      <td>25</td>\n",
       "      <td>1</td>\n",
       "    </tr>\n",
       "    <tr>\n",
       "      <th>2</th>\n",
       "      <td>004.Стрелка(Тобакко Групп ДВ)</td>\n",
       "      <td>Banger</td>\n",
       "      <td>Табак для кальяна Banger 25г</td>\n",
       "      <td>Lemon Tonik (Лимонный Тоник)</td>\n",
       "      <td>25</td>\n",
       "      <td>1</td>\n",
       "    </tr>\n",
       "  </tbody>\n",
       "</table>\n",
       "</div>"
      ],
      "text/plain": [
       "0                     Магазин / комиссионер Бренд (Общие)  \\\n",
       "1  002.Павла Морозова 113(Тобакко Групп ДВ)        Banger   \n",
       "2             004.Стрелка(Тобакко Групп ДВ)        Banger   \n",
       "\n",
       "0                  Номенклатура                            Характеристика  \\\n",
       "1  Табак для кальяна Banger 25г  Bluemist (Голубика, черника и грейпфрут)   \n",
       "2  Табак для кальяна Banger 25г              Lemon Tonik (Лимонный Тоник)   \n",
       "\n",
       "0 Вес (числитель) Количество  \n",
       "1              25          1  \n",
       "2              25          1  "
      ]
     },
     "execution_count": 18,
     "metadata": {},
     "output_type": "execute_result"
    }
   ],
   "source": [
    "osh.head(2)"
   ]
  },
  {
   "cell_type": "code",
   "execution_count": 14,
   "id": "4ac97173",
   "metadata": {},
   "outputs": [
    {
     "data": {
      "text/html": [
       "<div>\n",
       "<style scoped>\n",
       "    .dataframe tbody tr th:only-of-type {\n",
       "        vertical-align: middle;\n",
       "    }\n",
       "\n",
       "    .dataframe tbody tr th {\n",
       "        vertical-align: top;\n",
       "    }\n",
       "\n",
       "    .dataframe thead th {\n",
       "        text-align: right;\n",
       "    }\n",
       "</style>\n",
       "<table border=\"1\" class=\"dataframe\">\n",
       "  <thead>\n",
       "    <tr style=\"text-align: right;\">\n",
       "      <th></th>\n",
       "      <th>В отчет выведены результаты предварительного закрытия месяца. \\nПосле выполнения окончательного закрытия месяца результат может измениться.</th>\n",
       "      <th>Unnamed: 1</th>\n",
       "      <th>Unnamed: 2</th>\n",
       "      <th>Unnamed: 3</th>\n",
       "      <th>Unnamed: 4</th>\n",
       "      <th>Unnamed: 5</th>\n",
       "    </tr>\n",
       "  </thead>\n",
       "  <tbody>\n",
       "    <tr>\n",
       "      <th>0</th>\n",
       "      <td>Магазин / комиссионер</td>\n",
       "      <td>Бренд (Общие)</td>\n",
       "      <td>Номенклатура</td>\n",
       "      <td>Характеристика</td>\n",
       "      <td>Вес (числитель)</td>\n",
       "      <td>Количество</td>\n",
       "    </tr>\n",
       "    <tr>\n",
       "      <th>1</th>\n",
       "      <td>002.Павла Морозова 113(Тобакко Групп ДВ)</td>\n",
       "      <td>Banger</td>\n",
       "      <td>Табак для кальяна Banger 25г</td>\n",
       "      <td>Bluemist (Голубика, черника и грейпфрут)</td>\n",
       "      <td>25</td>\n",
       "      <td>1</td>\n",
       "    </tr>\n",
       "  </tbody>\n",
       "</table>\n",
       "</div>"
      ],
      "text/plain": [
       "  В отчет выведены результаты предварительного закрытия месяца. \\nПосле выполнения окончательного закрытия месяца результат может измениться.  \\\n",
       "0                              Магазин / комиссионер                                                                                            \n",
       "1           002.Павла Морозова 113(Тобакко Групп ДВ)                                                                                            \n",
       "\n",
       "      Unnamed: 1                    Unnamed: 2  \\\n",
       "0  Бренд (Общие)                  Номенклатура   \n",
       "1         Banger  Табак для кальяна Banger 25г   \n",
       "\n",
       "                                 Unnamed: 3       Unnamed: 4  Unnamed: 5  \n",
       "0                            Характеристика  Вес (числитель)  Количество  \n",
       "1  Bluemist (Голубика, черника и грейпфрут)               25           1  "
      ]
     },
     "execution_count": 14,
     "metadata": {},
     "output_type": "execute_result"
    }
   ],
   "source": [
    "osh.head(2)"
   ]
  },
  {
   "cell_type": "code",
   "execution_count": null,
   "id": "aeb9dc08",
   "metadata": {},
   "outputs": [],
   "source": []
  }
 ],
 "metadata": {
  "kernelspec": {
   "display_name": "Python 3 (ipykernel)",
   "language": "python",
   "name": "python3"
  },
  "language_info": {
   "codemirror_mode": {
    "name": "ipython",
    "version": 3
   },
   "file_extension": ".py",
   "mimetype": "text/x-python",
   "name": "python",
   "nbconvert_exporter": "python",
   "pygments_lexer": "ipython3",
   "version": "3.10.11"
  }
 },
 "nbformat": 4,
 "nbformat_minor": 5
}
