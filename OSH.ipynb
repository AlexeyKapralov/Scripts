{
 "cells": [
  {
   "cell_type": "markdown",
   "id": "f50a85bd",
   "metadata": {},
   "source": [
    "- В папку для обработки положить файлы которые надо обработать\n",
    "- Проверяет на наличие найденных совпадений в справочниках\n",
    "- Проверять чтобы было соответствие колонок у всех файлов\n"
   ]
  },
  {
   "cell_type": "code",
   "execution_count": 30,
   "id": "e4f02f86",
   "metadata": {},
   "outputs": [],
   "source": [
    "import pandas as pd\n",
    "import os\n",
    "import glob\n",
    "import numpy as np\n",
    "from datetime import datetime"
   ]
  },
  {
   "cell_type": "code",
   "execution_count": 53,
   "id": "00db9fdd",
   "metadata": {},
   "outputs": [],
   "source": [
    "path2 = r\"D:\\Analysis Burn\\OSH\\Для обработки\"\n",
    "xl_files = glob.glob(os.path.join(path2, \"*.xlsx\"))"
   ]
  },
  {
   "cell_type": "code",
   "execution_count": 54,
   "id": "502ebfe3",
   "metadata": {},
   "outputs": [],
   "source": [
    "# frame2.to_csv(r\"D:\\Analysis Burn\\OSH\\Всё в сборе.csv\", index=False)"
   ]
  },
  {
   "cell_type": "code",
   "execution_count": 55,
   "id": "d47090dd",
   "metadata": {},
   "outputs": [],
   "source": [
    "li2 = []\n",
    "\n",
    "for f2 in xl_files:\n",
    "      \n",
    "    # read the csv file\n",
    "    df2 = pd.read_excel(f2)\n",
    "    df2 = df2.drop(df2.index[-1])\n",
    "    \n",
    "    li2.append(df2)  \n",
    "    \n",
    "    \n",
    "    # print the location and filename\n",
    "    # print('Location:', f)\n",
    "    # print('File Name:', f.split(\"\\\\\")[-1])\n",
    "      \n",
    "    # print the content\n",
    "    # print('Content:')\n",
    "    # display(df)\n",
    "    # print()\n",
    "\n",
    "frame2 = pd.concat(li2, axis=0, ignore_index=True)"
   ]
  },
  {
   "cell_type": "code",
   "execution_count": 3,
   "id": "d8402f6d",
   "metadata": {},
   "outputs": [],
   "source": [
    "# frame2 = pd.read_csv(r\"D:\\Analysis Burn\\OSH\\Всё в сборе.csv\")"
   ]
  },
  {
   "cell_type": "code",
   "execution_count": 56,
   "id": "f9f1f6ae",
   "metadata": {},
   "outputs": [
    {
     "name": "stdout",
     "output_type": "stream",
     "text": [
      "<class 'pandas.core.frame.DataFrame'>\n",
      "RangeIndex: 69367 entries, 0 to 69366\n",
      "Data columns (total 16 columns):\n",
      " #   Column                                     Non-Null Count  Dtype  \n",
      "---  ------                                     --------------  -----  \n",
      " 0   Основной менеджер                          69262 non-null  object \n",
      " 1   Родитель                                   68011 non-null  object \n",
      " 2   Бизнес-регион                              68011 non-null  object \n",
      " 3   Группа клиентов (Клиенты)                  25052 non-null  object \n",
      " 4   Клиент                                     69367 non-null  object \n",
      " 5   Код                                        69367 non-null  object \n",
      " 6   Адрес доставки                             69367 non-null  object \n",
      " 7   Заказ клиента / Реализация.Дата отгрузки   68790 non-null  object \n",
      " 8   Бренд (Справочник \"Номенклатура\" (Общие))  69367 non-null  object \n",
      " 9   Группа                                     69367 non-null  object \n",
      " 10  Номенклатура                               69367 non-null  object \n",
      " 11  Группа.1                                   69367 non-null  object \n",
      " 12  СегментПартнера                            69367 non-null  object \n",
      " 13  Количество                                 69367 non-null  int64  \n",
      " 14  Вес (нетто), кг                            69367 non-null  float64\n",
      " 15  Выручка                                    69367 non-null  float64\n",
      "dtypes: float64(2), int64(1), object(13)\n",
      "memory usage: 8.5+ MB\n"
     ]
    }
   ],
   "source": [
    "frame2.info()"
   ]
  },
  {
   "cell_type": "code",
   "execution_count": 57,
   "id": "41cbe961",
   "metadata": {},
   "outputs": [
    {
     "data": {
      "text/plain": [
       "array(['KAM 001 (Шулагин)', 'PRE МОПТ MSK', 'PRE MSK 005', 'PRE MSK 010',\n",
       "       'REG MAN 001 (Такаев: ЮФО, СНГ)', 'PRE MSK 011', 'PRE MSK 026',\n",
       "       'REG MAN 007 (Меркурьев)', 'PRE MSK 001', 'PRE MSK 004',\n",
       "       'PRE MSK 007', 'PRE MSK 022', 'PRE MSK 015',\n",
       "       'REG MAN 005 (Цыганков: ДВФО, ПФО)', 'PRE MSK 024',\n",
       "       'PRE MO ZELENOGRAD 001', 'PRE MSK 002', 'PRE MSK 021',\n",
       "       'PRE MSK 003', nan, 'PRE MSK 017', 'PRE MSK 025', 'PRE MSK 016',\n",
       "       'PRE MSK 006', 'PRE MSK 009', 'PRE MSK 013', 'PRE MSK 023',\n",
       "       'Telesales 002 (Юшкин)', 'PRE MO ELEKTROSTAL 001',\n",
       "       'PRE MSK 018 (MO)', 'Telesales 001 (Маслов)', 'PRE MO KOLOMNA 001',\n",
       "       'PRE MSK 008 (MO)', 'PRE MSK 014', 'PRE MSK 020', 'PRE MSK 027',\n",
       "       'Telesales 003 (Творогов)', 'PRE MO NARO-FOMINSK 001',\n",
       "       'PRE MO SERPUHOV 001', 'PRE MSK 012', 'PRE MO POSAD 001',\n",
       "       'PRE MSK 019', 'Абильфазов Азим', 'Дудырев Владимир', 'Фаткин Ким',\n",
       "       'Асланян Ашхен', 'Баранов Алексей', 'Сафронов Николай'],\n",
       "      dtype=object)"
      ]
     },
     "execution_count": 57,
     "metadata": {},
     "output_type": "execute_result"
    }
   ],
   "source": [
    "frame2['Основной менеджер'].unique()"
   ]
  },
  {
   "cell_type": "code",
   "execution_count": 58,
   "id": "81a740b8",
   "metadata": {},
   "outputs": [],
   "source": [
    "frame2['СегментПартнера'] = frame2['СегментПартнера'].fillna(\"Не указано\")"
   ]
  },
  {
   "cell_type": "code",
   "execution_count": 59,
   "id": "1fcdb862",
   "metadata": {},
   "outputs": [],
   "source": [
    "frame2['СегментПартнера'] = frame2['СегментПартнера'].str.replace('Кафе/Ресторан', 'HoReCa', regex=False)"
   ]
  },
  {
   "cell_type": "code",
   "execution_count": 60,
   "id": "e13c20a5",
   "metadata": {},
   "outputs": [],
   "source": [
    "# frame2['Основной менеджер'] = frame2['Основной менеджер'].str.replace(' (МО)', '', regex=False)"
   ]
  },
  {
   "cell_type": "code",
   "execution_count": 61,
   "id": "b7aa01a7",
   "metadata": {},
   "outputs": [],
   "source": [
    "frame2['Граммовка'] = ( frame2['Вес (нетто), кг'] / frame2['Количество'] )* 1000 "
   ]
  },
  {
   "cell_type": "code",
   "execution_count": 62,
   "id": "f813e20e",
   "metadata": {},
   "outputs": [],
   "source": [
    "frame2['цена'] = frame2['Выручка'] / frame2['Количество']"
   ]
  },
  {
   "cell_type": "code",
   "execution_count": 63,
   "id": "a919c73a",
   "metadata": {},
   "outputs": [],
   "source": [
    "frame2['Бренд (Справочник \"Номенклатура\" (Общие))'] =  frame2['Бренд (Справочник \"Номенклатура\" (Общие))'].str.upper()\n",
    "\n",
    "frame2['Номенклатура'] =  frame2['Номенклатура'].str.upper()\n",
    "\n",
    "frame2['Группа'] =  frame2['Группа'].str.upper()"
   ]
  },
  {
   "cell_type": "code",
   "execution_count": 64,
   "id": "eb73e5b8",
   "metadata": {},
   "outputs": [],
   "source": [
    "frame2['Бренд (Справочник \"Номенклатура\" (Общие))'] =  frame2['Бренд (Справочник \"Номенклатура\" (Общие))'].str.strip()\n",
    "\n",
    "frame2['Номенклатура'] =  frame2['Номенклатура'].str.strip()\n",
    "\n",
    "frame2['Группа'] =  frame2['Группа'].str.strip()"
   ]
  },
  {
   "cell_type": "code",
   "execution_count": 65,
   "id": "66b12723",
   "metadata": {},
   "outputs": [],
   "source": [
    "brands_dim = pd.read_excel(r\"D:\\Analysis Burn\\Продукция Burn.xlsx\", sheet_name = \"варианты брендов\")\n",
    "groups_dim = pd.read_excel(r\"D:\\Analysis Burn\\Продукция Burn.xlsx\", sheet_name = \"варианты групп\")\n",
    "delicious_dim = pd.read_excel(r\"D:\\Analysis Burn\\Продукция Burn.xlsx\", sheet_name = \"варианты вкусов\")"
   ]
  },
  {
   "cell_type": "code",
   "execution_count": 66,
   "id": "f3069730",
   "metadata": {},
   "outputs": [],
   "source": [
    "frame2 = frame2.merge(\n",
    "    brands_dim,\n",
    "    how = 'left',\n",
    "    left_on='Группа', \n",
    "    right_on='Бренд (исходный)',\n",
    "    suffixes=('_left', '_right'),\n",
    ")"
   ]
  },
  {
   "cell_type": "code",
   "execution_count": 67,
   "id": "75bb15aa",
   "metadata": {},
   "outputs": [
    {
     "data": {
      "text/plain": [
       "array([False])"
      ]
     },
     "execution_count": 67,
     "metadata": {},
     "output_type": "execute_result"
    }
   ],
   "source": [
    "frame2['Бренд'].isna().unique()"
   ]
  },
  {
   "cell_type": "code",
   "execution_count": 68,
   "id": "28b67f94",
   "metadata": {},
   "outputs": [],
   "source": [
    "frame2['Бренд+Вкус'] = frame2['Бренд'].str.upper() + frame2['Номенклатура']"
   ]
  },
  {
   "cell_type": "code",
   "execution_count": 69,
   "id": "b45a6a8d",
   "metadata": {},
   "outputs": [],
   "source": [
    "frame2 = frame2.merge(\n",
    "    groups_dim,\n",
    "    how = 'left',\n",
    "    left_on='Группа', \n",
    "    right_on='Исходная группа',\n",
    "    suffixes=('_left', '_right'),\n",
    ")"
   ]
  },
  {
   "cell_type": "code",
   "execution_count": 70,
   "id": "36a2f485",
   "metadata": {},
   "outputs": [
    {
     "data": {
      "text/plain": [
       "array([False])"
      ]
     },
     "execution_count": 70,
     "metadata": {},
     "output_type": "execute_result"
    }
   ],
   "source": [
    "frame2['Группа_right'].isna().unique()"
   ]
  },
  {
   "cell_type": "code",
   "execution_count": 71,
   "id": "bfcd638a",
   "metadata": {},
   "outputs": [],
   "source": [
    "frame2 = frame2.merge(\n",
    "    delicious_dim,\n",
    "    how = 'left',\n",
    "    left_on='Бренд+Вкус', \n",
    "    right_on='Исходный вкус',\n",
    "    suffixes=('_left', '_right')\n",
    ")"
   ]
  },
  {
   "cell_type": "code",
   "execution_count": 72,
   "id": "f58f575b",
   "metadata": {},
   "outputs": [
    {
     "data": {
      "text/plain": [
       "array([False])"
      ]
     },
     "execution_count": 72,
     "metadata": {},
     "output_type": "execute_result"
    }
   ],
   "source": [
    "frame2['Вкус'].isna().unique()"
   ]
  },
  {
   "cell_type": "code",
   "execution_count": 50,
   "id": "424e5804",
   "metadata": {
    "scrolled": true
   },
   "outputs": [],
   "source": [
    "# a = frame2.loc[frame2['Вкус'].isna()]"
   ]
  },
  {
   "cell_type": "code",
   "execution_count": 52,
   "id": "9bd32d13",
   "metadata": {},
   "outputs": [
    {
     "data": {
      "text/plain": [
       "array(['BANGERBANGER GRAPEFRUIT 100ГР МРК',\n",
       "       'BANGERBANGER SAINT-TROPEZ 100ГР МРК',\n",
       "       'BLACKBURNBURN BLACK ICEBERG 25ГР МРК',\n",
       "       'BANGERBANGER GRAPEFRUIT 25ГР МРК',\n",
       "       'BANGERBANGER SAINT-TROPEZ 25ГР МРК',\n",
       "       'BANGERBANGER LEMON TONIC 100ГР МРК'], dtype=object)"
      ]
     },
     "execution_count": 52,
     "metadata": {},
     "output_type": "execute_result"
    }
   ],
   "source": [
    "# a['Бренд+Вкус'].unique()"
   ]
  },
  {
   "cell_type": "code",
   "execution_count": 73,
   "id": "237115be",
   "metadata": {},
   "outputs": [],
   "source": [
    "frame2 = frame2.drop(\n",
    "    columns = {\n",
    "        'Группа.1', 'Бренд (Справочник \"Номенклатура\" (Общие))', 'Номенклатура', 'Бренд (исходный)', 'Бренд+Вкус',\n",
    "        'Группа_left', 'Исходная группа', 'Brand', 'Граммовка_right', 'Исходный вкус', 'Код_right', \n",
    "    }\n",
    ")"
   ]
  },
  {
   "cell_type": "code",
   "execution_count": 74,
   "id": "9ec499d6",
   "metadata": {},
   "outputs": [],
   "source": [
    "frame2 = frame2.rename(\n",
    "    columns={\n",
    "      'Код_left': \"Код\",\n",
    "       'Граммовка_left': \"Граммовка\",\n",
    "        \"Группа_right\": \"Группа\"\n",
    "        \n",
    "    }\n",
    ")"
   ]
  },
  {
   "cell_type": "code",
   "execution_count": 121,
   "id": "2cbb4744",
   "metadata": {},
   "outputs": [],
   "source": [
    "# frame.to_csv(r\"D:\\Analysis Burn\\OSH\\Всё в сборе.csv\", index=False)"
   ]
  },
  {
   "cell_type": "code",
   "execution_count": 120,
   "id": "030bffff",
   "metadata": {},
   "outputs": [],
   "source": [
    "# frame = frame.fillna('29.05.2023')"
   ]
  },
  {
   "cell_type": "code",
   "execution_count": 119,
   "id": "e54ffad8",
   "metadata": {},
   "outputs": [
    {
     "data": {
      "text/plain": [
       "array(['10.08.2022', '13.08.2022', '26.08.2022', '09.08.2022',\n",
       "       '31.08.2022', '02.08.2022', '05.08.2022', '17.08.2022',\n",
       "       '03.08.2022', '04.08.2022', '27.08.2022', '23.08.2022',\n",
       "       '11.08.2022', '12.08.2022', '24.08.2022', '20.08.2022',\n",
       "       '01.08.2022', '08.08.2022', '29.08.2022', '30.08.2022',\n",
       "       '22.08.2022', '06.08.2022', '18.08.2022', '19.08.2022',\n",
       "       '25.08.2022', '16.08.2022', '15.08.2022', '27.04.2022',\n",
       "       '26.04.2022', '13.04.2022', '06.04.2022', '21.04.2022',\n",
       "       '29.04.2022', '12.04.2022', '28.04.2022', '01.05.2022',\n",
       "       '25.04.2022', '01.04.2022', '16.04.2022', '07.04.2022',\n",
       "       '20.04.2022', '19.04.2022', '04.04.2022', '22.04.2022',\n",
       "       '11.04.2022', '30.04.2022', '18.04.2022', '02.04.2022',\n",
       "       '23.04.2022', '14.04.2022', '09.04.2022', '08.04.2022',\n",
       "       '05.04.2022', '15.04.2022', '10.12.2022', '09.12.2022',\n",
       "       '21.12.2022', '29.12.2022', '08.12.2022', '24.12.2022',\n",
       "       '30.12.2022', '15.12.2022', '22.12.2022', '28.12.2022',\n",
       "       '23.12.2022', '13.12.2022', '03.12.2022', '06.12.2022',\n",
       "       '17.12.2022', '05.12.2022', '14.12.2022', '26.12.2022',\n",
       "       '27.12.2022', '20.12.2022', '12.12.2022', '02.12.2022',\n",
       "       '07.12.2022', '01.12.2022', '19.12.2022', '16.12.2022',\n",
       "       '31.12.2022', '30.07.2022', '29.07.2022', '22.07.2022',\n",
       "       '15.07.2022', '28.07.2022', '08.07.2022', '20.07.2022',\n",
       "       '06.07.2022', '21.07.2022', '12.07.2022', '26.07.2022',\n",
       "       '18.07.2022', '16.07.2022', '05.07.2022', '01.07.2022',\n",
       "       '27.07.2022', '02.07.2022', '13.07.2022', '09.07.2022',\n",
       "       '14.07.2022', '07.07.2022', '19.07.2022', '25.07.2022',\n",
       "       '11.07.2022', '04.07.2022', '23.07.2022', '24.07.2022',\n",
       "       '29.06.2022', '30.06.2022', '18.06.2022', '25.06.2022',\n",
       "       '07.06.2022', '24.06.2022', '01.06.2022', '21.06.2022',\n",
       "       '03.06.2022', '27.06.2022', '16.06.2022', '11.06.2022',\n",
       "       '08.06.2022', '02.06.2022', '28.06.2022', '22.06.2022',\n",
       "       '10.06.2022', '20.06.2022', '04.06.2022', '09.06.2022',\n",
       "       '14.06.2022', '17.06.2022', '06.06.2022', '23.06.2022',\n",
       "       '15.06.2022', '13.06.2022', '30.05.2022', '20.05.2022',\n",
       "       '23.05.2022', '26.05.2022', '17.05.2022', '07.05.2022',\n",
       "       '27.05.2022', '12.05.2022', '13.05.2022', '04.05.2022',\n",
       "       '25.05.2022', '16.05.2022', '19.05.2022', '05.05.2022',\n",
       "       '31.05.2022', '02.05.2022', '09.05.2022', '18.05.2022',\n",
       "       '28.05.2022', '24.05.2022', '21.05.2022', '06.05.2022',\n",
       "       '11.05.2022', '14.05.2022', '03.05.2022', '10.05.2022',\n",
       "       '28.03.2022', '05.03.2022', '10.03.2022', '18.03.2022',\n",
       "       '11.03.2022', '15.03.2022', '21.03.2022', '09.03.2022',\n",
       "       '03.03.2022', '02.03.2022', '29.03.2022', '24.03.2022',\n",
       "       '23.03.2022', '17.03.2022', '12.03.2022', '04.03.2022',\n",
       "       '26.03.2022', '16.03.2022', '01.03.2022', '30.03.2022',\n",
       "       '19.03.2022', '25.03.2022', '31.03.2022', '14.03.2022',\n",
       "       '07.03.2022', '22.03.2022', '08.03.2022', '27.03.2022',\n",
       "       '19.10.2022', '22.10.2022', '25.10.2022', '07.10.2022',\n",
       "       '18.10.2022', '27.10.2022', '24.10.2022', '11.10.2022',\n",
       "       '26.10.2022', '05.10.2022', '04.10.2022', '28.10.2022',\n",
       "       '08.10.2022', '29.10.2022', '12.10.2022', '10.10.2022',\n",
       "       '20.10.2022', '21.10.2022', '17.10.2022', '14.10.2022',\n",
       "       '15.10.2022', '31.10.2022', '06.10.2022', '13.10.2022',\n",
       "       '03.10.2022', '01.10.2022', '21.09.2022', '15.09.2022',\n",
       "       '22.09.2022', '07.09.2022', '30.09.2022', '12.09.2022',\n",
       "       '27.09.2022', '16.09.2022', '13.09.2022', '14.09.2022',\n",
       "       '29.09.2022', '02.09.2022', '05.09.2022', '23.09.2022',\n",
       "       '24.09.2022', '28.09.2022', '17.09.2022', '08.09.2022',\n",
       "       '26.09.2022', '06.09.2022', '10.09.2022', '01.09.2022',\n",
       "       '09.09.2022', '20.09.2022', '03.09.2022', '19.09.2022',\n",
       "       '09.02.2022', '16.02.2022', '18.02.2022', '15.02.2022',\n",
       "       '02.02.2022', '25.02.2022', '23.02.2022', '19.02.2022',\n",
       "       '12.02.2022', '17.02.2022', '26.02.2022', '11.02.2022',\n",
       "       '22.02.2022', '24.02.2022', '03.02.2022', '14.02.2022',\n",
       "       '28.02.2022', '10.02.2022', '01.02.2022', '08.02.2022',\n",
       "       '07.02.2022', '05.02.2022', '04.02.2022', '21.02.2022',\n",
       "       '25.01.2022', '27.01.2022', '21.01.2022', '12.01.2022',\n",
       "       '14.01.2022', '19.01.2022', '22.01.2022', '26.01.2022',\n",
       "       '20.01.2022', '28.01.2022', '29.01.2022', '06.01.2022',\n",
       "       '13.01.2022', '24.01.2022', '11.01.2022', '10.01.2022',\n",
       "       '18.01.2022', '17.01.2022', '15.01.2022', '31.01.2022',\n",
       "       '05.01.2022', '16.11.2022', '29.11.2022', '03.11.2022',\n",
       "       '10.11.2022', '30.11.2022', '18.11.2022', '19.11.2022',\n",
       "       '24.11.2022', '23.11.2022', '22.11.2022', '08.11.2022',\n",
       "       '11.11.2022', '17.11.2022', '25.11.2022', '01.11.2022',\n",
       "       '04.11.2022', '21.11.2022', '28.11.2022', '09.11.2022',\n",
       "       '07.11.2022', '02.11.2022', '15.11.2022', '26.11.2022',\n",
       "       '14.11.2022', '05.11.2022', '12.11.2022', '12.04.2023',\n",
       "       '18.04.2023', '06.04.2023', '25.04.2023', '14.04.2023',\n",
       "       '21.04.2023', '22.04.2023', '05.04.2023', '28.04.2023',\n",
       "       '07.04.2023', '13.04.2023', '24.04.2023', '29.04.2023',\n",
       "       '10.04.2023', '20.04.2023', '27.04.2023', '11.04.2023',\n",
       "       '19.04.2023', '26.04.2023', '03.04.2023', '17.04.2023',\n",
       "       '15.04.2023', '04.04.2023', '08.04.2023', '01.04.2023',\n",
       "       '29.03.2023', '22.03.2023', '14.03.2023', '11.03.2023',\n",
       "       '28.03.2023', '31.03.2023', '17.03.2023', '03.03.2023',\n",
       "       '21.03.2023', '09.03.2023', '25.03.2023', '20.03.2023',\n",
       "       '01.03.2023', '15.03.2023', '06.03.2023', '18.03.2023',\n",
       "       '30.03.2023', '13.03.2023', '07.03.2023', '23.03.2023',\n",
       "       '10.03.2023', '27.03.2023', '04.03.2023', '16.03.2023',\n",
       "       '24.03.2023', '02.03.2023', '08.03.2023', '23.02.2023',\n",
       "       '14.02.2023', '21.02.2023', '17.02.2023', '04.02.2023',\n",
       "       '20.02.2023', '28.02.2023', '22.02.2023', '10.02.2023',\n",
       "       '02.02.2023', '16.02.2023', '15.02.2023', '27.02.2023',\n",
       "       '18.02.2023', '07.02.2023', '09.02.2023', '25.02.2023',\n",
       "       '06.02.2023', '08.02.2023', '24.02.2023', '01.02.2023',\n",
       "       '11.02.2023', '03.02.2023', '13.02.2023', '12.02.2023',\n",
       "       '28.01.2023', '24.01.2023', '11.01.2023', '31.01.2023',\n",
       "       '27.01.2023', '17.01.2023', '18.01.2023', '30.01.2023',\n",
       "       '23.01.2023', '19.01.2023', '06.01.2023', '20.01.2023',\n",
       "       '16.01.2023', '10.01.2023', '04.01.2023', '14.01.2023',\n",
       "       '09.01.2023', '13.01.2023', '26.01.2023', '21.01.2023',\n",
       "       '05.01.2023', '25.01.2023', '07.01.2023', '12.01.2023',\n",
       "       '02.01.2023', '19.05.2023', '12.05.2023', nan, '29.05.2023',\n",
       "       '16.05.2023', '31.05.2023', '05.05.2023', '18.05.2023',\n",
       "       '24.05.2023', '26.05.2023', '23.05.2023', '15.05.2023',\n",
       "       '20.05.2023', '08.05.2023', '03.05.2023', '06.05.2023',\n",
       "       '27.05.2023', '13.05.2023', '17.05.2023', '10.05.2023',\n",
       "       '25.05.2023', '30.05.2023', '11.05.2023', '02.05.2023',\n",
       "       '22.05.2023', '04.05.2023', '01.05.2023'], dtype=object)"
      ]
     },
     "execution_count": 119,
     "metadata": {},
     "output_type": "execute_result"
    }
   ],
   "source": [
    "frame['Заказ клиента / Реализация.Дата отгрузки'].unique()"
   ]
  },
  {
   "cell_type": "code",
   "execution_count": 79,
   "id": "3fdba9d0",
   "metadata": {},
   "outputs": [],
   "source": [
    "# frame = pd.concat([frame3, frame2])"
   ]
  },
  {
   "cell_type": "code",
   "execution_count": 149,
   "id": "221b5f53",
   "metadata": {},
   "outputs": [],
   "source": [
    "frame['СегментПартнера'] = frame['СегментПартнера'].str.lower()"
   ]
  },
  {
   "cell_type": "markdown",
   "id": "a739a29b",
   "metadata": {},
   "source": [
    "## ABC"
   ]
  },
  {
   "cell_type": "code",
   "execution_count": 93,
   "id": "712ef634",
   "metadata": {},
   "outputs": [],
   "source": [
    "# frame = pd.read_csv(r\"D:\\Analysis Burn\\OSH\\Всё в сборе.csv\")"
   ]
  },
  {
   "cell_type": "code",
   "execution_count": 95,
   "id": "0bcae7cd",
   "metadata": {},
   "outputs": [],
   "source": [
    "frame['month'] = pd.to_datetime(frame['Заказ клиента / Реализация.Дата отгрузки'], dayfirst = True)"
   ]
  },
  {
   "cell_type": "code",
   "execution_count": 97,
   "id": "8f9f344e",
   "metadata": {},
   "outputs": [],
   "source": [
    "frame['month'] = frame['month'].dt.month"
   ]
  },
  {
   "cell_type": "code",
   "execution_count": 69,
   "id": "bbcffc92",
   "metadata": {},
   "outputs": [],
   "source": [
    "# abc_temp = frame.groupby(\n",
    "#     ['СегментПартнера','Код', 'month']\n",
    "# ).agg({\"Вес (нетто), кг\":\"sum\"}).reset_index().sort_values(\"Вес (нетто), кг\",ascending = False)"
   ]
  },
  {
   "cell_type": "code",
   "execution_count": 110,
   "id": "a2da9e32",
   "metadata": {
    "scrolled": true
   },
   "outputs": [],
   "source": [
    "abc_temp = frame.pivot_table(\n",
    "    values='Вес (нетто), кг',\n",
    "    index=['СегментПартнера','Код'],\n",
    "    columns=['month']\n",
    ").reset_index()"
   ]
  },
  {
   "cell_type": "code",
   "execution_count": 111,
   "id": "4c6878ff",
   "metadata": {},
   "outputs": [],
   "source": [
    "# здесь править\n",
    "abc_temp['Ср_в_месяц'] = abc_temp.iloc[:, -12:].median(axis=1)"
   ]
  },
  {
   "cell_type": "markdown",
   "id": "f16cde2c",
   "metadata": {},
   "source": []
  },
  {
   "cell_type": "code",
   "execution_count": 112,
   "id": "82c4f42f",
   "metadata": {},
   "outputs": [
    {
     "data": {
      "text/html": [
       "<div>\n",
       "<style scoped>\n",
       "    .dataframe tbody tr th:only-of-type {\n",
       "        vertical-align: middle;\n",
       "    }\n",
       "\n",
       "    .dataframe tbody tr th {\n",
       "        vertical-align: top;\n",
       "    }\n",
       "\n",
       "    .dataframe thead th {\n",
       "        text-align: right;\n",
       "    }\n",
       "</style>\n",
       "<table border=\"1\" class=\"dataframe\">\n",
       "  <thead>\n",
       "    <tr style=\"text-align: right;\">\n",
       "      <th>month</th>\n",
       "      <th>СегментПартнера</th>\n",
       "      <th>Код</th>\n",
       "      <th>1</th>\n",
       "      <th>2</th>\n",
       "      <th>3</th>\n",
       "      <th>4</th>\n",
       "      <th>5</th>\n",
       "      <th>6</th>\n",
       "      <th>7</th>\n",
       "      <th>8</th>\n",
       "      <th>9</th>\n",
       "      <th>10</th>\n",
       "      <th>11</th>\n",
       "      <th>12</th>\n",
       "      <th>Ср_в_месяц</th>\n",
       "    </tr>\n",
       "  </thead>\n",
       "  <tbody>\n",
       "    <tr>\n",
       "      <th>0</th>\n",
       "      <td>horeca</td>\n",
       "      <td>00-00000740</td>\n",
       "      <td>0.192308</td>\n",
       "      <td>0.307692</td>\n",
       "      <td>0.200000</td>\n",
       "      <td>0.285714</td>\n",
       "      <td>0.347826</td>\n",
       "      <td>0.2</td>\n",
       "      <td>0.333333</td>\n",
       "      <td>0.22</td>\n",
       "      <td>0.28</td>\n",
       "      <td>0.244444</td>\n",
       "      <td>0.266667</td>\n",
       "      <td>0.213333</td>\n",
       "      <td>0.255556</td>\n",
       "    </tr>\n",
       "    <tr>\n",
       "      <th>1</th>\n",
       "      <td>horeca</td>\n",
       "      <td>00-00001042</td>\n",
       "      <td>0.200000</td>\n",
       "      <td>NaN</td>\n",
       "      <td>NaN</td>\n",
       "      <td>0.200000</td>\n",
       "      <td>0.200000</td>\n",
       "      <td>NaN</td>\n",
       "      <td>NaN</td>\n",
       "      <td>NaN</td>\n",
       "      <td>NaN</td>\n",
       "      <td>NaN</td>\n",
       "      <td>NaN</td>\n",
       "      <td>0.200000</td>\n",
       "      <td>0.200000</td>\n",
       "    </tr>\n",
       "    <tr>\n",
       "      <th>2</th>\n",
       "      <td>horeca</td>\n",
       "      <td>00-00001188</td>\n",
       "      <td>NaN</td>\n",
       "      <td>NaN</td>\n",
       "      <td>NaN</td>\n",
       "      <td>NaN</td>\n",
       "      <td>NaN</td>\n",
       "      <td>NaN</td>\n",
       "      <td>NaN</td>\n",
       "      <td>NaN</td>\n",
       "      <td>NaN</td>\n",
       "      <td>NaN</td>\n",
       "      <td>NaN</td>\n",
       "      <td>0.200000</td>\n",
       "      <td>0.200000</td>\n",
       "    </tr>\n",
       "    <tr>\n",
       "      <th>3</th>\n",
       "      <td>horeca</td>\n",
       "      <td>00-00001254</td>\n",
       "      <td>0.100000</td>\n",
       "      <td>NaN</td>\n",
       "      <td>0.111111</td>\n",
       "      <td>NaN</td>\n",
       "      <td>0.133333</td>\n",
       "      <td>NaN</td>\n",
       "      <td>0.100000</td>\n",
       "      <td>NaN</td>\n",
       "      <td>NaN</td>\n",
       "      <td>0.100000</td>\n",
       "      <td>NaN</td>\n",
       "      <td>NaN</td>\n",
       "      <td>0.100000</td>\n",
       "    </tr>\n",
       "    <tr>\n",
       "      <th>4</th>\n",
       "      <td>horeca</td>\n",
       "      <td>00-00001401</td>\n",
       "      <td>0.070000</td>\n",
       "      <td>0.054000</td>\n",
       "      <td>NaN</td>\n",
       "      <td>NaN</td>\n",
       "      <td>NaN</td>\n",
       "      <td>NaN</td>\n",
       "      <td>0.145833</td>\n",
       "      <td>NaN</td>\n",
       "      <td>NaN</td>\n",
       "      <td>NaN</td>\n",
       "      <td>NaN</td>\n",
       "      <td>NaN</td>\n",
       "      <td>0.070000</td>\n",
       "    </tr>\n",
       "    <tr>\n",
       "      <th>...</th>\n",
       "      <td>...</td>\n",
       "      <td>...</td>\n",
       "      <td>...</td>\n",
       "      <td>...</td>\n",
       "      <td>...</td>\n",
       "      <td>...</td>\n",
       "      <td>...</td>\n",
       "      <td>...</td>\n",
       "      <td>...</td>\n",
       "      <td>...</td>\n",
       "      <td>...</td>\n",
       "      <td>...</td>\n",
       "      <td>...</td>\n",
       "      <td>...</td>\n",
       "      <td>...</td>\n",
       "    </tr>\n",
       "    <tr>\n",
       "      <th>5264</th>\n",
       "      <td>табаконист</td>\n",
       "      <td>УТ-УТ000215</td>\n",
       "      <td>NaN</td>\n",
       "      <td>NaN</td>\n",
       "      <td>NaN</td>\n",
       "      <td>NaN</td>\n",
       "      <td>0.025000</td>\n",
       "      <td>NaN</td>\n",
       "      <td>NaN</td>\n",
       "      <td>NaN</td>\n",
       "      <td>NaN</td>\n",
       "      <td>NaN</td>\n",
       "      <td>NaN</td>\n",
       "      <td>NaN</td>\n",
       "      <td>0.025000</td>\n",
       "    </tr>\n",
       "    <tr>\n",
       "      <th>5265</th>\n",
       "      <td>табаконист</td>\n",
       "      <td>УТ-УТ000219</td>\n",
       "      <td>NaN</td>\n",
       "      <td>NaN</td>\n",
       "      <td>NaN</td>\n",
       "      <td>NaN</td>\n",
       "      <td>0.025000</td>\n",
       "      <td>NaN</td>\n",
       "      <td>NaN</td>\n",
       "      <td>NaN</td>\n",
       "      <td>NaN</td>\n",
       "      <td>NaN</td>\n",
       "      <td>NaN</td>\n",
       "      <td>NaN</td>\n",
       "      <td>0.025000</td>\n",
       "    </tr>\n",
       "    <tr>\n",
       "      <th>5266</th>\n",
       "      <td>табаконист</td>\n",
       "      <td>УТ-УТ000222</td>\n",
       "      <td>NaN</td>\n",
       "      <td>NaN</td>\n",
       "      <td>NaN</td>\n",
       "      <td>NaN</td>\n",
       "      <td>0.028788</td>\n",
       "      <td>NaN</td>\n",
       "      <td>NaN</td>\n",
       "      <td>NaN</td>\n",
       "      <td>NaN</td>\n",
       "      <td>NaN</td>\n",
       "      <td>NaN</td>\n",
       "      <td>NaN</td>\n",
       "      <td>0.028788</td>\n",
       "    </tr>\n",
       "    <tr>\n",
       "      <th>5267</th>\n",
       "      <td>табаконист</td>\n",
       "      <td>УТ-УТ000224</td>\n",
       "      <td>NaN</td>\n",
       "      <td>NaN</td>\n",
       "      <td>NaN</td>\n",
       "      <td>NaN</td>\n",
       "      <td>0.025000</td>\n",
       "      <td>NaN</td>\n",
       "      <td>NaN</td>\n",
       "      <td>NaN</td>\n",
       "      <td>NaN</td>\n",
       "      <td>NaN</td>\n",
       "      <td>NaN</td>\n",
       "      <td>NaN</td>\n",
       "      <td>0.025000</td>\n",
       "    </tr>\n",
       "    <tr>\n",
       "      <th>5268</th>\n",
       "      <td>табаконист</td>\n",
       "      <td>УТ-УТ000250</td>\n",
       "      <td>NaN</td>\n",
       "      <td>NaN</td>\n",
       "      <td>NaN</td>\n",
       "      <td>NaN</td>\n",
       "      <td>0.050000</td>\n",
       "      <td>NaN</td>\n",
       "      <td>NaN</td>\n",
       "      <td>NaN</td>\n",
       "      <td>NaN</td>\n",
       "      <td>NaN</td>\n",
       "      <td>NaN</td>\n",
       "      <td>NaN</td>\n",
       "      <td>0.050000</td>\n",
       "    </tr>\n",
       "  </tbody>\n",
       "</table>\n",
       "<p>5269 rows × 15 columns</p>\n",
       "</div>"
      ],
      "text/plain": [
       "month СегментПартнера          Код         1         2         3         4  \\\n",
       "0              horeca  00-00000740  0.192308  0.307692  0.200000  0.285714   \n",
       "1              horeca  00-00001042  0.200000       NaN       NaN  0.200000   \n",
       "2              horeca  00-00001188       NaN       NaN       NaN       NaN   \n",
       "3              horeca  00-00001254  0.100000       NaN  0.111111       NaN   \n",
       "4              horeca  00-00001401  0.070000  0.054000       NaN       NaN   \n",
       "...               ...          ...       ...       ...       ...       ...   \n",
       "5264       табаконист  УТ-УТ000215       NaN       NaN       NaN       NaN   \n",
       "5265       табаконист  УТ-УТ000219       NaN       NaN       NaN       NaN   \n",
       "5266       табаконист  УТ-УТ000222       NaN       NaN       NaN       NaN   \n",
       "5267       табаконист  УТ-УТ000224       NaN       NaN       NaN       NaN   \n",
       "5268       табаконист  УТ-УТ000250       NaN       NaN       NaN       NaN   \n",
       "\n",
       "month         5    6         7     8     9        10        11        12  \\\n",
       "0      0.347826  0.2  0.333333  0.22  0.28  0.244444  0.266667  0.213333   \n",
       "1      0.200000  NaN       NaN   NaN   NaN       NaN       NaN  0.200000   \n",
       "2           NaN  NaN       NaN   NaN   NaN       NaN       NaN  0.200000   \n",
       "3      0.133333  NaN  0.100000   NaN   NaN  0.100000       NaN       NaN   \n",
       "4           NaN  NaN  0.145833   NaN   NaN       NaN       NaN       NaN   \n",
       "...         ...  ...       ...   ...   ...       ...       ...       ...   \n",
       "5264   0.025000  NaN       NaN   NaN   NaN       NaN       NaN       NaN   \n",
       "5265   0.025000  NaN       NaN   NaN   NaN       NaN       NaN       NaN   \n",
       "5266   0.028788  NaN       NaN   NaN   NaN       NaN       NaN       NaN   \n",
       "5267   0.025000  NaN       NaN   NaN   NaN       NaN       NaN       NaN   \n",
       "5268   0.050000  NaN       NaN   NaN   NaN       NaN       NaN       NaN   \n",
       "\n",
       "month  Ср_в_месяц  \n",
       "0        0.255556  \n",
       "1        0.200000  \n",
       "2        0.200000  \n",
       "3        0.100000  \n",
       "4        0.070000  \n",
       "...           ...  \n",
       "5264     0.025000  \n",
       "5265     0.025000  \n",
       "5266     0.028788  \n",
       "5267     0.025000  \n",
       "5268     0.050000  \n",
       "\n",
       "[5269 rows x 15 columns]"
      ]
     },
     "execution_count": 112,
     "metadata": {},
     "output_type": "execute_result"
    }
   ],
   "source": [
    "abc_temp"
   ]
  },
  {
   "cell_type": "code",
   "execution_count": 114,
   "id": "1db7af60",
   "metadata": {},
   "outputs": [],
   "source": [
    "abc_temp = abc_temp.drop(columns={1,2,3,4,5,6,7,8,9,10,11,12})"
   ]
  },
  {
   "cell_type": "code",
   "execution_count": 116,
   "id": "b136d0a9",
   "metadata": {},
   "outputs": [],
   "source": [
    "abc = abc_temp.sort_values(\"Ср_в_месяц\",ascending = False)"
   ]
  },
  {
   "cell_type": "code",
   "execution_count": 152,
   "id": "80dcd33e",
   "metadata": {},
   "outputs": [],
   "source": [
    "abc = abc.rename(columns = {'Вес (нетто), кг': 'Сумма продаж'})"
   ]
  },
  {
   "cell_type": "code",
   "execution_count": 119,
   "id": "8d5be52d",
   "metadata": {},
   "outputs": [],
   "source": [
    "# Разделение данных по сегментам\n",
    "segment_groups = abc.groupby('СегментПартнера')"
   ]
  },
  {
   "cell_type": "code",
   "execution_count": 120,
   "id": "c7063b23",
   "metadata": {},
   "outputs": [
    {
     "data": {
      "text/html": [
       "<div>\n",
       "<style scoped>\n",
       "    .dataframe tbody tr th:only-of-type {\n",
       "        vertical-align: middle;\n",
       "    }\n",
       "\n",
       "    .dataframe tbody tr th {\n",
       "        vertical-align: top;\n",
       "    }\n",
       "\n",
       "    .dataframe thead th {\n",
       "        text-align: right;\n",
       "    }\n",
       "</style>\n",
       "<table border=\"1\" class=\"dataframe\">\n",
       "  <thead>\n",
       "    <tr style=\"text-align: right;\">\n",
       "      <th>month</th>\n",
       "      <th>СегментПартнера</th>\n",
       "      <th>Код</th>\n",
       "      <th>Ср_в_месяц</th>\n",
       "    </tr>\n",
       "  </thead>\n",
       "  <tbody>\n",
       "    <tr>\n",
       "      <th>2662</th>\n",
       "      <td>не указано</td>\n",
       "      <td>УТ-00016592</td>\n",
       "      <td>5.000000</td>\n",
       "    </tr>\n",
       "    <tr>\n",
       "      <th>3446</th>\n",
       "      <td>спец. кальянный магазин</td>\n",
       "      <td>УТ-00012816</td>\n",
       "      <td>3.692308</td>\n",
       "    </tr>\n",
       "    <tr>\n",
       "      <th>1463</th>\n",
       "      <td>личные нужды</td>\n",
       "      <td>00-00008426</td>\n",
       "      <td>3.533333</td>\n",
       "    </tr>\n",
       "    <tr>\n",
       "      <th>1488</th>\n",
       "      <td>мопт</td>\n",
       "      <td>00-00000354</td>\n",
       "      <td>2.813658</td>\n",
       "    </tr>\n",
       "    <tr>\n",
       "      <th>1527</th>\n",
       "      <td>мопт</td>\n",
       "      <td>УТ-00011707</td>\n",
       "      <td>2.591216</td>\n",
       "    </tr>\n",
       "    <tr>\n",
       "      <th>...</th>\n",
       "      <td>...</td>\n",
       "      <td>...</td>\n",
       "      <td>...</td>\n",
       "    </tr>\n",
       "    <tr>\n",
       "      <th>3100</th>\n",
       "      <td>продуктовый магазин</td>\n",
       "      <td>УТ-00016546</td>\n",
       "      <td>0.075000</td>\n",
       "    </tr>\n",
       "    <tr>\n",
       "      <th>3097</th>\n",
       "      <td>продуктовый магазин</td>\n",
       "      <td>УТ-00016134</td>\n",
       "      <td>0.075000</td>\n",
       "    </tr>\n",
       "    <tr>\n",
       "      <th>3078</th>\n",
       "      <td>пивной магазин</td>\n",
       "      <td>УТ-00016488</td>\n",
       "      <td>0.036667</td>\n",
       "    </tr>\n",
       "    <tr>\n",
       "      <th>3069</th>\n",
       "      <td>пивной магазин</td>\n",
       "      <td>УТ-00012905</td>\n",
       "      <td>0.035568</td>\n",
       "    </tr>\n",
       "    <tr>\n",
       "      <th>3067</th>\n",
       "      <td>пивной магазин</td>\n",
       "      <td>00-00010071</td>\n",
       "      <td>0.033333</td>\n",
       "    </tr>\n",
       "  </tbody>\n",
       "</table>\n",
       "<p>67 rows × 3 columns</p>\n",
       "</div>"
      ],
      "text/plain": [
       "month          СегментПартнера          Код  Ср_в_месяц\n",
       "2662                не указано  УТ-00016592    5.000000\n",
       "3446   спец. кальянный магазин  УТ-00012816    3.692308\n",
       "1463              личные нужды  00-00008426    3.533333\n",
       "1488                      мопт  00-00000354    2.813658\n",
       "1527                      мопт  УТ-00011707    2.591216\n",
       "...                        ...          ...         ...\n",
       "3100       продуктовый магазин  УТ-00016546    0.075000\n",
       "3097       продуктовый магазин  УТ-00016134    0.075000\n",
       "3078            пивной магазин  УТ-00016488    0.036667\n",
       "3069            пивной магазин  УТ-00012905    0.035568\n",
       "3067            пивной магазин  00-00010071    0.033333\n",
       "\n",
       "[67 rows x 3 columns]"
      ]
     },
     "execution_count": 120,
     "metadata": {},
     "output_type": "execute_result"
    }
   ],
   "source": [
    "segment_groups.head()"
   ]
  },
  {
   "cell_type": "code",
   "execution_count": 121,
   "id": "71954acd",
   "metadata": {},
   "outputs": [],
   "source": [
    "def perform_abc_analysis(segment_df):\n",
    "    # Сортировка клиентов по сумме продаж в порядке убывания\n",
    "    sorted_df = segment_df.sort_values(by='Ср_в_месяц', ascending=False)\n",
    "\n",
    "    # Расчет общей суммы продаж\n",
    "    total_sales = segment_df['Ср_в_месяц'].sum()\n",
    "\n",
    "    # Расчет кумулятивной суммы продаж и доли кумулятивной суммы\n",
    "    sorted_df['Кумулятивная сумма продаж'] = sorted_df['Ср_в_месяц'].cumsum()\n",
    "    sorted_df['Доля кумулятивной суммы'] = sorted_df['Кумулятивная сумма продаж'] / total_sales\n",
    "\n",
    "    # Определение классов клиентов на основе доли кумулятивной суммы\n",
    "    sorted_df['Класс'] = pd.cut(sorted_df['Доля кумулятивной суммы'], bins=[0, 0.8, 0.95, 1.01], labels=['A', 'B', 'C'])\n",
    "\n",
    "    return sorted_df"
   ]
  },
  {
   "cell_type": "code",
   "execution_count": 122,
   "id": "75662e9d",
   "metadata": {},
   "outputs": [],
   "source": [
    "# Применение ABC-анализа к каждому сегменту\n",
    "abc_results = segment_groups.apply(perform_abc_analysis)"
   ]
  },
  {
   "cell_type": "code",
   "execution_count": 126,
   "id": "2fd9699c",
   "metadata": {
    "scrolled": true
   },
   "outputs": [
    {
     "data": {
      "text/html": [
       "<div>\n",
       "<style scoped>\n",
       "    .dataframe tbody tr th:only-of-type {\n",
       "        vertical-align: middle;\n",
       "    }\n",
       "\n",
       "    .dataframe tbody tr th {\n",
       "        vertical-align: top;\n",
       "    }\n",
       "\n",
       "    .dataframe thead th {\n",
       "        text-align: right;\n",
       "    }\n",
       "</style>\n",
       "<table border=\"1\" class=\"dataframe\">\n",
       "  <thead>\n",
       "    <tr style=\"text-align: right;\">\n",
       "      <th></th>\n",
       "      <th>month</th>\n",
       "      <th>СегментПартнера</th>\n",
       "      <th>Код</th>\n",
       "      <th>Ср_в_месяц</th>\n",
       "      <th>Кумулятивная сумма продаж</th>\n",
       "      <th>Доля кумулятивной суммы</th>\n",
       "      <th>Класс</th>\n",
       "    </tr>\n",
       "    <tr>\n",
       "      <th>СегментПартнера</th>\n",
       "      <th></th>\n",
       "      <th></th>\n",
       "      <th></th>\n",
       "      <th></th>\n",
       "      <th></th>\n",
       "      <th></th>\n",
       "      <th></th>\n",
       "    </tr>\n",
       "  </thead>\n",
       "  <tbody>\n",
       "    <tr>\n",
       "      <th rowspan=\"5\" valign=\"top\">horeca</th>\n",
       "      <th>88</th>\n",
       "      <td>horeca</td>\n",
       "      <td>УТ-00014869</td>\n",
       "      <td>1.507692</td>\n",
       "      <td>1.507692</td>\n",
       "      <td>0.032726</td>\n",
       "      <td>A</td>\n",
       "    </tr>\n",
       "    <tr>\n",
       "      <th>40</th>\n",
       "      <td>horeca</td>\n",
       "      <td>УТ-00012967</td>\n",
       "      <td>0.733333</td>\n",
       "      <td>2.241026</td>\n",
       "      <td>0.048644</td>\n",
       "      <td>A</td>\n",
       "    </tr>\n",
       "    <tr>\n",
       "      <th>16</th>\n",
       "      <td>horeca</td>\n",
       "      <td>00-00008569</td>\n",
       "      <td>0.531579</td>\n",
       "      <td>2.772605</td>\n",
       "      <td>0.060182</td>\n",
       "      <td>A</td>\n",
       "    </tr>\n",
       "    <tr>\n",
       "      <th>89</th>\n",
       "      <td>horeca</td>\n",
       "      <td>УТ-00014902</td>\n",
       "      <td>0.506061</td>\n",
       "      <td>3.278665</td>\n",
       "      <td>0.071167</td>\n",
       "      <td>A</td>\n",
       "    </tr>\n",
       "    <tr>\n",
       "      <th>226</th>\n",
       "      <td>horeca</td>\n",
       "      <td>УТ-УТ000171</td>\n",
       "      <td>0.497222</td>\n",
       "      <td>3.775887</td>\n",
       "      <td>0.081960</td>\n",
       "      <td>A</td>\n",
       "    </tr>\n",
       "  </tbody>\n",
       "</table>\n",
       "</div>"
      ],
      "text/plain": [
       "month               СегментПартнера          Код  Ср_в_месяц  \\\n",
       "СегментПартнера                                                \n",
       "horeca          88           horeca  УТ-00014869    1.507692   \n",
       "                40           horeca  УТ-00012967    0.733333   \n",
       "                16           horeca  00-00008569    0.531579   \n",
       "                89           horeca  УТ-00014902    0.506061   \n",
       "                226          horeca  УТ-УТ000171    0.497222   \n",
       "\n",
       "month                Кумулятивная сумма продаж  Доля кумулятивной суммы Класс  \n",
       "СегментПартнера                                                                \n",
       "horeca          88                    1.507692                 0.032726     A  \n",
       "                40                    2.241026                 0.048644     A  \n",
       "                16                    2.772605                 0.060182     A  \n",
       "                89                    3.278665                 0.071167     A  \n",
       "                226                   3.775887                 0.081960     A  "
      ]
     },
     "execution_count": 126,
     "metadata": {},
     "output_type": "execute_result"
    }
   ],
   "source": [
    "abc_results.head()"
   ]
  },
  {
   "cell_type": "code",
   "execution_count": 158,
   "id": "e5b74b0c",
   "metadata": {},
   "outputs": [],
   "source": [
    "# abc_results.to_excel(r\"D:\\Analysis Burn\\OSH\\ABC_Clients.xlsx\", index=False)"
   ]
  },
  {
   "cell_type": "code",
   "execution_count": null,
   "id": "2fdfdfd5",
   "metadata": {},
   "outputs": [],
   "source": []
  },
  {
   "cell_type": "code",
   "execution_count": null,
   "id": "c3c03032",
   "metadata": {},
   "outputs": [],
   "source": []
  },
  {
   "cell_type": "code",
   "execution_count": null,
   "id": "32285143",
   "metadata": {},
   "outputs": [],
   "source": []
  },
  {
   "cell_type": "code",
   "execution_count": 127,
   "id": "b9f39620",
   "metadata": {},
   "outputs": [],
   "source": [
    "abc_results.to_csv(r\"D:\\Analysis Burn\\OSH\\ABC_Clients.csv\", index=False)"
   ]
  },
  {
   "cell_type": "code",
   "execution_count": 128,
   "id": "5b6a2b8e",
   "metadata": {},
   "outputs": [],
   "source": [
    "abc_results['СегментПартнера+Код'] = abc_results['СегментПартнера'] + abc_results['Код']"
   ]
  },
  {
   "cell_type": "code",
   "execution_count": 129,
   "id": "20d09392",
   "metadata": {},
   "outputs": [
    {
     "data": {
      "text/plain": [
       "True"
      ]
     },
     "execution_count": 129,
     "metadata": {},
     "output_type": "execute_result"
    }
   ],
   "source": [
    "abc_results['СегментПартнера+Код'].is_unique"
   ]
  },
  {
   "cell_type": "code",
   "execution_count": 281,
   "id": "c14a4bfc",
   "metadata": {},
   "outputs": [
    {
     "data": {
      "text/html": [
       "<div>\n",
       "<style scoped>\n",
       "    .dataframe tbody tr th:only-of-type {\n",
       "        vertical-align: middle;\n",
       "    }\n",
       "\n",
       "    .dataframe tbody tr th {\n",
       "        vertical-align: top;\n",
       "    }\n",
       "\n",
       "    .dataframe thead th {\n",
       "        text-align: right;\n",
       "    }\n",
       "</style>\n",
       "<table border=\"1\" class=\"dataframe\">\n",
       "  <thead>\n",
       "    <tr style=\"text-align: right;\">\n",
       "      <th></th>\n",
       "      <th>month</th>\n",
       "      <th>СегментПартнера</th>\n",
       "      <th>Код</th>\n",
       "      <th>Ср_в_месяц</th>\n",
       "      <th>Кумулятивная сумма продаж</th>\n",
       "      <th>Доля кумулятивной суммы</th>\n",
       "      <th>Класс</th>\n",
       "      <th>СегментПартнера+Код</th>\n",
       "    </tr>\n",
       "    <tr>\n",
       "      <th>СегментПартнера</th>\n",
       "      <th></th>\n",
       "      <th></th>\n",
       "      <th></th>\n",
       "      <th></th>\n",
       "      <th></th>\n",
       "      <th></th>\n",
       "      <th></th>\n",
       "      <th></th>\n",
       "    </tr>\n",
       "  </thead>\n",
       "  <tbody>\n",
       "    <tr>\n",
       "      <th rowspan=\"5\" valign=\"top\">horeca</th>\n",
       "      <th>88</th>\n",
       "      <td>horeca</td>\n",
       "      <td>УТ-00014869</td>\n",
       "      <td>1.507692</td>\n",
       "      <td>1.507692</td>\n",
       "      <td>0.032726</td>\n",
       "      <td>A</td>\n",
       "      <td>horecaУТ-00014869</td>\n",
       "    </tr>\n",
       "    <tr>\n",
       "      <th>40</th>\n",
       "      <td>horeca</td>\n",
       "      <td>УТ-00012967</td>\n",
       "      <td>0.733333</td>\n",
       "      <td>2.241026</td>\n",
       "      <td>0.048644</td>\n",
       "      <td>A</td>\n",
       "      <td>horecaУТ-00012967</td>\n",
       "    </tr>\n",
       "    <tr>\n",
       "      <th>16</th>\n",
       "      <td>horeca</td>\n",
       "      <td>00-00008569</td>\n",
       "      <td>0.531579</td>\n",
       "      <td>2.772605</td>\n",
       "      <td>0.060182</td>\n",
       "      <td>A</td>\n",
       "      <td>horeca00-00008569</td>\n",
       "    </tr>\n",
       "    <tr>\n",
       "      <th>89</th>\n",
       "      <td>horeca</td>\n",
       "      <td>УТ-00014902</td>\n",
       "      <td>0.506061</td>\n",
       "      <td>3.278665</td>\n",
       "      <td>0.071167</td>\n",
       "      <td>A</td>\n",
       "      <td>horecaУТ-00014902</td>\n",
       "    </tr>\n",
       "    <tr>\n",
       "      <th>226</th>\n",
       "      <td>horeca</td>\n",
       "      <td>УТ-УТ000171</td>\n",
       "      <td>0.497222</td>\n",
       "      <td>3.775887</td>\n",
       "      <td>0.081960</td>\n",
       "      <td>A</td>\n",
       "      <td>horecaУТ-УТ000171</td>\n",
       "    </tr>\n",
       "    <tr>\n",
       "      <th>...</th>\n",
       "      <th>...</th>\n",
       "      <td>...</td>\n",
       "      <td>...</td>\n",
       "      <td>...</td>\n",
       "      <td>...</td>\n",
       "      <td>...</td>\n",
       "      <td>...</td>\n",
       "      <td>...</td>\n",
       "    </tr>\n",
       "    <tr>\n",
       "      <th rowspan=\"5\" valign=\"top\">табаконист</th>\n",
       "      <th>4068</th>\n",
       "      <td>табаконист</td>\n",
       "      <td>УТ-00012454</td>\n",
       "      <td>0.024722</td>\n",
       "      <td>79.273026</td>\n",
       "      <td>0.998765</td>\n",
       "      <td>C</td>\n",
       "      <td>табаконистУТ-00012454</td>\n",
       "    </tr>\n",
       "    <tr>\n",
       "      <th>4083</th>\n",
       "      <td>табаконист</td>\n",
       "      <td>УТ-00012665</td>\n",
       "      <td>0.024615</td>\n",
       "      <td>79.297641</td>\n",
       "      <td>0.999075</td>\n",
       "      <td>C</td>\n",
       "      <td>табаконистУТ-00012665</td>\n",
       "    </tr>\n",
       "    <tr>\n",
       "      <th>3872</th>\n",
       "      <td>табаконист</td>\n",
       "      <td>00-00010088</td>\n",
       "      <td>0.024500</td>\n",
       "      <td>79.322141</td>\n",
       "      <td>0.999384</td>\n",
       "      <td>C</td>\n",
       "      <td>табаконист00-00010088</td>\n",
       "    </tr>\n",
       "    <tr>\n",
       "      <th>4161</th>\n",
       "      <td>табаконист</td>\n",
       "      <td>УТ-00013374</td>\n",
       "      <td>0.024464</td>\n",
       "      <td>79.346606</td>\n",
       "      <td>0.999692</td>\n",
       "      <td>C</td>\n",
       "      <td>табаконистУТ-00013374</td>\n",
       "    </tr>\n",
       "    <tr>\n",
       "      <th>4210</th>\n",
       "      <td>табаконист</td>\n",
       "      <td>УТ-00013719</td>\n",
       "      <td>0.024444</td>\n",
       "      <td>79.371050</td>\n",
       "      <td>1.000000</td>\n",
       "      <td>C</td>\n",
       "      <td>табаконистУТ-00013719</td>\n",
       "    </tr>\n",
       "  </tbody>\n",
       "</table>\n",
       "<p>5269 rows × 7 columns</p>\n",
       "</div>"
      ],
      "text/plain": [
       "month                СегментПартнера          Код  Ср_в_месяц  \\\n",
       "СегментПартнера                                                 \n",
       "horeca          88            horeca  УТ-00014869    1.507692   \n",
       "                40            horeca  УТ-00012967    0.733333   \n",
       "                16            horeca  00-00008569    0.531579   \n",
       "                89            horeca  УТ-00014902    0.506061   \n",
       "                226           horeca  УТ-УТ000171    0.497222   \n",
       "...                              ...          ...         ...   \n",
       "табаконист      4068      табаконист  УТ-00012454    0.024722   \n",
       "                4083      табаконист  УТ-00012665    0.024615   \n",
       "                3872      табаконист  00-00010088    0.024500   \n",
       "                4161      табаконист  УТ-00013374    0.024464   \n",
       "                4210      табаконист  УТ-00013719    0.024444   \n",
       "\n",
       "month                 Кумулятивная сумма продаж  Доля кумулятивной суммы  \\\n",
       "СегментПартнера                                                            \n",
       "horeca          88                     1.507692                 0.032726   \n",
       "                40                     2.241026                 0.048644   \n",
       "                16                     2.772605                 0.060182   \n",
       "                89                     3.278665                 0.071167   \n",
       "                226                    3.775887                 0.081960   \n",
       "...                                         ...                      ...   \n",
       "табаконист      4068                  79.273026                 0.998765   \n",
       "                4083                  79.297641                 0.999075   \n",
       "                3872                  79.322141                 0.999384   \n",
       "                4161                  79.346606                 0.999692   \n",
       "                4210                  79.371050                 1.000000   \n",
       "\n",
       "month                Класс    СегментПартнера+Код  \n",
       "СегментПартнера                                    \n",
       "horeca          88       A      horecaУТ-00014869  \n",
       "                40       A      horecaУТ-00012967  \n",
       "                16       A      horeca00-00008569  \n",
       "                89       A      horecaУТ-00014902  \n",
       "                226      A      horecaУТ-УТ000171  \n",
       "...                    ...                    ...  \n",
       "табаконист      4068     C  табаконистУТ-00012454  \n",
       "                4083     C  табаконистУТ-00012665  \n",
       "                3872     C  табаконист00-00010088  \n",
       "                4161     C  табаконистУТ-00013374  \n",
       "                4210     C  табаконистУТ-00013719  \n",
       "\n",
       "[5269 rows x 7 columns]"
      ]
     },
     "execution_count": 281,
     "metadata": {},
     "output_type": "execute_result"
    }
   ],
   "source": [
    "abc_results"
   ]
  },
  {
   "cell_type": "code",
   "execution_count": 130,
   "id": "1946ccfa",
   "metadata": {},
   "outputs": [],
   "source": [
    "frame['СегментПартнера+Код'] = frame['СегментПартнера'] + frame['Код']"
   ]
  },
  {
   "cell_type": "code",
   "execution_count": 131,
   "id": "f3d09490",
   "metadata": {},
   "outputs": [],
   "source": [
    "frame2 = frame.merge(abc_results[['Класс', 'СегментПартнера+Код']], how='left', on=\"СегментПартнера+Код\", suffixes=('_left', '_right'))"
   ]
  },
  {
   "cell_type": "code",
   "execution_count": 134,
   "id": "e243d340",
   "metadata": {},
   "outputs": [],
   "source": [
    "frame2.to_csv(r\"D:\\Analysis Burn\\OSH\\Всё в сборе.csv\")"
   ]
  },
  {
   "cell_type": "markdown",
   "id": "247bddcd",
   "metadata": {},
   "source": [
    "## Потерянные клиенты"
   ]
  },
  {
   "cell_type": "code",
   "execution_count": 192,
   "id": "ac1b7331",
   "metadata": {},
   "outputs": [],
   "source": [
    "frame2 = pd.read_csv(r\"D:\\Analysis Burn\\OSH\\Всё в сборе.csv\")"
   ]
  },
  {
   "cell_type": "code",
   "execution_count": 397,
   "id": "cb203494",
   "metadata": {},
   "outputs": [
    {
     "data": {
      "text/plain": [
       "array(['A', 'B', 'C'], dtype=object)"
      ]
     },
     "execution_count": 397,
     "metadata": {},
     "output_type": "execute_result"
    }
   ],
   "source": [
    "frame2['Класс'].unique()"
   ]
  },
  {
   "cell_type": "code",
   "execution_count": 32,
   "id": "25e09c41",
   "metadata": {},
   "outputs": [],
   "source": [
    "# # преобразование колонки в дата подобный тип\n",
    "# def convert_to_date(date_str):\n",
    "#     date_obj = datetime.strptime(date_str, '%d.%m.%Y').date()\n",
    "#     return date_obj\n",
    "\n",
    "# frame2['Заказ клиента / Реализация.Дата отгрузки'] = frame2['Заказ клиента / Реализация.Дата отгрузки'].apply(convert_to_date)"
   ]
  },
  {
   "cell_type": "code",
   "execution_count": 202,
   "id": "2bbba4cc",
   "metadata": {},
   "outputs": [],
   "source": [
    "frame2['номер_месяца'] = pd.to_datetime(frame2['Заказ клиента / Реализация.Дата отгрузки'], dayfirst=True)\n",
    "frame2['номер_месяца'] = frame2['номер_месяца'].dt.month\n",
    "\n",
    "frame2['название_месяца'] = pd.to_datetime(frame2['Заказ клиента / Реализация.Дата отгрузки'], dayfirst=True)\n",
    "frame2['название_месяца'] = frame2['название_месяца'].dt.month_name()\n",
    "\n",
    "frame2['год'] = pd.to_datetime(frame2['Заказ клиента / Реализация.Дата отгрузки'], dayfirst=True)\n",
    "frame2['год'] = frame2['год'].dt.year\n",
    "\n",
    "frame2['год_месяц'] = frame2['год'].astype(str) + '_' + frame2['номер_месяца'].astype(str)"
   ]
  },
  {
   "cell_type": "code",
   "execution_count": 429,
   "id": "cd3c3c2d",
   "metadata": {},
   "outputs": [],
   "source": [
    "pivot_table = frame2.pivot_table(\n",
    "    values='Вес (нетто), кг',\n",
    "    index=['Код','Клиент','СегментПартнера'],\n",
    "    columns='год_месяц',\n",
    "    aggfunc=lambda x: 1 if sum(x) > 0 else 0,\n",
    "    fill_value=0\n",
    ").reset_index()"
   ]
  },
  {
   "cell_type": "code",
   "execution_count": 431,
   "id": "fec40507",
   "metadata": {},
   "outputs": [],
   "source": [
    "# сумма 3-х месяцев\n",
    "pivot_table['закуп_3_месяца'] = pivot_table.iloc[:, -3:].sum(axis=1)\n",
    "pivot_table['закуп_4_месяца_назад'] = pivot_table.iloc[:, -5:-4].sum(axis=1)"
   ]
  },
  {
   "cell_type": "code",
   "execution_count": 433,
   "id": "aab66f32",
   "metadata": {},
   "outputs": [],
   "source": [
    "pivot_table['потерянный_клиент'] = 0\n",
    "pivot_table.loc[(pivot_table['закуп_4_месяца_назад'] == 1) & (pivot_table['закуп_3_месяца'] == 0),'потерянный_клиент'] = 1"
   ]
  },
  {
   "cell_type": "code",
   "execution_count": 436,
   "id": "77b7fdb5",
   "metadata": {},
   "outputs": [],
   "source": [
    "pivot_table = pivot_table.loc[ pivot_table['потерянный_клиент'] == 1 ]"
   ]
  },
  {
   "cell_type": "code",
   "execution_count": 438,
   "id": "34319d2c",
   "metadata": {},
   "outputs": [],
   "source": [
    "pivot_table=pivot_table[['Клиент','СегментПартнера','Код']]"
   ]
  },
  {
   "cell_type": "code",
   "execution_count": 439,
   "id": "5719e982",
   "metadata": {},
   "outputs": [
    {
     "name": "stderr",
     "output_type": "stream",
     "text": [
      "C:\\Users\\User\\AppData\\Local\\Temp\\ipykernel_8376\\23198054.py:1: SettingWithCopyWarning: \n",
      "A value is trying to be set on a copy of a slice from a DataFrame.\n",
      "Try using .loc[row_indexer,col_indexer] = value instead\n",
      "\n",
      "See the caveats in the documentation: https://pandas.pydata.org/pandas-docs/stable/user_guide/indexing.html#returning-a-view-versus-a-copy\n",
      "  pivot_table['СегментПартнера+Код'] = pivot_table['СегментПартнера'] + pivot_table['Код']\n"
     ]
    }
   ],
   "source": [
    "pivot_table['СегментПартнера+Код'] = pivot_table['СегментПартнера'] + pivot_table['Код']"
   ]
  },
  {
   "cell_type": "code",
   "execution_count": 442,
   "id": "044f24ec",
   "metadata": {},
   "outputs": [],
   "source": [
    "lost = pivot_table.merge(abc_results[['Класс', 'СегментПартнера+Код', 'Ср_в_месяц']], how='left', on=\"СегментПартнера+Код\", suffixes=('_left', '_right'))"
   ]
  },
  {
   "cell_type": "code",
   "execution_count": 445,
   "id": "db723688",
   "metadata": {},
   "outputs": [
    {
     "data": {
      "text/html": [
       "<div>\n",
       "<style scoped>\n",
       "    .dataframe tbody tr th:only-of-type {\n",
       "        vertical-align: middle;\n",
       "    }\n",
       "\n",
       "    .dataframe tbody tr th {\n",
       "        vertical-align: top;\n",
       "    }\n",
       "\n",
       "    .dataframe thead th {\n",
       "        text-align: right;\n",
       "    }\n",
       "</style>\n",
       "<table border=\"1\" class=\"dataframe\">\n",
       "  <thead>\n",
       "    <tr style=\"text-align: right;\">\n",
       "      <th></th>\n",
       "      <th>Клиент</th>\n",
       "      <th>СегментПартнера</th>\n",
       "      <th>Класс</th>\n",
       "      <th>Ср_в_месяц</th>\n",
       "    </tr>\n",
       "  </thead>\n",
       "  <tbody>\n",
       "    <tr>\n",
       "      <th>0</th>\n",
       "      <td>Gangster Bar (Страстной)</td>\n",
       "      <td>бар/ночной клуб</td>\n",
       "      <td>A</td>\n",
       "      <td>0.200000</td>\n",
       "    </tr>\n",
       "    <tr>\n",
       "      <th>1</th>\n",
       "      <td>МЯТА (Велозаводская)</td>\n",
       "      <td>кальянная</td>\n",
       "      <td>B</td>\n",
       "      <td>0.175000</td>\n",
       "    </tr>\n",
       "    <tr>\n",
       "      <th>2</th>\n",
       "      <td>МЯТА (ПЕТРОВКА)</td>\n",
       "      <td>кальянная</td>\n",
       "      <td>C</td>\n",
       "      <td>0.100000</td>\n",
       "    </tr>\n",
       "    <tr>\n",
       "      <th>3</th>\n",
       "      <td>Ахматовская Александра Юрьевна</td>\n",
       "      <td>спец. кальянный магазин</td>\n",
       "      <td>A</td>\n",
       "      <td>0.108333</td>\n",
       "    </tr>\n",
       "    <tr>\n",
       "      <th>4</th>\n",
       "      <td>Алексей Серенков Алексеевич</td>\n",
       "      <td>не указано</td>\n",
       "      <td>A</td>\n",
       "      <td>0.200000</td>\n",
       "    </tr>\n",
       "    <tr>\n",
       "      <th>...</th>\n",
       "      <td>...</td>\n",
       "      <td>...</td>\n",
       "      <td>...</td>\n",
       "      <td>...</td>\n",
       "    </tr>\n",
       "    <tr>\n",
       "      <th>239</th>\n",
       "      <td>Сергей</td>\n",
       "      <td>не указано</td>\n",
       "      <td>B</td>\n",
       "      <td>0.100000</td>\n",
       "    </tr>\n",
       "    <tr>\n",
       "      <th>240</th>\n",
       "      <td>Серафима Александровна Пырсова</td>\n",
       "      <td>не указано</td>\n",
       "      <td>C</td>\n",
       "      <td>0.033333</td>\n",
       "    </tr>\n",
       "    <tr>\n",
       "      <th>241</th>\n",
       "      <td>Арсений Торговцев</td>\n",
       "      <td>не указано</td>\n",
       "      <td>C</td>\n",
       "      <td>0.025000</td>\n",
       "    </tr>\n",
       "    <tr>\n",
       "      <th>242</th>\n",
       "      <td>кудрявцев марк</td>\n",
       "      <td>не указано</td>\n",
       "      <td>C</td>\n",
       "      <td>0.029167</td>\n",
       "    </tr>\n",
       "    <tr>\n",
       "      <th>243</th>\n",
       "      <td>Константин (РБ)</td>\n",
       "      <td>табаконист</td>\n",
       "      <td>A</td>\n",
       "      <td>0.075000</td>\n",
       "    </tr>\n",
       "  </tbody>\n",
       "</table>\n",
       "<p>244 rows × 4 columns</p>\n",
       "</div>"
      ],
      "text/plain": [
       "                             Клиент          СегментПартнера Класс  Ср_в_месяц\n",
       "0          Gangster Bar (Страстной)          бар/ночной клуб     A    0.200000\n",
       "1              МЯТА (Велозаводская)                кальянная     B    0.175000\n",
       "2                   МЯТА (ПЕТРОВКА)                кальянная     C    0.100000\n",
       "3    Ахматовская Александра Юрьевна  спец. кальянный магазин     A    0.108333\n",
       "4       Алексей Серенков Алексеевич               не указано     A    0.200000\n",
       "..                              ...                      ...   ...         ...\n",
       "239                          Сергей               не указано     B    0.100000\n",
       "240  Серафима Александровна Пырсова               не указано     C    0.033333\n",
       "241               Арсений Торговцев               не указано     C    0.025000\n",
       "242                  кудрявцев марк               не указано     C    0.029167\n",
       "243                 Константин (РБ)               табаконист     A    0.075000\n",
       "\n",
       "[244 rows x 4 columns]"
      ]
     },
     "execution_count": 445,
     "metadata": {},
     "output_type": "execute_result"
    }
   ],
   "source": [
    "lost"
   ]
  },
  {
   "cell_type": "code",
   "execution_count": 446,
   "id": "0818e254",
   "metadata": {
    "collapsed": true
   },
   "outputs": [
    {
     "ename": "KeyError",
     "evalue": "\"['СегментПартнера+Код', 'Код'] not found in axis\"",
     "output_type": "error",
     "traceback": [
      "\u001b[1;31m---------------------------------------------------------------------------\u001b[0m",
      "\u001b[1;31mKeyError\u001b[0m                                  Traceback (most recent call last)",
      "Cell \u001b[1;32mIn[446], line 1\u001b[0m\n\u001b[1;32m----> 1\u001b[0m lost \u001b[38;5;241m=\u001b[39m \u001b[43mlost\u001b[49m\u001b[38;5;241;43m.\u001b[39;49m\u001b[43mdrop\u001b[49m\u001b[43m(\u001b[49m\u001b[43mcolumns\u001b[49m\u001b[38;5;241;43m=\u001b[39;49m\u001b[43m{\u001b[49m\u001b[38;5;124;43m'\u001b[39;49m\u001b[38;5;124;43mКод\u001b[39;49m\u001b[38;5;124;43m'\u001b[39;49m\u001b[43m,\u001b[49m\u001b[43m \u001b[49m\u001b[38;5;124;43m'\u001b[39;49m\u001b[38;5;124;43mСегментПартнера+Код\u001b[39;49m\u001b[38;5;124;43m'\u001b[39;49m\u001b[43m}\u001b[49m\u001b[43m)\u001b[49m\n",
      "File \u001b[1;32mC:\\ProgramData\\anaconda3\\envs\\analytics\\lib\\site-packages\\pandas\\util\\_decorators.py:331\u001b[0m, in \u001b[0;36mdeprecate_nonkeyword_arguments.<locals>.decorate.<locals>.wrapper\u001b[1;34m(*args, **kwargs)\u001b[0m\n\u001b[0;32m    325\u001b[0m \u001b[38;5;28;01mif\u001b[39;00m \u001b[38;5;28mlen\u001b[39m(args) \u001b[38;5;241m>\u001b[39m num_allow_args:\n\u001b[0;32m    326\u001b[0m     warnings\u001b[38;5;241m.\u001b[39mwarn(\n\u001b[0;32m    327\u001b[0m         msg\u001b[38;5;241m.\u001b[39mformat(arguments\u001b[38;5;241m=\u001b[39m_format_argument_list(allow_args)),\n\u001b[0;32m    328\u001b[0m         \u001b[38;5;167;01mFutureWarning\u001b[39;00m,\n\u001b[0;32m    329\u001b[0m         stacklevel\u001b[38;5;241m=\u001b[39mfind_stack_level(),\n\u001b[0;32m    330\u001b[0m     )\n\u001b[1;32m--> 331\u001b[0m \u001b[38;5;28;01mreturn\u001b[39;00m func(\u001b[38;5;241m*\u001b[39margs, \u001b[38;5;241m*\u001b[39m\u001b[38;5;241m*\u001b[39mkwargs)\n",
      "File \u001b[1;32mC:\\ProgramData\\anaconda3\\envs\\analytics\\lib\\site-packages\\pandas\\core\\frame.py:5399\u001b[0m, in \u001b[0;36mDataFrame.drop\u001b[1;34m(self, labels, axis, index, columns, level, inplace, errors)\u001b[0m\n\u001b[0;32m   5251\u001b[0m \u001b[38;5;129m@deprecate_nonkeyword_arguments\u001b[39m(version\u001b[38;5;241m=\u001b[39m\u001b[38;5;28;01mNone\u001b[39;00m, allowed_args\u001b[38;5;241m=\u001b[39m[\u001b[38;5;124m\"\u001b[39m\u001b[38;5;124mself\u001b[39m\u001b[38;5;124m\"\u001b[39m, \u001b[38;5;124m\"\u001b[39m\u001b[38;5;124mlabels\u001b[39m\u001b[38;5;124m\"\u001b[39m])\n\u001b[0;32m   5252\u001b[0m \u001b[38;5;28;01mdef\u001b[39;00m \u001b[38;5;21mdrop\u001b[39m(  \u001b[38;5;66;03m# type: ignore[override]\u001b[39;00m\n\u001b[0;32m   5253\u001b[0m     \u001b[38;5;28mself\u001b[39m,\n\u001b[1;32m   (...)\u001b[0m\n\u001b[0;32m   5260\u001b[0m     errors: IgnoreRaise \u001b[38;5;241m=\u001b[39m \u001b[38;5;124m\"\u001b[39m\u001b[38;5;124mraise\u001b[39m\u001b[38;5;124m\"\u001b[39m,\n\u001b[0;32m   5261\u001b[0m ) \u001b[38;5;241m-\u001b[39m\u001b[38;5;241m>\u001b[39m DataFrame \u001b[38;5;241m|\u001b[39m \u001b[38;5;28;01mNone\u001b[39;00m:\n\u001b[0;32m   5262\u001b[0m     \u001b[38;5;124;03m\"\"\"\u001b[39;00m\n\u001b[0;32m   5263\u001b[0m \u001b[38;5;124;03m    Drop specified labels from rows or columns.\u001b[39;00m\n\u001b[0;32m   5264\u001b[0m \n\u001b[1;32m   (...)\u001b[0m\n\u001b[0;32m   5397\u001b[0m \u001b[38;5;124;03m            weight  1.0     0.8\u001b[39;00m\n\u001b[0;32m   5398\u001b[0m \u001b[38;5;124;03m    \"\"\"\u001b[39;00m\n\u001b[1;32m-> 5399\u001b[0m     \u001b[38;5;28;01mreturn\u001b[39;00m \u001b[38;5;28;43msuper\u001b[39;49m\u001b[43m(\u001b[49m\u001b[43m)\u001b[49m\u001b[38;5;241;43m.\u001b[39;49m\u001b[43mdrop\u001b[49m\u001b[43m(\u001b[49m\n\u001b[0;32m   5400\u001b[0m \u001b[43m        \u001b[49m\u001b[43mlabels\u001b[49m\u001b[38;5;241;43m=\u001b[39;49m\u001b[43mlabels\u001b[49m\u001b[43m,\u001b[49m\n\u001b[0;32m   5401\u001b[0m \u001b[43m        \u001b[49m\u001b[43maxis\u001b[49m\u001b[38;5;241;43m=\u001b[39;49m\u001b[43maxis\u001b[49m\u001b[43m,\u001b[49m\n\u001b[0;32m   5402\u001b[0m \u001b[43m        \u001b[49m\u001b[43mindex\u001b[49m\u001b[38;5;241;43m=\u001b[39;49m\u001b[43mindex\u001b[49m\u001b[43m,\u001b[49m\n\u001b[0;32m   5403\u001b[0m \u001b[43m        \u001b[49m\u001b[43mcolumns\u001b[49m\u001b[38;5;241;43m=\u001b[39;49m\u001b[43mcolumns\u001b[49m\u001b[43m,\u001b[49m\n\u001b[0;32m   5404\u001b[0m \u001b[43m        \u001b[49m\u001b[43mlevel\u001b[49m\u001b[38;5;241;43m=\u001b[39;49m\u001b[43mlevel\u001b[49m\u001b[43m,\u001b[49m\n\u001b[0;32m   5405\u001b[0m \u001b[43m        \u001b[49m\u001b[43minplace\u001b[49m\u001b[38;5;241;43m=\u001b[39;49m\u001b[43minplace\u001b[49m\u001b[43m,\u001b[49m\n\u001b[0;32m   5406\u001b[0m \u001b[43m        \u001b[49m\u001b[43merrors\u001b[49m\u001b[38;5;241;43m=\u001b[39;49m\u001b[43merrors\u001b[49m\u001b[43m,\u001b[49m\n\u001b[0;32m   5407\u001b[0m \u001b[43m    \u001b[49m\u001b[43m)\u001b[49m\n",
      "File \u001b[1;32mC:\\ProgramData\\anaconda3\\envs\\analytics\\lib\\site-packages\\pandas\\util\\_decorators.py:331\u001b[0m, in \u001b[0;36mdeprecate_nonkeyword_arguments.<locals>.decorate.<locals>.wrapper\u001b[1;34m(*args, **kwargs)\u001b[0m\n\u001b[0;32m    325\u001b[0m \u001b[38;5;28;01mif\u001b[39;00m \u001b[38;5;28mlen\u001b[39m(args) \u001b[38;5;241m>\u001b[39m num_allow_args:\n\u001b[0;32m    326\u001b[0m     warnings\u001b[38;5;241m.\u001b[39mwarn(\n\u001b[0;32m    327\u001b[0m         msg\u001b[38;5;241m.\u001b[39mformat(arguments\u001b[38;5;241m=\u001b[39m_format_argument_list(allow_args)),\n\u001b[0;32m    328\u001b[0m         \u001b[38;5;167;01mFutureWarning\u001b[39;00m,\n\u001b[0;32m    329\u001b[0m         stacklevel\u001b[38;5;241m=\u001b[39mfind_stack_level(),\n\u001b[0;32m    330\u001b[0m     )\n\u001b[1;32m--> 331\u001b[0m \u001b[38;5;28;01mreturn\u001b[39;00m func(\u001b[38;5;241m*\u001b[39margs, \u001b[38;5;241m*\u001b[39m\u001b[38;5;241m*\u001b[39mkwargs)\n",
      "File \u001b[1;32mC:\\ProgramData\\anaconda3\\envs\\analytics\\lib\\site-packages\\pandas\\core\\generic.py:4505\u001b[0m, in \u001b[0;36mNDFrame.drop\u001b[1;34m(self, labels, axis, index, columns, level, inplace, errors)\u001b[0m\n\u001b[0;32m   4503\u001b[0m \u001b[38;5;28;01mfor\u001b[39;00m axis, labels \u001b[38;5;129;01min\u001b[39;00m axes\u001b[38;5;241m.\u001b[39mitems():\n\u001b[0;32m   4504\u001b[0m     \u001b[38;5;28;01mif\u001b[39;00m labels \u001b[38;5;129;01mis\u001b[39;00m \u001b[38;5;129;01mnot\u001b[39;00m \u001b[38;5;28;01mNone\u001b[39;00m:\n\u001b[1;32m-> 4505\u001b[0m         obj \u001b[38;5;241m=\u001b[39m \u001b[43mobj\u001b[49m\u001b[38;5;241;43m.\u001b[39;49m\u001b[43m_drop_axis\u001b[49m\u001b[43m(\u001b[49m\u001b[43mlabels\u001b[49m\u001b[43m,\u001b[49m\u001b[43m \u001b[49m\u001b[43maxis\u001b[49m\u001b[43m,\u001b[49m\u001b[43m \u001b[49m\u001b[43mlevel\u001b[49m\u001b[38;5;241;43m=\u001b[39;49m\u001b[43mlevel\u001b[49m\u001b[43m,\u001b[49m\u001b[43m \u001b[49m\u001b[43merrors\u001b[49m\u001b[38;5;241;43m=\u001b[39;49m\u001b[43merrors\u001b[49m\u001b[43m)\u001b[49m\n\u001b[0;32m   4507\u001b[0m \u001b[38;5;28;01mif\u001b[39;00m inplace:\n\u001b[0;32m   4508\u001b[0m     \u001b[38;5;28mself\u001b[39m\u001b[38;5;241m.\u001b[39m_update_inplace(obj)\n",
      "File \u001b[1;32mC:\\ProgramData\\anaconda3\\envs\\analytics\\lib\\site-packages\\pandas\\core\\generic.py:4546\u001b[0m, in \u001b[0;36mNDFrame._drop_axis\u001b[1;34m(self, labels, axis, level, errors, only_slice)\u001b[0m\n\u001b[0;32m   4544\u001b[0m         new_axis \u001b[38;5;241m=\u001b[39m axis\u001b[38;5;241m.\u001b[39mdrop(labels, level\u001b[38;5;241m=\u001b[39mlevel, errors\u001b[38;5;241m=\u001b[39merrors)\n\u001b[0;32m   4545\u001b[0m     \u001b[38;5;28;01melse\u001b[39;00m:\n\u001b[1;32m-> 4546\u001b[0m         new_axis \u001b[38;5;241m=\u001b[39m \u001b[43maxis\u001b[49m\u001b[38;5;241;43m.\u001b[39;49m\u001b[43mdrop\u001b[49m\u001b[43m(\u001b[49m\u001b[43mlabels\u001b[49m\u001b[43m,\u001b[49m\u001b[43m \u001b[49m\u001b[43merrors\u001b[49m\u001b[38;5;241;43m=\u001b[39;49m\u001b[43merrors\u001b[49m\u001b[43m)\u001b[49m\n\u001b[0;32m   4547\u001b[0m     indexer \u001b[38;5;241m=\u001b[39m axis\u001b[38;5;241m.\u001b[39mget_indexer(new_axis)\n\u001b[0;32m   4549\u001b[0m \u001b[38;5;66;03m# Case for non-unique axis\u001b[39;00m\n\u001b[0;32m   4550\u001b[0m \u001b[38;5;28;01melse\u001b[39;00m:\n",
      "File \u001b[1;32mC:\\ProgramData\\anaconda3\\envs\\analytics\\lib\\site-packages\\pandas\\core\\indexes\\base.py:6934\u001b[0m, in \u001b[0;36mIndex.drop\u001b[1;34m(self, labels, errors)\u001b[0m\n\u001b[0;32m   6932\u001b[0m \u001b[38;5;28;01mif\u001b[39;00m mask\u001b[38;5;241m.\u001b[39many():\n\u001b[0;32m   6933\u001b[0m     \u001b[38;5;28;01mif\u001b[39;00m errors \u001b[38;5;241m!=\u001b[39m \u001b[38;5;124m\"\u001b[39m\u001b[38;5;124mignore\u001b[39m\u001b[38;5;124m\"\u001b[39m:\n\u001b[1;32m-> 6934\u001b[0m         \u001b[38;5;28;01mraise\u001b[39;00m \u001b[38;5;167;01mKeyError\u001b[39;00m(\u001b[38;5;124mf\u001b[39m\u001b[38;5;124m\"\u001b[39m\u001b[38;5;132;01m{\u001b[39;00m\u001b[38;5;28mlist\u001b[39m(labels[mask])\u001b[38;5;132;01m}\u001b[39;00m\u001b[38;5;124m not found in axis\u001b[39m\u001b[38;5;124m\"\u001b[39m)\n\u001b[0;32m   6935\u001b[0m     indexer \u001b[38;5;241m=\u001b[39m indexer[\u001b[38;5;241m~\u001b[39mmask]\n\u001b[0;32m   6936\u001b[0m \u001b[38;5;28;01mreturn\u001b[39;00m \u001b[38;5;28mself\u001b[39m\u001b[38;5;241m.\u001b[39mdelete(indexer)\n",
      "\u001b[1;31mKeyError\u001b[0m: \"['СегментПартнера+Код', 'Код'] not found in axis\""
     ]
    }
   ],
   "source": [
    "lost = lost.drop(columns={'Код', 'СегментПартнера+Код'})"
   ]
  },
  {
   "cell_type": "code",
   "execution_count": 447,
   "id": "3726f5c2",
   "metadata": {},
   "outputs": [],
   "source": [
    "lost.to_excel(r\"D:\\Analysis Burn\\OSH\\lost_clients.xlsx\", index=False)"
   ]
  }
 ],
 "metadata": {
  "kernelspec": {
   "display_name": "Python 3 (ipykernel)",
   "language": "python",
   "name": "python3"
  },
  "language_info": {
   "codemirror_mode": {
    "name": "ipython",
    "version": 3
   },
   "file_extension": ".py",
   "mimetype": "text/x-python",
   "name": "python",
   "nbconvert_exporter": "python",
   "pygments_lexer": "ipython3",
   "version": "3.10.11"
  }
 },
 "nbformat": 4,
 "nbformat_minor": 5
}
