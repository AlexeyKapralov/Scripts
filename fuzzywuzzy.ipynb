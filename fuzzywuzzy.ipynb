{
 "cells": [
  {
   "cell_type": "code",
   "execution_count": 3,
   "id": "6b51e343",
   "metadata": {},
   "outputs": [],
   "source": [
    "import pandas as pd\n",
    "from fuzzywuzzy import process\n"
   ]
  },
  {
   "cell_type": "code",
   "execution_count": 6,
   "id": "e0f1edc4",
   "metadata": {},
   "outputs": [
    {
     "name": "stdout",
     "output_type": "stream",
     "text": [
      "         Names        Match\n",
      "0   John Smith  (hnson, 54)\n",
      "1     Jane Doe    (doe, 90)\n",
      "2  Bob Johnson     (ob, 90)\n"
     ]
    }
   ],
   "source": [
    "df = pd.DataFrame({'Names': ['John Smith', 'Jane Doe', 'Bob Johnson']})\n",
    "\n",
    "def match_names(name, choices):\n",
    "    return process.extractOne(name, choices)\n",
    "\n",
    "df['Match'] = df['Names'].apply(lambda x: match_names(x, ['ob', 'doe', 'hnson']))\n",
    "print(df)\n"
   ]
  },
  {
   "cell_type": "code",
   "execution_count": 5,
   "id": "fa2cf810",
   "metadata": {},
   "outputs": [
    {
     "data": {
      "text/html": [
       "<div>\n",
       "<style scoped>\n",
       "    .dataframe tbody tr th:only-of-type {\n",
       "        vertical-align: middle;\n",
       "    }\n",
       "\n",
       "    .dataframe tbody tr th {\n",
       "        vertical-align: top;\n",
       "    }\n",
       "\n",
       "    .dataframe thead th {\n",
       "        text-align: right;\n",
       "    }\n",
       "</style>\n",
       "<table border=\"1\" class=\"dataframe\">\n",
       "  <thead>\n",
       "    <tr style=\"text-align: right;\">\n",
       "      <th></th>\n",
       "      <th>Names</th>\n",
       "      <th>Match</th>\n",
       "    </tr>\n",
       "  </thead>\n",
       "  <tbody>\n",
       "    <tr>\n",
       "      <th>0</th>\n",
       "      <td>John Smith</td>\n",
       "      <td>(John Smith, 100)</td>\n",
       "    </tr>\n",
       "    <tr>\n",
       "      <th>1</th>\n",
       "      <td>Jane Doe</td>\n",
       "      <td>(Jane Smith, 64)</td>\n",
       "    </tr>\n",
       "    <tr>\n",
       "      <th>2</th>\n",
       "      <td>Bob Johnson</td>\n",
       "      <td>(Bob Johnson, 100)</td>\n",
       "    </tr>\n",
       "  </tbody>\n",
       "</table>\n",
       "</div>"
      ],
      "text/plain": [
       "         Names               Match\n",
       "0   John Smith   (John Smith, 100)\n",
       "1     Jane Doe    (Jane Smith, 64)\n",
       "2  Bob Johnson  (Bob Johnson, 100)"
      ]
     },
     "execution_count": 5,
     "metadata": {},
     "output_type": "execute_result"
    }
   ],
   "source": [
    "df"
   ]
  },
  {
   "cell_type": "code",
   "execution_count": 12,
   "id": "44c4661f",
   "metadata": {},
   "outputs": [],
   "source": [
    "# создаем фрейм данных с правильными названиями\n",
    "correct_names = pd.DataFrame({'name': ['Apple', 'Banana', 'Orange']})\n",
    "\n",
    "# создаем фрейм данных с некорректными названиями\n",
    "incorrect_names = pd.DataFrame({'name': ['Aplle', 'Banena', 'Orng', \"фвфыв\"]})\n",
    "\n",
    "# создаем пустой список для сохранения найденных правильных названий\n",
    "matched_names = []\n",
    "\n",
    "# для каждого некорректного названия ищем наилучшее совпадение среди правильных названий\n",
    "for name in incorrect_names['name']:\n",
    "    matched_name, score, _ = process.extractOne(name, correct_names['name'])\n",
    "    # если найдено совпадение с более чем 80% совпадения, то считаем его корректным\n",
    "    if score >= 80:\n",
    "        matched_names.append(matched_name)\n",
    "    else:\n",
    "        matched_names.append(None)\n",
    "\n",
    "# добавляем столбец с найденными правильными названиями в фрейм данных с некорректными названиями\n",
    "incorrect_names['matched_name'] = matched_names\n"
   ]
  },
  {
   "cell_type": "code",
   "execution_count": 13,
   "id": "6dd84690",
   "metadata": {},
   "outputs": [
    {
     "data": {
      "text/html": [
       "<div>\n",
       "<style scoped>\n",
       "    .dataframe tbody tr th:only-of-type {\n",
       "        vertical-align: middle;\n",
       "    }\n",
       "\n",
       "    .dataframe tbody tr th {\n",
       "        vertical-align: top;\n",
       "    }\n",
       "\n",
       "    .dataframe thead th {\n",
       "        text-align: right;\n",
       "    }\n",
       "</style>\n",
       "<table border=\"1\" class=\"dataframe\">\n",
       "  <thead>\n",
       "    <tr style=\"text-align: right;\">\n",
       "      <th></th>\n",
       "      <th>name</th>\n",
       "      <th>matched_name</th>\n",
       "    </tr>\n",
       "  </thead>\n",
       "  <tbody>\n",
       "    <tr>\n",
       "      <th>0</th>\n",
       "      <td>Aplle</td>\n",
       "      <td>Apple</td>\n",
       "    </tr>\n",
       "    <tr>\n",
       "      <th>1</th>\n",
       "      <td>Banena</td>\n",
       "      <td>Banana</td>\n",
       "    </tr>\n",
       "    <tr>\n",
       "      <th>2</th>\n",
       "      <td>Orng</td>\n",
       "      <td>Orange</td>\n",
       "    </tr>\n",
       "    <tr>\n",
       "      <th>3</th>\n",
       "      <td>фвфыв</td>\n",
       "      <td>None</td>\n",
       "    </tr>\n",
       "  </tbody>\n",
       "</table>\n",
       "</div>"
      ],
      "text/plain": [
       "     name matched_name\n",
       "0   Aplle        Apple\n",
       "1  Banena       Banana\n",
       "2    Orng       Orange\n",
       "3   фвфыв         None"
      ]
     },
     "execution_count": 13,
     "metadata": {},
     "output_type": "execute_result"
    }
   ],
   "source": [
    "incorrect_names"
   ]
  },
  {
   "cell_type": "code",
   "execution_count": null,
   "id": "ecea8063",
   "metadata": {},
   "outputs": [],
   "source": []
  }
 ],
 "metadata": {
  "kernelspec": {
   "display_name": "Python 3 (ipykernel)",
   "language": "python",
   "name": "python3"
  },
  "language_info": {
   "codemirror_mode": {
    "name": "ipython",
    "version": 3
   },
   "file_extension": ".py",
   "mimetype": "text/x-python",
   "name": "python",
   "nbconvert_exporter": "python",
   "pygments_lexer": "ipython3",
   "version": "3.11.2"
  }
 },
 "nbformat": 4,
 "nbformat_minor": 5
}
