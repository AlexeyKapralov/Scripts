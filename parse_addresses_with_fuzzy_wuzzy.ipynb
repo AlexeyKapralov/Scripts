{
 "cells": [
  {
   "cell_type": "code",
   "execution_count": 2,
   "id": "1966eaaa",
   "metadata": {},
   "outputs": [],
   "source": [
    "from fuzzywuzzy import process\n",
    "import pandas as pd"
   ]
  },
  {
   "cell_type": "code",
   "execution_count": 3,
   "id": "01728270",
   "metadata": {},
   "outputs": [],
   "source": [
    "# создаем фрейм данных с кодами и значениями\n",
    "dont_have_in_addresses = pd.read_excel(r\"D:\\Datasets\\ББСВМХ\\dont_have_in_addresses.xlsx\")"
   ]
  },
  {
   "cell_type": "code",
   "execution_count": 32,
   "id": "fe670ca7",
   "metadata": {},
   "outputs": [],
   "source": [
    "addresses = pd.read_excel(r'D:\\Datasets\\ББСВМХ\\dim_address с корректировками (НЕ ИЗМЕНЯТЬ).xlsx')"
   ]
  },
  {
   "cell_type": "code",
   "execution_count": 33,
   "id": "7e05b54c",
   "metadata": {},
   "outputs": [
    {
     "data": {
      "text/html": [
       "<div>\n",
       "<style scoped>\n",
       "    .dataframe tbody tr th:only-of-type {\n",
       "        vertical-align: middle;\n",
       "    }\n",
       "\n",
       "    .dataframe tbody tr th {\n",
       "        vertical-align: top;\n",
       "    }\n",
       "\n",
       "    .dataframe thead th {\n",
       "        text-align: right;\n",
       "    }\n",
       "</style>\n",
       "<table border=\"1\" class=\"dataframe\">\n",
       "  <thead>\n",
       "    <tr style=\"text-align: right;\">\n",
       "      <th></th>\n",
       "      <th>Исходный адрес</th>\n",
       "      <th>Адрес</th>\n",
       "      <th>Тип региона</th>\n",
       "      <th>Регион</th>\n",
       "      <th>Тип района</th>\n",
       "      <th>Район</th>\n",
       "      <th>Тип города</th>\n",
       "      <th>Город</th>\n",
       "      <th>Тип н/п</th>\n",
       "      <th>Н/п</th>\n",
       "      <th>Тип улицы</th>\n",
       "      <th>Улица</th>\n",
       "      <th>Тип дома</th>\n",
       "      <th>Дом</th>\n",
       "    </tr>\n",
       "  </thead>\n",
       "  <tbody>\n",
       "    <tr>\n",
       "      <th>0</th>\n",
       "      <td>Алтайский край, г Алейск, пер Ульяновский, д 65А</td>\n",
       "      <td>Алтайский край, Алейск г, Ульяновский пер, д 65</td>\n",
       "      <td>край</td>\n",
       "      <td>Алтайский</td>\n",
       "      <td>NaN</td>\n",
       "      <td>NaN</td>\n",
       "      <td>г</td>\n",
       "      <td>Алейск</td>\n",
       "      <td>NaN</td>\n",
       "      <td>NaN</td>\n",
       "      <td>пер</td>\n",
       "      <td>Ульяновский</td>\n",
       "      <td>д</td>\n",
       "      <td>65</td>\n",
       "    </tr>\n",
       "    <tr>\n",
       "      <th>1</th>\n",
       "      <td>Алтайский край, г Алейск, ул Пионерская, д 134</td>\n",
       "      <td>Алтайский край, Алейск г, Пионерская ул, д 134</td>\n",
       "      <td>край</td>\n",
       "      <td>Алтайский</td>\n",
       "      <td>NaN</td>\n",
       "      <td>NaN</td>\n",
       "      <td>г</td>\n",
       "      <td>Алейск</td>\n",
       "      <td>NaN</td>\n",
       "      <td>NaN</td>\n",
       "      <td>ул</td>\n",
       "      <td>Пионерская</td>\n",
       "      <td>д</td>\n",
       "      <td>134</td>\n",
       "    </tr>\n",
       "    <tr>\n",
       "      <th>2</th>\n",
       "      <td>Алтайский край, г Белокуриха, ул Партизанская,...</td>\n",
       "      <td>Алтайский край, Белокуриха г, Партизанская ул,...</td>\n",
       "      <td>край</td>\n",
       "      <td>Алтайский</td>\n",
       "      <td>NaN</td>\n",
       "      <td>NaN</td>\n",
       "      <td>г</td>\n",
       "      <td>Белокуриха</td>\n",
       "      <td>NaN</td>\n",
       "      <td>NaN</td>\n",
       "      <td>ул</td>\n",
       "      <td>Партизанская</td>\n",
       "      <td>д</td>\n",
       "      <td>7/1</td>\n",
       "    </tr>\n",
       "    <tr>\n",
       "      <th>3</th>\n",
       "      <td>Алтайский край, г Белокуриха, ул Советская, зд...</td>\n",
       "      <td>Алтайский край, Белокуриха г, Советская ул, зд...</td>\n",
       "      <td>край</td>\n",
       "      <td>Алтайский</td>\n",
       "      <td>NaN</td>\n",
       "      <td>NaN</td>\n",
       "      <td>г</td>\n",
       "      <td>Белокуриха</td>\n",
       "      <td>NaN</td>\n",
       "      <td>NaN</td>\n",
       "      <td>ул</td>\n",
       "      <td>Советская</td>\n",
       "      <td>зд</td>\n",
       "      <td>7/4</td>\n",
       "    </tr>\n",
       "    <tr>\n",
       "      <th>4</th>\n",
       "      <td>Алтайский край, г Бийск, ул Александра Матросо...</td>\n",
       "      <td>Алтайский край, Бийск г, Александра Матросова ...</td>\n",
       "      <td>край</td>\n",
       "      <td>Алтайский</td>\n",
       "      <td>NaN</td>\n",
       "      <td>NaN</td>\n",
       "      <td>г</td>\n",
       "      <td>Бийск</td>\n",
       "      <td>NaN</td>\n",
       "      <td>NaN</td>\n",
       "      <td>ул</td>\n",
       "      <td>Александра Матросова</td>\n",
       "      <td>д</td>\n",
       "      <td>30</td>\n",
       "    </tr>\n",
       "  </tbody>\n",
       "</table>\n",
       "</div>"
      ],
      "text/plain": [
       "                                      Исходный адрес  \\\n",
       "0   Алтайский край, г Алейск, пер Ульяновский, д 65А   \n",
       "1     Алтайский край, г Алейск, ул Пионерская, д 134   \n",
       "2  Алтайский край, г Белокуриха, ул Партизанская,...   \n",
       "3  Алтайский край, г Белокуриха, ул Советская, зд...   \n",
       "4  Алтайский край, г Бийск, ул Александра Матросо...   \n",
       "\n",
       "                                               Адрес Тип региона     Регион  \\\n",
       "0    Алтайский край, Алейск г, Ульяновский пер, д 65        край  Алтайский   \n",
       "1     Алтайский край, Алейск г, Пионерская ул, д 134        край  Алтайский   \n",
       "2  Алтайский край, Белокуриха г, Партизанская ул,...        край  Алтайский   \n",
       "3  Алтайский край, Белокуриха г, Советская ул, зд...        край  Алтайский   \n",
       "4  Алтайский край, Бийск г, Александра Матросова ...        край  Алтайский   \n",
       "\n",
       "  Тип района Район Тип города       Город Тип н/п  Н/п Тип улицы  \\\n",
       "0        NaN   NaN          г      Алейск     NaN  NaN       пер   \n",
       "1        NaN   NaN          г      Алейск     NaN  NaN        ул   \n",
       "2        NaN   NaN          г  Белокуриха     NaN  NaN        ул   \n",
       "3        NaN   NaN          г  Белокуриха     NaN  NaN        ул   \n",
       "4        NaN   NaN          г       Бийск     NaN  NaN        ул   \n",
       "\n",
       "                  Улица Тип дома  Дом  \n",
       "0           Ульяновский        д   65  \n",
       "1            Пионерская        д  134  \n",
       "2          Партизанская        д  7/1  \n",
       "3             Советская       зд  7/4  \n",
       "4  Александра Матросова        д   30  "
      ]
     },
     "execution_count": 33,
     "metadata": {},
     "output_type": "execute_result"
    }
   ],
   "source": [
    "addresses.head()"
   ]
  },
  {
   "cell_type": "code",
   "execution_count": 5,
   "id": "39002483",
   "metadata": {},
   "outputs": [
    {
     "data": {
      "text/html": [
       "<div>\n",
       "<style scoped>\n",
       "    .dataframe tbody tr th:only-of-type {\n",
       "        vertical-align: middle;\n",
       "    }\n",
       "\n",
       "    .dataframe tbody tr th {\n",
       "        vertical-align: top;\n",
       "    }\n",
       "\n",
       "    .dataframe thead th {\n",
       "        text-align: right;\n",
       "    }\n",
       "</style>\n",
       "<table border=\"1\" class=\"dataframe\">\n",
       "  <thead>\n",
       "    <tr style=\"text-align: right;\">\n",
       "      <th></th>\n",
       "      <th>Адрес</th>\n",
       "    </tr>\n",
       "  </thead>\n",
       "  <tbody>\n",
       "    <tr>\n",
       "      <th>0</th>\n",
       "      <td>Астраханская обл, г Харабали, кв-л 8-й, д 2Б</td>\n",
       "    </tr>\n",
       "    <tr>\n",
       "      <th>1</th>\n",
       "      <td>г Астрахань, пер Костромской, д 26/5</td>\n",
       "    </tr>\n",
       "    <tr>\n",
       "      <th>2</th>\n",
       "      <td>г Астрахань, ул Бориса Алексеева, д 2Б, пом 98</td>\n",
       "    </tr>\n",
       "    <tr>\n",
       "      <th>3</th>\n",
       "      <td>Брянская обл, г Жуковка, ул Калинина, д 30А</td>\n",
       "    </tr>\n",
       "    <tr>\n",
       "      <th>4</th>\n",
       "      <td>Брянская обл, г Почеп, ул Усиевича, стр 78А</td>\n",
       "    </tr>\n",
       "  </tbody>\n",
       "</table>\n",
       "</div>"
      ],
      "text/plain": [
       "                                            Адрес\n",
       "0    Астраханская обл, г Харабали, кв-л 8-й, д 2Б\n",
       "1            г Астрахань, пер Костромской, д 26/5\n",
       "2  г Астрахань, ул Бориса Алексеева, д 2Б, пом 98\n",
       "3     Брянская обл, г Жуковка, ул Калинина, д 30А\n",
       "4     Брянская обл, г Почеп, ул Усиевича, стр 78А"
      ]
     },
     "execution_count": 5,
     "metadata": {},
     "output_type": "execute_result"
    }
   ],
   "source": [
    "dont_have_in_addresses.head()"
   ]
  },
  {
   "cell_type": "code",
   "execution_count": 25,
   "id": "82aa4319",
   "metadata": {},
   "outputs": [],
   "source": [
    "# создаем пустые списки для сохранения найденных соответствующих кодов и их степеней похожести\n",
    "matched_codes = []\n",
    "match_ratios = []\n",
    "address = []"
   ]
  },
  {
   "cell_type": "code",
   "execution_count": 11,
   "id": "058f82a4",
   "metadata": {},
   "outputs": [],
   "source": [
    "dont_have_in_addresses_copy = dont_have_in_addresses.head(100)"
   ]
  },
  {
   "cell_type": "code",
   "execution_count": 34,
   "id": "b1eeefd8",
   "metadata": {
    "scrolled": true
   },
   "outputs": [
    {
     "ename": "KeyboardInterrupt",
     "evalue": "",
     "output_type": "error",
     "traceback": [
      "\u001b[1;31m---------------------------------------------------------------------------\u001b[0m",
      "\u001b[1;31mKeyboardInterrupt\u001b[0m                         Traceback (most recent call last)",
      "Cell \u001b[1;32mIn[34], line 4\u001b[0m\n\u001b[0;32m      1\u001b[0m \u001b[38;5;66;03m# для каждого значения в колонке \"значение\" ищем наилучшее совпадение среди кодов\u001b[39;00m\n\u001b[0;32m      2\u001b[0m \u001b[38;5;28;01mfor\u001b[39;00m value \u001b[38;5;129;01min\u001b[39;00m dont_have_in_addresses[\u001b[38;5;124m'\u001b[39m\u001b[38;5;124mАдрес\u001b[39m\u001b[38;5;124m'\u001b[39m]:\n\u001b[0;32m      3\u001b[0m     \u001b[38;5;66;03m# получаем список совпадений и их степеней похожести для данного значения\u001b[39;00m\n\u001b[1;32m----> 4\u001b[0m     matches \u001b[38;5;241m=\u001b[39m process\u001b[38;5;241m.\u001b[39mextract(value, addresses[\u001b[38;5;124m'\u001b[39m\u001b[38;5;124mИсходный адрес\u001b[39m\u001b[38;5;124m'\u001b[39m], limit\u001b[38;5;241m=\u001b[39m\u001b[38;5;241m2\u001b[39m)\n\u001b[0;32m      5\u001b[0m     \u001b[38;5;66;03m# сохраняем код и степень похожести для наилучшего совпадения, если степень похожести больше или равна 70\u001b[39;00m\n\u001b[0;32m      6\u001b[0m     \u001b[38;5;28;01mif\u001b[39;00m matches[\u001b[38;5;241m0\u001b[39m][\u001b[38;5;241m1\u001b[39m] \u001b[38;5;241m>\u001b[39m\u001b[38;5;241m=\u001b[39m \u001b[38;5;241m70\u001b[39m:\n",
      "File \u001b[1;32mD:\\Anaconda\\envs\\data_analytics\\Lib\\site-packages\\fuzzywuzzy\\process.py:168\u001b[0m, in \u001b[0;36mextract\u001b[1;34m(query, choices, processor, scorer, limit)\u001b[0m\n\u001b[0;32m    123\u001b[0m \u001b[38;5;124;03m\"\"\"Select the best match in a list or dictionary of choices.\u001b[39;00m\n\u001b[0;32m    124\u001b[0m \n\u001b[0;32m    125\u001b[0m \u001b[38;5;124;03mFind best matches in a list or dictionary of choices, return a\u001b[39;00m\n\u001b[1;32m   (...)\u001b[0m\n\u001b[0;32m    165\u001b[0m \u001b[38;5;124;03m    [('train', 22, 'bard'), ('man', 0, 'dog')]\u001b[39;00m\n\u001b[0;32m    166\u001b[0m \u001b[38;5;124;03m\"\"\"\u001b[39;00m\n\u001b[0;32m    167\u001b[0m sl \u001b[38;5;241m=\u001b[39m extractWithoutOrder(query, choices, processor, scorer)\n\u001b[1;32m--> 168\u001b[0m \u001b[38;5;28;01mreturn\u001b[39;00m heapq\u001b[38;5;241m.\u001b[39mnlargest(limit, sl, key\u001b[38;5;241m=\u001b[39m\u001b[38;5;28;01mlambda\u001b[39;00m i: i[\u001b[38;5;241m1\u001b[39m]) \u001b[38;5;28;01mif\u001b[39;00m limit \u001b[38;5;129;01mis\u001b[39;00m \u001b[38;5;129;01mnot\u001b[39;00m \u001b[38;5;28;01mNone\u001b[39;00m \u001b[38;5;28;01melse\u001b[39;00m \\\n\u001b[0;32m    169\u001b[0m     \u001b[38;5;28msorted\u001b[39m(sl, key\u001b[38;5;241m=\u001b[39m\u001b[38;5;28;01mlambda\u001b[39;00m i: i[\u001b[38;5;241m1\u001b[39m], reverse\u001b[38;5;241m=\u001b[39m\u001b[38;5;28;01mTrue\u001b[39;00m)\n",
      "File \u001b[1;32mD:\\Anaconda\\envs\\data_analytics\\Lib\\heapq.py:572\u001b[0m, in \u001b[0;36mnlargest\u001b[1;34m(n, iterable, key)\u001b[0m\n\u001b[0;32m    570\u001b[0m order \u001b[38;5;241m=\u001b[39m \u001b[38;5;241m-\u001b[39mn\n\u001b[0;32m    571\u001b[0m _heapreplace \u001b[38;5;241m=\u001b[39m heapreplace\n\u001b[1;32m--> 572\u001b[0m \u001b[38;5;28;01mfor\u001b[39;00m elem \u001b[38;5;129;01min\u001b[39;00m it:\n\u001b[0;32m    573\u001b[0m     k \u001b[38;5;241m=\u001b[39m key(elem)\n\u001b[0;32m    574\u001b[0m     \u001b[38;5;28;01mif\u001b[39;00m top \u001b[38;5;241m<\u001b[39m k:\n",
      "File \u001b[1;32mD:\\Anaconda\\envs\\data_analytics\\Lib\\site-packages\\fuzzywuzzy\\process.py:110\u001b[0m, in \u001b[0;36mextractWithoutOrder\u001b[1;34m(query, choices, processor, scorer, score_cutoff)\u001b[0m\n\u001b[0;32m    108\u001b[0m \u001b[38;5;28;01mfor\u001b[39;00m key, choice \u001b[38;5;129;01min\u001b[39;00m choices\u001b[38;5;241m.\u001b[39mitems():\n\u001b[0;32m    109\u001b[0m     processed \u001b[38;5;241m=\u001b[39m pre_processor(processor(choice))\n\u001b[1;32m--> 110\u001b[0m     score \u001b[38;5;241m=\u001b[39m scorer(processed_query, processed)\n\u001b[0;32m    111\u001b[0m     \u001b[38;5;28;01mif\u001b[39;00m score \u001b[38;5;241m>\u001b[39m\u001b[38;5;241m=\u001b[39m score_cutoff:\n\u001b[0;32m    112\u001b[0m         \u001b[38;5;28;01myield\u001b[39;00m (choice, score, key)\n",
      "File \u001b[1;32mD:\\Anaconda\\envs\\data_analytics\\Lib\\site-packages\\fuzzywuzzy\\fuzz.py:297\u001b[0m, in \u001b[0;36mWRatio\u001b[1;34m(s1, s2, force_ascii, full_process)\u001b[0m\n\u001b[0;32m    295\u001b[0m \u001b[38;5;28;01melse\u001b[39;00m:\n\u001b[0;32m    296\u001b[0m     tsor \u001b[38;5;241m=\u001b[39m token_sort_ratio(p1, p2, full_process\u001b[38;5;241m=\u001b[39m\u001b[38;5;28;01mFalse\u001b[39;00m) \u001b[38;5;241m*\u001b[39m unbase_scale\n\u001b[1;32m--> 297\u001b[0m     tser \u001b[38;5;241m=\u001b[39m token_set_ratio(p1, p2, full_process\u001b[38;5;241m=\u001b[39m\u001b[38;5;28;01mFalse\u001b[39;00m) \u001b[38;5;241m*\u001b[39m unbase_scale\n\u001b[0;32m    299\u001b[0m     \u001b[38;5;28;01mreturn\u001b[39;00m utils\u001b[38;5;241m.\u001b[39mintr(\u001b[38;5;28mmax\u001b[39m(base, tsor, tser))\n",
      "File \u001b[1;32mD:\\Anaconda\\envs\\data_analytics\\Lib\\site-packages\\fuzzywuzzy\\fuzz.py:169\u001b[0m, in \u001b[0;36mtoken_set_ratio\u001b[1;34m(s1, s2, force_ascii, full_process)\u001b[0m\n\u001b[0;32m    168\u001b[0m \u001b[38;5;28;01mdef\u001b[39;00m \u001b[38;5;21mtoken_set_ratio\u001b[39m(s1, s2, force_ascii\u001b[38;5;241m=\u001b[39m\u001b[38;5;28;01mTrue\u001b[39;00m, full_process\u001b[38;5;241m=\u001b[39m\u001b[38;5;28;01mTrue\u001b[39;00m):\n\u001b[1;32m--> 169\u001b[0m     \u001b[38;5;28;01mreturn\u001b[39;00m _token_set(s1, s2, partial\u001b[38;5;241m=\u001b[39m\u001b[38;5;28;01mFalse\u001b[39;00m, force_ascii\u001b[38;5;241m=\u001b[39mforce_ascii, full_process\u001b[38;5;241m=\u001b[39mfull_process)\n",
      "File \u001b[1;32mD:\\Anaconda\\envs\\data_analytics\\Lib\\site-packages\\fuzzywuzzy\\utils.py:38\u001b[0m, in \u001b[0;36mcheck_for_none.<locals>.decorator\u001b[1;34m(*args, **kwargs)\u001b[0m\n\u001b[0;32m     36\u001b[0m \u001b[38;5;28;01mif\u001b[39;00m args[\u001b[38;5;241m0\u001b[39m] \u001b[38;5;129;01mis\u001b[39;00m \u001b[38;5;28;01mNone\u001b[39;00m \u001b[38;5;129;01mor\u001b[39;00m args[\u001b[38;5;241m1\u001b[39m] \u001b[38;5;129;01mis\u001b[39;00m \u001b[38;5;28;01mNone\u001b[39;00m:\n\u001b[0;32m     37\u001b[0m     \u001b[38;5;28;01mreturn\u001b[39;00m \u001b[38;5;241m0\u001b[39m\n\u001b[1;32m---> 38\u001b[0m \u001b[38;5;28;01mreturn\u001b[39;00m func(\u001b[38;5;241m*\u001b[39margs, \u001b[38;5;241m*\u001b[39m\u001b[38;5;241m*\u001b[39mkwargs)\n",
      "File \u001b[1;32mD:\\Anaconda\\envs\\data_analytics\\Lib\\site-packages\\fuzzywuzzy\\fuzz.py:145\u001b[0m, in \u001b[0;36m_token_set\u001b[1;34m(s1, s2, partial, force_ascii, full_process)\u001b[0m\n\u001b[0;32m    143\u001b[0m sorted_sect \u001b[38;5;241m=\u001b[39m \u001b[38;5;124m\"\u001b[39m\u001b[38;5;124m \u001b[39m\u001b[38;5;124m\"\u001b[39m\u001b[38;5;241m.\u001b[39mjoin(\u001b[38;5;28msorted\u001b[39m(intersection))\n\u001b[0;32m    144\u001b[0m sorted_1to2 \u001b[38;5;241m=\u001b[39m \u001b[38;5;124m\"\u001b[39m\u001b[38;5;124m \u001b[39m\u001b[38;5;124m\"\u001b[39m\u001b[38;5;241m.\u001b[39mjoin(\u001b[38;5;28msorted\u001b[39m(diff1to2))\n\u001b[1;32m--> 145\u001b[0m sorted_2to1 \u001b[38;5;241m=\u001b[39m \u001b[38;5;124m\"\u001b[39m\u001b[38;5;124m \u001b[39m\u001b[38;5;124m\"\u001b[39m\u001b[38;5;241m.\u001b[39mjoin(\u001b[38;5;28msorted\u001b[39m(diff2to1))\n\u001b[0;32m    147\u001b[0m combined_1to2 \u001b[38;5;241m=\u001b[39m sorted_sect \u001b[38;5;241m+\u001b[39m \u001b[38;5;124m\"\u001b[39m\u001b[38;5;124m \u001b[39m\u001b[38;5;124m\"\u001b[39m \u001b[38;5;241m+\u001b[39m sorted_1to2\n\u001b[0;32m    148\u001b[0m combined_2to1 \u001b[38;5;241m=\u001b[39m sorted_sect \u001b[38;5;241m+\u001b[39m \u001b[38;5;124m\"\u001b[39m\u001b[38;5;124m \u001b[39m\u001b[38;5;124m\"\u001b[39m \u001b[38;5;241m+\u001b[39m sorted_2to1\n",
      "\u001b[1;31mKeyboardInterrupt\u001b[0m: "
     ]
    }
   ],
   "source": [
    "# для каждого значения в колонке \"значение\" ищем наилучшее совпадение среди кодов\n",
    "for value in dont_have_in_addresses['Адрес']:\n",
    "    # получаем список совпадений и их степеней похожести для данного значения\n",
    "    matches = process.extract(value, addresses['Исходный адрес'], limit=2)\n",
    "    # сохраняем код и степень похожести для наилучшего совпадения, если степень похожести больше или равна 70\n",
    "    if matches[0][1] >= 70:\n",
    "        address.append(value)\n",
    "        matched_codes.append(matches[0][0])\n",
    "        match_ratios.append(matches[0][1])\n",
    "    # если наилучшее совпадение имеет степень похожести менее 70, то сохраняем None и 0 вместо кода и степени похожести\n",
    "    else:\n",
    "        matched_codes.append(None)\n",
    "        match_ratios.append(0)\n",
    "\n",
    "# добавляем новые колонки с найденными соответствующими кодами и их степенями похожести в таблицу \"data\"\n",
    "\n",
    "new_data = pd.DataFrame({\n",
    "    'Адрес': address,\n",
    "    'соответствующий_адрес': matched_codes,\n",
    "    'степень_похожести': match_ratios\n",
    "})\n"
   ]
  },
  {
   "cell_type": "code",
   "execution_count": null,
   "id": "959dda84",
   "metadata": {},
   "outputs": [],
   "source": [
    "new_data.shape()"
   ]
  },
  {
   "cell_type": "code",
   "execution_count": 31,
   "id": "c15342d9",
   "metadata": {
    "scrolled": true
   },
   "outputs": [],
   "source": [
    "new_data.to_excel('test.xlsx')"
   ]
  },
  {
   "cell_type": "code",
   "execution_count": null,
   "id": "ffc1d47e",
   "metadata": {},
   "outputs": [],
   "source": []
  }
 ],
 "metadata": {
  "kernelspec": {
   "display_name": "Python 3 (ipykernel)",
   "language": "python",
   "name": "python3"
  },
  "language_info": {
   "codemirror_mode": {
    "name": "ipython",
    "version": 3
   },
   "file_extension": ".py",
   "mimetype": "text/x-python",
   "name": "python",
   "nbconvert_exporter": "python",
   "pygments_lexer": "ipython3",
   "version": "3.11.2"
  }
 },
 "nbformat": 4,
 "nbformat_minor": 5
}
