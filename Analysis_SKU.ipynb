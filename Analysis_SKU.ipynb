{
 "cells": [
  {
   "cell_type": "code",
   "execution_count": 167,
   "metadata": {},
   "outputs": [],
   "source": [
    "import pandas as pd\n",
    "import numpy as np"
   ]
  },
  {
   "cell_type": "code",
   "execution_count": 168,
   "metadata": {},
   "outputs": [],
   "source": [
    "df = pd.read_csv(r\"D:\\Analysis Burn\\Дистрибьютеры отчетность\\Source\\Отчеты\\Москва OSHISHA\\Sell_out_Москва_OSHISHA.csv\")"
   ]
  },
  {
   "cell_type": "code",
   "execution_count": 169,
   "metadata": {},
   "outputs": [
    {
     "data": {
      "text/plain": [
       "array([ True])"
      ]
     },
     "execution_count": 169,
     "metadata": {},
     "output_type": "execute_result"
    }
   ],
   "source": [
    "df['Дата отгрузки'].str.match('\\d{4}-.*').unique()"
   ]
  },
  {
   "cell_type": "code",
   "execution_count": 170,
   "metadata": {},
   "outputs": [],
   "source": [
    "df['Дата отгрузки'] = df['Дата отгрузки'].str[:10]"
   ]
  },
  {
   "cell_type": "code",
   "execution_count": 171,
   "metadata": {},
   "outputs": [],
   "source": [
    "df['Дата отгрузки'] = pd.to_datetime(df['Дата отгрузки'], yearfirst=True)"
   ]
  },
  {
   "cell_type": "code",
   "execution_count": 172,
   "metadata": {},
   "outputs": [],
   "source": [
    "df['year'] = df['Дата отгрузки'].dt.year\n",
    "df['month'] = df['Дата отгрузки'].dt.month\n",
    "df['day'] = df['Дата отгрузки'].dt.day\n"
   ]
  },
  {
   "cell_type": "code",
   "execution_count": 173,
   "metadata": {},
   "outputs": [],
   "source": [
    "df = df.loc[df['year'] == 2023]"
   ]
  },
  {
   "cell_type": "code",
   "execution_count": 174,
   "metadata": {},
   "outputs": [],
   "source": [
    "df['year_month'] = df['year'].astype(str) + \"_\" + df['month'].astype(str)"
   ]
  },
  {
   "cell_type": "code",
   "execution_count": 175,
   "metadata": {},
   "outputs": [],
   "source": [
    "df = df.pivot_table(\n",
    "    index=['Торговый представитель', 'Код клиента',\t'Сегмент', 'Клиент', 'Адрес доставки', 'year_month', 'Бренд', 'Группа', 'Вкус', 'Граммовка',],\n",
    "    columns=['day'],\n",
    "    values=['ВЕС'],\n",
    "    aggfunc='sum'\n",
    ").reset_index()"
   ]
  },
  {
   "cell_type": "code",
   "execution_count": 176,
   "metadata": {},
   "outputs": [],
   "source": [
    "# Объединяем значения кортежей, пропуская 'Кг' и пустые значения\n",
    "joined_values = ['_'.join([str(x) for x in df if x and x != pd.NaT]) for df in df.columns]"
   ]
  },
  {
   "cell_type": "code",
   "execution_count": 177,
   "metadata": {},
   "outputs": [],
   "source": [
    "df.columns = pd.Series(joined_values).str.replace(\"ВЕС_\", \"\")\n",
    "df.columns = pd.Series(df.columns).str.replace(\"_NaT\", \"\")"
   ]
  },
  {
   "cell_type": "code",
   "execution_count": 178,
   "metadata": {},
   "outputs": [],
   "source": [
    "counts_in_data = len(df.iloc[:,10:].columns)"
   ]
  },
  {
   "cell_type": "code",
   "execution_count": 179,
   "metadata": {},
   "outputs": [],
   "source": [
    "brands = pd.read_excel(r\"D:\\Analysis Burn\\Продукция Burn.xlsx\", sheet_name=\"варианты брендов\")\n",
    "\n",
    "groups = pd.read_excel(r\"D:\\Analysis Burn\\Продукция Burn.xlsx\", sheet_name=\"варианты групп\")\n",
    "\n",
    "delicious = pd.read_excel(r\"D:\\Analysis Burn\\Продукция Burn.xlsx\", sheet_name=\"варианты вкусов\")\n",
    "\n",
    "gramming = pd.read_excel(r\"D:\\Analysis Burn\\Продукция Burn.xlsx\", sheet_name=\"варианты граммовок\")"
   ]
  },
  {
   "cell_type": "code",
   "execution_count": 180,
   "metadata": {},
   "outputs": [],
   "source": [
    "df = df.merge(\n",
    "    brands,\n",
    "    how=\"left\",\n",
    "    left_on=\"Бренд\",\n",
    "    right_on=\"Бренд (исходный)\"\n",
    ")"
   ]
  },
  {
   "cell_type": "code",
   "execution_count": 181,
   "metadata": {},
   "outputs": [
    {
     "data": {
      "text/plain": [
       "0"
      ]
     },
     "execution_count": 181,
     "metadata": {},
     "output_type": "execute_result"
    }
   ],
   "source": [
    "df['Бренд_y'].isna().sum()"
   ]
  },
  {
   "cell_type": "code",
   "execution_count": 182,
   "metadata": {},
   "outputs": [],
   "source": [
    "df['Вкус'] = df['Бренд_y'] + df['Вкус']\n",
    "df.loc[:, 'Вкус'] = df['Вкус'].str.upper()"
   ]
  },
  {
   "cell_type": "code",
   "execution_count": 183,
   "metadata": {},
   "outputs": [],
   "source": [
    "df.rename(columns={'Вкус_x':'Вкус'}, inplace=True)"
   ]
  },
  {
   "cell_type": "code",
   "execution_count": 184,
   "metadata": {},
   "outputs": [],
   "source": [
    "df = df.merge(\n",
    "    delicious,\n",
    "    how=\"left\",\n",
    "    left_on=\"Вкус\",\n",
    "    right_on=\"Исходный вкус\"\n",
    ")"
   ]
  },
  {
   "cell_type": "code",
   "execution_count": 185,
   "metadata": {},
   "outputs": [
    {
     "data": {
      "text/plain": [
       "0"
      ]
     },
     "execution_count": 185,
     "metadata": {},
     "output_type": "execute_result"
    }
   ],
   "source": [
    "df['Вкус_y'].isna().sum()"
   ]
  },
  {
   "cell_type": "code",
   "execution_count": 186,
   "metadata": {},
   "outputs": [],
   "source": [
    "df_copy = df.copy(deep = True)"
   ]
  },
  {
   "cell_type": "code",
   "execution_count": 187,
   "metadata": {},
   "outputs": [
    {
     "data": {
      "text/html": [
       "<div>\n",
       "<style scoped>\n",
       "    .dataframe tbody tr th:only-of-type {\n",
       "        vertical-align: middle;\n",
       "    }\n",
       "\n",
       "    .dataframe tbody tr th {\n",
       "        vertical-align: top;\n",
       "    }\n",
       "\n",
       "    .dataframe thead th {\n",
       "        text-align: right;\n",
       "    }\n",
       "</style>\n",
       "<table border=\"1\" class=\"dataframe\">\n",
       "  <thead>\n",
       "    <tr style=\"text-align: right;\">\n",
       "      <th></th>\n",
       "      <th>Торговый представитель</th>\n",
       "      <th>Код клиента</th>\n",
       "      <th>Сегмент</th>\n",
       "      <th>Клиент</th>\n",
       "      <th>Адрес доставки</th>\n",
       "      <th>year_month</th>\n",
       "      <th>Бренд_x</th>\n",
       "      <th>Группа</th>\n",
       "      <th>Вкус_x</th>\n",
       "      <th>Граммовка</th>\n",
       "      <th>...</th>\n",
       "      <th>27</th>\n",
       "      <th>28</th>\n",
       "      <th>29</th>\n",
       "      <th>30</th>\n",
       "      <th>31</th>\n",
       "      <th>Бренд (исходный)</th>\n",
       "      <th>Бренд_y</th>\n",
       "      <th>Исходный вкус</th>\n",
       "      <th>Код</th>\n",
       "      <th>Вкус_y</th>\n",
       "    </tr>\n",
       "  </thead>\n",
       "  <tbody>\n",
       "    <tr>\n",
       "      <th>0</th>\n",
       "      <td>kam 001 (шулагин)</td>\n",
       "      <td>00-00000646</td>\n",
       "      <td>мопт</td>\n",
       "      <td>Чучин павел федорович</td>\n",
       "      <td>Россия, 123458, москва г, вн.тер.г. муниципаль...</td>\n",
       "      <td>2023_1</td>\n",
       "      <td>B3</td>\n",
       "      <td>B3 50 гр</td>\n",
       "      <td>B3RICH GRAPE (БЕЛЫЙ ВИНОГРАД)</td>\n",
       "      <td>50.0</td>\n",
       "      <td>...</td>\n",
       "      <td>NaN</td>\n",
       "      <td>NaN</td>\n",
       "      <td>NaN</td>\n",
       "      <td>NaN</td>\n",
       "      <td>NaN</td>\n",
       "      <td>B3</td>\n",
       "      <td>B3</td>\n",
       "      <td>B3RICH GRAPE (БЕЛЫЙ ВИНОГРАД)</td>\n",
       "      <td>173</td>\n",
       "      <td>Rich Grape (Белый Виноград)</td>\n",
       "    </tr>\n",
       "    <tr>\n",
       "      <th>1</th>\n",
       "      <td>kam 001 (шулагин)</td>\n",
       "      <td>00-00000646</td>\n",
       "      <td>мопт</td>\n",
       "      <td>Чучин павел федорович</td>\n",
       "      <td>Россия, 123458, москва г, вн.тер.г. муниципаль...</td>\n",
       "      <td>2023_1</td>\n",
       "      <td>Banger</td>\n",
       "      <td>Banger 25 гр</td>\n",
       "      <td>BANGERLAMBO (ДЫНЯ, МЕЛИССА, МЯТА)</td>\n",
       "      <td>25.0</td>\n",
       "      <td>...</td>\n",
       "      <td>NaN</td>\n",
       "      <td>NaN</td>\n",
       "      <td>NaN</td>\n",
       "      <td>NaN</td>\n",
       "      <td>NaN</td>\n",
       "      <td>Banger</td>\n",
       "      <td>Banger</td>\n",
       "      <td>BANGERLAMBO (ДЫНЯ, МЕЛИССА, МЯТА)</td>\n",
       "      <td>102</td>\n",
       "      <td>Lambo (Дыня, Мелисса, Мята)</td>\n",
       "    </tr>\n",
       "  </tbody>\n",
       "</table>\n",
       "<p>2 rows × 46 columns</p>\n",
       "</div>"
      ],
      "text/plain": [
       "  Торговый представитель  Код клиента Сегмент                 Клиент  \\\n",
       "0      kam 001 (шулагин)  00-00000646    мопт  Чучин павел федорович   \n",
       "1      kam 001 (шулагин)  00-00000646    мопт  Чучин павел федорович   \n",
       "\n",
       "                                      Адрес доставки year_month Бренд_x  \\\n",
       "0  Россия, 123458, москва г, вн.тер.г. муниципаль...     2023_1      B3   \n",
       "1  Россия, 123458, москва г, вн.тер.г. муниципаль...     2023_1  Banger   \n",
       "\n",
       "         Группа                              Вкус_x  Граммовка  ...  27  28  \\\n",
       "0      B3 50 гр       B3RICH GRAPE (БЕЛЫЙ ВИНОГРАД)       50.0  ... NaN NaN   \n",
       "1  Banger 25 гр  BANGERLAMBO (ДЫНЯ, МЕЛИССА, МЯТА)        25.0  ... NaN NaN   \n",
       "\n",
       "   29  30  31  Бренд (исходный)  Бренд_y                       Исходный вкус  \\\n",
       "0 NaN NaN NaN                B3       B3       B3RICH GRAPE (БЕЛЫЙ ВИНОГРАД)   \n",
       "1 NaN NaN NaN            Banger   Banger  BANGERLAMBO (ДЫНЯ, МЕЛИССА, МЯТА)    \n",
       "\n",
       "   Код                        Вкус_y  \n",
       "0  173   Rich Grape (Белый Виноград)  \n",
       "1  102  Lambo (Дыня, Мелисса, Мята)   \n",
       "\n",
       "[2 rows x 46 columns]"
      ]
     },
     "execution_count": 187,
     "metadata": {},
     "output_type": "execute_result"
    }
   ],
   "source": [
    "df.head(2)"
   ]
  },
  {
   "cell_type": "code",
   "execution_count": 188,
   "metadata": {},
   "outputs": [],
   "source": [
    "df = df.groupby(\n",
    "    by=['year_month','Сегмент', 'Клиент', 'Адрес доставки' ,'Бренд_y', 'Вкус_y', 'Граммовка']\n",
    ").sum(numeric_only=True).reset_index()"
   ]
  },
  {
   "cell_type": "code",
   "execution_count": 189,
   "metadata": {},
   "outputs": [],
   "source": [
    "df.drop(columns=['Код'], inplace=True)"
   ]
  },
  {
   "cell_type": "code",
   "execution_count": 190,
   "metadata": {},
   "outputs": [],
   "source": [
    "df['Кол-во закупок'] = df.iloc[:,7:].apply(np.count_nonzero, axis=1)"
   ]
  },
  {
   "cell_type": "code",
   "execution_count": 191,
   "metadata": {},
   "outputs": [],
   "source": [
    "df['Кол-во закупок всего'] = counts_in_data"
   ]
  },
  {
   "cell_type": "code",
   "execution_count": 192,
   "metadata": {},
   "outputs": [],
   "source": [
    "code_buy = df.groupby(\n",
    "    by=['Клиент', 'year_month']    \n",
    ").sum(numeric_only=True).drop(columns=['Кол-во закупок', 'Граммовка', 'Кол-во закупок всего']).reset_index()"
   ]
  },
  {
   "cell_type": "code",
   "execution_count": 193,
   "metadata": {},
   "outputs": [],
   "source": [
    "code_buy['Кол-во закупок клиента'] = code_buy.iloc[:,2:].apply(np.count_nonzero, axis=1)"
   ]
  },
  {
   "cell_type": "code",
   "execution_count": 194,
   "metadata": {},
   "outputs": [
    {
     "data": {
      "text/html": [
       "<div>\n",
       "<style scoped>\n",
       "    .dataframe tbody tr th:only-of-type {\n",
       "        vertical-align: middle;\n",
       "    }\n",
       "\n",
       "    .dataframe tbody tr th {\n",
       "        vertical-align: top;\n",
       "    }\n",
       "\n",
       "    .dataframe thead th {\n",
       "        text-align: right;\n",
       "    }\n",
       "</style>\n",
       "<table border=\"1\" class=\"dataframe\">\n",
       "  <thead>\n",
       "    <tr style=\"text-align: right;\">\n",
       "      <th></th>\n",
       "      <th>Клиент</th>\n",
       "      <th>year_month</th>\n",
       "      <th>Вес закупок клиента</th>\n",
       "    </tr>\n",
       "  </thead>\n",
       "  <tbody>\n",
       "    <tr>\n",
       "      <th>0</th>\n",
       "      <td>andrew's tobacco (нововладыкинский 1к3)</td>\n",
       "      <td>2023_7</td>\n",
       "      <td>3.325</td>\n",
       "    </tr>\n",
       "    <tr>\n",
       "      <th>1</th>\n",
       "      <td>andrew's tobacco (нововладыкинский 1к3)</td>\n",
       "      <td>2023_8</td>\n",
       "      <td>0.100</td>\n",
       "    </tr>\n",
       "    <tr>\n",
       "      <th>2</th>\n",
       "      <td>coco lounge (просторная )</td>\n",
       "      <td>2023_1</td>\n",
       "      <td>1.100</td>\n",
       "    </tr>\n",
       "    <tr>\n",
       "      <th>3</th>\n",
       "      <td>coco lounge (просторная )</td>\n",
       "      <td>2023_2</td>\n",
       "      <td>3.400</td>\n",
       "    </tr>\n",
       "    <tr>\n",
       "      <th>4</th>\n",
       "      <td>coco lounge (просторная )</td>\n",
       "      <td>2023_6</td>\n",
       "      <td>1.000</td>\n",
       "    </tr>\n",
       "    <tr>\n",
       "      <th>...</th>\n",
       "      <td>...</td>\n",
       "      <td>...</td>\n",
       "      <td>...</td>\n",
       "    </tr>\n",
       "    <tr>\n",
       "      <th>16844</th>\n",
       "      <td>Ясин 3-39 юв</td>\n",
       "      <td>2023_5</td>\n",
       "      <td>9.325</td>\n",
       "    </tr>\n",
       "    <tr>\n",
       "      <th>16845</th>\n",
       "      <td>Ястребов андрей дмитриевич</td>\n",
       "      <td>2023_8</td>\n",
       "      <td>1.000</td>\n",
       "    </tr>\n",
       "    <tr>\n",
       "      <th>16846</th>\n",
       "      <td>Ященко дмитрий александрович</td>\n",
       "      <td>2023_5</td>\n",
       "      <td>0.200</td>\n",
       "    </tr>\n",
       "    <tr>\n",
       "      <th>16847</th>\n",
       "      <td>Ященко дмитрий александрович</td>\n",
       "      <td>2023_4</td>\n",
       "      <td>0.300</td>\n",
       "    </tr>\n",
       "    <tr>\n",
       "      <th>16848</th>\n",
       "      <td>Ященко дмитрий александрович</td>\n",
       "      <td>2023_6</td>\n",
       "      <td>0.600</td>\n",
       "    </tr>\n",
       "  </tbody>\n",
       "</table>\n",
       "<p>16849 rows × 3 columns</p>\n",
       "</div>"
      ],
      "text/plain": [
       "                                         Клиент year_month  \\\n",
       "0       andrew's tobacco (нововладыкинский 1к3)     2023_7   \n",
       "1       andrew's tobacco (нововладыкинский 1к3)     2023_8   \n",
       "2                     coco lounge (просторная )     2023_1   \n",
       "3                     coco lounge (просторная )     2023_2   \n",
       "4                     coco lounge (просторная )     2023_6   \n",
       "...                                         ...        ...   \n",
       "16844                              Ясин 3-39 юв     2023_5   \n",
       "16845                Ястребов андрей дмитриевич     2023_8   \n",
       "16846              Ященко дмитрий александрович     2023_5   \n",
       "16847             Ященко дмитрий александрович      2023_4   \n",
       "16848             Ященко дмитрий александрович      2023_6   \n",
       "\n",
       "       Вес закупок клиента  \n",
       "0                    3.325  \n",
       "1                    0.100  \n",
       "2                    1.100  \n",
       "3                    3.400  \n",
       "4                    1.000  \n",
       "...                    ...  \n",
       "16844                9.325  \n",
       "16845                1.000  \n",
       "16846                0.200  \n",
       "16847                0.300  \n",
       "16848                0.600  \n",
       "\n",
       "[16849 rows x 3 columns]"
      ]
     },
     "execution_count": 194,
     "metadata": {},
     "output_type": "execute_result"
    }
   ],
   "source": [
    "code_weight = df.groupby(\n",
    "    by=['Клиент', 'year_month']    \n",
    ").sum(numeric_only=True).drop(columns=['Кол-во закупок', 'Граммовка', 'Кол-во закупок всего']).reset_index()\n",
    "\n",
    "code_weight['Вес закупок клиента'] = code_weight.iloc[:,2:].sum(axis=1)\n",
    "\n",
    "code_weight = code_weight.loc[:, ['Клиент','year_month', 'Вес закупок клиента']]\n",
    "\n",
    "code_weight"
   ]
  },
  {
   "cell_type": "code",
   "execution_count": 195,
   "metadata": {},
   "outputs": [],
   "source": [
    "final_table = df.merge(\n",
    "    code_buy.loc[:, ['Клиент', 'year_month', 'Кол-во закупок клиента']],\n",
    "    on=['Клиент', 'year_month']\n",
    ")"
   ]
  },
  {
   "cell_type": "code",
   "execution_count": 196,
   "metadata": {},
   "outputs": [],
   "source": [
    "final_table['Объем_клиента'] = final_table.iloc[:,7:-3].sum(axis=1)"
   ]
  },
  {
   "cell_type": "code",
   "execution_count": 197,
   "metadata": {},
   "outputs": [],
   "source": [
    "final_table['Ср. объем_клиента'] = final_table['Объем_клиента'] / final_table['Кол-во закупок']"
   ]
  },
  {
   "cell_type": "code",
   "execution_count": 198,
   "metadata": {},
   "outputs": [],
   "source": [
    "final_table = final_table.merge(\n",
    "    code_weight.loc[:, ['Клиент', 'year_month', 'Вес закупок клиента']],\n",
    "    on=['Клиент', 'year_month']\n",
    ")"
   ]
  },
  {
   "cell_type": "code",
   "execution_count": 199,
   "metadata": {},
   "outputs": [
    {
     "data": {
      "text/plain": [
       "Index(['year_month', 'Сегмент', 'Клиент', 'Адрес доставки', 'Бренд_y',\n",
       "       'Вкус_y', 'Граммовка', '1', '2', '3', '4', '5', '6', '7', '8', '9',\n",
       "       '10', '11', '12', '13', '14', '15', '16', '17', '18', '19', '20', '21',\n",
       "       '22', '23', '24', '25', '26', '27', '28', '29', '30', '31',\n",
       "       'Кол-во закупок', 'Кол-во закупок всего', 'Кол-во закупок клиента',\n",
       "       'Объем_клиента', 'Ср. объем_клиента', 'Вес закупок клиента'],\n",
       "      dtype='object')"
      ]
     },
     "execution_count": 199,
     "metadata": {},
     "output_type": "execute_result"
    }
   ],
   "source": [
    "final_table.columns"
   ]
  },
  {
   "cell_type": "code",
   "execution_count": 200,
   "metadata": {},
   "outputs": [],
   "source": [
    "final_table = final_table[['year_month', 'Сегмент', 'Клиент', 'Адрес доставки', 'Бренд_y', 'Вкус_y', 'Граммовка', 'Кол-во закупок',\n",
    "'Кол-во закупок клиента', 'Объем_клиента', 'Ср. объем_клиента','Вес закупок клиента']]"
   ]
  },
  {
   "cell_type": "code",
   "execution_count": 201,
   "metadata": {},
   "outputs": [],
   "source": [
    "final_table['Доля вкуса во всех закупках'] = final_table['Кол-во закупок'] / final_table['Кол-во закупок клиента'] * 100\n",
    "\n",
    "final_table['Доля вкуса во всём объеме закупок закупках'] = final_table['Объем_клиента'] / final_table['Вес закупок клиента'] * 100"
   ]
  },
  {
   "cell_type": "code",
   "execution_count": 202,
   "metadata": {},
   "outputs": [],
   "source": [
    "final_table.rename(columns={\n",
    "        'Бренд_y': 'Бренд', \n",
    "        'Вкус_y' : 'Вкус', \n",
    "        'Кол-во закупок' : 'Кол-во закупок вкуса', \n",
    "        'Объем_клиента':'Общий объем вкуса', \n",
    "        'Ср. объем_клиента':'Ср. объем клиента', \n",
    "        'Вес закупок клиента':'Объем закупок клиента',\n",
    "        'Доля вкуса во всём объеме закупок закупках':'Доля вкуса во всём объеме закупок'\n",
    "    }, inplace=True\n",
    ")"
   ]
  },
  {
   "cell_type": "code",
   "execution_count": 203,
   "metadata": {},
   "outputs": [],
   "source": [
    "final_table['Доля вкуса во всех закупках'] = final_table['Доля вкуса во всех закупках'] / 100\n",
    "final_table['Доля вкуса во всём объеме закупок'] = final_table['Доля вкуса во всём объеме закупок'] / 100"
   ]
  },
  {
   "cell_type": "code",
   "execution_count": 102,
   "metadata": {},
   "outputs": [],
   "source": [
    "final_table.to_excel(r\"D:\\Analysis Burn\\SKU_Анализ\\data\\simple_SKU_full.xlsx\")"
   ]
  }
 ],
 "metadata": {
  "kernelspec": {
   "display_name": "analytics",
   "language": "python",
   "name": "python3"
  },
  "language_info": {
   "codemirror_mode": {
    "name": "ipython",
    "version": 3
   },
   "file_extension": ".py",
   "mimetype": "text/x-python",
   "name": "python",
   "nbconvert_exporter": "python",
   "pygments_lexer": "ipython3",
   "version": "3.11.2"
  },
  "orig_nbformat": 4
 },
 "nbformat": 4,
 "nbformat_minor": 2
}
