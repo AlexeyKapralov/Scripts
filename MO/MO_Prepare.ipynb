{
 "cells": [
  {
   "attachments": {},
   "cell_type": "markdown",
   "metadata": {},
   "source": [
    "## сделать добавление граммовки у нулей"
   ]
  },
  {
   "cell_type": "code",
   "execution_count": 2,
   "metadata": {},
   "outputs": [],
   "source": [
    "import pandas as pd"
   ]
  },
  {
   "cell_type": "code",
   "execution_count": 3,
   "metadata": {},
   "outputs": [
    {
     "name": "stderr",
     "output_type": "stream",
     "text": [
      "C:\\Users\\User\\AppData\\Local\\Temp\\ipykernel_22428\\1147687411.py:1: DtypeWarning: Columns (8) have mixed types. Specify dtype option on import or set low_memory=False.\n",
      "  df = pd.read_csv(r\"D:\\Analysis Burn\\МО\\MO_full_source.csv\")\n"
     ]
    }
   ],
   "source": [
    "df = pd.read_csv(r\"D:\\Analysis Burn\\МО\\MO_full_source.csv\")"
   ]
  },
  {
   "cell_type": "code",
   "execution_count": 4,
   "metadata": {},
   "outputs": [],
   "source": [
    "df.loc[df['вес упаковки'].str.match('.*КЛАССИФИЦИР.*', case=False) == True, 'вес упаковки'] = 0\n",
    "\n",
    "df['вес упаковки'] = df['вес упаковки'].str.replace(' ---','')\n",
    "\n",
    "df['вес упаковки'] = df['вес упаковки'].str.replace(',','.')\n",
    "\n",
    "df['вес упаковки'] = df['вес упаковки'].str.replace(' г','')\n",
    "\n",
    "df['вес упаковки'] = round(df['вес упаковки'].astype(float), 2)\n",
    "\n",
    "df.loc[df['вес упаковки'].isna(), 'вес упаковки'] = 0"
   ]
  },
  {
   "cell_type": "code",
   "execution_count": 5,
   "metadata": {},
   "outputs": [],
   "source": [
    "df.loc[(df['название'].str.match(\".*NАШ.*\") == True) & (df['бренд'].isna()), 'бренд'] = 'NАШ'\n",
    "\n",
    "df.loc[(df['название'].str.match(\".*must have.*\") == True) & (df['бренд'].isna()), 'бренд'] = 'must have'\n",
    "\n",
    "df.loc[(df['название'].str.match(\".*CARIBBEAN BLEND.*\") == True) & (df['бренд'].isna()), 'бренд'] = 'CARIBBEAN BLEND'\n",
    "\n",
    "df.loc[(df['название'].str.match(\".*Balli club.*\") == True) & (df['бренд'].isna()), 'бренд'] = 'Balli club'\n",
    "\n",
    "df.loc[(df['название'].str.match(\".*NICARAGUA.*\") == True) & (df['бренд'].isna()), 'бренд'] = 'NICARAGUA'\n",
    "\n",
    "df.loc[(df['название'].str.match(\".*PERIQUE.*\") == True) & (df['бренд'].isna()), 'бренд'] = 'PERIQUE'\n",
    "\n",
    "df.loc[(df['название'].str.match(\".*TANZANIA .*\") == True) & (df['бренд'].isna()), 'бренд'] = 'TANZANIA'\n",
    "\n",
    "df.loc[(df['название'].str.match(\".*Martin.*\") == True) & (df['бренд'].isna()), 'бренд'] = 'Martin'\n",
    "\n",
    "df.loc[(df['название'].str.match(\".*М18.*\") == True) & (df['бренд'].isna()), 'бренд'] = 'М18'\n",
    "\n",
    "df.loc[(df['название'].str.match(\".*Сhurchill.*\") == True) & (df['бренд'].isna()), 'бренд'] = 'Сhurchill'\n",
    "\n",
    "df.loc[(df['название'].str.match(\".*BARON.*\") == True) & (df['бренд'].isna()), 'бренд'] = 'BARON'\n",
    "\n",
    "df.loc[(df['название'].str.contains(\"C*U*B*A ОРИДЖИНАЛ\") == True) & (df['бренд'].isna()), 'бренд'] = 'C*U*B*A ОРИДЖИНАЛ'"
   ]
  },
  {
   "cell_type": "code",
   "execution_count": 6,
   "metadata": {},
   "outputs": [
    {
     "data": {
      "text/plain": [
       "array([], dtype=object)"
      ]
     },
     "execution_count": 6,
     "metadata": {},
     "output_type": "execute_result"
    }
   ],
   "source": [
    "# надо чтобы здесь был пустой массив\n",
    "df.loc[df['бренд'].isna()]['название'].unique()"
   ]
  },
  {
   "cell_type": "code",
   "execution_count": 9,
   "metadata": {},
   "outputs": [
    {
     "data": {
      "text/plain": [
       "0"
      ]
     },
     "execution_count": 9,
     "metadata": {},
     "output_type": "execute_result"
    }
   ],
   "source": [
    "# надо чтобы здесь был 0\n",
    "df['бренд'].isna().sum()"
   ]
  },
  {
   "cell_type": "code",
   "execution_count": 12,
   "metadata": {},
   "outputs": [
    {
     "data": {
      "text/plain": [
       "0"
      ]
     },
     "execution_count": 12,
     "metadata": {},
     "output_type": "execute_result"
    }
   ],
   "source": [
    "# надо чтобы здесь был 0\n",
    "df['тип продукции'].isna().sum()"
   ]
  },
  {
   "cell_type": "code",
   "execution_count": 17,
   "metadata": {},
   "outputs": [
    {
     "data": {
      "text/plain": [
       "0"
      ]
     },
     "execution_count": 17,
     "metadata": {},
     "output_type": "execute_result"
    }
   ],
   "source": [
    "# надо чтобы здесь был 0\n",
    "df['вес упаковки'].isna().sum()"
   ]
  },
  {
   "cell_type": "code",
   "execution_count": 20,
   "metadata": {},
   "outputs": [
    {
     "data": {
      "text/plain": [
       "0"
      ]
     },
     "execution_count": 20,
     "metadata": {},
     "output_type": "execute_result"
    }
   ],
   "source": [
    "# надо чтобы здесь был 0\n",
    "df['продажи'].isna().sum()"
   ]
  },
  {
   "cell_type": "code",
   "execution_count": 25,
   "metadata": {},
   "outputs": [
    {
     "data": {
      "text/html": [
       "<div>\n",
       "<style scoped>\n",
       "    .dataframe tbody tr th:only-of-type {\n",
       "        vertical-align: middle;\n",
       "    }\n",
       "\n",
       "    .dataframe tbody tr th {\n",
       "        vertical-align: top;\n",
       "    }\n",
       "\n",
       "    .dataframe thead th {\n",
       "        text-align: right;\n",
       "    }\n",
       "</style>\n",
       "<table border=\"1\" class=\"dataframe\">\n",
       "  <thead>\n",
       "    <tr style=\"text-align: right;\">\n",
       "      <th></th>\n",
       "      <th>Unnamed: 0</th>\n",
       "      <th>месяц</th>\n",
       "      <th>регион</th>\n",
       "      <th>бренд</th>\n",
       "      <th>тип продукции</th>\n",
       "      <th>название</th>\n",
       "      <th>инн продавца</th>\n",
       "      <th>адрес магазина</th>\n",
       "      <th>вес упаковки</th>\n",
       "      <th>продажи</th>\n",
       "    </tr>\n",
       "  </thead>\n",
       "  <tbody>\n",
       "    <tr>\n",
       "      <th>0</th>\n",
       "      <td>0</td>\n",
       "      <td>2023-01-01</td>\n",
       "      <td>Москва</td>\n",
       "      <td>OVERDOSE</td>\n",
       "      <td>Кальян</td>\n",
       "      <td>Overdose Peach Iced Tea (Персиковый чай) 25гр.</td>\n",
       "      <td>7715441408</td>\n",
       "      <td>г Москва, ул Краснобогатырская, д 2 стр 2</td>\n",
       "      <td>25.0</td>\n",
       "      <td>9</td>\n",
       "    </tr>\n",
       "    <tr>\n",
       "      <th>1</th>\n",
       "      <td>1</td>\n",
       "      <td>2023-01-01</td>\n",
       "      <td>Московская область</td>\n",
       "      <td>OVERDOSE</td>\n",
       "      <td>Кальян</td>\n",
       "      <td>Overdose Peach Iced Tea (Персиковый чай) 25гр.</td>\n",
       "      <td>520601360011</td>\n",
       "      <td>Московская обл, г Королёв, ул Пионерская, д 3,...</td>\n",
       "      <td>25.0</td>\n",
       "      <td>3</td>\n",
       "    </tr>\n",
       "    <tr>\n",
       "      <th>2</th>\n",
       "      <td>2</td>\n",
       "      <td>2023-01-01</td>\n",
       "      <td>Московская область</td>\n",
       "      <td>OVERDOSE</td>\n",
       "      <td>Кальян</td>\n",
       "      <td>Overdose Peach Iced Tea (Персиковый чай) 25гр.</td>\n",
       "      <td>402917943755</td>\n",
       "      <td>Московская обл, г Орехово-Зуево, ул Бирюкова, ...</td>\n",
       "      <td>25.0</td>\n",
       "      <td>2</td>\n",
       "    </tr>\n",
       "  </tbody>\n",
       "</table>\n",
       "</div>"
      ],
      "text/plain": [
       "   Unnamed: 0       месяц              регион     бренд тип продукции  \\\n",
       "0           0  2023-01-01              Москва  OVERDOSE        Кальян   \n",
       "1           1  2023-01-01  Московская область  OVERDOSE        Кальян   \n",
       "2           2  2023-01-01  Московская область  OVERDOSE        Кальян   \n",
       "\n",
       "                                          название  инн продавца  \\\n",
       "0   Overdose Peach Iced Tea (Персиковый чай) 25гр.    7715441408   \n",
       "1   Overdose Peach Iced Tea (Персиковый чай) 25гр.  520601360011   \n",
       "2   Overdose Peach Iced Tea (Персиковый чай) 25гр.  402917943755   \n",
       "\n",
       "                                      адрес магазина  вес упаковки  продажи  \n",
       "0          г Москва, ул Краснобогатырская, д 2 стр 2          25.0        9  \n",
       "1  Московская обл, г Королёв, ул Пионерская, д 3,...          25.0        3  \n",
       "2  Московская обл, г Орехово-Зуево, ул Бирюкова, ...          25.0        2  "
      ]
     },
     "execution_count": 25,
     "metadata": {},
     "output_type": "execute_result"
    }
   ],
   "source": [
    "df.head(3)"
   ]
  },
  {
   "cell_type": "code",
   "execution_count": 28,
   "metadata": {},
   "outputs": [
    {
     "data": {
      "text/html": [
       "<div>\n",
       "<style scoped>\n",
       "    .dataframe tbody tr th:only-of-type {\n",
       "        vertical-align: middle;\n",
       "    }\n",
       "\n",
       "    .dataframe tbody tr th {\n",
       "        vertical-align: top;\n",
       "    }\n",
       "\n",
       "    .dataframe thead th {\n",
       "        text-align: right;\n",
       "    }\n",
       "</style>\n",
       "<table border=\"1\" class=\"dataframe\">\n",
       "  <thead>\n",
       "    <tr style=\"text-align: right;\">\n",
       "      <th></th>\n",
       "      <th>Unnamed: 0</th>\n",
       "      <th>месяц</th>\n",
       "      <th>регион</th>\n",
       "      <th>бренд</th>\n",
       "      <th>тип продукции</th>\n",
       "      <th>название</th>\n",
       "      <th>инн продавца</th>\n",
       "      <th>адрес магазина</th>\n",
       "      <th>вес упаковки</th>\n",
       "      <th>продажи</th>\n",
       "    </tr>\n",
       "  </thead>\n",
       "  <tbody>\n",
       "    <tr>\n",
       "      <th>76064</th>\n",
       "      <td>76064</td>\n",
       "      <td>2023-01-01</td>\n",
       "      <td>Москва</td>\n",
       "      <td>BRUSKO</td>\n",
       "      <td>Бестабачка</td>\n",
       "      <td>«BRUSKO» со вкусом Абрикоса, крепость Medium, ...</td>\n",
       "      <td>7715441408</td>\n",
       "      <td>г Москва, ул Краснобогатырская, д 2 стр 2</td>\n",
       "      <td>0.0</td>\n",
       "      <td>1</td>\n",
       "    </tr>\n",
       "    <tr>\n",
       "      <th>76065</th>\n",
       "      <td>76065</td>\n",
       "      <td>2023-01-01</td>\n",
       "      <td>Московская область</td>\n",
       "      <td>BRUSKO</td>\n",
       "      <td>Бестабачка</td>\n",
       "      <td>«BRUSKO» со вкусом Абрикоса, крепость Medium, ...</td>\n",
       "      <td>500501244837</td>\n",
       "      <td>Московская обл, г Воскресенск, ул Зелинского, ...</td>\n",
       "      <td>0.0</td>\n",
       "      <td>1</td>\n",
       "    </tr>\n",
       "    <tr>\n",
       "      <th>76066</th>\n",
       "      <td>76066</td>\n",
       "      <td>2023-01-01</td>\n",
       "      <td>Московская область</td>\n",
       "      <td>BRUSKO</td>\n",
       "      <td>Бестабачка</td>\n",
       "      <td>«BRUSKO» со вкусом Абрикоса, крепость Medium, ...</td>\n",
       "      <td>781139105145</td>\n",
       "      <td>Московская обл, г Мытищи, ул Борисовка, д 18</td>\n",
       "      <td>0.0</td>\n",
       "      <td>1</td>\n",
       "    </tr>\n",
       "    <tr>\n",
       "      <th>76067</th>\n",
       "      <td>76067</td>\n",
       "      <td>2023-01-01</td>\n",
       "      <td>Москва</td>\n",
       "      <td>BRUSKO</td>\n",
       "      <td>Бестабачка</td>\n",
       "      <td>«BRUSKO» со вкусом Ананаса, крепость Medium, М...</td>\n",
       "      <td>7715441408</td>\n",
       "      <td>г Москва, ул Краснобогатырская, д 2 стр 2</td>\n",
       "      <td>0.0</td>\n",
       "      <td>5</td>\n",
       "    </tr>\n",
       "    <tr>\n",
       "      <th>76068</th>\n",
       "      <td>76068</td>\n",
       "      <td>2023-01-01</td>\n",
       "      <td>Москва</td>\n",
       "      <td>BRUSKO</td>\n",
       "      <td>Бестабачка</td>\n",
       "      <td>«BRUSKO» со вкусом Ананаса, крепость Medium, М...</td>\n",
       "      <td>502986919467</td>\n",
       "      <td>г Москва, проезд Ильменский, д 14 к 6</td>\n",
       "      <td>0.0</td>\n",
       "      <td>1</td>\n",
       "    </tr>\n",
       "    <tr>\n",
       "      <th>...</th>\n",
       "      <td>...</td>\n",
       "      <td>...</td>\n",
       "      <td>...</td>\n",
       "      <td>...</td>\n",
       "      <td>...</td>\n",
       "      <td>...</td>\n",
       "      <td>...</td>\n",
       "      <td>...</td>\n",
       "      <td>...</td>\n",
       "      <td>...</td>\n",
       "    </tr>\n",
       "    <tr>\n",
       "      <th>2403389</th>\n",
       "      <td>2403389</td>\n",
       "      <td>2022-12-01</td>\n",
       "      <td>Москва</td>\n",
       "      <td>Martin</td>\n",
       "      <td>Сигары</td>\n",
       "      <td>Сигара Martin</td>\n",
       "      <td>7705669185</td>\n",
       "      <td>г Москва, ул Тверская-Ямская 1-я, д 8, кв 1/IV</td>\n",
       "      <td>0.0</td>\n",
       "      <td>1</td>\n",
       "    </tr>\n",
       "    <tr>\n",
       "      <th>2403390</th>\n",
       "      <td>2403390</td>\n",
       "      <td>2022-12-01</td>\n",
       "      <td>Москва</td>\n",
       "      <td>Martin</td>\n",
       "      <td>Сигары</td>\n",
       "      <td>Сигара Martin</td>\n",
       "      <td>503202826529</td>\n",
       "      <td>г Москва, ул Адмирала Макарова, д 6 стр 13</td>\n",
       "      <td>0.0</td>\n",
       "      <td>3</td>\n",
       "    </tr>\n",
       "    <tr>\n",
       "      <th>2403391</th>\n",
       "      <td>2403391</td>\n",
       "      <td>2022-12-01</td>\n",
       "      <td>Москва</td>\n",
       "      <td>Сhurchill</td>\n",
       "      <td>Сигары</td>\n",
       "      <td>Сигара Сhurchill T.E.</td>\n",
       "      <td>7727788059</td>\n",
       "      <td>г Москва, пр-кт Кутузовский, д 35, помещ IV ко...</td>\n",
       "      <td>0.0</td>\n",
       "      <td>1</td>\n",
       "    </tr>\n",
       "    <tr>\n",
       "      <th>2403392</th>\n",
       "      <td>2403392</td>\n",
       "      <td>2022-12-01</td>\n",
       "      <td>Москва</td>\n",
       "      <td>Сhurchill</td>\n",
       "      <td>Сигары</td>\n",
       "      <td>Сигара Сhurchill T.E.</td>\n",
       "      <td>9702001562</td>\n",
       "      <td>г Москва, пр-кт Ленинградский, д 35 стр 2, пом...</td>\n",
       "      <td>0.0</td>\n",
       "      <td>1</td>\n",
       "    </tr>\n",
       "    <tr>\n",
       "      <th>2403393</th>\n",
       "      <td>2403393</td>\n",
       "      <td>2022-12-01</td>\n",
       "      <td>Москва</td>\n",
       "      <td>Сhurchill</td>\n",
       "      <td>Сигары</td>\n",
       "      <td>Сигара Сhurchill T.E.</td>\n",
       "      <td>775105657999</td>\n",
       "      <td>г Москва, ул Татарская Б., д 13 стр 5</td>\n",
       "      <td>0.0</td>\n",
       "      <td>1</td>\n",
       "    </tr>\n",
       "  </tbody>\n",
       "</table>\n",
       "<p>1036620 rows × 10 columns</p>\n",
       "</div>"
      ],
      "text/plain": [
       "         Unnamed: 0       месяц              регион      бренд тип продукции  \\\n",
       "76064         76064  2023-01-01              Москва     BRUSKO    Бестабачка   \n",
       "76065         76065  2023-01-01  Московская область     BRUSKO    Бестабачка   \n",
       "76066         76066  2023-01-01  Московская область     BRUSKO    Бестабачка   \n",
       "76067         76067  2023-01-01              Москва     BRUSKO    Бестабачка   \n",
       "76068         76068  2023-01-01              Москва     BRUSKO    Бестабачка   \n",
       "...             ...         ...                 ...        ...           ...   \n",
       "2403389     2403389  2022-12-01              Москва     Martin        Сигары   \n",
       "2403390     2403390  2022-12-01              Москва     Martin        Сигары   \n",
       "2403391     2403391  2022-12-01              Москва  Сhurchill        Сигары   \n",
       "2403392     2403392  2022-12-01              Москва  Сhurchill        Сигары   \n",
       "2403393     2403393  2022-12-01              Москва  Сhurchill        Сигары   \n",
       "\n",
       "                                                  название  инн продавца  \\\n",
       "76064    «BRUSKO» со вкусом Абрикоса, крепость Medium, ...    7715441408   \n",
       "76065    «BRUSKO» со вкусом Абрикоса, крепость Medium, ...  500501244837   \n",
       "76066    «BRUSKO» со вкусом Абрикоса, крепость Medium, ...  781139105145   \n",
       "76067    «BRUSKO» со вкусом Ананаса, крепость Medium, М...    7715441408   \n",
       "76068    «BRUSKO» со вкусом Ананаса, крепость Medium, М...  502986919467   \n",
       "...                                                    ...           ...   \n",
       "2403389                                      Сигара Martin    7705669185   \n",
       "2403390                                      Сигара Martin  503202826529   \n",
       "2403391                              Сигара Сhurchill T.E.    7727788059   \n",
       "2403392                              Сигара Сhurchill T.E.    9702001562   \n",
       "2403393                              Сигара Сhurchill T.E.  775105657999   \n",
       "\n",
       "                                            адрес магазина  вес упаковки  \\\n",
       "76064            г Москва, ул Краснобогатырская, д 2 стр 2           0.0   \n",
       "76065    Московская обл, г Воскресенск, ул Зелинского, ...           0.0   \n",
       "76066         Московская обл, г Мытищи, ул Борисовка, д 18           0.0   \n",
       "76067            г Москва, ул Краснобогатырская, д 2 стр 2           0.0   \n",
       "76068                г Москва, проезд Ильменский, д 14 к 6           0.0   \n",
       "...                                                    ...           ...   \n",
       "2403389     г Москва, ул Тверская-Ямская 1-я, д 8, кв 1/IV           0.0   \n",
       "2403390         г Москва, ул Адмирала Макарова, д 6 стр 13           0.0   \n",
       "2403391  г Москва, пр-кт Кутузовский, д 35, помещ IV ко...           0.0   \n",
       "2403392  г Москва, пр-кт Ленинградский, д 35 стр 2, пом...           0.0   \n",
       "2403393              г Москва, ул Татарская Б., д 13 стр 5           0.0   \n",
       "\n",
       "         продажи  \n",
       "76064          1  \n",
       "76065          1  \n",
       "76066          1  \n",
       "76067          5  \n",
       "76068          1  \n",
       "...          ...  \n",
       "2403389        1  \n",
       "2403390        3  \n",
       "2403391        1  \n",
       "2403392        1  \n",
       "2403393        1  \n",
       "\n",
       "[1036620 rows x 10 columns]"
      ]
     },
     "execution_count": 28,
     "metadata": {},
     "output_type": "execute_result"
    }
   ],
   "source": [
    "(df.loc[df['вес упаковки'] == 0])\n",
    "# df.groupby(\n",
    "#     by=['тип продукции','вес упаковки']\n",
    "# ).count()"
   ]
  },
  {
   "cell_type": "code",
   "execution_count": null,
   "metadata": {},
   "outputs": [],
   "source": []
  }
 ],
 "metadata": {
  "kernelspec": {
   "display_name": "analytics",
   "language": "python",
   "name": "python3"
  },
  "language_info": {
   "codemirror_mode": {
    "name": "ipython",
    "version": 3
   },
   "file_extension": ".py",
   "mimetype": "text/x-python",
   "name": "python",
   "nbconvert_exporter": "python",
   "pygments_lexer": "ipython3",
   "version": "3.10.11"
  },
  "orig_nbformat": 4
 },
 "nbformat": 4,
 "nbformat_minor": 2
}
