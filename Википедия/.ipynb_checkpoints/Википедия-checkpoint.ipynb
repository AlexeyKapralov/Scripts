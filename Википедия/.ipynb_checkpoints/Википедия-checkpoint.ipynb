{
 "cells": [
  {
   "attachments": {},
   "cell_type": "markdown",
   "id": "2ec4993f",
   "metadata": {},
   "source": [
    "- Проверить наличие в справочниках адресов, брендов, граммовок, регионов (если нет добавить)\n",
    "- Взять файл\n",
    "- Заменить адреса, субъекты, бренды, вес на корректные\n",
    "- Объединить по месяцу, году, региону, бренду, адресу, сумма по весу\n",
    "- то же по конкурентам\n",
    "- объединить их вместе\n",
    "- выгрузить в файл\n",
    "- убрать адрес Санкт Петербург, Пироговская наб., д.17\n",
    "- сделать сводный"
   ]
  },
  {
   "cell_type": "code",
   "execution_count": 1,
   "id": "1e82652a",
   "metadata": {},
   "outputs": [],
   "source": [
    "import pandas as pd\n",
    "from datetime import datetime\n",
    "import xlrd\n",
    "import numpy as np"
   ]
  },
  {
   "attachments": {},
   "cell_type": "markdown",
   "id": "e1449c83",
   "metadata": {},
   "source": [
    "### импорт нужных таблиц"
   ]
  },
  {
   "cell_type": "code",
   "execution_count": 2,
   "id": "e20918dc",
   "metadata": {},
   "outputs": [],
   "source": [
    "path = 'D:\\\\Analysis Burn'"
   ]
  },
  {
   "cell_type": "code",
   "execution_count": 3,
   "id": "15376415",
   "metadata": {},
   "outputs": [],
   "source": [
    "# a = dsmh['инн'].unique()"
   ]
  },
  {
   "cell_type": "code",
   "execution_count": 4,
   "id": "93986aba",
   "metadata": {},
   "outputs": [],
   "source": [
    "# a = pd.Series(a)"
   ]
  },
  {
   "cell_type": "code",
   "execution_count": 5,
   "id": "41e10f8b",
   "metadata": {},
   "outputs": [],
   "source": [
    "# a.to_excel(r\"C:\\Users\\User\\Desktop\\INN.xlsx\")"
   ]
  },
  {
   "cell_type": "code",
   "execution_count": 6,
   "id": "0f6b7aff",
   "metadata": {},
   "outputs": [],
   "source": [
    "burn = pd.read_csv(path + '\\\\Википедия\\\\БЁРН исходники\\\\burn_tobacco.csv')\n",
    "dsmh = pd.read_csv(path + '\\\\Википедия\\\\СВМХ исходники\\\\dsmh.csv')"
   ]
  },
  {
   "cell_type": "code",
   "execution_count": 10,
   "id": "3caab594",
   "metadata": {},
   "outputs": [],
   "source": [
    "addresses = pd.read_excel(path + '\\\\Википедия\\\\Справочники\\\\addresses.xlsx')"
   ]
  },
  {
   "cell_type": "code",
   "execution_count": 11,
   "id": "4240a597",
   "metadata": {},
   "outputs": [],
   "source": [
    "regions = pd.read_excel(path + '\\\\Википедия\\\\Справочники\\\\regions.xlsx')"
   ]
  },
  {
   "cell_type": "code",
   "execution_count": 12,
   "id": "6edafa1a",
   "metadata": {},
   "outputs": [],
   "source": [
    "brands = pd.read_excel(path + '\\\\Википедия\\\\Справочники\\\\brands.xlsx')"
   ]
  },
  {
   "cell_type": "code",
   "execution_count": 13,
   "id": "4e0079ab",
   "metadata": {},
   "outputs": [],
   "source": [
    "weight = pd.read_excel(path + '\\\\Википедия\\\\Справочники\\\\weight.xlsx')"
   ]
  },
  {
   "attachments": {},
   "cell_type": "markdown",
   "id": "88468d2c",
   "metadata": {},
   "source": [
    "# Получение отсутствующих значений в справочниках"
   ]
  },
  {
   "cell_type": "code",
   "execution_count": 18,
   "id": "66401e3c",
   "metadata": {},
   "outputs": [],
   "source": [
    "addresses_bad = pd.concat([dsmh['адрес'], burn['Адрес']] )"
   ]
  },
  {
   "cell_type": "code",
   "execution_count": 19,
   "id": "e4e9468a",
   "metadata": {},
   "outputs": [],
   "source": [
    "addresses_bad = addresses_bad.drop_duplicates()"
   ]
  },
  {
   "cell_type": "code",
   "execution_count": 20,
   "id": "7e9c1f26",
   "metadata": {},
   "outputs": [],
   "source": [
    "addresses_bad = pd.DataFrame(addresses_bad)"
   ]
  },
  {
   "cell_type": "code",
   "execution_count": 24,
   "id": "249043ca",
   "metadata": {},
   "outputs": [],
   "source": [
    "addresses_bad =addresses_bad.rename(columns={0:'Адрес'})"
   ]
  },
  {
   "cell_type": "code",
   "execution_count": 25,
   "id": "0e8fd6b5",
   "metadata": {},
   "outputs": [],
   "source": [
    "merged = pd.merge(addresses, addresses_bad, left_on='Исходный адрес', right_on = 'Адрес', how='outer', indicator=True)"
   ]
  },
  {
   "cell_type": "code",
   "execution_count": 26,
   "id": "b728c3ef",
   "metadata": {},
   "outputs": [],
   "source": [
    "missing_values = merged.loc[merged['_merge'] == 'right_only', 'Адрес_y']"
   ]
  },
  {
   "cell_type": "code",
   "execution_count": 27,
   "id": "f1c08238",
   "metadata": {},
   "outputs": [
    {
     "data": {
      "text/plain": [
       "59979                                                  NaN\n",
       "59980    Ростовская обл, г Каменск-Шахтинский, пр-кт Ка...\n",
       "59981                  г Москва, ш Варшавское, д 132 стр 2\n",
       "59982           Приморский край, г Артем, ул Есенина, д 7А\n",
       "59983           г Севастополь, с Терновка, ул Ленина, д 1А\n",
       "                               ...                        \n",
       "61432    Ленинградская обл, Всеволожский р-н, д Новое Д...\n",
       "61433              г Москва, пр-кт Ленинградский, д 77 к 1\n",
       "61434    Ленинградская обл, г Кингисепп, пр-кт Карла Ма...\n",
       "61435    г Санкт-Петербург, ул Политехническая, д 17 к ...\n",
       "61436                   г Москва, ул Производственная, д 2\n",
       "Name: Адрес_y, Length: 1458, dtype: object"
      ]
     },
     "execution_count": 27,
     "metadata": {},
     "output_type": "execute_result"
    }
   ],
   "source": [
    "missing_values"
   ]
  },
  {
   "cell_type": "code",
   "execution_count": 28,
   "id": "3fb72575",
   "metadata": {},
   "outputs": [],
   "source": [
    "missing_values.to_excel(r'C:\\Users\\User\\Desktop\\missing_addresses.xlsx', index=False)"
   ]
  },
  {
   "cell_type": "code",
   "execution_count": null,
   "id": "8f3d76fc",
   "metadata": {},
   "outputs": [],
   "source": []
  },
  {
   "cell_type": "code",
   "execution_count": 161,
   "id": "20265df8",
   "metadata": {},
   "outputs": [],
   "source": [
    "regions_bad = pd.concat([dsmh['рег'], burn['Субъект РФ']] )"
   ]
  },
  {
   "cell_type": "code",
   "execution_count": 162,
   "id": "4a7f12bf",
   "metadata": {},
   "outputs": [],
   "source": [
    "regions_bad = regions_bad.drop_duplicates()"
   ]
  },
  {
   "cell_type": "code",
   "execution_count": 163,
   "id": "a4f9f8e1",
   "metadata": {},
   "outputs": [],
   "source": [
    "regions_bad = pd.DataFrame(regions_bad)"
   ]
  },
  {
   "cell_type": "code",
   "execution_count": 164,
   "id": "f00f053a",
   "metadata": {},
   "outputs": [],
   "source": [
    "regions_bad =regions_bad.rename(columns={0:'Регион'})"
   ]
  },
  {
   "cell_type": "code",
   "execution_count": 165,
   "id": "1a2eeca9",
   "metadata": {},
   "outputs": [],
   "source": [
    "merged2 = pd.merge(regions, regions_bad, left_on='Субъект РФ исходный', right_on = 'Регион', how='outer', indicator=True)"
   ]
  },
  {
   "cell_type": "code",
   "execution_count": 166,
   "id": "ff2b3865",
   "metadata": {},
   "outputs": [],
   "source": [
    "missing_values2 = merged2.loc[merged2['_merge'] == 'right_only', 'Регион']"
   ]
  },
  {
   "cell_type": "code",
   "execution_count": 167,
   "id": "72217116",
   "metadata": {},
   "outputs": [],
   "source": [
    "missing_values2.to_excel(r'C:\\Users\\User\\Desktop\\Временно для википедии\\missing_regions.xlsx')"
   ]
  },
  {
   "cell_type": "code",
   "execution_count": null,
   "id": "43e61bcd",
   "metadata": {},
   "outputs": [],
   "source": []
  },
  {
   "cell_type": "code",
   "execution_count": 151,
   "id": "b9bc54d6",
   "metadata": {},
   "outputs": [],
   "source": [
    "brands_bad = pd.concat([dsmh['бренд'], burn['Наименование товара']] )"
   ]
  },
  {
   "cell_type": "code",
   "execution_count": 152,
   "id": "c2f7ecc8",
   "metadata": {},
   "outputs": [],
   "source": [
    "brands_bad = brands_bad.drop_duplicates()"
   ]
  },
  {
   "cell_type": "code",
   "execution_count": 153,
   "id": "dc030ea2",
   "metadata": {},
   "outputs": [],
   "source": [
    "brands_bad = pd.DataFrame(brands_bad)"
   ]
  },
  {
   "cell_type": "code",
   "execution_count": 154,
   "id": "9765863b",
   "metadata": {},
   "outputs": [],
   "source": [
    "brands_bad = brands_bad.rename(columns={0:'Бренд'})"
   ]
  },
  {
   "cell_type": "code",
   "execution_count": 155,
   "id": "0d6de42c",
   "metadata": {},
   "outputs": [],
   "source": [
    "merged3 = pd.merge(brands, brands_bad, left_on='Бренд (исходный)', right_on = 'Бренд', how='outer', indicator=True)"
   ]
  },
  {
   "cell_type": "code",
   "execution_count": 158,
   "id": "c4e38ea8",
   "metadata": {},
   "outputs": [],
   "source": [
    "missing_values3 = merged3.loc[merged3['_merge'] == 'right_only', 'Бренд_y']"
   ]
  },
  {
   "cell_type": "code",
   "execution_count": 159,
   "id": "7d57323f",
   "metadata": {},
   "outputs": [],
   "source": [
    "missing_values3.to_excel(r'C:\\Users\\User\\Desktop\\Временно для википедии\\missing_brands.xlsx')"
   ]
  },
  {
   "cell_type": "code",
   "execution_count": null,
   "id": "f650212c",
   "metadata": {},
   "outputs": [],
   "source": []
  },
  {
   "cell_type": "code",
   "execution_count": null,
   "id": "856c8aaa",
   "metadata": {},
   "outputs": [],
   "source": []
  },
  {
   "cell_type": "code",
   "execution_count": 114,
   "id": "c6761db7",
   "metadata": {},
   "outputs": [],
   "source": [
    "weight_bad = pd.concat([dsmh['вес'], burn['Наименование товара']] )"
   ]
  },
  {
   "cell_type": "code",
   "execution_count": 115,
   "id": "701f6514",
   "metadata": {},
   "outputs": [],
   "source": [
    "weight_bad = weight_bad.drop_duplicates()"
   ]
  },
  {
   "cell_type": "code",
   "execution_count": 116,
   "id": "b775467c",
   "metadata": {},
   "outputs": [],
   "source": [
    "weight_bad = pd.DataFrame(weight_bad)"
   ]
  },
  {
   "cell_type": "code",
   "execution_count": 120,
   "id": "44f82bb9",
   "metadata": {},
   "outputs": [],
   "source": [
    "weight_bad = weight_bad.rename(columns={'Граммова':'Граммовка'})"
   ]
  },
  {
   "cell_type": "code",
   "execution_count": 122,
   "id": "6f10db7d",
   "metadata": {},
   "outputs": [],
   "source": [
    "merged4 = pd.merge(weight, weight_bad, left_on='Исходная граммовка', right_on = 'Граммовка', how='outer', indicator=True)"
   ]
  },
  {
   "cell_type": "code",
   "execution_count": 123,
   "id": "6776a19d",
   "metadata": {},
   "outputs": [],
   "source": [
    "missing_values4 = merged4.loc[merged4['_merge'] == 'right_only', 'Граммовка_y']"
   ]
  },
  {
   "cell_type": "code",
   "execution_count": 124,
   "id": "8dc8ab99",
   "metadata": {},
   "outputs": [],
   "source": [
    "missing_values4.to_excel(r'C:\\Users\\User\\Desktop\\Временно для википедии\\missing_weight.xlsx')"
   ]
  },
  {
   "attachments": {},
   "cell_type": "markdown",
   "id": "6ee11cc6",
   "metadata": {},
   "source": [
    "# РАБОТА С ФАЙЛОМ BURN"
   ]
  },
  {
   "attachments": {},
   "cell_type": "markdown",
   "id": "0ec10a5d",
   "metadata": {},
   "source": [
    "### адреса из справочника"
   ]
  },
  {
   "cell_type": "code",
   "execution_count": 171,
   "id": "b8d89b49",
   "metadata": {},
   "outputs": [],
   "source": [
    "need_addresses = addresses[['Исходный адрес', 'Адрес']]"
   ]
  },
  {
   "cell_type": "code",
   "execution_count": 172,
   "id": "8a2b1049",
   "metadata": {},
   "outputs": [],
   "source": [
    "burn_good_address = burn.merge(need_addresses, how=\"left\", left_on='Адрес', right_on='Исходный адрес')"
   ]
  },
  {
   "cell_type": "code",
   "execution_count": 173,
   "id": "c9b1011d",
   "metadata": {},
   "outputs": [],
   "source": [
    "burn_good_address = burn_good_address.drop(columns=['Исходный адрес', 'Адрес_x'])"
   ]
  },
  {
   "cell_type": "code",
   "execution_count": 174,
   "id": "3f51e565",
   "metadata": {},
   "outputs": [],
   "source": [
    "burn_good_address = burn_good_address.rename(columns={\"Адрес_y\": \"Адрес\"})"
   ]
  },
  {
   "attachments": {},
   "cell_type": "markdown",
   "id": "d09d5001",
   "metadata": {},
   "source": [
    "### регионы(субъекты) из справочника"
   ]
  },
  {
   "cell_type": "code",
   "execution_count": 175,
   "id": "82e9db27",
   "metadata": {},
   "outputs": [],
   "source": [
    "burn_good_address = burn_good_address.merge(\n",
    "    regions, how=\"left\", left_on=\"Субъект РФ\", right_on=\"Субъект РФ исходный\", suffixes=('_left', '_right')\n",
    ")"
   ]
  },
  {
   "cell_type": "code",
   "execution_count": 176,
   "id": "4b61ee61",
   "metadata": {},
   "outputs": [],
   "source": [
    "burn_good_address = burn_good_address.drop(columns=['Субъект РФ исходный', 'Субъект РФ_left'])"
   ]
  },
  {
   "cell_type": "code",
   "execution_count": 177,
   "id": "ac240cc9",
   "metadata": {},
   "outputs": [],
   "source": [
    "burn_good_address = burn_good_address.rename(columns={\"Субъект РФ_right\": \"Субъект РФ\"})"
   ]
  },
  {
   "attachments": {},
   "cell_type": "markdown",
   "id": "7d78ee08",
   "metadata": {},
   "source": [
    "### изменить тип на дату и вычленить дату"
   ]
  },
  {
   "cell_type": "code",
   "execution_count": 178,
   "id": "d9887c82",
   "metadata": {},
   "outputs": [],
   "source": [
    "burn_good_address['Дата операции'] = burn_good_address['Дата операции'].apply(\n",
    "    lambda x: datetime.strptime(x, '%Y-%m-%d')\n",
    ")"
   ]
  },
  {
   "cell_type": "code",
   "execution_count": 179,
   "id": "6cf61089",
   "metadata": {},
   "outputs": [],
   "source": [
    "burn_good_address['Месяц'] = burn_good_address['Дата операции'].dt.month"
   ]
  },
  {
   "cell_type": "code",
   "execution_count": 180,
   "id": "013be3bb",
   "metadata": {},
   "outputs": [],
   "source": [
    "burn_good_address['Год'] = burn_good_address['Дата операции'].dt.year"
   ]
  },
  {
   "attachments": {},
   "cell_type": "markdown",
   "id": "b3eeb005",
   "metadata": {},
   "source": [
    "### заменить бренды из справочника"
   ]
  },
  {
   "cell_type": "code",
   "execution_count": 181,
   "id": "ac5cdef1",
   "metadata": {},
   "outputs": [],
   "source": [
    "burn_good_address = burn_good_address.merge(\n",
    "    brands, how=\"left\", left_on=\"Наименование товара\", right_on=\"Бренд (исходный)\", suffixes=('_left', '_right')\n",
    ")"
   ]
  },
  {
   "cell_type": "code",
   "execution_count": 182,
   "id": "06f70355",
   "metadata": {},
   "outputs": [],
   "source": [
    "burn_good_address = burn_good_address.drop(columns=['Бренд (исходный)'])"
   ]
  },
  {
   "attachments": {},
   "cell_type": "markdown",
   "id": "5f405c72",
   "metadata": {},
   "source": [
    "### заменить граммовку"
   ]
  },
  {
   "cell_type": "code",
   "execution_count": 183,
   "id": "fe438446",
   "metadata": {},
   "outputs": [],
   "source": [
    "burn_good_address = burn_good_address.merge(\n",
    "    weight, how=\"left\", left_on=\"Наименование товара\", right_on=\"Исходная граммовка\", suffixes=('_left', '_right')\n",
    ")"
   ]
  },
  {
   "cell_type": "code",
   "execution_count": 184,
   "id": "07fb80d0",
   "metadata": {},
   "outputs": [],
   "source": [
    "burn_good_address = burn_good_address.drop(columns=['Исходная граммовка'])"
   ]
  },
  {
   "attachments": {},
   "cell_type": "markdown",
   "id": "2f2cd104",
   "metadata": {},
   "source": [
    "### Добавление колонки вес"
   ]
  },
  {
   "cell_type": "code",
   "execution_count": 185,
   "id": "fe008d46",
   "metadata": {},
   "outputs": [],
   "source": [
    "burn_good_address['Вес'] = (burn_good_address['Граммовка']/1000)* burn_good_address['Объем товара (пачек)']"
   ]
  },
  {
   "cell_type": "code",
   "execution_count": 186,
   "id": "d66ee518",
   "metadata": {},
   "outputs": [],
   "source": [
    "burn_good_address['Адрес'] = burn_good_address['Адрес'].fillna('не указан')"
   ]
  },
  {
   "attachments": {},
   "cell_type": "markdown",
   "id": "0e286df8",
   "metadata": {},
   "source": [
    "### Группировка"
   ]
  },
  {
   "cell_type": "code",
   "execution_count": 187,
   "id": "dd241851",
   "metadata": {
    "scrolled": true
   },
   "outputs": [],
   "source": [
    "burn_good = burn_good_address.groupby(['Год', 'Месяц', 'Субъект РФ', 'Бренд', 'Адрес'])['Вес'].sum().reset_index()"
   ]
  },
  {
   "attachments": {},
   "cell_type": "markdown",
   "id": "cc42722b",
   "metadata": {},
   "source": [
    "# РАБОТА С ФАЙЛОМ MHDS"
   ]
  },
  {
   "cell_type": "code",
   "execution_count": 188,
   "id": "92619024",
   "metadata": {},
   "outputs": [],
   "source": [
    "dsmh_copy = dsmh.copy(deep = True)"
   ]
  },
  {
   "attachments": {},
   "cell_type": "markdown",
   "id": "44fc108f",
   "metadata": {},
   "source": [
    "### Выделить месяц и год"
   ]
  },
  {
   "cell_type": "code",
   "execution_count": 189,
   "id": "57eb4b9f",
   "metadata": {},
   "outputs": [],
   "source": [
    "dsmh_copy['Дата операции'] = dsmh_copy['мес'].apply(\n",
    "    lambda x: datetime.strptime(x, '%Y-%m-%d')\n",
    ")"
   ]
  },
  {
   "cell_type": "code",
   "execution_count": 190,
   "id": "09a34eba",
   "metadata": {},
   "outputs": [],
   "source": [
    "dsmh_copy['Месяц'] = dsmh_copy['Дата операции'].dt.month"
   ]
  },
  {
   "cell_type": "code",
   "execution_count": 191,
   "id": "f678bc0e",
   "metadata": {},
   "outputs": [],
   "source": [
    "dsmh_copy['Год'] = dsmh_copy['Дата операции'].dt.year"
   ]
  },
  {
   "attachments": {},
   "cell_type": "markdown",
   "id": "2f7187eb",
   "metadata": {},
   "source": [
    "### регион из справочника"
   ]
  },
  {
   "cell_type": "code",
   "execution_count": 192,
   "id": "4442be76",
   "metadata": {},
   "outputs": [],
   "source": [
    "dsmh_copy = dsmh_copy.merge(\n",
    "    regions, how=\"left\", left_on=\"рег\", right_on=\"Субъект РФ исходный\", suffixes=('_left', '_right')\n",
    ")"
   ]
  },
  {
   "cell_type": "code",
   "execution_count": 193,
   "id": "e5973c20",
   "metadata": {},
   "outputs": [],
   "source": [
    "dsmh_copy = dsmh_copy.drop(columns=['Субъект РФ исходный', 'рег'])"
   ]
  },
  {
   "attachments": {},
   "cell_type": "markdown",
   "id": "f1b235ef",
   "metadata": {},
   "source": [
    "### адрес из справочника"
   ]
  },
  {
   "cell_type": "code",
   "execution_count": 194,
   "id": "936099fc",
   "metadata": {},
   "outputs": [],
   "source": [
    "need_addresses = addresses[['Исходный адрес', 'Адрес']]"
   ]
  },
  {
   "cell_type": "code",
   "execution_count": 195,
   "id": "2bc308de",
   "metadata": {},
   "outputs": [],
   "source": [
    "dsmh_good_address = dsmh_copy.merge(need_addresses, how=\"left\", left_on='адрес', right_on='Исходный адрес')"
   ]
  },
  {
   "cell_type": "code",
   "execution_count": 196,
   "id": "aa94a95d",
   "metadata": {},
   "outputs": [],
   "source": [
    "dsmh_good_address = dsmh_good_address.drop(columns=['Исходный адрес', 'адрес'])"
   ]
  },
  {
   "attachments": {},
   "cell_type": "markdown",
   "id": "8bfef879",
   "metadata": {},
   "source": [
    "### вес из кол-во и граммовки (у них вес называется)"
   ]
  },
  {
   "cell_type": "code",
   "execution_count": 197,
   "id": "02d4851e",
   "metadata": {},
   "outputs": [],
   "source": [
    "dsmh_good_address['Новый вес'] = (dsmh_good_address['вес']/1000) * dsmh_good_address['колво']"
   ]
  },
  {
   "cell_type": "code",
   "execution_count": 198,
   "id": "cfd1f355",
   "metadata": {},
   "outputs": [
    {
     "data": {
      "text/html": [
       "<div>\n",
       "<style scoped>\n",
       "    .dataframe tbody tr th:only-of-type {\n",
       "        vertical-align: middle;\n",
       "    }\n",
       "\n",
       "    .dataframe tbody tr th {\n",
       "        vertical-align: top;\n",
       "    }\n",
       "\n",
       "    .dataframe thead th {\n",
       "        text-align: right;\n",
       "    }\n",
       "</style>\n",
       "<table border=\"1\" class=\"dataframe\">\n",
       "  <thead>\n",
       "    <tr style=\"text-align: right;\">\n",
       "      <th></th>\n",
       "      <th>мес</th>\n",
       "      <th>бренд</th>\n",
       "      <th>продукт</th>\n",
       "      <th>инн</th>\n",
       "      <th>вес</th>\n",
       "      <th>колво</th>\n",
       "      <th>Дата операции</th>\n",
       "      <th>Месяц</th>\n",
       "      <th>Год</th>\n",
       "      <th>Субъект РФ</th>\n",
       "      <th>Адрес</th>\n",
       "      <th>Новый вес</th>\n",
       "    </tr>\n",
       "  </thead>\n",
       "  <tbody>\n",
       "    <tr>\n",
       "      <th>0</th>\n",
       "      <td>2022-08-01</td>\n",
       "      <td>DARKSIDE</td>\n",
       "      <td>Дарксайд Кор (Блюберрибласт), 100 г</td>\n",
       "      <td>NaN</td>\n",
       "      <td>100</td>\n",
       "      <td>2</td>\n",
       "      <td>2022-08-01</td>\n",
       "      <td>8</td>\n",
       "      <td>2022</td>\n",
       "      <td>Москва</td>\n",
       "      <td>г Москва, б-р Осенний, д 10 к 1</td>\n",
       "      <td>0.20</td>\n",
       "    </tr>\n",
       "    <tr>\n",
       "      <th>1</th>\n",
       "      <td>2022-08-01</td>\n",
       "      <td>MUST HAVE</td>\n",
       "      <td>Must Have Undercoal Strawberry-Lychee с аромат...</td>\n",
       "      <td>NaN</td>\n",
       "      <td>25</td>\n",
       "      <td>2</td>\n",
       "      <td>2022-08-01</td>\n",
       "      <td>8</td>\n",
       "      <td>2022</td>\n",
       "      <td>Свердловская область</td>\n",
       "      <td>г Екатеринбург, пр-кт Космонавтов, д 27</td>\n",
       "      <td>0.05</td>\n",
       "    </tr>\n",
       "  </tbody>\n",
       "</table>\n",
       "</div>"
      ],
      "text/plain": [
       "          мес      бренд                                            продукт  \\\n",
       "0  2022-08-01   DARKSIDE                Дарксайд Кор (Блюберрибласт), 100 г   \n",
       "1  2022-08-01  MUST HAVE  Must Have Undercoal Strawberry-Lychee с аромат...   \n",
       "\n",
       "   инн  вес  колво Дата операции  Месяц   Год            Субъект РФ  \\\n",
       "0  NaN  100      2    2022-08-01      8  2022                Москва   \n",
       "1  NaN   25      2    2022-08-01      8  2022  Свердловская область   \n",
       "\n",
       "                                     Адрес  Новый вес  \n",
       "0          г Москва, б-р Осенний, д 10 к 1       0.20  \n",
       "1  г Екатеринбург, пр-кт Космонавтов, д 27       0.05  "
      ]
     },
     "execution_count": 198,
     "metadata": {},
     "output_type": "execute_result"
    }
   ],
   "source": [
    "dsmh_good_address.head(2)"
   ]
  },
  {
   "cell_type": "code",
   "execution_count": 199,
   "id": "b4683519",
   "metadata": {},
   "outputs": [],
   "source": [
    "dsmh_good_address = dsmh_good_address.drop(columns=['вес', 'колво'])"
   ]
  },
  {
   "cell_type": "code",
   "execution_count": 200,
   "id": "538c3b4a",
   "metadata": {},
   "outputs": [],
   "source": [
    "dsmh_good_address = dsmh_good_address.rename(columns = {'Новый вес': 'Вес'})"
   ]
  },
  {
   "attachments": {},
   "cell_type": "markdown",
   "id": "b9b12d3b",
   "metadata": {},
   "source": [
    "### бренд из справочника (менять не надо)"
   ]
  },
  {
   "cell_type": "code",
   "execution_count": 201,
   "id": "b39a64ae",
   "metadata": {},
   "outputs": [],
   "source": [
    "dsmh_good_address = dsmh_good_address.rename(columns={'бренд':'Бренд'})"
   ]
  },
  {
   "attachments": {},
   "cell_type": "markdown",
   "id": "0bc713dd",
   "metadata": {},
   "source": [
    "### Группировка"
   ]
  },
  {
   "cell_type": "code",
   "execution_count": 202,
   "id": "c7eaea6c",
   "metadata": {
    "scrolled": true
   },
   "outputs": [],
   "source": [
    "dsmh_good_address = dsmh_good_address.groupby(['Год', 'Месяц', 'Субъект РФ', 'Бренд', 'Адрес'])['Вес'].sum().reset_index()"
   ]
  },
  {
   "cell_type": "code",
   "execution_count": 203,
   "id": "22635a47",
   "metadata": {},
   "outputs": [],
   "source": [
    "BBDSMH = pd.concat([dsmh_good_address, burn_good], ignore_index=True)"
   ]
  },
  {
   "attachments": {},
   "cell_type": "markdown",
   "id": "cd69caff",
   "metadata": {},
   "source": [
    "### Добавить показатель адреса К&Б"
   ]
  },
  {
   "cell_type": "code",
   "execution_count": 43,
   "id": "bab756ac",
   "metadata": {},
   "outputs": [],
   "source": [
    "kb = pd.read_excel(r\"D:\\Analysis Burn\\Википедия\\Справочники\\addresses.xlsx\")\n",
    "kb = kb.loc[kb['кб'] == \"да\"]"
   ]
  },
  {
   "cell_type": "code",
   "execution_count": 44,
   "id": "6d46c280",
   "metadata": {},
   "outputs": [],
   "source": [
    "BBDSMH = BBDSMH.merge(\n",
    "    right=kb['Адрес только до дома'],\n",
    "    how=\"left\",\n",
    "    left_on='Адрес',\n",
    "    right_on='Адрес только до дома',\n",
    "    indicator=True\n",
    ")"
   ]
  },
  {
   "cell_type": "code",
   "execution_count": 45,
   "id": "95b5d4f5",
   "metadata": {},
   "outputs": [],
   "source": [
    "conditions = [\n",
    "    (BBDSMH['_merge'] == 'left_only'),\n",
    "    (BBDSMH['_merge'] == 'both')\n",
    "]\n",
    "\n",
    "values = ['нет', 'да']\n",
    "\n",
    "BBDSMH['кб'] = np.select(conditions, values)"
   ]
  },
  {
   "cell_type": "code",
   "execution_count": null,
   "id": "565eb045",
   "metadata": {},
   "outputs": [],
   "source": [
    "BBDSMH = BBDSMH[['Год', 'Месяц', 'Субъект РФ', 'Бренд', 'Адрес', 'Вес', 'Цена', 'Кб']]"
   ]
  },
  {
   "cell_type": "code",
   "execution_count": 205,
   "id": "08390d64",
   "metadata": {},
   "outputs": [],
   "source": [
    "BBDSMH.to_excel(r'D:\\Analysys Burn\\Википедия\\Wikipedia2.xlsx', index=False)"
   ]
  }
 ],
 "metadata": {
  "kernelspec": {
   "display_name": "Python 3 (ipykernel)",
   "language": "python",
   "name": "python3"
  },
  "language_info": {
   "codemirror_mode": {
    "name": "ipython",
    "version": 3
   },
   "file_extension": ".py",
   "mimetype": "text/x-python",
   "name": "python",
   "nbconvert_exporter": "python",
   "pygments_lexer": "ipython3",
   "version": "3.10.11"
  }
 },
 "nbformat": 4,
 "nbformat_minor": 5
}
