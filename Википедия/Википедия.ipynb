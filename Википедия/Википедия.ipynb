{
 "cells": [
  {
   "attachments": {},
   "cell_type": "markdown",
   "id": "2ec4993f",
   "metadata": {},
   "source": [
    "- Проверить наличие в справочниках адресов, брендов, граммовок, регионов (если нет добавить)\n",
    "- Взять файл\n",
    "- Заменить адреса, субъекты, бренды, вес на корректные\n",
    "- Объединить по месяцу, году, региону, бренду, адресу, сумма по весу\n",
    "- то же по конкурентам\n",
    "- объединить их вместе\n",
    "- выгрузить в файл\n",
    "- убрать адрес Санкт Петербург, Пироговская наб., д.17\n",
    "- сделать сводный"
   ]
  },
  {
   "cell_type": "code",
   "execution_count": 193,
   "id": "1e82652a",
   "metadata": {},
   "outputs": [],
   "source": [
    "import pandas as pd\n",
    "\n",
    "from datetime import datetime\n",
    "\n",
    "import xlrd"
   ]
  },
  {
   "attachments": {},
   "cell_type": "markdown",
   "id": "e1449c83",
   "metadata": {},
   "source": [
    "### импорт нужных таблиц"
   ]
  },
  {
   "cell_type": "code",
   "execution_count": 194,
   "id": "e20918dc",
   "metadata": {},
   "outputs": [],
   "source": [
    "path = 'D:\\\\Analysis Burn'"
   ]
  },
  {
   "cell_type": "code",
   "execution_count": 195,
   "id": "0f6b7aff",
   "metadata": {},
   "outputs": [],
   "source": [
    "burn = pd.read_csv(path + '\\\\Википедия\\\\БЁРН исходники\\\\burn_tobacco.csv')\n",
    "dsmh = pd.read_csv(path + '\\\\Википедия\\\\СВМХ исходники\\\\dsmh.csv')"
   ]
  },
  {
   "cell_type": "code",
   "execution_count": 196,
   "id": "3caab594",
   "metadata": {},
   "outputs": [],
   "source": [
    "addresses = pd.read_excel(path + '\\\\Википедия\\\\Справочники\\\\addresses.xlsx')"
   ]
  },
  {
   "cell_type": "code",
   "execution_count": 197,
   "id": "4240a597",
   "metadata": {},
   "outputs": [],
   "source": [
    "regions = pd.read_excel(path + '\\\\Википедия\\\\Справочники\\\\regions.xlsx')"
   ]
  },
  {
   "cell_type": "code",
   "execution_count": 198,
   "id": "6edafa1a",
   "metadata": {},
   "outputs": [],
   "source": [
    "brands = pd.read_excel(path + '\\\\Википедия\\\\Справочники\\\\brands.xlsx')"
   ]
  },
  {
   "cell_type": "code",
   "execution_count": 199,
   "id": "4e0079ab",
   "metadata": {},
   "outputs": [],
   "source": [
    "weight = pd.read_excel(path + '\\\\Википедия\\\\Справочники\\\\weight.xlsx')"
   ]
  },
  {
   "cell_type": "code",
   "execution_count": 200,
   "id": "28d86b41",
   "metadata": {},
   "outputs": [],
   "source": [
    "burn_products_price = pd.read_excel(r\"D:\\Analysis Burn\\Википедия\\Справочники\\burn_products_price.xlsx\")"
   ]
  },
  {
   "cell_type": "code",
   "execution_count": 201,
   "id": "36ffa129",
   "metadata": {},
   "outputs": [],
   "source": [
    "dsmh_products_price = pd.read_excel(r\"D:\\Analysis Burn\\Википедия\\Справочники\\dsmh_products_price.xlsx\")"
   ]
  },
  {
   "attachments": {},
   "cell_type": "markdown",
   "id": "88468d2c",
   "metadata": {},
   "source": [
    "# Получение отсутствующих значений в справочниках"
   ]
  },
  {
   "cell_type": "code",
   "execution_count": null,
   "id": "b06af867",
   "metadata": {},
   "outputs": [],
   "source": []
  },
  {
   "cell_type": "code",
   "execution_count": null,
   "id": "d083bc54",
   "metadata": {},
   "outputs": [],
   "source": []
  },
  {
   "cell_type": "code",
   "execution_count": 202,
   "id": "66401e3c",
   "metadata": {},
   "outputs": [],
   "source": [
    "addresses_bad = pd.concat([dsmh['адрес'], burn['Адрес']] )"
   ]
  },
  {
   "cell_type": "code",
   "execution_count": 203,
   "id": "e4e9468a",
   "metadata": {},
   "outputs": [],
   "source": [
    "addresses_bad = addresses_bad.drop_duplicates()\n",
    "addresses_bad = addresses_bad.dropna()"
   ]
  },
  {
   "cell_type": "code",
   "execution_count": 204,
   "id": "7e9c1f26",
   "metadata": {},
   "outputs": [],
   "source": [
    "addresses_bad = pd.DataFrame(addresses_bad)"
   ]
  },
  {
   "cell_type": "code",
   "execution_count": 205,
   "id": "249043ca",
   "metadata": {},
   "outputs": [],
   "source": [
    "addresses_bad = addresses_bad.rename(columns={0:'Адрес'})"
   ]
  },
  {
   "cell_type": "code",
   "execution_count": 206,
   "id": "8c49ded8",
   "metadata": {},
   "outputs": [],
   "source": [
    "merged = pd.merge(addresses, addresses_bad, left_on='Исходный адрес', right_on = 'Адрес', how='outer', indicator=True)"
   ]
  },
  {
   "cell_type": "code",
   "execution_count": 207,
   "id": "07e8f82d",
   "metadata": {},
   "outputs": [],
   "source": [
    "missing_values = merged.loc[ merged['_merge'] == 'right_only' ]"
   ]
  },
  {
   "cell_type": "code",
   "execution_count": 208,
   "id": "3fb72575",
   "metadata": {},
   "outputs": [
    {
     "name": "stdout",
     "output_type": "stream",
     "text": [
      "Он пустой\n"
     ]
    }
   ],
   "source": [
    "if missing_values.empty == False:\n",
    "    missing_values.to_excel(r'C:\\Users\\User\\Desktop\\missing_addresses.xlsx', index=False)\n",
    "else:\n",
    "    print(\"Он пустой\")"
   ]
  },
  {
   "cell_type": "code",
   "execution_count": null,
   "id": "8f3d76fc",
   "metadata": {},
   "outputs": [],
   "source": []
  },
  {
   "cell_type": "code",
   "execution_count": 209,
   "id": "20265df8",
   "metadata": {},
   "outputs": [],
   "source": [
    "regions_bad = pd.concat([dsmh['рег'], burn['Субъект РФ']] )"
   ]
  },
  {
   "cell_type": "code",
   "execution_count": 210,
   "id": "4a7f12bf",
   "metadata": {},
   "outputs": [],
   "source": [
    "regions_bad = regions_bad.drop_duplicates()\n",
    "regions_bad = regions_bad.dropna()"
   ]
  },
  {
   "cell_type": "code",
   "execution_count": 211,
   "id": "a4f9f8e1",
   "metadata": {},
   "outputs": [],
   "source": [
    "regions_bad = pd.DataFrame(regions_bad)"
   ]
  },
  {
   "cell_type": "code",
   "execution_count": 212,
   "id": "f00f053a",
   "metadata": {},
   "outputs": [],
   "source": [
    "regions_bad =regions_bad.rename(columns={0:'Регион'})"
   ]
  },
  {
   "cell_type": "code",
   "execution_count": 213,
   "id": "1a2eeca9",
   "metadata": {},
   "outputs": [],
   "source": [
    "merged2 = pd.merge(regions, regions_bad, left_on='Субъект РФ исходный', right_on = 'Регион', how='outer', indicator=True)"
   ]
  },
  {
   "cell_type": "code",
   "execution_count": 214,
   "id": "ff2b3865",
   "metadata": {},
   "outputs": [],
   "source": [
    "missing_values2 = merged2.loc[merged2['_merge'] == 'right_only', 'Регион']"
   ]
  },
  {
   "cell_type": "code",
   "execution_count": 215,
   "id": "72217116",
   "metadata": {},
   "outputs": [],
   "source": [
    "if missing_values2.empty == False:\n",
    "    missing_values2.to_excel(r'C:\\Users\\User\\Desktop\\missing_regions.xlsx')\n",
    "else:\n",
    "    print(\"Он пустой\")"
   ]
  },
  {
   "cell_type": "code",
   "execution_count": null,
   "id": "43e61bcd",
   "metadata": {},
   "outputs": [],
   "source": []
  },
  {
   "cell_type": "code",
   "execution_count": 216,
   "id": "b9bc54d6",
   "metadata": {},
   "outputs": [],
   "source": [
    "brands_bad = pd.concat([dsmh['бренд'], burn['Наименование товара']] )"
   ]
  },
  {
   "cell_type": "code",
   "execution_count": 217,
   "id": "c2f7ecc8",
   "metadata": {},
   "outputs": [],
   "source": [
    "brands_bad = brands_bad.drop_duplicates()\n",
    "brands_bad = brands_bad.dropna()"
   ]
  },
  {
   "cell_type": "code",
   "execution_count": 218,
   "id": "dc030ea2",
   "metadata": {},
   "outputs": [],
   "source": [
    "brands_bad = pd.DataFrame(brands_bad)"
   ]
  },
  {
   "cell_type": "code",
   "execution_count": 219,
   "id": "9765863b",
   "metadata": {},
   "outputs": [],
   "source": [
    "brands_bad = brands_bad.rename(columns={0:'Бренд'})"
   ]
  },
  {
   "cell_type": "code",
   "execution_count": 220,
   "id": "0d6de42c",
   "metadata": {},
   "outputs": [],
   "source": [
    "merged3 = pd.merge(brands, brands_bad, left_on='Бренд (исходный)', right_on = 'Бренд', how='outer', indicator=True)"
   ]
  },
  {
   "cell_type": "code",
   "execution_count": 221,
   "id": "c4e38ea8",
   "metadata": {},
   "outputs": [],
   "source": [
    "missing_values3 = merged3.loc[merged3['_merge'] == 'right_only', 'Бренд_y']"
   ]
  },
  {
   "cell_type": "code",
   "execution_count": 222,
   "id": "7d57323f",
   "metadata": {},
   "outputs": [
    {
     "name": "stdout",
     "output_type": "stream",
     "text": [
      "Он пустой\n"
     ]
    }
   ],
   "source": [
    "if missing_values3.empty == False:\n",
    "    missing_values3.to_excel(r'C:\\Users\\User\\Desktop\\missing_brands.xlsx')\n",
    "else:\n",
    "    print(\"Он пустой\")"
   ]
  },
  {
   "cell_type": "code",
   "execution_count": null,
   "id": "f650212c",
   "metadata": {},
   "outputs": [],
   "source": []
  },
  {
   "cell_type": "code",
   "execution_count": null,
   "id": "856c8aaa",
   "metadata": {},
   "outputs": [],
   "source": []
  },
  {
   "cell_type": "code",
   "execution_count": 223,
   "id": "c6761db7",
   "metadata": {},
   "outputs": [],
   "source": [
    "weight_bad = pd.concat([dsmh['вес'], burn['Наименование товара']] )"
   ]
  },
  {
   "cell_type": "code",
   "execution_count": 224,
   "id": "701f6514",
   "metadata": {},
   "outputs": [],
   "source": [
    "weight_bad = weight_bad.drop_duplicates()"
   ]
  },
  {
   "cell_type": "code",
   "execution_count": 225,
   "id": "b775467c",
   "metadata": {},
   "outputs": [],
   "source": [
    "weight_bad = pd.DataFrame(weight_bad)"
   ]
  },
  {
   "cell_type": "code",
   "execution_count": 226,
   "id": "44f82bb9",
   "metadata": {},
   "outputs": [],
   "source": [
    "weight_bad = weight_bad.rename(columns={0:'Граммовка'})"
   ]
  },
  {
   "cell_type": "code",
   "execution_count": 227,
   "id": "6f10db7d",
   "metadata": {},
   "outputs": [],
   "source": [
    "merged4 = pd.merge(weight, weight_bad, left_on='Исходная граммовка', right_on = 'Граммовка', how='outer', indicator=True)"
   ]
  },
  {
   "cell_type": "code",
   "execution_count": 228,
   "id": "6776a19d",
   "metadata": {},
   "outputs": [],
   "source": [
    "missing_values4 = merged4.loc[merged4['_merge'] == 'right_only', 'Граммовка_y']"
   ]
  },
  {
   "cell_type": "code",
   "execution_count": 229,
   "id": "8dc8ab99",
   "metadata": {},
   "outputs": [
    {
     "name": "stdout",
     "output_type": "stream",
     "text": [
      "Он пустой\n"
     ]
    }
   ],
   "source": [
    "if missing_values4.empty == False:\n",
    "    missing_values4.to_excel(r'C:\\Users\\User\\Desktop\\missing_weight.xlsx')\n",
    "else:\n",
    "    print(\"Он пустой\")"
   ]
  },
  {
   "cell_type": "code",
   "execution_count": null,
   "id": "282de8ec",
   "metadata": {},
   "outputs": [],
   "source": []
  },
  {
   "attachments": {},
   "cell_type": "markdown",
   "id": "0761dcf5",
   "metadata": {},
   "source": [
    "### Проверка наличия цен"
   ]
  },
  {
   "cell_type": "code",
   "execution_count": 230,
   "id": "b8cf8da8",
   "metadata": {},
   "outputs": [],
   "source": [
    "dsmh_products_price['Наименование товара'] = dsmh_products_price['продукт']+dsmh_products_price['вес'].astype(str)\n",
    "dsmh_products_price = dsmh_products_price[['продукт','Наименование товара', 'Цена']]"
   ]
  },
  {
   "cell_type": "code",
   "execution_count": 231,
   "id": "7054fa64",
   "metadata": {},
   "outputs": [],
   "source": [
    "burn_products_price['продукт'] = burn_products_price['Наименование товара']\n",
    "burn_products_price = burn_products_price[['продукт', 'Наименование товара','Цена']]"
   ]
  },
  {
   "cell_type": "code",
   "execution_count": 232,
   "id": "f8f9cda6",
   "metadata": {},
   "outputs": [],
   "source": [
    "prices = pd.concat([dsmh_products_price, burn_products_price] )"
   ]
  },
  {
   "cell_type": "code",
   "execution_count": 233,
   "id": "f70ac0fc",
   "metadata": {},
   "outputs": [],
   "source": [
    "prices = prices.drop_duplicates()\n",
    "prices = prices.dropna()"
   ]
  },
  {
   "cell_type": "code",
   "execution_count": 234,
   "id": "d7dbff91",
   "metadata": {},
   "outputs": [],
   "source": [
    "prices = pd.DataFrame(prices)"
   ]
  },
  {
   "cell_type": "code",
   "execution_count": 235,
   "id": "bc9093f4",
   "metadata": {},
   "outputs": [],
   "source": [
    "burn_product = pd.DataFrame()\n",
    "burn_product['Наименование товара'] = burn['Наименование товара']"
   ]
  },
  {
   "cell_type": "code",
   "execution_count": 236,
   "id": "91574a4e",
   "metadata": {},
   "outputs": [],
   "source": [
    "dsmh_product = pd.DataFrame()\n",
    "dsmh_product['Наименование товара'] = dsmh['продукт']+dsmh['вес'].astype(str)"
   ]
  },
  {
   "cell_type": "code",
   "execution_count": 237,
   "id": "25513620",
   "metadata": {},
   "outputs": [],
   "source": [
    "products_for_check = pd.concat([burn_product, dsmh_product])"
   ]
  },
  {
   "cell_type": "code",
   "execution_count": 238,
   "id": "fcd7b584",
   "metadata": {},
   "outputs": [],
   "source": [
    "merged = pd.merge(prices, products_for_check, on='Наименование товара', how='outer', indicator=True)"
   ]
  },
  {
   "cell_type": "code",
   "execution_count": 239,
   "id": "2007c8e0",
   "metadata": {},
   "outputs": [],
   "source": [
    "missing_values5 = merged.loc[ merged['_merge'] == 'right_only' ]"
   ]
  },
  {
   "cell_type": "code",
   "execution_count": 240,
   "id": "1ba236ab",
   "metadata": {},
   "outputs": [
    {
     "name": "stdout",
     "output_type": "stream",
     "text": [
      "Он пустой\n"
     ]
    }
   ],
   "source": [
    "if missing_values5.empty == False:\n",
    "    missing_values5.to_excel(r'C:\\Users\\User\\Desktop\\missing_prices.xlsx', index=False)\n",
    "else:\n",
    "    # здесь если не пусто, то удалять в конце цифры\n",
    "    print(\"Он пустой\")\n",
    "    "
   ]
  },
  {
   "attachments": {},
   "cell_type": "markdown",
   "id": "6ee11cc6",
   "metadata": {},
   "source": [
    "# РАБОТА С ФАЙЛОМ BURN"
   ]
  },
  {
   "attachments": {},
   "cell_type": "markdown",
   "id": "0ec10a5d",
   "metadata": {},
   "source": [
    "### адреса из справочника"
   ]
  },
  {
   "cell_type": "code",
   "execution_count": 241,
   "id": "b8d89b49",
   "metadata": {},
   "outputs": [],
   "source": [
    "need_addresses = addresses[['Исходный адрес', 'Адрес']]"
   ]
  },
  {
   "cell_type": "code",
   "execution_count": 242,
   "id": "8a2b1049",
   "metadata": {},
   "outputs": [],
   "source": [
    "burn_good_address = burn.merge(need_addresses, how=\"left\", left_on='Адрес', right_on='Исходный адрес')"
   ]
  },
  {
   "cell_type": "code",
   "execution_count": 243,
   "id": "c9b1011d",
   "metadata": {},
   "outputs": [],
   "source": [
    "burn_good_address = burn_good_address.drop(columns=['Исходный адрес', 'Адрес_x'])"
   ]
  },
  {
   "cell_type": "code",
   "execution_count": 244,
   "id": "3f51e565",
   "metadata": {},
   "outputs": [],
   "source": [
    "burn_good_address = burn_good_address.rename(columns={\"Адрес_y\": \"Адрес\"})"
   ]
  },
  {
   "attachments": {},
   "cell_type": "markdown",
   "id": "d09d5001",
   "metadata": {},
   "source": [
    "### регионы(субъекты) из справочника"
   ]
  },
  {
   "cell_type": "code",
   "execution_count": 245,
   "id": "82e9db27",
   "metadata": {},
   "outputs": [],
   "source": [
    "burn_good_address = burn_good_address.merge(\n",
    "    regions, how=\"left\", left_on=\"Субъект РФ\", right_on=\"Субъект РФ исходный\", suffixes=('_left', '_right')\n",
    ")"
   ]
  },
  {
   "cell_type": "code",
   "execution_count": 246,
   "id": "4b61ee61",
   "metadata": {},
   "outputs": [],
   "source": [
    "burn_good_address = burn_good_address.drop(columns=['Субъект РФ исходный', 'Субъект РФ_left'])"
   ]
  },
  {
   "cell_type": "code",
   "execution_count": 247,
   "id": "ac240cc9",
   "metadata": {},
   "outputs": [],
   "source": [
    "burn_good_address = burn_good_address.rename(columns={\"Субъект РФ_right\": \"Субъект РФ\"})"
   ]
  },
  {
   "attachments": {},
   "cell_type": "markdown",
   "id": "7d78ee08",
   "metadata": {},
   "source": [
    "### изменить тип на дату и вычленить дату"
   ]
  },
  {
   "cell_type": "code",
   "execution_count": 248,
   "id": "d9887c82",
   "metadata": {},
   "outputs": [],
   "source": [
    "burn_good_address['Дата операции'] = burn_good_address['Дата операции'].apply(\n",
    "    lambda x: datetime.strptime(x, '%Y-%m-%d')\n",
    ")"
   ]
  },
  {
   "cell_type": "code",
   "execution_count": 249,
   "id": "6cf61089",
   "metadata": {},
   "outputs": [],
   "source": [
    "burn_good_address['Месяц'] = burn_good_address['Дата операции'].dt.month"
   ]
  },
  {
   "cell_type": "code",
   "execution_count": 250,
   "id": "013be3bb",
   "metadata": {},
   "outputs": [],
   "source": [
    "burn_good_address['Год'] = burn_good_address['Дата операции'].dt.year"
   ]
  },
  {
   "attachments": {},
   "cell_type": "markdown",
   "id": "b3eeb005",
   "metadata": {},
   "source": [
    "### заменить бренды из справочника"
   ]
  },
  {
   "cell_type": "code",
   "execution_count": 251,
   "id": "ac5cdef1",
   "metadata": {},
   "outputs": [],
   "source": [
    "burn_good_address = burn_good_address.merge(\n",
    "    brands, how=\"left\", left_on=\"Наименование товара\", right_on=\"Бренд (исходный)\", suffixes=('_left', '_right')\n",
    ")"
   ]
  },
  {
   "cell_type": "code",
   "execution_count": 252,
   "id": "06f70355",
   "metadata": {},
   "outputs": [],
   "source": [
    "burn_good_address = burn_good_address.drop(columns=['Бренд (исходный)'])"
   ]
  },
  {
   "attachments": {},
   "cell_type": "markdown",
   "id": "5f405c72",
   "metadata": {},
   "source": [
    "### заменить граммовку"
   ]
  },
  {
   "cell_type": "code",
   "execution_count": 253,
   "id": "fe438446",
   "metadata": {},
   "outputs": [],
   "source": [
    "burn_good_address = burn_good_address.merge(\n",
    "    weight, how=\"left\", left_on=\"Наименование товара\", right_on=\"Исходная граммовка\", suffixes=('_left', '_right')\n",
    ")"
   ]
  },
  {
   "cell_type": "code",
   "execution_count": 254,
   "id": "07fb80d0",
   "metadata": {},
   "outputs": [],
   "source": [
    "burn_good_address = burn_good_address.drop(columns=['Исходная граммовка'])"
   ]
  },
  {
   "attachments": {},
   "cell_type": "markdown",
   "id": "2f2cd104",
   "metadata": {},
   "source": [
    "### Добавление колонки вес"
   ]
  },
  {
   "cell_type": "code",
   "execution_count": 255,
   "id": "551571e1",
   "metadata": {},
   "outputs": [],
   "source": [
    "burn_good_address['Граммовка'] = burn_good_address['Граммовка'].astype(int)"
   ]
  },
  {
   "cell_type": "code",
   "execution_count": 256,
   "id": "fe008d46",
   "metadata": {},
   "outputs": [],
   "source": [
    "burn_good_address['Вес'] = (burn_good_address['Граммовка']/1000)* burn_good_address['Объем товара (пачек)']"
   ]
  },
  {
   "cell_type": "code",
   "execution_count": 257,
   "id": "d66ee518",
   "metadata": {},
   "outputs": [],
   "source": [
    "burn_good_address['Адрес'] = burn_good_address['Адрес'].fillna('не указан')"
   ]
  },
  {
   "attachments": {},
   "cell_type": "markdown",
   "id": "88d1ec04",
   "metadata": {},
   "source": [
    "### цены из справочника"
   ]
  },
  {
   "cell_type": "code",
   "execution_count": 258,
   "id": "7dd64a21",
   "metadata": {},
   "outputs": [],
   "source": [
    "burn_good_address = burn_good_address.merge(prices, how=\"left\", on='Наименование товара')"
   ]
  },
  {
   "cell_type": "code",
   "execution_count": 259,
   "id": "e9bb19f9",
   "metadata": {},
   "outputs": [
    {
     "data": {
      "text/plain": [
       "0"
      ]
     },
     "execution_count": 259,
     "metadata": {},
     "output_type": "execute_result"
    }
   ],
   "source": [
    "# должен быть ноль\n",
    "burn_good_address['Цена'].isna().sum()"
   ]
  },
  {
   "cell_type": "code",
   "execution_count": 260,
   "id": "5c280031",
   "metadata": {},
   "outputs": [],
   "source": [
    "burn_good_address['Цена'] = burn_good_address['Цена'] * burn_good_address['Объем товара (пачек)']"
   ]
  },
  {
   "attachments": {},
   "cell_type": "markdown",
   "id": "8aaaf51d",
   "metadata": {},
   "source": [
    "### Группировка"
   ]
  },
  {
   "cell_type": "code",
   "execution_count": 261,
   "id": "30ff47ae",
   "metadata": {},
   "outputs": [],
   "source": [
    "burn_good = burn_good_address.groupby(['Год', 'Месяц', 'Субъект РФ', 'Бренд', 'Адрес']).agg({'Вес':'sum','Цена':'sum'}).reset_index()"
   ]
  },
  {
   "cell_type": "code",
   "execution_count": 262,
   "id": "bb86113e",
   "metadata": {},
   "outputs": [
    {
     "name": "stdout",
     "output_type": "stream",
     "text": [
      "<class 'pandas.core.frame.DataFrame'>\n",
      "RangeIndex: 241234 entries, 0 to 241233\n",
      "Data columns (total 7 columns):\n",
      " #   Column      Non-Null Count   Dtype  \n",
      "---  ------      --------------   -----  \n",
      " 0   Год         241234 non-null  int64  \n",
      " 1   Месяц       241234 non-null  int64  \n",
      " 2   Субъект РФ  241234 non-null  object \n",
      " 3   Бренд       241234 non-null  object \n",
      " 4   Адрес       241234 non-null  object \n",
      " 5   Вес         241234 non-null  float64\n",
      " 6   Цена        241234 non-null  int64  \n",
      "dtypes: float64(1), int64(3), object(3)\n",
      "memory usage: 12.9+ MB\n"
     ]
    }
   ],
   "source": [
    "burn_good.info()"
   ]
  },
  {
   "attachments": {},
   "cell_type": "markdown",
   "id": "cc42722b",
   "metadata": {},
   "source": [
    "# РАБОТА С ФАЙЛОМ MHDS"
   ]
  },
  {
   "cell_type": "code",
   "execution_count": 263,
   "id": "92619024",
   "metadata": {},
   "outputs": [],
   "source": [
    "dsmh_copy = dsmh.copy(deep = True)"
   ]
  },
  {
   "attachments": {},
   "cell_type": "markdown",
   "id": "44fc108f",
   "metadata": {},
   "source": [
    "### Выделить месяц и год"
   ]
  },
  {
   "cell_type": "code",
   "execution_count": 264,
   "id": "57eb4b9f",
   "metadata": {},
   "outputs": [],
   "source": [
    "dsmh_copy['Дата операции'] = dsmh_copy['мес'].apply(\n",
    "    lambda x: datetime.strptime(x, '%Y-%m-%d')\n",
    ")"
   ]
  },
  {
   "cell_type": "code",
   "execution_count": 265,
   "id": "09a34eba",
   "metadata": {},
   "outputs": [],
   "source": [
    "dsmh_copy['Месяц'] = dsmh_copy['Дата операции'].dt.month"
   ]
  },
  {
   "cell_type": "code",
   "execution_count": 266,
   "id": "f678bc0e",
   "metadata": {},
   "outputs": [],
   "source": [
    "dsmh_copy['Год'] = dsmh_copy['Дата операции'].dt.year"
   ]
  },
  {
   "attachments": {},
   "cell_type": "markdown",
   "id": "2f7187eb",
   "metadata": {},
   "source": [
    "### регион из справочника"
   ]
  },
  {
   "cell_type": "code",
   "execution_count": 267,
   "id": "4442be76",
   "metadata": {},
   "outputs": [],
   "source": [
    "dsmh_copy = dsmh_copy.merge(\n",
    "    regions, how=\"left\", left_on=\"рег\", right_on=\"Субъект РФ исходный\", suffixes=('_left', '_right')\n",
    ")"
   ]
  },
  {
   "cell_type": "code",
   "execution_count": 268,
   "id": "e5973c20",
   "metadata": {},
   "outputs": [],
   "source": [
    "dsmh_copy = dsmh_copy.drop(columns=['Субъект РФ исходный', 'рег'])"
   ]
  },
  {
   "attachments": {},
   "cell_type": "markdown",
   "id": "f1b235ef",
   "metadata": {},
   "source": [
    "### адрес из справочника"
   ]
  },
  {
   "cell_type": "code",
   "execution_count": 269,
   "id": "936099fc",
   "metadata": {},
   "outputs": [],
   "source": [
    "need_addresses = addresses[['Исходный адрес', 'Адрес']]"
   ]
  },
  {
   "cell_type": "code",
   "execution_count": 270,
   "id": "2bc308de",
   "metadata": {},
   "outputs": [],
   "source": [
    "dsmh_good_address = dsmh_copy.merge(need_addresses, how=\"left\", left_on='адрес', right_on='Исходный адрес')"
   ]
  },
  {
   "cell_type": "code",
   "execution_count": 271,
   "id": "aa94a95d",
   "metadata": {},
   "outputs": [],
   "source": [
    "dsmh_good_address = dsmh_good_address.drop(columns=['Исходный адрес', 'адрес'])"
   ]
  },
  {
   "attachments": {},
   "cell_type": "markdown",
   "id": "9f447b7f",
   "metadata": {},
   "source": [
    "### цены из справочника"
   ]
  },
  {
   "cell_type": "code",
   "execution_count": 272,
   "id": "3f6a9111",
   "metadata": {},
   "outputs": [],
   "source": [
    "dsmh_good_address['Наименование товара'] = dsmh_good_address['продукт'] + dsmh_good_address['вес'].astype(str)"
   ]
  },
  {
   "cell_type": "code",
   "execution_count": 273,
   "id": "418097e4",
   "metadata": {},
   "outputs": [],
   "source": [
    "dsmh_good_address = dsmh_good_address.merge(prices, how=\"left\", on='Наименование товара')"
   ]
  },
  {
   "cell_type": "code",
   "execution_count": 274,
   "id": "275cab6c",
   "metadata": {},
   "outputs": [
    {
     "data": {
      "text/plain": [
       "0"
      ]
     },
     "execution_count": 274,
     "metadata": {},
     "output_type": "execute_result"
    }
   ],
   "source": [
    "dsmh_good_address['Цена'].isna().sum()"
   ]
  },
  {
   "cell_type": "code",
   "execution_count": 275,
   "id": "16e2c58d",
   "metadata": {},
   "outputs": [],
   "source": [
    "dsmh_good_address['Цена'] = dsmh_good_address['Цена'] * dsmh_good_address['колво']"
   ]
  },
  {
   "attachments": {},
   "cell_type": "markdown",
   "id": "8bfef879",
   "metadata": {},
   "source": [
    "### вес из кол-во и граммовки (у них вес называется)"
   ]
  },
  {
   "cell_type": "code",
   "execution_count": 276,
   "id": "02d4851e",
   "metadata": {},
   "outputs": [],
   "source": [
    "dsmh_good_address['Новый вес'] = (dsmh_good_address['вес']/1000) * dsmh_good_address['колво']"
   ]
  },
  {
   "cell_type": "code",
   "execution_count": 277,
   "id": "b4683519",
   "metadata": {},
   "outputs": [],
   "source": [
    "dsmh_good_address = dsmh_good_address.drop(columns=['вес', 'колво'])"
   ]
  },
  {
   "cell_type": "code",
   "execution_count": 278,
   "id": "538c3b4a",
   "metadata": {},
   "outputs": [],
   "source": [
    "dsmh_good_address = dsmh_good_address.rename(columns = {'Новый вес': 'Вес'})"
   ]
  },
  {
   "attachments": {},
   "cell_type": "markdown",
   "id": "b9b12d3b",
   "metadata": {},
   "source": [
    "### бренд из справочника (менять не надо)"
   ]
  },
  {
   "cell_type": "code",
   "execution_count": 279,
   "id": "b39a64ae",
   "metadata": {},
   "outputs": [],
   "source": [
    "dsmh_good_address = dsmh_good_address.rename(columns={'бренд':'Бренд'})"
   ]
  },
  {
   "attachments": {},
   "cell_type": "markdown",
   "id": "0bc713dd",
   "metadata": {},
   "source": [
    "### Группировка"
   ]
  },
  {
   "cell_type": "code",
   "execution_count": 280,
   "id": "c7eaea6c",
   "metadata": {
    "scrolled": true
   },
   "outputs": [],
   "source": [
    "dsmh_good_address = dsmh_good_address.groupby(['Год', 'Месяц', 'Субъект РФ', 'Бренд', 'Адрес']).agg({'Вес':'sum','Цена':'sum'}).reset_index()"
   ]
  },
  {
   "cell_type": "code",
   "execution_count": 281,
   "id": "0bb281fb",
   "metadata": {},
   "outputs": [
    {
     "name": "stdout",
     "output_type": "stream",
     "text": [
      "<class 'pandas.core.frame.DataFrame'>\n",
      "RangeIndex: 369284 entries, 0 to 369283\n",
      "Data columns (total 7 columns):\n",
      " #   Column      Non-Null Count   Dtype  \n",
      "---  ------      --------------   -----  \n",
      " 0   Год         369284 non-null  int64  \n",
      " 1   Месяц       369284 non-null  int64  \n",
      " 2   Субъект РФ  369284 non-null  object \n",
      " 3   Бренд       369284 non-null  object \n",
      " 4   Адрес       369284 non-null  object \n",
      " 5   Вес         369284 non-null  float64\n",
      " 6   Цена        369284 non-null  int64  \n",
      "dtypes: float64(1), int64(3), object(3)\n",
      "memory usage: 19.7+ MB\n"
     ]
    }
   ],
   "source": [
    "dsmh_good_address.info()"
   ]
  },
  {
   "cell_type": "code",
   "execution_count": 282,
   "id": "2ab2fb45",
   "metadata": {},
   "outputs": [
    {
     "data": {
      "text/plain": [
       "True"
      ]
     },
     "execution_count": 282,
     "metadata": {},
     "output_type": "execute_result"
    }
   ],
   "source": [
    "(dsmh_good_address.columns == burn_good.columns).all()"
   ]
  },
  {
   "cell_type": "code",
   "execution_count": 288,
   "id": "22635a47",
   "metadata": {},
   "outputs": [],
   "source": [
    "BBDSMH = pd.concat([dsmh_good_address, burn_good], ignore_index=True)"
   ]
  },
  {
   "cell_type": "code",
   "execution_count": 289,
   "id": "e131df22",
   "metadata": {},
   "outputs": [],
   "source": [
    "# удалить ненужный адрес\n",
    "BBDSMH = BBDSMH.loc[ BBDSMH['Адрес'] != 'г Санкт-Петербург, наб Пироговская, д 17 к 7' ]\n",
    "BBDSMH = BBDSMH.loc[ BBDSMH['Адрес'] != 'г Санкт-Петербург, наб Пироговская, д 17 к 7 литера а' ]\n"
   ]
  },
  {
   "cell_type": "code",
   "execution_count": 290,
   "id": "0773f9fb",
   "metadata": {},
   "outputs": [],
   "source": [
    "BBDSMH = BBDSMH.loc[ (BBDSMH['Бренд'] == 'DARKSIDE') | (BBDSMH['Бренд'] == 'MUST HAVE') | (BBDSMH['Бренд'] == 'Blackburn') ]"
   ]
  },
  {
   "cell_type": "code",
   "execution_count": 8,
   "id": "3f2f9555",
   "metadata": {},
   "outputs": [],
   "source": [
    "BBDSMH.loc[BBDSMH['Бренд'] == 'DARKSIDE'] = \"darkside\"\n",
    "BBDSMH.loc[BBDSMH['Бренд'] == 'MUST HAVE'] = \"must have\"\n",
    "BBDSMH.loc[BBDSMH['Бренд'] == 'Blackburn'] = \"BLACKBURN\""
   ]
  },
  {
   "cell_type": "code",
   "execution_count": 291,
   "id": "08390d64",
   "metadata": {},
   "outputs": [],
   "source": [
    "BBDSMH.to_excel(r'D:\\Analysis Burn\\Википедия\\Wikipedia.xlsx', index=False)"
   ]
  }
 ],
 "metadata": {
  "kernelspec": {
   "display_name": "Python 3 (ipykernel)",
   "language": "python",
   "name": "python3"
  },
  "language_info": {
   "codemirror_mode": {
    "name": "ipython",
    "version": 3
   },
   "file_extension": ".py",
   "mimetype": "text/x-python",
   "name": "python",
   "nbconvert_exporter": "python",
   "pygments_lexer": "ipython3",
   "version": "3.10.11"
  }
 },
 "nbformat": 4,
 "nbformat_minor": 5
}
