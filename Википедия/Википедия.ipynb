{
 "cells": [
  {
   "attachments": {},
   "cell_type": "markdown",
   "id": "2ec4993f",
   "metadata": {},
   "source": [
    "- Проверить наличие в справочниках адресов, брендов, граммовок, регионов (если нет добавить)\n",
    "- Взять файл\n",
    "- Заменить адреса, субъекты, бренды, вес на корректные\n",
    "- Объединить по месяцу, году, региону, бренду, адресу, сумма по весу\n",
    "- то же по конкурентам\n",
    "- объединить их вместе\n",
    "- выгрузить в файл\n",
    "- убрать адрес Санкт Петербург, Пироговская наб., д.17\n",
    "- сделать сводный"
   ]
  },
  {
   "cell_type": "code",
   "execution_count": 1,
   "id": "1e82652a",
   "metadata": {},
   "outputs": [],
   "source": [
    "import pandas as pd\n",
    "\n",
    "from datetime import datetime\n",
    "\n",
    "import xlrd"
   ]
  },
  {
   "attachments": {},
   "cell_type": "markdown",
   "id": "e1449c83",
   "metadata": {},
   "source": [
    "### импорт нужных таблиц"
   ]
  },
  {
   "cell_type": "code",
   "execution_count": 2,
   "id": "e20918dc",
   "metadata": {},
   "outputs": [],
   "source": [
    "path = 'D:\\\\Analysis Burn'"
   ]
  },
  {
   "cell_type": "code",
   "execution_count": 3,
   "id": "0f6b7aff",
   "metadata": {},
   "outputs": [],
   "source": [
    "burn = pd.read_csv(path + '\\\\Википедия\\\\БЁРН исходники\\\\burn_tobacco.csv')\n",
    "dsmh = pd.read_csv(path + '\\\\Википедия\\\\СВМХ исходники\\\\dsmh.csv')"
   ]
  },
  {
   "cell_type": "code",
   "execution_count": 56,
   "id": "3caab594",
   "metadata": {},
   "outputs": [],
   "source": [
    "addresses = pd.read_excel(path + '\\\\Википедия\\\\Справочники\\\\addresses.xlsx')"
   ]
  },
  {
   "cell_type": "code",
   "execution_count": 57,
   "id": "4240a597",
   "metadata": {},
   "outputs": [],
   "source": [
    "regions = pd.read_excel(path + '\\\\Википедия\\\\Справочники\\\\regions.xlsx')"
   ]
  },
  {
   "cell_type": "code",
   "execution_count": 58,
   "id": "6edafa1a",
   "metadata": {},
   "outputs": [],
   "source": [
    "brands = pd.read_excel(path + '\\\\Википедия\\\\Справочники\\\\brands.xlsx')"
   ]
  },
  {
   "cell_type": "code",
   "execution_count": 59,
   "id": "4e0079ab",
   "metadata": {},
   "outputs": [],
   "source": [
    "weight = pd.read_excel(path + '\\\\Википедия\\\\Справочники\\\\weight.xlsx')"
   ]
  },
  {
   "cell_type": "code",
   "execution_count": 60,
   "id": "28d86b41",
   "metadata": {},
   "outputs": [],
   "source": [
    "burn_products_price = pd.read_excel(r\"D:\\Analysis Burn\\Википедия\\Справочники\\burn_products_price.xlsx\")"
   ]
  },
  {
   "cell_type": "code",
   "execution_count": 61,
   "id": "36ffa129",
   "metadata": {},
   "outputs": [],
   "source": [
    "dsmh_products_price = pd.read_excel(r\"D:\\Analysis Burn\\Википедия\\Справочники\\dsmh_products_price.xlsx\")"
   ]
  },
  {
   "attachments": {},
   "cell_type": "markdown",
   "id": "88468d2c",
   "metadata": {},
   "source": [
    "# Получение отсутствующих значений в справочниках"
   ]
  },
  {
   "cell_type": "code",
   "execution_count": null,
   "id": "b06af867",
   "metadata": {},
   "outputs": [],
   "source": []
  },
  {
   "cell_type": "code",
   "execution_count": 62,
   "id": "66401e3c",
   "metadata": {},
   "outputs": [],
   "source": [
    "addresses_bad = pd.concat([dsmh['адрес'], burn['Адрес']] )"
   ]
  },
  {
   "cell_type": "code",
   "execution_count": 63,
   "id": "e4e9468a",
   "metadata": {},
   "outputs": [],
   "source": [
    "addresses_bad = addresses_bad.drop_duplicates()\n",
    "addresses_bad = addresses_bad.dropna()"
   ]
  },
  {
   "cell_type": "code",
   "execution_count": 64,
   "id": "7e9c1f26",
   "metadata": {},
   "outputs": [],
   "source": [
    "addresses_bad = pd.DataFrame(addresses_bad)"
   ]
  },
  {
   "cell_type": "code",
   "execution_count": 65,
   "id": "249043ca",
   "metadata": {},
   "outputs": [],
   "source": [
    "addresses_bad = addresses_bad.rename(columns={0:'Адрес'})"
   ]
  },
  {
   "cell_type": "code",
   "execution_count": 66,
   "id": "8c49ded8",
   "metadata": {},
   "outputs": [],
   "source": [
    "merged = pd.merge(addresses, addresses_bad, left_on='Исходный адрес', right_on = 'Адрес', how='outer', indicator=True)"
   ]
  },
  {
   "cell_type": "code",
   "execution_count": 67,
   "id": "07e8f82d",
   "metadata": {},
   "outputs": [],
   "source": [
    "missing_values = merged.loc[ merged['_merge'] == 'right_only' ]"
   ]
  },
  {
   "cell_type": "code",
   "execution_count": 68,
   "id": "3fb72575",
   "metadata": {},
   "outputs": [
    {
     "name": "stdout",
     "output_type": "stream",
     "text": [
      "Он пустой\n"
     ]
    }
   ],
   "source": [
    "if missing_values.empty == False:\n",
    "    missing_values.to_excel(r'C:\\Users\\User\\Desktop\\missing_addresses.xlsx', index=False)\n",
    "else:\n",
    "    print(\"Он пустой\")"
   ]
  },
  {
   "cell_type": "code",
   "execution_count": null,
   "id": "8f3d76fc",
   "metadata": {},
   "outputs": [],
   "source": []
  },
  {
   "cell_type": "code",
   "execution_count": 69,
   "id": "20265df8",
   "metadata": {},
   "outputs": [],
   "source": [
    "regions_bad = pd.concat([dsmh['рег'], burn['Субъект РФ']] )"
   ]
  },
  {
   "cell_type": "code",
   "execution_count": 70,
   "id": "4a7f12bf",
   "metadata": {},
   "outputs": [],
   "source": [
    "regions_bad = regions_bad.drop_duplicates()\n",
    "regions_bad = regions_bad.dropna()"
   ]
  },
  {
   "cell_type": "code",
   "execution_count": 71,
   "id": "a4f9f8e1",
   "metadata": {},
   "outputs": [],
   "source": [
    "regions_bad = pd.DataFrame(regions_bad)"
   ]
  },
  {
   "cell_type": "code",
   "execution_count": 72,
   "id": "f00f053a",
   "metadata": {},
   "outputs": [],
   "source": [
    "regions_bad =regions_bad.rename(columns={0:'Регион'})"
   ]
  },
  {
   "cell_type": "code",
   "execution_count": 73,
   "id": "1a2eeca9",
   "metadata": {},
   "outputs": [],
   "source": [
    "merged2 = pd.merge(regions, regions_bad, left_on='Субъект РФ исходный', right_on = 'Регион', how='outer', indicator=True)"
   ]
  },
  {
   "cell_type": "code",
   "execution_count": 74,
   "id": "ff2b3865",
   "metadata": {},
   "outputs": [],
   "source": [
    "missing_values2 = merged2.loc[merged2['_merge'] == 'right_only', 'Регион']"
   ]
  },
  {
   "cell_type": "code",
   "execution_count": 75,
   "id": "72217116",
   "metadata": {},
   "outputs": [],
   "source": [
    "if missing_values2.empty == False:\n",
    "    missing_values2.to_excel(r'C:\\Users\\User\\Desktop\\missing_regions.xlsx')\n",
    "else:\n",
    "    print(\"Он пустой\")"
   ]
  },
  {
   "cell_type": "code",
   "execution_count": null,
   "id": "43e61bcd",
   "metadata": {},
   "outputs": [],
   "source": []
  },
  {
   "cell_type": "code",
   "execution_count": 76,
   "id": "b9bc54d6",
   "metadata": {},
   "outputs": [],
   "source": [
    "brands_bad = pd.concat([dsmh['бренд'], burn['Наименование товара']] )"
   ]
  },
  {
   "cell_type": "code",
   "execution_count": 77,
   "id": "c2f7ecc8",
   "metadata": {},
   "outputs": [],
   "source": [
    "brands_bad = brands_bad.drop_duplicates()\n",
    "brands_bad = brands_bad.dropna()"
   ]
  },
  {
   "cell_type": "code",
   "execution_count": 78,
   "id": "dc030ea2",
   "metadata": {},
   "outputs": [],
   "source": [
    "brands_bad = pd.DataFrame(brands_bad)"
   ]
  },
  {
   "cell_type": "code",
   "execution_count": 79,
   "id": "9765863b",
   "metadata": {},
   "outputs": [],
   "source": [
    "brands_bad = brands_bad.rename(columns={0:'Бренд'})"
   ]
  },
  {
   "cell_type": "code",
   "execution_count": 80,
   "id": "0d6de42c",
   "metadata": {},
   "outputs": [],
   "source": [
    "merged3 = pd.merge(brands, brands_bad, left_on='Бренд (исходный)', right_on = 'Бренд', how='outer', indicator=True)"
   ]
  },
  {
   "cell_type": "code",
   "execution_count": 81,
   "id": "c4e38ea8",
   "metadata": {},
   "outputs": [],
   "source": [
    "missing_values3 = merged3.loc[merged3['_merge'] == 'right_only', 'Бренд_y']"
   ]
  },
  {
   "cell_type": "code",
   "execution_count": 82,
   "id": "7d57323f",
   "metadata": {},
   "outputs": [
    {
     "name": "stdout",
     "output_type": "stream",
     "text": [
      "Он пустой\n"
     ]
    }
   ],
   "source": [
    "if missing_values3.empty == False:\n",
    "    missing_values3.to_excel(r'C:\\Users\\User\\Desktop\\missing_brands.xlsx')\n",
    "else:\n",
    "    print(\"Он пустой\")"
   ]
  },
  {
   "cell_type": "code",
   "execution_count": null,
   "id": "f650212c",
   "metadata": {},
   "outputs": [],
   "source": []
  },
  {
   "cell_type": "code",
   "execution_count": null,
   "id": "856c8aaa",
   "metadata": {},
   "outputs": [],
   "source": []
  },
  {
   "cell_type": "code",
   "execution_count": 83,
   "id": "c6761db7",
   "metadata": {},
   "outputs": [],
   "source": [
    "weight_bad = pd.concat([dsmh['вес'], burn['Наименование товара']] )"
   ]
  },
  {
   "cell_type": "code",
   "execution_count": 84,
   "id": "701f6514",
   "metadata": {},
   "outputs": [],
   "source": [
    "weight_bad = weight_bad.drop_duplicates()"
   ]
  },
  {
   "cell_type": "code",
   "execution_count": 85,
   "id": "b775467c",
   "metadata": {},
   "outputs": [],
   "source": [
    "weight_bad = pd.DataFrame(weight_bad)"
   ]
  },
  {
   "cell_type": "code",
   "execution_count": 86,
   "id": "44f82bb9",
   "metadata": {},
   "outputs": [],
   "source": [
    "weight_bad = weight_bad.rename(columns={0:'Граммовка'})"
   ]
  },
  {
   "cell_type": "code",
   "execution_count": 87,
   "id": "6f10db7d",
   "metadata": {},
   "outputs": [],
   "source": [
    "merged4 = pd.merge(weight, weight_bad, left_on='Исходная граммовка', right_on = 'Граммовка', how='outer', indicator=True)"
   ]
  },
  {
   "cell_type": "code",
   "execution_count": 88,
   "id": "6776a19d",
   "metadata": {},
   "outputs": [],
   "source": [
    "missing_values4 = merged4.loc[merged4['_merge'] == 'right_only', 'Граммовка_y']"
   ]
  },
  {
   "cell_type": "code",
   "execution_count": 89,
   "id": "8dc8ab99",
   "metadata": {},
   "outputs": [
    {
     "name": "stdout",
     "output_type": "stream",
     "text": [
      "Он пустой\n"
     ]
    }
   ],
   "source": [
    "if missing_values4.empty == False:\n",
    "    missing_values4.to_excel(r'C:\\Users\\User\\Desktop\\missing_weight.xlsx')\n",
    "else:\n",
    "    print(\"Он пустой\")"
   ]
  },
  {
   "cell_type": "code",
   "execution_count": null,
   "id": "282de8ec",
   "metadata": {},
   "outputs": [],
   "source": []
  },
  {
   "attachments": {},
   "cell_type": "markdown",
   "id": "0761dcf5",
   "metadata": {},
   "source": [
    "### Проверка наличия цен"
   ]
  },
  {
   "cell_type": "code",
   "execution_count": 90,
   "id": "b8cf8da8",
   "metadata": {},
   "outputs": [],
   "source": [
    "dsmh_products_price['Наименование товара'] = dsmh_products_price['продукт']+dsmh_products_price['вес'].astype(str)\n",
    "dsmh_products_price =dsmh_products_price[['Наименование товара', 'Цена']]"
   ]
  },
  {
   "cell_type": "code",
   "execution_count": 91,
   "id": "f8f9cda6",
   "metadata": {},
   "outputs": [],
   "source": [
    "prices = pd.concat([dsmh_products_price, burn_products_price] )"
   ]
  },
  {
   "cell_type": "code",
   "execution_count": 92,
   "id": "f70ac0fc",
   "metadata": {},
   "outputs": [],
   "source": [
    "prices = prices.drop_duplicates()\n",
    "prices = prices.dropna()"
   ]
  },
  {
   "cell_type": "code",
   "execution_count": 93,
   "id": "d7dbff91",
   "metadata": {},
   "outputs": [],
   "source": [
    "prices = pd.DataFrame(prices)"
   ]
  },
  {
   "cell_type": "code",
   "execution_count": 94,
   "id": "bc9093f4",
   "metadata": {},
   "outputs": [],
   "source": [
    "burn_product = pd.DataFrame()\n",
    "burn_product['Наименование товара'] = burn['Наименование товара']"
   ]
  },
  {
   "cell_type": "code",
   "execution_count": 95,
   "id": "91574a4e",
   "metadata": {},
   "outputs": [],
   "source": [
    "dsmh_product = pd.DataFrame()\n",
    "dsmh_product['Наименование товара'] = dsmh['продукт']+dsmh['вес'].astype(str)"
   ]
  },
  {
   "cell_type": "code",
   "execution_count": 96,
   "id": "25513620",
   "metadata": {},
   "outputs": [],
   "source": [
    "products_for_check = pd.concat([burn_product, dsmh_product])"
   ]
  },
  {
   "cell_type": "code",
   "execution_count": 97,
   "id": "fcd7b584",
   "metadata": {},
   "outputs": [],
   "source": [
    "merged = pd.merge(prices, products_for_check, on='Наименование товара', how='outer', indicator=True)"
   ]
  },
  {
   "cell_type": "code",
   "execution_count": 98,
   "id": "2007c8e0",
   "metadata": {},
   "outputs": [],
   "source": [
    "missing_values5 = merged.loc[ merged['_merge'] == 'right_only' ]"
   ]
  },
  {
   "cell_type": "code",
   "execution_count": 99,
   "id": "1ba236ab",
   "metadata": {},
   "outputs": [
    {
     "name": "stdout",
     "output_type": "stream",
     "text": [
      "Он пустой\n"
     ]
    }
   ],
   "source": [
    "if missing_values5.empty == False:\n",
    "    missing_values5.to_excel(path + '\\missing_prices.xlsx', index=False)\n",
    "else:\n",
    "    print(\"Он пустой\")"
   ]
  },
  {
   "attachments": {},
   "cell_type": "markdown",
   "id": "6ee11cc6",
   "metadata": {},
   "source": [
    "# РАБОТА С ФАЙЛОМ BURN"
   ]
  },
  {
   "attachments": {},
   "cell_type": "markdown",
   "id": "0ec10a5d",
   "metadata": {},
   "source": [
    "### адреса из справочника"
   ]
  },
  {
   "cell_type": "code",
   "execution_count": 100,
   "id": "b8d89b49",
   "metadata": {},
   "outputs": [],
   "source": [
    "need_addresses = addresses[['Исходный адрес', 'Адрес']]"
   ]
  },
  {
   "cell_type": "code",
   "execution_count": 101,
   "id": "8a2b1049",
   "metadata": {},
   "outputs": [],
   "source": [
    "burn_good_address = burn.merge(need_addresses, how=\"left\", left_on='Адрес', right_on='Исходный адрес')"
   ]
  },
  {
   "cell_type": "code",
   "execution_count": 102,
   "id": "c9b1011d",
   "metadata": {},
   "outputs": [],
   "source": [
    "burn_good_address = burn_good_address.drop(columns=['Исходный адрес', 'Адрес_x'])"
   ]
  },
  {
   "cell_type": "code",
   "execution_count": 103,
   "id": "3f51e565",
   "metadata": {},
   "outputs": [],
   "source": [
    "burn_good_address = burn_good_address.rename(columns={\"Адрес_y\": \"Адрес\"})"
   ]
  },
  {
   "attachments": {},
   "cell_type": "markdown",
   "id": "d09d5001",
   "metadata": {},
   "source": [
    "### регионы(субъекты) из справочника"
   ]
  },
  {
   "cell_type": "code",
   "execution_count": 104,
   "id": "82e9db27",
   "metadata": {},
   "outputs": [],
   "source": [
    "burn_good_address = burn_good_address.merge(\n",
    "    regions, how=\"left\", left_on=\"Субъект РФ\", right_on=\"Субъект РФ исходный\", suffixes=('_left', '_right')\n",
    ")"
   ]
  },
  {
   "cell_type": "code",
   "execution_count": 105,
   "id": "4b61ee61",
   "metadata": {},
   "outputs": [],
   "source": [
    "burn_good_address = burn_good_address.drop(columns=['Субъект РФ исходный', 'Субъект РФ_left'])"
   ]
  },
  {
   "cell_type": "code",
   "execution_count": 106,
   "id": "ac240cc9",
   "metadata": {},
   "outputs": [],
   "source": [
    "burn_good_address = burn_good_address.rename(columns={\"Субъект РФ_right\": \"Субъект РФ\"})"
   ]
  },
  {
   "attachments": {},
   "cell_type": "markdown",
   "id": "7d78ee08",
   "metadata": {},
   "source": [
    "### изменить тип на дату и вычленить дату"
   ]
  },
  {
   "cell_type": "code",
   "execution_count": 107,
   "id": "d9887c82",
   "metadata": {},
   "outputs": [],
   "source": [
    "burn_good_address['Дата операции'] = burn_good_address['Дата операции'].apply(\n",
    "    lambda x: datetime.strptime(x, '%Y-%m-%d')\n",
    ")"
   ]
  },
  {
   "cell_type": "code",
   "execution_count": 108,
   "id": "6cf61089",
   "metadata": {},
   "outputs": [],
   "source": [
    "burn_good_address['Месяц'] = burn_good_address['Дата операции'].dt.month"
   ]
  },
  {
   "cell_type": "code",
   "execution_count": 109,
   "id": "013be3bb",
   "metadata": {},
   "outputs": [],
   "source": [
    "burn_good_address['Год'] = burn_good_address['Дата операции'].dt.year"
   ]
  },
  {
   "attachments": {},
   "cell_type": "markdown",
   "id": "b3eeb005",
   "metadata": {},
   "source": [
    "### заменить бренды из справочника"
   ]
  },
  {
   "cell_type": "code",
   "execution_count": 110,
   "id": "ac5cdef1",
   "metadata": {},
   "outputs": [],
   "source": [
    "burn_good_address = burn_good_address.merge(\n",
    "    brands, how=\"left\", left_on=\"Наименование товара\", right_on=\"Бренд (исходный)\", suffixes=('_left', '_right')\n",
    ")"
   ]
  },
  {
   "cell_type": "code",
   "execution_count": 111,
   "id": "06f70355",
   "metadata": {},
   "outputs": [],
   "source": [
    "burn_good_address = burn_good_address.drop(columns=['Бренд (исходный)'])"
   ]
  },
  {
   "attachments": {},
   "cell_type": "markdown",
   "id": "5f405c72",
   "metadata": {},
   "source": [
    "### заменить граммовку"
   ]
  },
  {
   "cell_type": "code",
   "execution_count": 112,
   "id": "fe438446",
   "metadata": {},
   "outputs": [],
   "source": [
    "burn_good_address = burn_good_address.merge(\n",
    "    weight, how=\"left\", left_on=\"Наименование товара\", right_on=\"Исходная граммовка\", suffixes=('_left', '_right')\n",
    ")"
   ]
  },
  {
   "cell_type": "code",
   "execution_count": 113,
   "id": "07fb80d0",
   "metadata": {},
   "outputs": [],
   "source": [
    "burn_good_address = burn_good_address.drop(columns=['Исходная граммовка'])"
   ]
  },
  {
   "attachments": {},
   "cell_type": "markdown",
   "id": "2f2cd104",
   "metadata": {},
   "source": [
    "### Добавление колонки вес"
   ]
  },
  {
   "cell_type": "code",
   "execution_count": 114,
   "id": "fe008d46",
   "metadata": {},
   "outputs": [],
   "source": [
    "burn_good_address['Вес'] = (burn_good_address['Граммовка']/1000)* burn_good_address['Объем товара (пачек)']"
   ]
  },
  {
   "cell_type": "code",
   "execution_count": 115,
   "id": "d66ee518",
   "metadata": {},
   "outputs": [],
   "source": [
    "burn_good_address['Адрес'] = burn_good_address['Адрес'].fillna('не указан')"
   ]
  },
  {
   "attachments": {},
   "cell_type": "markdown",
   "id": "88d1ec04",
   "metadata": {},
   "source": [
    "### цены из справочника"
   ]
  },
  {
   "cell_type": "code",
   "execution_count": 116,
   "id": "7dd64a21",
   "metadata": {},
   "outputs": [],
   "source": [
    "burn_good_address = burn_good_address.merge(prices, how=\"left\", on='Наименование товара')"
   ]
  },
  {
   "cell_type": "code",
   "execution_count": 117,
   "id": "e9bb19f9",
   "metadata": {},
   "outputs": [
    {
     "data": {
      "text/plain": [
       "0"
      ]
     },
     "execution_count": 117,
     "metadata": {},
     "output_type": "execute_result"
    }
   ],
   "source": [
    "# должен быть ноль\n",
    "burn_good_address['Цена'].isna().sum()"
   ]
  },
  {
   "cell_type": "code",
   "execution_count": 118,
   "id": "5c280031",
   "metadata": {},
   "outputs": [],
   "source": [
    "burn_good_address['Цена'] = burn_good_address['Цена'] * burn_good_address['Объем товара (пачек)']"
   ]
  },
  {
   "attachments": {},
   "cell_type": "markdown",
   "id": "8aaaf51d",
   "metadata": {},
   "source": [
    "### Группировка"
   ]
  },
  {
   "cell_type": "code",
   "execution_count": 145,
   "id": "2f7f42a1",
   "metadata": {},
   "outputs": [
    {
     "data": {
      "text/html": [
       "<div>\n",
       "<style scoped>\n",
       "    .dataframe tbody tr th:only-of-type {\n",
       "        vertical-align: middle;\n",
       "    }\n",
       "\n",
       "    .dataframe tbody tr th {\n",
       "        vertical-align: top;\n",
       "    }\n",
       "\n",
       "    .dataframe thead th {\n",
       "        text-align: right;\n",
       "    }\n",
       "</style>\n",
       "<table border=\"1\" class=\"dataframe\">\n",
       "  <thead>\n",
       "    <tr style=\"text-align: right;\">\n",
       "      <th></th>\n",
       "      <th>Дата операции</th>\n",
       "      <th>ИНН производителя</th>\n",
       "      <th>Наименование производителя</th>\n",
       "      <th>ИНН участника</th>\n",
       "      <th>Наименование участника</th>\n",
       "      <th>Код субъекта РФ</th>\n",
       "      <th>GTIN</th>\n",
       "      <th>ТН ВЭД</th>\n",
       "      <th>Наименование товара</th>\n",
       "      <th>Объем товара (пачек)</th>\n",
       "      <th>МРЦ</th>\n",
       "      <th>Адрес</th>\n",
       "      <th>Субъект РФ</th>\n",
       "      <th>Месяц</th>\n",
       "      <th>Год</th>\n",
       "      <th>Бренд</th>\n",
       "      <th>Граммовка</th>\n",
       "      <th>Вес</th>\n",
       "      <th>Цена</th>\n",
       "    </tr>\n",
       "  </thead>\n",
       "  <tbody>\n",
       "    <tr>\n",
       "      <th>0</th>\n",
       "      <td>2022-10-12</td>\n",
       "      <td>5047205725</td>\n",
       "      <td>ООО \"БЁРН\"</td>\n",
       "      <td>861602195158</td>\n",
       "      <td>ИП Мыкалов Владимир Николаевич</td>\n",
       "      <td>74.0</td>\n",
       "      <td>4650259250815</td>\n",
       "      <td>2403110000</td>\n",
       "      <td>Табак для кальяна BlackBurn Siberian Soda (Лим...</td>\n",
       "      <td>120</td>\n",
       "      <td>0</td>\n",
       "      <td>г Челябинск, ул Труда, д 187, кв 1</td>\n",
       "      <td>Челябинская область</td>\n",
       "      <td>10</td>\n",
       "      <td>2022</td>\n",
       "      <td>BlackBurn</td>\n",
       "      <td>25</td>\n",
       "      <td>3.0</td>\n",
       "      <td>15840</td>\n",
       "    </tr>\n",
       "    <tr>\n",
       "      <th>1</th>\n",
       "      <td>2022-10-14</td>\n",
       "      <td>5047205725</td>\n",
       "      <td>ООО \"БЁРН\"</td>\n",
       "      <td>220400152969</td>\n",
       "      <td>ИП Авдиюк Ирина Анатольевна</td>\n",
       "      <td>22.0</td>\n",
       "      <td>4650190051472</td>\n",
       "      <td>2403110000</td>\n",
       "      <td>Табак для кальяна BlackBurn Chupa Graper (Вино...</td>\n",
       "      <td>83</td>\n",
       "      <td>0</td>\n",
       "      <td>г Барнаул, ул Бабуркина, д 11А</td>\n",
       "      <td>Алтайский край</td>\n",
       "      <td>10</td>\n",
       "      <td>2022</td>\n",
       "      <td>BlackBurn</td>\n",
       "      <td>25</td>\n",
       "      <td>2.075</td>\n",
       "      <td>10956</td>\n",
       "    </tr>\n",
       "  </tbody>\n",
       "</table>\n",
       "</div>"
      ],
      "text/plain": [
       "  Дата операции  ИНН производителя Наименование производителя  ИНН участника  \\\n",
       "0    2022-10-12         5047205725                 ООО \"БЁРН\"   861602195158   \n",
       "1    2022-10-14         5047205725                 ООО \"БЁРН\"   220400152969   \n",
       "\n",
       "           Наименование участника  Код субъекта РФ           GTIN      ТН ВЭД  \\\n",
       "0  ИП Мыкалов Владимир Николаевич             74.0  4650259250815  2403110000   \n",
       "1     ИП Авдиюк Ирина Анатольевна             22.0  4650190051472  2403110000   \n",
       "\n",
       "                                 Наименование товара  Объем товара (пачек)  \\\n",
       "0  Табак для кальяна BlackBurn Siberian Soda (Лим...                   120   \n",
       "1  Табак для кальяна BlackBurn Chupa Graper (Вино...                    83   \n",
       "\n",
       "   МРЦ                               Адрес           Субъект РФ  Месяц   Год  \\\n",
       "0    0  г Челябинск, ул Труда, д 187, кв 1  Челябинская область     10  2022   \n",
       "1    0      г Барнаул, ул Бабуркина, д 11А       Алтайский край     10  2022   \n",
       "\n",
       "       Бренд Граммовка    Вес   Цена  \n",
       "0  BlackBurn        25    3.0  15840  \n",
       "1  BlackBurn        25  2.075  10956  "
      ]
     },
     "execution_count": 145,
     "metadata": {},
     "output_type": "execute_result"
    }
   ],
   "source": [
    "burn_good_address.head(2)"
   ]
  },
  {
   "cell_type": "code",
   "execution_count": 146,
   "id": "30ff47ae",
   "metadata": {},
   "outputs": [],
   "source": [
    "burn_good = burn_good_address.groupby(['Год', 'Месяц', 'Субъект РФ', 'Бренд', 'Адрес']).agg({'Вес':'sum','Цена':'sum'}).reset_index()"
   ]
  },
  {
   "cell_type": "code",
   "execution_count": 147,
   "id": "bb86113e",
   "metadata": {},
   "outputs": [
    {
     "name": "stdout",
     "output_type": "stream",
     "text": [
      "<class 'pandas.core.frame.DataFrame'>\n",
      "RangeIndex: 225080 entries, 0 to 225079\n",
      "Data columns (total 7 columns):\n",
      " #   Column      Non-Null Count   Dtype \n",
      "---  ------      --------------   ----- \n",
      " 0   Год         225080 non-null  int64 \n",
      " 1   Месяц       225080 non-null  int64 \n",
      " 2   Субъект РФ  225080 non-null  object\n",
      " 3   Бренд       225080 non-null  object\n",
      " 4   Адрес       225080 non-null  object\n",
      " 5   Вес         225080 non-null  object\n",
      " 6   Цена        225080 non-null  int64 \n",
      "dtypes: int64(3), object(4)\n",
      "memory usage: 12.0+ MB\n"
     ]
    }
   ],
   "source": [
    "burn_good.info()"
   ]
  },
  {
   "attachments": {},
   "cell_type": "markdown",
   "id": "cc42722b",
   "metadata": {},
   "source": [
    "# РАБОТА С ФАЙЛОМ MHDS"
   ]
  },
  {
   "cell_type": "code",
   "execution_count": 119,
   "id": "92619024",
   "metadata": {},
   "outputs": [],
   "source": [
    "dsmh_copy = dsmh.copy(deep = True)"
   ]
  },
  {
   "attachments": {},
   "cell_type": "markdown",
   "id": "44fc108f",
   "metadata": {},
   "source": [
    "### Выделить месяц и год"
   ]
  },
  {
   "cell_type": "code",
   "execution_count": 120,
   "id": "57eb4b9f",
   "metadata": {},
   "outputs": [],
   "source": [
    "dsmh_copy['Дата операции'] = dsmh_copy['мес'].apply(\n",
    "    lambda x: datetime.strptime(x, '%Y-%m-%d')\n",
    ")"
   ]
  },
  {
   "cell_type": "code",
   "execution_count": 121,
   "id": "09a34eba",
   "metadata": {},
   "outputs": [],
   "source": [
    "dsmh_copy['Месяц'] = dsmh_copy['Дата операции'].dt.month"
   ]
  },
  {
   "cell_type": "code",
   "execution_count": 122,
   "id": "f678bc0e",
   "metadata": {},
   "outputs": [],
   "source": [
    "dsmh_copy['Год'] = dsmh_copy['Дата операции'].dt.year"
   ]
  },
  {
   "attachments": {},
   "cell_type": "markdown",
   "id": "2f7187eb",
   "metadata": {},
   "source": [
    "### регион из справочника"
   ]
  },
  {
   "cell_type": "code",
   "execution_count": 123,
   "id": "4442be76",
   "metadata": {},
   "outputs": [],
   "source": [
    "dsmh_copy = dsmh_copy.merge(\n",
    "    regions, how=\"left\", left_on=\"рег\", right_on=\"Субъект РФ исходный\", suffixes=('_left', '_right')\n",
    ")"
   ]
  },
  {
   "cell_type": "code",
   "execution_count": 124,
   "id": "e5973c20",
   "metadata": {},
   "outputs": [],
   "source": [
    "dsmh_copy = dsmh_copy.drop(columns=['Субъект РФ исходный', 'рег'])"
   ]
  },
  {
   "attachments": {},
   "cell_type": "markdown",
   "id": "f1b235ef",
   "metadata": {},
   "source": [
    "### адрес из справочника"
   ]
  },
  {
   "cell_type": "code",
   "execution_count": 125,
   "id": "936099fc",
   "metadata": {},
   "outputs": [],
   "source": [
    "need_addresses = addresses[['Исходный адрес', 'Адрес']]"
   ]
  },
  {
   "cell_type": "code",
   "execution_count": 126,
   "id": "2bc308de",
   "metadata": {},
   "outputs": [],
   "source": [
    "dsmh_good_address = dsmh_copy.merge(need_addresses, how=\"left\", left_on='адрес', right_on='Исходный адрес')"
   ]
  },
  {
   "cell_type": "code",
   "execution_count": 127,
   "id": "aa94a95d",
   "metadata": {},
   "outputs": [],
   "source": [
    "dsmh_good_address = dsmh_good_address.drop(columns=['Исходный адрес', 'адрес'])"
   ]
  },
  {
   "attachments": {},
   "cell_type": "markdown",
   "id": "9f447b7f",
   "metadata": {},
   "source": [
    "### цены из справочника"
   ]
  },
  {
   "cell_type": "code",
   "execution_count": 128,
   "id": "3f6a9111",
   "metadata": {},
   "outputs": [],
   "source": [
    "dsmh_good_address['Наименование товара'] = dsmh_good_address['продукт'] + dsmh_good_address['вес'].astype(str)"
   ]
  },
  {
   "cell_type": "code",
   "execution_count": 129,
   "id": "418097e4",
   "metadata": {},
   "outputs": [],
   "source": [
    "dsmh_good_address = dsmh_good_address.merge(prices, how=\"left\", on='Наименование товара')"
   ]
  },
  {
   "cell_type": "code",
   "execution_count": 130,
   "id": "275cab6c",
   "metadata": {},
   "outputs": [
    {
     "data": {
      "text/plain": [
       "0"
      ]
     },
     "execution_count": 130,
     "metadata": {},
     "output_type": "execute_result"
    }
   ],
   "source": [
    "dsmh_good_address['Цена'].isna().sum()"
   ]
  },
  {
   "cell_type": "code",
   "execution_count": 131,
   "id": "16e2c58d",
   "metadata": {},
   "outputs": [],
   "source": [
    "dsmh_good_address['Цена'] = dsmh_good_address['Цена'] * dsmh_good_address['колво']"
   ]
  },
  {
   "attachments": {},
   "cell_type": "markdown",
   "id": "8bfef879",
   "metadata": {},
   "source": [
    "### вес из кол-во и граммовки (у них вес называется)"
   ]
  },
  {
   "cell_type": "code",
   "execution_count": 132,
   "id": "02d4851e",
   "metadata": {},
   "outputs": [],
   "source": [
    "dsmh_good_address['Новый вес'] = (dsmh_good_address['вес']/1000) * dsmh_good_address['колво']"
   ]
  },
  {
   "cell_type": "code",
   "execution_count": 134,
   "id": "b4683519",
   "metadata": {},
   "outputs": [],
   "source": [
    "dsmh_good_address = dsmh_good_address.drop(columns=['вес', 'колво'])"
   ]
  },
  {
   "cell_type": "code",
   "execution_count": 135,
   "id": "538c3b4a",
   "metadata": {},
   "outputs": [],
   "source": [
    "dsmh_good_address = dsmh_good_address.rename(columns = {'Новый вес': 'Вес'})"
   ]
  },
  {
   "attachments": {},
   "cell_type": "markdown",
   "id": "b9b12d3b",
   "metadata": {},
   "source": [
    "### бренд из справочника (менять не надо)"
   ]
  },
  {
   "cell_type": "code",
   "execution_count": 136,
   "id": "b39a64ae",
   "metadata": {},
   "outputs": [],
   "source": [
    "dsmh_good_address = dsmh_good_address.rename(columns={'бренд':'Бренд'})"
   ]
  },
  {
   "attachments": {},
   "cell_type": "markdown",
   "id": "0bc713dd",
   "metadata": {},
   "source": [
    "### Группировка"
   ]
  },
  {
   "cell_type": "code",
   "execution_count": 137,
   "id": "c7eaea6c",
   "metadata": {
    "scrolled": true
   },
   "outputs": [],
   "source": [
    "dsmh_good_address = dsmh_good_address.groupby(['Год', 'Месяц', 'Субъект РФ', 'Бренд', 'Адрес']).agg({'Вес':'sum','Цена':'sum'}).reset_index()"
   ]
  },
  {
   "cell_type": "code",
   "execution_count": 138,
   "id": "0bb281fb",
   "metadata": {},
   "outputs": [
    {
     "name": "stdout",
     "output_type": "stream",
     "text": [
      "<class 'pandas.core.frame.DataFrame'>\n",
      "RangeIndex: 328257 entries, 0 to 328256\n",
      "Data columns (total 7 columns):\n",
      " #   Column      Non-Null Count   Dtype  \n",
      "---  ------      --------------   -----  \n",
      " 0   Год         328257 non-null  int64  \n",
      " 1   Месяц       328257 non-null  int64  \n",
      " 2   Субъект РФ  328257 non-null  object \n",
      " 3   Бренд       328257 non-null  object \n",
      " 4   Адрес       328257 non-null  object \n",
      " 5   Вес         328257 non-null  float64\n",
      " 6   Цена        328257 non-null  int64  \n",
      "dtypes: float64(1), int64(3), object(3)\n",
      "memory usage: 17.5+ MB\n"
     ]
    }
   ],
   "source": [
    "dsmh_good_address.info()"
   ]
  },
  {
   "cell_type": "code",
   "execution_count": 148,
   "id": "22635a47",
   "metadata": {},
   "outputs": [],
   "source": [
    "BBDSMH = pd.concat([dsmh_good_address, burn_good], ignore_index=True)"
   ]
  },
  {
   "cell_type": "code",
   "execution_count": null,
   "id": "e131df22",
   "metadata": {},
   "outputs": [],
   "source": [
    "# удалить ненужный адрес\n",
    "BBDSMH = BBDSMH.loc[ BBDSMH['Адрес'] != 'г Санкт-Петербург, наб Пироговская, д 17 к 7' ]\n",
    "BBDSMH = BBDSMH.loc[ BBDSMH['Адрес'] != 'г Санкт-Петербург, наб Пироговская, д 17 к 7 литера а' ]\n"
   ]
  },
  {
   "cell_type": "code",
   "execution_count": null,
   "id": "0773f9fb",
   "metadata": {},
   "outputs": [],
   "source": [
    "BBDSMH = BBDSMH.loc[ (BBDSMH['Бренд'] == 'DARKSIDE') | (BBDSMH['Бренд'] == 'MUST HAVE') | (BBDSMH['Бренд'] == 'BlackBurn') ]"
   ]
  },
  {
   "cell_type": "code",
   "execution_count": 159,
   "id": "08390d64",
   "metadata": {},
   "outputs": [],
   "source": [
    "BBDSMH.to_excel(r'D:\\Analysis Burn\\Википедия\\Wikipedia.xlsx', index=False)"
   ]
  }
 ],
 "metadata": {
  "kernelspec": {
   "display_name": "Python 3 (ipykernel)",
   "language": "python",
   "name": "python3"
  },
  "language_info": {
   "codemirror_mode": {
    "name": "ipython",
    "version": 3
   },
   "file_extension": ".py",
   "mimetype": "text/x-python",
   "name": "python",
   "nbconvert_exporter": "python",
   "pygments_lexer": "ipython3",
   "version": "3.10.11"
  }
 },
 "nbformat": 4,
 "nbformat_minor": 5
}
