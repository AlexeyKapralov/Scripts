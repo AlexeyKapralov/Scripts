{
 "cells": [
  {
   "cell_type": "markdown",
   "id": "04720f35",
   "metadata": {},
   "source": [
    "path1 содержит папку с выгрузкой BURN\n",
    "path2 содержит папку с выгрузкой DSMH\n",
    "    \n",
    "    - проверять наименования колонок, чтобы они были одинаковые\n",
    "    - колонка с датой должна быть текстового формата 2022-01-01 (не excel-датой)\n",
    "    - нужно просто добавить новый месяц и не обрабатывать старые, все старые уже в файле dsmh.csv, просто добавь к нему новые данные и их крути\n",
    "    \n",
    "из path1 собирает данные в frame\n",
    "\n",
    "из path2 собирает данные в frame2"
   ]
  },
  {
   "cell_type": "code",
   "execution_count": 2,
   "id": "3b685f9c",
   "metadata": {},
   "outputs": [],
   "source": [
    "import pandas as pd\n",
    "import os\n",
    "import glob"
   ]
  },
  {
   "cell_type": "code",
   "execution_count": 3,
   "id": "53c54881",
   "metadata": {},
   "outputs": [],
   "source": [
    "path = r'D:\\Analysys Burn\\Википедия\\БЁРН исходники\\Исходники'"
   ]
  },
  {
   "cell_type": "code",
   "execution_count": 4,
   "id": "532d97f6",
   "metadata": {},
   "outputs": [],
   "source": [
    "path2 = r'D:\\Analysys Burn\\Википедия\\СВМХ исходники\\Исходники'"
   ]
  },
  {
   "cell_type": "code",
   "execution_count": 5,
   "id": "f059cc6e",
   "metadata": {},
   "outputs": [],
   "source": [
    "csv_files = glob.glob(os.path.join(path, \"*.csv\"))"
   ]
  },
  {
   "cell_type": "code",
   "execution_count": 7,
   "id": "d312e425",
   "metadata": {},
   "outputs": [],
   "source": [
    "xl_files = glob.glob(os.path.join(path2, \"*.xlsb\"))"
   ]
  },
  {
   "cell_type": "code",
   "execution_count": 6,
   "id": "1fff12d9",
   "metadata": {},
   "outputs": [],
   "source": [
    "li = []\n",
    "\n",
    "for f in csv_files:\n",
    "      \n",
    "    # read the csv file\n",
    "    df = pd.read_csv(f)\n",
    "    li.append(df)  \n",
    "    \n",
    "    \n",
    "    # print the location and filename\n",
    "    # print('Location:', f)\n",
    "    # print('File Name:', f.split(\"\\\\\")[-1])\n",
    "      \n",
    "    # print the content\n",
    "    # print('Content:')\n",
    "    # display(df)\n",
    "    # print()\n",
    "\n",
    "frame = pd.concat(li, axis=0, ignore_index=True)"
   ]
  },
  {
   "cell_type": "code",
   "execution_count": 9,
   "id": "99118a00",
   "metadata": {},
   "outputs": [],
   "source": [
    "li2 = []\n",
    "\n",
    "for f2 in xl_files:\n",
    "      \n",
    "    # read the csv file\n",
    "    df2 = pd.read_excel(f2)\n",
    "    \n",
    "    li2.append(df2)  \n",
    "    \n",
    "    \n",
    "    # print the location and filename\n",
    "    # print('Location:', f)\n",
    "    # print('File Name:', f.split(\"\\\\\")[-1])\n",
    "      \n",
    "    # print the content\n",
    "    # print('Content:')\n",
    "    # display(df)\n",
    "    # print()\n",
    "\n",
    "frame2 = pd.concat(li2, axis=0, ignore_index=True)"
   ]
  },
  {
   "cell_type": "code",
   "execution_count": 11,
   "id": "742bd715",
   "metadata": {},
   "outputs": [],
   "source": [
    "frame2.to_csv(r'D:\\Analysys Burn\\Википедия\\СВМХ исходники\\dsmh.csv', index=False)"
   ]
  },
  {
   "cell_type": "code",
   "execution_count": 7,
   "id": "35eb17e2",
   "metadata": {},
   "outputs": [],
   "source": [
    "frame.to_csv(r'D:\\Analysys Burn\\Википедия\\БЁРН исходники\\burn_tobacco.csv', index=False)\n",
    "# frame2.to_csv(r'D:\\Аналитика Капралов\\Википедия\\СВМХ исходники\\dsmh.csv', index=False)"
   ]
  },
  {
   "cell_type": "code",
   "execution_count": 8,
   "id": "51b79870",
   "metadata": {},
   "outputs": [
    {
     "data": {
      "text/html": [
       "<div>\n",
       "<style scoped>\n",
       "    .dataframe tbody tr th:only-of-type {\n",
       "        vertical-align: middle;\n",
       "    }\n",
       "\n",
       "    .dataframe tbody tr th {\n",
       "        vertical-align: top;\n",
       "    }\n",
       "\n",
       "    .dataframe thead th {\n",
       "        text-align: right;\n",
       "    }\n",
       "</style>\n",
       "<table border=\"1\" class=\"dataframe\">\n",
       "  <thead>\n",
       "    <tr style=\"text-align: right;\">\n",
       "      <th></th>\n",
       "      <th>Дата операции</th>\n",
       "      <th>ИНН производителя</th>\n",
       "      <th>Наименование производителя</th>\n",
       "      <th>ИНН участника</th>\n",
       "      <th>Наименование участника</th>\n",
       "      <th>Код субъекта РФ</th>\n",
       "      <th>Субъект РФ</th>\n",
       "      <th>Адрес</th>\n",
       "      <th>GTIN</th>\n",
       "      <th>ТН ВЭД</th>\n",
       "      <th>Наименование товара</th>\n",
       "      <th>Объем товара (пачек)</th>\n",
       "      <th>МРЦ</th>\n",
       "    </tr>\n",
       "  </thead>\n",
       "  <tbody>\n",
       "    <tr>\n",
       "      <th>0</th>\n",
       "      <td>2022-10-12</td>\n",
       "      <td>5047205725</td>\n",
       "      <td>ООО \"БЁРН\"</td>\n",
       "      <td>861602195158</td>\n",
       "      <td>ИП Мыкалов Владимир Николаевич</td>\n",
       "      <td>74.0</td>\n",
       "      <td>Челябинская область</td>\n",
       "      <td>г Челябинск, ул Труда, д 187, кв 1</td>\n",
       "      <td>4650259250815</td>\n",
       "      <td>2403110000</td>\n",
       "      <td>Табак для кальяна BlackBurn Siberian Soda (Лим...</td>\n",
       "      <td>120</td>\n",
       "      <td>0</td>\n",
       "    </tr>\n",
       "    <tr>\n",
       "      <th>1</th>\n",
       "      <td>2022-10-14</td>\n",
       "      <td>5047205725</td>\n",
       "      <td>ООО \"БЁРН\"</td>\n",
       "      <td>220400152969</td>\n",
       "      <td>ИП Авдиюк Ирина Анатольевна</td>\n",
       "      <td>22.0</td>\n",
       "      <td>Алтайский край</td>\n",
       "      <td>г Барнаул, ул Бабуркина, д 11А</td>\n",
       "      <td>4650190051472</td>\n",
       "      <td>2403110000</td>\n",
       "      <td>Табак для кальяна BlackBurn Chupa Graper (Вино...</td>\n",
       "      <td>83</td>\n",
       "      <td>0</td>\n",
       "    </tr>\n",
       "    <tr>\n",
       "      <th>2</th>\n",
       "      <td>2022-10-16</td>\n",
       "      <td>5047205725</td>\n",
       "      <td>ООО \"БЁРН\"</td>\n",
       "      <td>614306474880</td>\n",
       "      <td>ИП Белоглазова Людмила Викторовна</td>\n",
       "      <td>61.0</td>\n",
       "      <td>Ростовская область</td>\n",
       "      <td>г Ростов-на-Дону, ул Текучева, д 238/73</td>\n",
       "      <td>4650259250815</td>\n",
       "      <td>2403110000</td>\n",
       "      <td>Табак для кальяна BlackBurn Siberian Soda (Лим...</td>\n",
       "      <td>81</td>\n",
       "      <td>0</td>\n",
       "    </tr>\n",
       "    <tr>\n",
       "      <th>3</th>\n",
       "      <td>2022-10-13</td>\n",
       "      <td>5047205725</td>\n",
       "      <td>ООО \"БЁРН\"</td>\n",
       "      <td>165917399308</td>\n",
       "      <td>ИП Абдулгалимов Наиль Равилевич</td>\n",
       "      <td>16.0</td>\n",
       "      <td>Республика Татарстан (Татарстан)</td>\n",
       "      <td>г Казань, ул Аделя Кутуя, д 53А</td>\n",
       "      <td>4650259250815</td>\n",
       "      <td>2403110000</td>\n",
       "      <td>Табак для кальяна BlackBurn Siberian Soda (Лим...</td>\n",
       "      <td>81</td>\n",
       "      <td>0</td>\n",
       "    </tr>\n",
       "    <tr>\n",
       "      <th>4</th>\n",
       "      <td>2022-10-15</td>\n",
       "      <td>5047205725</td>\n",
       "      <td>ООО \"БЁРН\"</td>\n",
       "      <td>550621688307</td>\n",
       "      <td>ИП Бодня Алена Дмитриевна</td>\n",
       "      <td>55.0</td>\n",
       "      <td>Омская область</td>\n",
       "      <td>г Омск, ул Лермонтова, д 32</td>\n",
       "      <td>4650190051441</td>\n",
       "      <td>2403110000</td>\n",
       "      <td>Табак для кальяна BlackBurn KiwiStoner (Киви С...</td>\n",
       "      <td>81</td>\n",
       "      <td>0</td>\n",
       "    </tr>\n",
       "  </tbody>\n",
       "</table>\n",
       "</div>"
      ],
      "text/plain": [
       "  Дата операции  ИНН производителя Наименование производителя  ИНН участника  \\\n",
       "0    2022-10-12         5047205725                 ООО \"БЁРН\"   861602195158   \n",
       "1    2022-10-14         5047205725                 ООО \"БЁРН\"   220400152969   \n",
       "2    2022-10-16         5047205725                 ООО \"БЁРН\"   614306474880   \n",
       "3    2022-10-13         5047205725                 ООО \"БЁРН\"   165917399308   \n",
       "4    2022-10-15         5047205725                 ООО \"БЁРН\"   550621688307   \n",
       "\n",
       "              Наименование участника  Код субъекта РФ  \\\n",
       "0     ИП Мыкалов Владимир Николаевич             74.0   \n",
       "1        ИП Авдиюк Ирина Анатольевна             22.0   \n",
       "2  ИП Белоглазова Людмила Викторовна             61.0   \n",
       "3    ИП Абдулгалимов Наиль Равилевич             16.0   \n",
       "4          ИП Бодня Алена Дмитриевна             55.0   \n",
       "\n",
       "                         Субъект РФ                                    Адрес  \\\n",
       "0               Челябинская область       г Челябинск, ул Труда, д 187, кв 1   \n",
       "1                    Алтайский край           г Барнаул, ул Бабуркина, д 11А   \n",
       "2                Ростовская область  г Ростов-на-Дону, ул Текучева, д 238/73   \n",
       "3  Республика Татарстан (Татарстан)          г Казань, ул Аделя Кутуя, д 53А   \n",
       "4                    Омская область              г Омск, ул Лермонтова, д 32   \n",
       "\n",
       "            GTIN      ТН ВЭД  \\\n",
       "0  4650259250815  2403110000   \n",
       "1  4650190051472  2403110000   \n",
       "2  4650259250815  2403110000   \n",
       "3  4650259250815  2403110000   \n",
       "4  4650190051441  2403110000   \n",
       "\n",
       "                                 Наименование товара  Объем товара (пачек)  \\\n",
       "0  Табак для кальяна BlackBurn Siberian Soda (Лим...                   120   \n",
       "1  Табак для кальяна BlackBurn Chupa Graper (Вино...                    83   \n",
       "2  Табак для кальяна BlackBurn Siberian Soda (Лим...                    81   \n",
       "3  Табак для кальяна BlackBurn Siberian Soda (Лим...                    81   \n",
       "4  Табак для кальяна BlackBurn KiwiStoner (Киви С...                    81   \n",
       "\n",
       "   МРЦ  \n",
       "0    0  \n",
       "1    0  \n",
       "2    0  \n",
       "3    0  \n",
       "4    0  "
      ]
     },
     "execution_count": 8,
     "metadata": {},
     "output_type": "execute_result"
    }
   ],
   "source": [
    "frame.head()"
   ]
  },
  {
   "cell_type": "code",
   "execution_count": 12,
   "id": "d71cdb6d",
   "metadata": {},
   "outputs": [],
   "source": [
    "a = frame.groupby([\"Субъект РФ\", \"Наименование товара\"])[\"Объем товара (пачек)\"].sum().reset_index()"
   ]
  },
  {
   "cell_type": "code",
   "execution_count": 14,
   "id": "0c192bd9",
   "metadata": {},
   "outputs": [],
   "source": [
    "a.to_excel(r\"C:\\Users\\alewk\\OneDrive\\Desktop\\checkBurn.xlsx\")"
   ]
  },
  {
   "cell_type": "code",
   "execution_count": null,
   "id": "636075a3",
   "metadata": {},
   "outputs": [],
   "source": []
  }
 ],
 "metadata": {
  "kernelspec": {
   "display_name": "Python 3 (ipykernel)",
   "language": "python",
   "name": "python3"
  },
  "language_info": {
   "codemirror_mode": {
    "name": "ipython",
    "version": 3
   },
   "file_extension": ".py",
   "mimetype": "text/x-python",
   "name": "python",
   "nbconvert_exporter": "python",
   "pygments_lexer": "ipython3",
   "version": "3.10.11"
  }
 },
 "nbformat": 4,
 "nbformat_minor": 5
}
