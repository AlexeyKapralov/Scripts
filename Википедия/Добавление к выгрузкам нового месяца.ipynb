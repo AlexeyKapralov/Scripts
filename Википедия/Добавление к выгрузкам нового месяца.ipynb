{
 "cells": [
  {
   "attachments": {},
   "cell_type": "markdown",
   "id": "04720f35",
   "metadata": {},
   "source": [
    "path содержит папку с выгрузкой BURN (где новые)\n",
    "path2 содержит папку с выгрузкой DSMH (где новые)\n",
    "    \n",
    "    - проверять наименования колонок, чтобы они были одинаковые\n",
    "    - колонка с датой должна быть текстового формата 2022-01-01 (не excel-датой)\n",
    "    - нужно просто добавить новый месяц и не обрабатывать старые, все старые уже в файле dsmh.csv, просто добавь к нему новые данные и их крути\n",
    "    \n",
    "из path1 собирает данные в frame\n",
    "\n",
    "из path2 собирает данные в frame2\n",
    "\n"
   ]
  },
  {
   "cell_type": "code",
   "execution_count": 1,
   "id": "3b685f9c",
   "metadata": {},
   "outputs": [],
   "source": [
    "import pandas as pd\n",
    "import os\n",
    "import glob"
   ]
  },
  {
   "cell_type": "code",
   "execution_count": 2,
   "id": "b6a3a6a6",
   "metadata": {},
   "outputs": [],
   "source": [
    "path_basic = 'D:\\\\Analysis Burn'"
   ]
  },
  {
   "cell_type": "code",
   "execution_count": 3,
   "id": "53c54881",
   "metadata": {},
   "outputs": [],
   "source": [
    "path = r'D:\\Analysis Burn\\Википедия\\БЁРН исходники\\Не добавлено'"
   ]
  },
  {
   "cell_type": "code",
   "execution_count": 6,
   "id": "532d97f6",
   "metadata": {},
   "outputs": [],
   "source": [
    "path2 = r'D:\\Analysis Burn\\Википедия\\СВМХ исходники\\Не добавлено'"
   ]
  },
  {
   "cell_type": "code",
   "execution_count": 4,
   "id": "f059cc6e",
   "metadata": {},
   "outputs": [],
   "source": [
    "csv_files = glob.glob(os.path.join(path, \"*.csv\"))"
   ]
  },
  {
   "cell_type": "code",
   "execution_count": 9,
   "id": "d312e425",
   "metadata": {},
   "outputs": [],
   "source": [
    "xl_files = glob.glob(os.path.join(path2, \"*.xlsb\"))"
   ]
  },
  {
   "cell_type": "code",
   "execution_count": 5,
   "id": "bf73edf6",
   "metadata": {},
   "outputs": [],
   "source": [
    "burn = pd.read_csv(path_basic + '\\\\Википедия\\\\БЁРН исходники\\\\burn_tobacco.csv')\n",
    "# dsmh = pd.read_csv(path_basic + '\\\\Википедия\\\\СВМХ исходники\\\\dsmh.csv')"
   ]
  },
  {
   "cell_type": "code",
   "execution_count": 7,
   "id": "1fff12d9",
   "metadata": {},
   "outputs": [],
   "source": [
    "# собрать burn файлы\n",
    "li = []\n",
    "\n",
    "for f in csv_files:\n",
    "      \n",
    "    # read the csv file\n",
    "    df = pd.read_csv(f)\n",
    "    li.append(df)  \n",
    "    \n",
    "    \n",
    "    # print the location and filename\n",
    "    # print('Location:', f)\n",
    "    # print('File Name:', f.split(\"\\\\\")[-1])\n",
    "      \n",
    "    # print the content\n",
    "    # print('Content:')\n",
    "    # display(df)\n",
    "    # print()\n",
    "\n",
    "frame = pd.concat(li, axis=0, ignore_index=True)"
   ]
  },
  {
   "cell_type": "code",
   "execution_count": 28,
   "id": "99118a00",
   "metadata": {},
   "outputs": [],
   "source": [
    "# собрать burn файлы\n",
    "li2 = []\n",
    "\n",
    "for f2 in xl_files:\n",
    "      \n",
    "    # read the excel file\n",
    "    df2 = pd.read_excel(f2)\n",
    "    \n",
    "    li2.append(df2)  \n",
    "    \n",
    "    \n",
    "    # print the location and filename\n",
    "    # print('Location:', f)\n",
    "    # print('File Name:', f.split(\"\\\\\")[-1])\n",
    "      \n",
    "    # print the content\n",
    "    # print('Content:')\n",
    "    # display(df)\n",
    "    # print()\n",
    "\n",
    "frame2 = pd.concat(li2, axis=0, ignore_index=True)"
   ]
  },
  {
   "cell_type": "code",
   "execution_count": 10,
   "id": "b833bb05",
   "metadata": {},
   "outputs": [],
   "source": [
    "# соединить новый файл и все существующие\n",
    "frame = pd.concat([burn, frame])"
   ]
  },
  {
   "cell_type": "code",
   "execution_count": 30,
   "id": "39327845",
   "metadata": {},
   "outputs": [],
   "source": [
    "frame2 = pd.concat([dsmh, frame2])"
   ]
  },
  {
   "cell_type": "code",
   "execution_count": 41,
   "id": "742bd715",
   "metadata": {},
   "outputs": [],
   "source": [
    "frame2.to_csv(r'D:\\Analysis Burn\\Википедия\\СВМХ исходники\\dsmh.csv', index=False)"
   ]
  },
  {
   "cell_type": "code",
   "execution_count": 15,
   "id": "35eb17e2",
   "metadata": {},
   "outputs": [],
   "source": [
    "frame.to_csv(r'D:\\Analysis Burn\\Википедия\\БЁРН исходники\\burn_tobacco.csv', index=False)"
   ]
  },
  {
   "cell_type": "code",
   "execution_count": null,
   "id": "373291f5",
   "metadata": {},
   "outputs": [],
   "source": []
  }
 ],
 "metadata": {
  "kernelspec": {
   "display_name": "Python 3 (ipykernel)",
   "language": "python",
   "name": "python3"
  },
  "language_info": {
   "codemirror_mode": {
    "name": "ipython",
    "version": 3
   },
   "file_extension": ".py",
   "mimetype": "text/x-python",
   "name": "python",
   "nbconvert_exporter": "python",
   "pygments_lexer": "ipython3",
   "version": "3.10.11"
  }
 },
 "nbformat": 4,
 "nbformat_minor": 5
}
