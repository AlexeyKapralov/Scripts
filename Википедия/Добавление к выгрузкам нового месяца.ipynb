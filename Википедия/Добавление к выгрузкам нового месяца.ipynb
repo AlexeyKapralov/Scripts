{
 "cells": [
  {
   "attachments": {},
   "cell_type": "markdown",
   "id": "04720f35",
   "metadata": {},
   "source": [
    "path содержит папку с выгрузкой BURN (где новые)\n",
    "path2 содержит папку с выгрузкой DSMH (где новые)\n",
    "    \n",
    "    - проверять наименования колонок, чтобы они были одинаковые\n",
    "    - колонка с датой должна быть текстового формата 2022-01-01 (не excel-датой)\n",
    "    - нужно просто добавить новый месяц и не обрабатывать старые, все старые уже в файле dsmh.csv, просто добавь к нему новые данные и их крути\n",
    "    \n",
    "из path1 собирает данные в frame\n",
    "\n",
    "из path2 собирает данные в frame2\n",
    "\n"
   ]
  },
  {
   "cell_type": "code",
   "execution_count": 11,
   "id": "3b685f9c",
   "metadata": {},
   "outputs": [],
   "source": [
    "import pandas as pd\n",
    "import os\n",
    "import glob"
   ]
  },
  {
   "cell_type": "code",
   "execution_count": 12,
   "id": "b6a3a6a6",
   "metadata": {},
   "outputs": [],
   "source": [
    "path_basic = 'D:\\\\Analysis Burn'"
   ]
  },
  {
   "cell_type": "code",
   "execution_count": 13,
   "id": "53c54881",
   "metadata": {},
   "outputs": [],
   "source": [
    "path = r'D:\\Analysis Burn\\Википедия\\БЁРН исходники\\Не добавлено'\n",
    "csv_files = glob.glob(os.path.join(path, \"*.csv\"))"
   ]
  },
  {
   "cell_type": "code",
   "execution_count": 6,
   "id": "532d97f6",
   "metadata": {},
   "outputs": [],
   "source": [
    "path2 = r'D:\\Analysis Burn\\Википедия\\СВМХ исходники\\Не добавлено'\n",
    "xl_files = glob.glob(os.path.join(path2, \"*.xlsb\"))"
   ]
  },
  {
   "cell_type": "code",
   "execution_count": 14,
   "id": "bf73edf6",
   "metadata": {},
   "outputs": [],
   "source": [
    "burn = pd.read_csv(path_basic + '\\\\Википедия\\\\БЁРН исходники\\\\burn_tobacco.csv')\n",
    "dsmh = pd.read_csv(path_basic + '\\\\Википедия\\\\СВМХ исходники\\\\dsmh.csv')"
   ]
  },
  {
   "cell_type": "code",
   "execution_count": 15,
   "id": "1fff12d9",
   "metadata": {},
   "outputs": [],
   "source": [
    "# собрать burn файлы\n",
    "li = []\n",
    "\n",
    "for f in csv_files:\n",
    "      \n",
    "    # read the csv file\n",
    "    df = pd.read_csv(f) \n",
    "    li.append(df) \n",
    "    \n",
    "    \n",
    "    # print the location and filename\n",
    "    # print('Location:', f)\n",
    "    # print('File Name:', f.split(\"\\\\\")[-1])\n",
    "      \n",
    "    # print the content\n",
    "    # print('Content:')\n",
    "    # display(df)\n",
    "    # print()\n",
    "\n",
    "frame = pd.concat(li, axis=0, ignore_index=True)"
   ]
  },
  {
   "cell_type": "code",
   "execution_count": 18,
   "id": "99118a00",
   "metadata": {},
   "outputs": [],
   "source": [
    "# собрать dsmh файлы\n",
    "li2 = []\n",
    "\n",
    "for f2 in xl_files:\n",
    "      \n",
    "    # read the excel file\n",
    "    df2 = pd.read_excel(f2)\n",
    "    \n",
    "    li2.append(df2)  \n",
    "    \n",
    "    \n",
    "    # print the location and filename\n",
    "    # print('Location:', f)\n",
    "    # print('File Name:', f.split(\"\\\\\")[-1])\n",
    "      \n",
    "    # print the content\n",
    "    # print('Content:')\n",
    "    # display(df)\n",
    "    # print()\n",
    "\n",
    "frame2 = pd.concat(li2, axis=0, ignore_index=True)"
   ]
  },
  {
   "cell_type": "code",
   "execution_count": 16,
   "id": "c35b093d",
   "metadata": {},
   "outputs": [
    {
     "data": {
      "text/plain": [
       "True"
      ]
     },
     "execution_count": 16,
     "metadata": {},
     "output_type": "execute_result"
    }
   ],
   "source": [
    "# соответствуют ли колонки у Burn\n",
    "(burn.columns.values == frame.columns.values).all()"
   ]
  },
  {
   "cell_type": "code",
   "execution_count": 29,
   "id": "25c04f0d",
   "metadata": {},
   "outputs": [
    {
     "data": {
      "text/plain": [
       "True"
      ]
     },
     "execution_count": 29,
     "metadata": {},
     "output_type": "execute_result"
    }
   ],
   "source": [
    "# соответствуют ли колонки у Dsmh\n",
    "(dsmh.columns.values == frame2.columns.values).all()"
   ]
  },
  {
   "cell_type": "code",
   "execution_count": 7,
   "id": "e606802f",
   "metadata": {},
   "outputs": [
    {
     "ename": "NameError",
     "evalue": "name 'dsmh' is not defined",
     "output_type": "error",
     "traceback": [
      "\u001b[1;31m---------------------------------------------------------------------------\u001b[0m",
      "\u001b[1;31mNameError\u001b[0m                                 Traceback (most recent call last)",
      "Cell \u001b[1;32mIn[7], line 1\u001b[0m\n\u001b[1;32m----> 1\u001b[0m dsmh\n",
      "\u001b[1;31mNameError\u001b[0m: name 'dsmh' is not defined"
     ]
    }
   ],
   "source": [
    "dsmh"
   ]
  },
  {
   "cell_type": "code",
   "execution_count": 26,
   "id": "73020570",
   "metadata": {},
   "outputs": [
    {
     "data": {
      "text/html": [
       "<div>\n",
       "<style scoped>\n",
       "    .dataframe tbody tr th:only-of-type {\n",
       "        vertical-align: middle;\n",
       "    }\n",
       "\n",
       "    .dataframe tbody tr th {\n",
       "        vertical-align: top;\n",
       "    }\n",
       "\n",
       "    .dataframe thead th {\n",
       "        text-align: right;\n",
       "    }\n",
       "</style>\n",
       "<table border=\"1\" class=\"dataframe\">\n",
       "  <thead>\n",
       "    <tr style=\"text-align: right;\">\n",
       "      <th></th>\n",
       "      <th>мес</th>\n",
       "      <th>рег</th>\n",
       "      <th>бренд</th>\n",
       "      <th>продукт</th>\n",
       "      <th>инн</th>\n",
       "      <th>адрес</th>\n",
       "      <th>вес</th>\n",
       "      <th>колво</th>\n",
       "    </tr>\n",
       "  </thead>\n",
       "  <tbody>\n",
       "    <tr>\n",
       "      <th>0</th>\n",
       "      <td>2023-07-01</td>\n",
       "      <td>Краснодарский край</td>\n",
       "      <td>MUST HAVE</td>\n",
       "      <td>Табак для кальяна Must Have Undercoal Pineappl...</td>\n",
       "      <td>231522586697</td>\n",
       "      <td>Краснодарский край, г Новороссийск, ул Видова,...</td>\n",
       "      <td>125</td>\n",
       "      <td>2</td>\n",
       "    </tr>\n",
       "    <tr>\n",
       "      <th>1</th>\n",
       "      <td>2023-07-01</td>\n",
       "      <td>Москва</td>\n",
       "      <td>MUST HAVE</td>\n",
       "      <td>Табак для кальяна Must Have Undercoal Red Bomb...</td>\n",
       "      <td>270500667716</td>\n",
       "      <td>г Москва, ул Мичуринский проспект.Олимпийская ...</td>\n",
       "      <td>25</td>\n",
       "      <td>1</td>\n",
       "    </tr>\n",
       "    <tr>\n",
       "      <th>2</th>\n",
       "      <td>2023-07-01</td>\n",
       "      <td>Санкт-Петербург</td>\n",
       "      <td>MUST HAVE</td>\n",
       "      <td>Табак для кальяна Must Have Undercoal Pinkman ...</td>\n",
       "      <td>780163259271</td>\n",
       "      <td>г Санкт-Петербург, пр-кт Богатырский, д 42 лит...</td>\n",
       "      <td>125</td>\n",
       "      <td>2</td>\n",
       "    </tr>\n",
       "    <tr>\n",
       "      <th>3</th>\n",
       "      <td>2023-07-01</td>\n",
       "      <td>Санкт-Петербург</td>\n",
       "      <td>MUST HAVE</td>\n",
       "      <td>Табак для кальяна Must Have Undercoal Unicorn ...</td>\n",
       "      <td>781122201700</td>\n",
       "      <td>г Санкт-Петербург, пр-кт Стачек, д 156</td>\n",
       "      <td>25</td>\n",
       "      <td>1</td>\n",
       "    </tr>\n",
       "    <tr>\n",
       "      <th>4</th>\n",
       "      <td>2023-07-01</td>\n",
       "      <td>Свердловская область</td>\n",
       "      <td>MUST HAVE</td>\n",
       "      <td>Табак для кальяна Must Have Undercoal Tropic J...</td>\n",
       "      <td>5257056036</td>\n",
       "      <td>г Екатеринбург, б-р Золотистый, д 4</td>\n",
       "      <td>25</td>\n",
       "      <td>10</td>\n",
       "    </tr>\n",
       "    <tr>\n",
       "      <th>...</th>\n",
       "      <td>...</td>\n",
       "      <td>...</td>\n",
       "      <td>...</td>\n",
       "      <td>...</td>\n",
       "      <td>...</td>\n",
       "      <td>...</td>\n",
       "      <td>...</td>\n",
       "      <td>...</td>\n",
       "    </tr>\n",
       "    <tr>\n",
       "      <th>725931</th>\n",
       "      <td>2023-07-01</td>\n",
       "      <td>Рязанская область</td>\n",
       "      <td>MUST HAVE</td>\n",
       "      <td>Табак для кальяна Must Have Undercoal Pineappl...</td>\n",
       "      <td>622904924986</td>\n",
       "      <td>г Рязань, ул Интернациональная, д 15Б</td>\n",
       "      <td>125</td>\n",
       "      <td>1</td>\n",
       "    </tr>\n",
       "    <tr>\n",
       "      <th>725932</th>\n",
       "      <td>2023-07-01</td>\n",
       "      <td>Омская область</td>\n",
       "      <td>MUST HAVE</td>\n",
       "      <td>Табак для кальяна Must Have Undercoal Gooseber...</td>\n",
       "      <td>552602125447</td>\n",
       "      <td>г Омск, ул 70 лет Октября, д 10</td>\n",
       "      <td>125</td>\n",
       "      <td>1</td>\n",
       "    </tr>\n",
       "    <tr>\n",
       "      <th>725933</th>\n",
       "      <td>2023-07-01</td>\n",
       "      <td>Омская область</td>\n",
       "      <td>DARKSIDE</td>\n",
       "      <td>Табак для кальяна \"Дарк Сайд\" Шот (Байкальский...</td>\n",
       "      <td>5503209953</td>\n",
       "      <td>NaN</td>\n",
       "      <td>30</td>\n",
       "      <td>1</td>\n",
       "    </tr>\n",
       "    <tr>\n",
       "      <th>725934</th>\n",
       "      <td>2023-07-01</td>\n",
       "      <td>Москва</td>\n",
       "      <td>MUST HAVE</td>\n",
       "      <td>Табак для кальяна Must Have Undercoal Jumango ...</td>\n",
       "      <td>263111741483</td>\n",
       "      <td>г Москва, ул Коломенская, д 7</td>\n",
       "      <td>125</td>\n",
       "      <td>1</td>\n",
       "    </tr>\n",
       "    <tr>\n",
       "      <th>725935</th>\n",
       "      <td>2023-07-01</td>\n",
       "      <td>Томская область</td>\n",
       "      <td>DARKSIDE</td>\n",
       "      <td>Табак для кальяна \"Дарксайд\" Шот A (Таёжный тр...</td>\n",
       "      <td>7017484850</td>\n",
       "      <td>г Томск, ул 5 Армии, д 9</td>\n",
       "      <td>30</td>\n",
       "      <td>1</td>\n",
       "    </tr>\n",
       "  </tbody>\n",
       "</table>\n",
       "<p>725936 rows × 8 columns</p>\n",
       "</div>"
      ],
      "text/plain": [
       "               мес                   рег      бренд  \\\n",
       "0       2023-07-01    Краснодарский край  MUST HAVE   \n",
       "1       2023-07-01                Москва  MUST HAVE   \n",
       "2       2023-07-01       Санкт-Петербург  MUST HAVE   \n",
       "3       2023-07-01       Санкт-Петербург  MUST HAVE   \n",
       "4       2023-07-01  Свердловская область  MUST HAVE   \n",
       "...            ...                   ...        ...   \n",
       "725931  2023-07-01     Рязанская область  MUST HAVE   \n",
       "725932  2023-07-01        Омская область  MUST HAVE   \n",
       "725933  2023-07-01        Омская область   DARKSIDE   \n",
       "725934  2023-07-01                Москва  MUST HAVE   \n",
       "725935  2023-07-01       Томская область   DARKSIDE   \n",
       "\n",
       "                                                  продукт           инн  \\\n",
       "0       Табак для кальяна Must Have Undercoal Pineappl...  231522586697   \n",
       "1       Табак для кальяна Must Have Undercoal Red Bomb...  270500667716   \n",
       "2       Табак для кальяна Must Have Undercoal Pinkman ...  780163259271   \n",
       "3       Табак для кальяна Must Have Undercoal Unicorn ...  781122201700   \n",
       "4       Табак для кальяна Must Have Undercoal Tropic J...    5257056036   \n",
       "...                                                   ...           ...   \n",
       "725931  Табак для кальяна Must Have Undercoal Pineappl...  622904924986   \n",
       "725932  Табак для кальяна Must Have Undercoal Gooseber...  552602125447   \n",
       "725933  Табак для кальяна \"Дарк Сайд\" Шот (Байкальский...    5503209953   \n",
       "725934  Табак для кальяна Must Have Undercoal Jumango ...  263111741483   \n",
       "725935  Табак для кальяна \"Дарксайд\" Шот A (Таёжный тр...    7017484850   \n",
       "\n",
       "                                                    адрес  вес  колво  \n",
       "0       Краснодарский край, г Новороссийск, ул Видова,...  125      2  \n",
       "1       г Москва, ул Мичуринский проспект.Олимпийская ...   25      1  \n",
       "2       г Санкт-Петербург, пр-кт Богатырский, д 42 лит...  125      2  \n",
       "3                  г Санкт-Петербург, пр-кт Стачек, д 156   25      1  \n",
       "4                     г Екатеринбург, б-р Золотистый, д 4   25     10  \n",
       "...                                                   ...  ...    ...  \n",
       "725931              г Рязань, ул Интернациональная, д 15Б  125      1  \n",
       "725932                    г Омск, ул 70 лет Октября, д 10  125      1  \n",
       "725933                                                NaN   30      1  \n",
       "725934                      г Москва, ул Коломенская, д 7  125      1  \n",
       "725935                           г Томск, ул 5 Армии, д 9   30      1  \n",
       "\n",
       "[725936 rows x 8 columns]"
      ]
     },
     "execution_count": 26,
     "metadata": {},
     "output_type": "execute_result"
    }
   ],
   "source": [
    "frame2"
   ]
  },
  {
   "cell_type": "code",
   "execution_count": 17,
   "id": "cca3f833",
   "metadata": {},
   "outputs": [
    {
     "data": {
      "text/plain": [
       "262    2022-08-01\n",
       "261    2022-08-02\n",
       "260    2022-08-03\n",
       "264    2022-08-04\n",
       "259    2022-08-05\n",
       "          ...    \n",
       "332    2023-06-28\n",
       "329    2023-06-29\n",
       "330    2023-06-30\n",
       "334    2023-07-01\n",
       "333    2023-07-02\n",
       "Length: 336, dtype: object"
      ]
     },
     "execution_count": 17,
     "metadata": {},
     "output_type": "execute_result"
    }
   ],
   "source": [
    "pd.Series(burn['Дата операции'].unique()).sort_values()"
   ]
  },
  {
   "cell_type": "code",
   "execution_count": 18,
   "id": "7cd5cbac",
   "metadata": {},
   "outputs": [
    {
     "data": {
      "text/plain": [
       "25    2023-07-30\n",
       "26    2023-07-29\n",
       "24    2023-07-28\n",
       "22    2023-07-27\n",
       "21    2023-07-26\n",
       "27    2023-07-25\n",
       "23    2023-07-24\n",
       "19    2023-07-23\n",
       "20    2023-07-22\n",
       "15    2023-07-21\n",
       "18    2023-07-20\n",
       "17    2023-07-19\n",
       "14    2023-07-18\n",
       "16    2023-07-17\n",
       "8     2023-07-16\n",
       "10    2023-07-15\n",
       "9     2023-07-14\n",
       "7     2023-07-13\n",
       "12    2023-07-12\n",
       "13    2023-07-11\n",
       "11    2023-07-10\n",
       "1     2023-07-09\n",
       "3     2023-07-08\n",
       "0     2023-07-07\n",
       "5     2023-07-06\n",
       "6     2023-07-05\n",
       "4     2023-07-04\n",
       "2     2023-07-03\n",
       "dtype: object"
      ]
     },
     "execution_count": 18,
     "metadata": {},
     "output_type": "execute_result"
    }
   ],
   "source": [
    "pd.Series(frame['Дата операции'].unique()).sort_values(ascending=False)"
   ]
  },
  {
   "cell_type": "code",
   "execution_count": 19,
   "id": "b833bb05",
   "metadata": {},
   "outputs": [],
   "source": [
    "# соединить новый файл и все существующие BURN\n",
    "frame = pd.concat([burn, frame])"
   ]
  },
  {
   "cell_type": "code",
   "execution_count": 28,
   "id": "39327845",
   "metadata": {},
   "outputs": [],
   "source": [
    "# соединить новый файл и все существующие DSMH\n",
    "frame2 = pd.concat([dsmh, frame2])"
   ]
  },
  {
   "cell_type": "code",
   "execution_count": 20,
   "id": "a67e07a0",
   "metadata": {},
   "outputs": [],
   "source": [
    "# преобразование типа в дату\n",
    "def convert_date(date_series):\n",
    "    if date_series[0:4].isdigit():\n",
    "        # Попытка преобразования с yearfirst=True\n",
    "        converted_dates = pd.to_datetime(date_series, yearfirst=True)\n",
    "    else:\n",
    "        # Если возникла ошибка, пробуем преобразовать с dayfirst=True\n",
    "        converted_dates = pd.to_datetime(date_series, dayfirst=True)\n",
    "    return converted_dates"
   ]
  },
  {
   "cell_type": "code",
   "execution_count": 24,
   "id": "a0d4ef59",
   "metadata": {},
   "outputs": [],
   "source": [
    "if frame['Дата операции'].dtypes != '<M8[ns]':\n",
    "    frame['Дата операции'] = frame['Дата операции'].apply(convert_date)"
   ]
  },
  {
   "cell_type": "code",
   "execution_count": 31,
   "id": "f89ec2e3",
   "metadata": {},
   "outputs": [],
   "source": [
    "if frame2['мес'].dtypes != '<M8[ns]':\n",
    "    frame2['мес'] = frame2['мес'].apply(convert_date)"
   ]
  },
  {
   "cell_type": "code",
   "execution_count": 33,
   "id": "742bd715",
   "metadata": {},
   "outputs": [],
   "source": [
    "frame2.to_csv(r'D:\\Analysis Burn\\Википедия\\СВМХ исходники\\dsmh.csv', index=False)"
   ]
  },
  {
   "cell_type": "code",
   "execution_count": 25,
   "id": "35eb17e2",
   "metadata": {},
   "outputs": [],
   "source": [
    "frame.to_csv(r'D:\\Analysis Burn\\Википедия\\БЁРН исходники\\burn_tobacco.csv', index=False)"
   ]
  },
  {
   "cell_type": "code",
   "execution_count": 77,
   "id": "3385698d",
   "metadata": {},
   "outputs": [
    {
     "data": {
      "text/plain": [
       "(6539314, 8)"
      ]
     },
     "execution_count": 77,
     "metadata": {},
     "output_type": "execute_result"
    }
   ],
   "source": [
    "frame2.shape"
   ]
  },
  {
   "cell_type": "code",
   "execution_count": 14,
   "id": "1928dfe5",
   "metadata": {},
   "outputs": [
    {
     "data": {
      "text/plain": [
       "(4450239, 13)"
      ]
     },
     "execution_count": 14,
     "metadata": {},
     "output_type": "execute_result"
    }
   ],
   "source": [
    "frame.shape"
   ]
  }
 ],
 "metadata": {
  "kernelspec": {
   "display_name": "Python 3 (ipykernel)",
   "language": "python",
   "name": "python3"
  },
  "language_info": {
   "codemirror_mode": {
    "name": "ipython",
    "version": 3
   },
   "file_extension": ".py",
   "mimetype": "text/x-python",
   "name": "python",
   "nbconvert_exporter": "python",
   "pygments_lexer": "ipython3",
   "version": "3.10.11"
  }
 },
 "nbformat": 4,
 "nbformat_minor": 5
}
