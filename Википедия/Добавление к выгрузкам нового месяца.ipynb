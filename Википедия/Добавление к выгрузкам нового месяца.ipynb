{
 "cells": [
  {
   "attachments": {},
   "cell_type": "markdown",
   "id": "04720f35",
   "metadata": {},
   "source": [
    "path содержит папку с выгрузкой BURN (где новые)\n",
    "path2 содержит папку с выгрузкой DSMH (где новые)\n",
    "    \n",
    "    - проверять наименования колонок, чтобы они были одинаковые\n",
    "    - колонка с датой должна быть текстового формата 2022-01-01 (не excel-датой)\n",
    "    - нужно просто добавить новый месяц и не обрабатывать старые, все старые уже в файле dsmh.csv, просто добавь к нему новые данные и их крути\n",
    "    \n",
    "из path1 собирает данные в frame\n",
    "\n",
    "из path2 собирает данные в frame2\n",
    "\n"
   ]
  },
  {
   "cell_type": "code",
   "execution_count": 121,
   "id": "3b685f9c",
   "metadata": {},
   "outputs": [],
   "source": [
    "import pandas as pd\n",
    "import os\n",
    "import glob"
   ]
  },
  {
   "cell_type": "code",
   "execution_count": 122,
   "id": "b6a3a6a6",
   "metadata": {},
   "outputs": [],
   "source": [
    "path_basic = 'D:\\\\Analysis Burn'"
   ]
  },
  {
   "cell_type": "code",
   "execution_count": 123,
   "id": "53c54881",
   "metadata": {},
   "outputs": [],
   "source": [
    "path = r'D:\\Analysis Burn\\Википедия\\БЁРН исходники\\Не добавлено'\n",
    "csv_files = glob.glob(os.path.join(path, \"*.csv\"))"
   ]
  },
  {
   "cell_type": "code",
   "execution_count": 124,
   "id": "532d97f6",
   "metadata": {},
   "outputs": [],
   "source": [
    "path2 = r'D:\\Analysis Burn\\Википедия\\СВМХ исходники\\Не добавлено'\n",
    "xl_files = glob.glob(os.path.join(path2, \"*.xlsb\"))"
   ]
  },
  {
   "cell_type": "code",
   "execution_count": 125,
   "id": "bf73edf6",
   "metadata": {},
   "outputs": [],
   "source": [
    "burn = pd.read_csv(path_basic + '\\\\Википедия\\\\БЁРН исходники\\\\burn_tobacco.csv')\n",
    "# dsmh = pd.read_csv(path_basic + '\\\\Википедия\\\\СВМХ исходники\\\\dsmh.csv')"
   ]
  },
  {
   "cell_type": "code",
   "execution_count": 126,
   "id": "1fff12d9",
   "metadata": {},
   "outputs": [],
   "source": [
    "# собрать burn файлы\n",
    "li = []\n",
    "\n",
    "for f in csv_files:\n",
    "      \n",
    "    # read the csv file\n",
    "    df = pd.read_csv(f) \n",
    "    li.append(df) \n",
    "    \n",
    "    \n",
    "    # print the location and filename\n",
    "    # print('Location:', f)\n",
    "    # print('File Name:', f.split(\"\\\\\")[-1])\n",
    "      \n",
    "    # print the content\n",
    "    # print('Content:')\n",
    "    # display(df)\n",
    "    # print()\n",
    "\n",
    "frame = pd.concat(li, axis=0, ignore_index=True)"
   ]
  },
  {
   "cell_type": "code",
   "execution_count": 24,
   "id": "99118a00",
   "metadata": {},
   "outputs": [],
   "source": [
    "# собрать dsmh файлы\n",
    "li2 = []\n",
    "\n",
    "for f2 in xl_files:\n",
    "      \n",
    "    # read the excel file\n",
    "    df2 = pd.read_excel(f2)\n",
    "    \n",
    "    li2.append(df2)  \n",
    "    \n",
    "    \n",
    "    # print the location and filename\n",
    "    # print('Location:', f)\n",
    "    # print('File Name:', f.split(\"\\\\\")[-1])\n",
    "      \n",
    "    # print the content\n",
    "    # print('Content:')\n",
    "    # display(df)\n",
    "    # print()\n",
    "\n",
    "frame2 = pd.concat(li2, axis=0, ignore_index=True)"
   ]
  },
  {
   "cell_type": "code",
   "execution_count": 128,
   "id": "c35b093d",
   "metadata": {},
   "outputs": [
    {
     "data": {
      "text/plain": [
       "True"
      ]
     },
     "execution_count": 128,
     "metadata": {},
     "output_type": "execute_result"
    }
   ],
   "source": [
    "# соответствуют ли колонки у Burn\n",
    "(burn.columns.values == frame.columns.values).all()"
   ]
  },
  {
   "cell_type": "code",
   "execution_count": 38,
   "id": "25c04f0d",
   "metadata": {},
   "outputs": [
    {
     "data": {
      "text/plain": [
       "True"
      ]
     },
     "execution_count": 38,
     "metadata": {},
     "output_type": "execute_result"
    }
   ],
   "source": [
    "# соответствуют ли колонки у Dsmh\n",
    "(dsmh.columns.values == frame2.columns.values).all()"
   ]
  },
  {
   "cell_type": "code",
   "execution_count": 129,
   "id": "b833bb05",
   "metadata": {},
   "outputs": [],
   "source": [
    "# соединить новый файл и все существующие BURN\n",
    "frame = pd.concat([burn, frame])"
   ]
  },
  {
   "cell_type": "code",
   "execution_count": 46,
   "id": "39327845",
   "metadata": {},
   "outputs": [],
   "source": [
    "# соединить новый файл и все существующие DSMH\n",
    "frame2 = pd.concat([dsmh, frame2])"
   ]
  },
  {
   "cell_type": "code",
   "execution_count": 132,
   "id": "a67e07a0",
   "metadata": {},
   "outputs": [],
   "source": [
    "# преобразование типа в дату\n",
    "def convert_date(date_series):\n",
    "    if date_series[0:4].isdigit():\n",
    "        # Попытка преобразования с yearfirst=True\n",
    "        converted_dates = pd.to_datetime(date_series, yearfirst=True)\n",
    "    else:\n",
    "        # Если возникла ошибка, пробуем преобразовать с dayfirst=True\n",
    "        converted_dates = pd.to_datetime(date_series, dayfirst=True)\n",
    "    return converted_dates\n",
    "\n",
    "\n",
    "if frame['Дата операции'].dtypes != '<M8[ns]':\n",
    "    frame['Дата операции'] = frame['Дата операции'].apply(convert_date)"
   ]
  },
  {
   "cell_type": "code",
   "execution_count": null,
   "id": "f89ec2e3",
   "metadata": {},
   "outputs": [],
   "source": [
    "if frame2['мес'].dtypes != '<M8[ns]':\n",
    "    frame2['мес'] = frame2['мес'].apply(convert_date)"
   ]
  },
  {
   "cell_type": "code",
   "execution_count": 11,
   "id": "2a81ecf8",
   "metadata": {},
   "outputs": [],
   "source": [
    "# frame['Дата операции'] = pd.to_datetime(frame['Дата операции'])"
   ]
  },
  {
   "cell_type": "code",
   "execution_count": 73,
   "id": "3d3f9160",
   "metadata": {},
   "outputs": [],
   "source": [
    "# frame2['мес'] = pd.to_datetime(frame2['мес'], yearfirst=True)"
   ]
  },
  {
   "cell_type": "code",
   "execution_count": 74,
   "id": "742bd715",
   "metadata": {},
   "outputs": [],
   "source": [
    "frame2.to_csv(r'D:\\Analysis Burn\\Википедия\\СВМХ исходники\\dsmh.csv', index=False)"
   ]
  },
  {
   "cell_type": "code",
   "execution_count": 12,
   "id": "35eb17e2",
   "metadata": {},
   "outputs": [],
   "source": [
    "frame.to_csv(r'D:\\Analysis Burn\\Википедия\\БЁРН исходники\\burn_tobacco.csv', index=False)"
   ]
  },
  {
   "cell_type": "code",
   "execution_count": 77,
   "id": "3385698d",
   "metadata": {},
   "outputs": [
    {
     "data": {
      "text/plain": [
       "(6539314, 8)"
      ]
     },
     "execution_count": 77,
     "metadata": {},
     "output_type": "execute_result"
    }
   ],
   "source": [
    "frame2.shape"
   ]
  },
  {
   "cell_type": "code",
   "execution_count": 14,
   "id": "1928dfe5",
   "metadata": {},
   "outputs": [
    {
     "data": {
      "text/plain": [
       "(4450239, 13)"
      ]
     },
     "execution_count": 14,
     "metadata": {},
     "output_type": "execute_result"
    }
   ],
   "source": [
    "frame.shape"
   ]
  }
 ],
 "metadata": {
  "kernelspec": {
   "display_name": "Python 3 (ipykernel)",
   "language": "python",
   "name": "python3"
  },
  "language_info": {
   "codemirror_mode": {
    "name": "ipython",
    "version": 3
   },
   "file_extension": ".py",
   "mimetype": "text/x-python",
   "name": "python",
   "nbconvert_exporter": "python",
   "pygments_lexer": "ipython3",
   "version": "3.10.11"
  }
 },
 "nbformat": 4,
 "nbformat_minor": 5
}
